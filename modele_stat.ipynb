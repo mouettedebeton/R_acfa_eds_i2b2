{
 "cells": [
  {
   "cell_type": "markdown",
   "id": "a31b7762-9952-437c-8d7f-61a68d034648",
   "metadata": {},
   "source": [
    "# Chargement des librairies"
   ]
  },
  {
   "cell_type": "code",
   "execution_count": 196,
   "id": "a8ca1a4b-c82a-4029-98cb-f7536916fd03",
   "metadata": {},
   "outputs": [],
   "source": [
    "suppressMessages(library(sparklyr))\n",
    "suppressMessages(library(tidyverse))\n",
    "suppressMessages(library(lubridate))\n",
    "suppressMessages(library(tableone))\n",
    "suppressMessages(library(MatchIt))\n",
    "suppressMessages(library(cobalt))\n",
    "suppressMessages(library(SuperLearner))\n",
    "suppressMessages(library(gam))\n",
    "suppressMessages(library(drtmle))\n",
    "suppressMessages(library(WeightIt))\n",
    "suppressMessages(library(marginaleffects))\n",
    "suppressMessages(library(sandwich))\n",
    "suppressMessages(library(boot))\n",
    "suppressMessages(library(moderndive))\n",
    "suppressMessages(library(glmm))\n",
    "suppressMessages(library(car))\n",
    "suppressMessages(library(fastDummies))"
   ]
  },
  {
   "cell_type": "markdown",
   "id": "dda502a5-45df-481d-a735-c6f1877239e7",
   "metadata": {
    "tags": []
   },
   "source": [
    "# Connexion à Spark"
   ]
  },
  {
   "cell_type": "code",
   "execution_count": 197,
   "id": "8fa3cd41-a46c-4e2d-9eee-baa4036c5cd8",
   "metadata": {},
   "outputs": [
    {
     "name": "stderr",
     "output_type": "stream",
     "text": [
      "Re-using existing Spark connection to yarn-cluster\n",
      "\n"
     ]
    }
   ],
   "source": [
    "config <- spark_config()\n",
    "sc <- spark_connect(master = \"yarn-cluster\", config = config, version = '2.4.3')"
   ]
  },
  {
   "cell_type": "markdown",
   "id": "f060770b-dd04-4c5e-a17d-9612dbe6d707",
   "metadata": {},
   "source": [
    "# Chargement des tables de data_management"
   ]
  },
  {
   "cell_type": "code",
   "execution_count": 198,
   "id": "26a2ce1c-6e11-4bcd-b931-1aa01957e8b9",
   "metadata": {},
   "outputs": [
    {
     "data": {
      "text/plain": [
       "\u001b[90m# Source: spark<sejours_rea_48_heures> [?? x 139]\u001b[39m\n",
       "   encounter_num        location_cd chads_vasc patient_num   start_date_stay    \n",
       "   \u001b[3m\u001b[90m<chr>\u001b[39m\u001b[23m                \u001b[3m\u001b[90m<chr>\u001b[39m\u001b[23m            \u001b[3m\u001b[90m<dbl>\u001b[39m\u001b[23m \u001b[3m\u001b[90m<chr>\u001b[39m\u001b[23m         \u001b[3m\u001b[90m<dttm>\u001b[39m\u001b[23m             \n",
       "\u001b[90m 1\u001b[39m 5347953158377635787  UFR:005389           0 -38338136620… 2017-09-18 \u001b[90m19:51:00\u001b[39m\n",
       "\u001b[90m 2\u001b[39m 3586793873509562842  UFR:014025           2 -61229049708… 2013-03-02 \u001b[90m13:21:00\u001b[39m\n",
       "\u001b[90m 3\u001b[39m -5427721102107319419 UFR:005389           1 -64002042299… 2019-10-17 \u001b[90m15:10:00\u001b[39m\n",
       "\u001b[90m 4\u001b[39m 5361008629094847616  UFR:010260           4 -67959312721… 2018-06-17 \u001b[90m17:56:00\u001b[39m\n",
       "\u001b[90m 5\u001b[39m 449789647902201406   UFR:026151           3 -68408060972… 2018-06-16 \u001b[90m14:04:00\u001b[39m\n",
       "\u001b[90m 6\u001b[39m -7771031489852610941 UFR:026513           2 240530890957… 2019-10-11 \u001b[90m16:19:00\u001b[39m\n",
       "\u001b[90m 7\u001b[39m -7884841415759866314 UFR:047242           1 269950297489… 2020-01-03 \u001b[90m13:49:00\u001b[39m\n",
       "\u001b[90m 8\u001b[39m 7615374549036810729  UFR:026513           3 285107867839… 2019-02-25 \u001b[90m16:55:00\u001b[39m\n",
       "\u001b[90m 9\u001b[39m -4817202570237703233 UFR:011440           5 382933761814… 2018-08-02 \u001b[90m05:36:00\u001b[39m\n",
       "\u001b[90m10\u001b[39m -1613539001290686381 UFR:087260           2 386166178502… 2021-01-18 \u001b[90m10:46:00\u001b[39m\n",
       "\u001b[90m# ℹ more rows\u001b[39m\n",
       "\u001b[90m# ℹ 134 more variables: end_date_stay <dttm>, instance_num <chr>,\u001b[39m\n",
       "\u001b[90m#   vital_status_cd <chr>, birth_date <dttm>, death_date <dttm>, sex_cd <chr>,\u001b[39m\n",
       "\u001b[90m#   start_date_visit <dttm>, end_date_visit <dttm>, fadenovo <dbl>,\u001b[39m\n",
       "\u001b[90m#   death_during_stay <dbl>, age_at_stay_entry <dbl>, death_during_visit <dbl>,\u001b[39m\n",
       "\u001b[90m#   duree_sejour <dbl>, duree_visite <dbl>, type_rea <chr>, jours_vm <int>,\u001b[39m\n",
       "\u001b[90m#   jours_vasopresseurs <int>, jours_eer <int>, jours_transfusion <int>, …\u001b[39m"
      ]
     },
     "metadata": {},
     "output_type": "display_data"
    }
   ],
   "source": [
    "tbl_change_db(sc, 'cse_200007_work')\n",
    "\n",
    "spark_read_parquet(sc, 'sejours_rea_48_heures', 'sejours_rea_48_heures')"
   ]
  },
  {
   "cell_type": "code",
   "execution_count": 199,
   "id": "efcaac69-f0a8-49f0-a255-bf79760f6c50",
   "metadata": {},
   "outputs": [],
   "source": [
    "sejours_rea_48_heures <- sc %>% tbl('sejours_rea_48_heures')"
   ]
  },
  {
   "cell_type": "markdown",
   "id": "6fe18b33-33cb-4d1e-91a0-9f472c8bb1a7",
   "metadata": {},
   "source": [
    "## Ajout de variables dans la table des séjours"
   ]
  },
  {
   "cell_type": "code",
   "execution_count": 200,
   "id": "99167e25-d9ff-449e-9883-fe28db617088",
   "metadata": {},
   "outputs": [],
   "source": [
    "sejours_rea_48_heures <- sejours_rea_48_heures %>%\n",
    "    mutate(hemorragie = ifelse(hemorragie_respiratoire == 1 | hemorragie_cerebrale == 1 | hemorragie_digestif == 1 | hemorragie_autre == 1 | hemorragie_iatrogene == 1 | hemorragie_articulaire == 1, 1, 0)) %>%\n",
    "    mutate(hbpm_efficacite_anticoag_binary = ifelse(hbpm_efficacite_anticoag == \"efficace\", 1, 0)) %>%\n",
    "    mutate(hnf_efficacite_anticoag_binary = ifelse(hnf_efficacite_anticoag == \"efficace\", 1, 0)) %>%\n",
    "    mutate(efficacite_anticoag_binary = ifelse(hnf_efficacite_anticoag_binary == 1 | hbpm_efficacite_anticoag_binary == 1, 1,0)) %>%\n",
    "    mutate(etat_choc = ifelse(choc_septique == 1 | choc_cardiogenique == 1 | choc_hypovolemique == 1 | choc_autre == 1, 1, 0)) %>%\n",
    "    mutate(surdosage = ifelse(hnf_surdosage == 1 | hbpm_surdosage == 1, 1, 0)) %>%\n",
    "    na.replace(surdosage = 0) %>%\n",
    "    na.replace(efficacite_anticoag_binary = 0) %>%\n",
    "    na.replace(diag_cat = \"Inconnu\") %>%\n",
    "    mutate(annee=year(start_date_stay)) %>%\n",
    "    collect() %>%\n",
    "    mutate(location_cd=as_factor(location_cd)) %>%\n",
    "    mutate(diag_cat=as_factor(diag_cat)) %>%\n",
    "    dummy_cols(., select_columns = \"diag_cat\")"
   ]
  },
  {
   "cell_type": "markdown",
   "id": "27b0a8a3-8295-474b-9493-d09d0ccf48de",
   "metadata": {},
   "source": [
    "# Tables 1\n",
    "## Définition des variables"
   ]
  },
  {
   "cell_type": "code",
   "execution_count": 201,
   "id": "33a8254f-6c22-4303-986c-491c69c407e2",
   "metadata": {},
   "outputs": [],
   "source": [
    "var_patients <- c('age_at_stay_entry', 'duree_sejour', 'duree_visite', 'sex_cd', 'death_during_stay', 'death_during_visit', 'type_rea',\n",
    "                  'atcd_hta', 'atcd_diabete', 'atcd_obesite', 'atcd_bpco', 'atcd_ins_cardiaque', 'atcd_ins_renale', \n",
    "                  'diag_cat', 'chads_vasc', 'fadenovo', 'volonte_anticoag',\n",
    "                  'vm', 'vasopresseurs', 'eer', 'coagulopathie', 'volonte_anticoag', \n",
    "                  'choc_septique', 'choc_autre', 'choc_hypovolemique',\n",
    "                  'hnf_mediane', 'hbpm_mediane', 'hnf_efficacite_anticoag', 'hbpm_efficacite_anticoag', 'choc_cardiogenique',\n",
    "                  'ischemie_cerebrale', 'ischemie_splenique', 'ischemie_renal',\n",
    "                  'hemorragie', 'hemorragie_urinaire', 'hemorragie_respiratoire', 'hemorragie_cerebrale', 'hemorragie_digestif', 'hemorragie_autre', 'hemorragie_iatrogene', 'hemorragie_articulaire')\n",
    "\n",
    "cat_Vars <- c('sex_cd', 'death_during_stay', 'death_during_visit', 'type_rea', 'fadenovo', 'volonte_anticoag',\n",
    "              'diag_cat',\n",
    "              'atcd_hta', 'atcd_diabete', 'atcd_obesite', 'atcd_bpco', 'atcd_ins_cardiaque', 'atcd_ins_renale',\n",
    "              'vm', 'vasopresseurs', 'eer', 'coagulopathie',\n",
    "              'hnf_efficacite_anticoag', 'hbpm_efficacite_anticoag',\n",
    "              'choc_cardiogenique', 'choc_septique', 'choc_autre', 'choc_hypovolemique',\n",
    "              'ischemie_cerebrale', 'ischemie_splenique', 'ischemie_renal',\n",
    "              'hemorragie','hemorragie_urinaire','hemorragie_respiratoire', 'hemorragie_cerebrale', 'hemorragie_digestif', 'hemorragie_autre', 'hemorragie_iatrogene', 'hemorragie_articulaire')"
   ]
  },
  {
   "cell_type": "markdown",
   "id": "6b1de9fa-0a6b-442a-9ab5-08594d73775d",
   "metadata": {},
   "source": [
    "## Table 1 sur l'ensemble des patients"
   ]
  },
  {
   "cell_type": "code",
   "execution_count": 202,
   "id": "89f60927-f25f-4ae9-89a9-f7d4ffd5544c",
   "metadata": {},
   "outputs": [
    {
     "data": {
      "text/plain": [
       "                                 \n",
       "                                  Overall      \n",
       "  n                                4962        \n",
       "  age_at_stay_entry (mean (SD))   73.40 (11.01)\n",
       "  duree_sejour (mean (SD))         7.24 (8.13) \n",
       "  duree_visite (mean (SD))        27.42 (26.26)\n",
       "  sex_cd = W (%)                   1710 (34.5) \n",
       "  death_during_stay = 1 (%)         529 (10.7) \n",
       "  death_during_visit (%)                       \n",
       "     0                             3894 (78.5) \n",
       "     1                             1062 (21.4) \n",
       "     NaN                              6 ( 0.1) \n",
       "  type_rea = med (%)               3702 (74.6) \n",
       "  atcd_hta = 1 (%)                 2043 (41.2) \n",
       "  atcd_diabete = 1 (%)             1069 (21.5) \n",
       "  atcd_obesite = 1 (%)              556 (11.2) \n",
       "  atcd_bpco = 1 (%)                 605 (12.2) \n",
       "  atcd_ins_cardiaque = 1 (%)       1133 (22.8) \n",
       "  atcd_ins_renale = 1 (%)           752 (15.2) \n",
       "  diag_cat (%)                                 \n",
       "     Post_op                        544 (11.0) \n",
       "     Inconnu                        799 (16.1) \n",
       "     Autre                         1185 (23.9) \n",
       "     Cardio                         729 (14.7) \n",
       "     Sepsis                         458 ( 9.2) \n",
       "     Respi                          648 (13.1) \n",
       "     Metabo                         198 ( 4.0) \n",
       "     Neuro                          128 ( 2.6) \n",
       "     Hemato                         125 ( 2.5) \n",
       "     Trauma_non_cranien             132 ( 2.7) \n",
       "     Hepatique                       16 ( 0.3) \n",
       "  chads_vasc (mean (SD))           2.24 (1.34) \n",
       "  fadenovo = 1 (%)                 1558 (31.4) \n",
       "  vm = 1 (%)                       1554 (31.3) \n",
       "  vasopresseurs = 1 (%)            1682 (33.9) \n",
       "  eer = 1 (%)                       487 ( 9.8) \n",
       "  coagulopathie = 1 (%)              77 ( 1.6) \n",
       "  choc_septique = 1 (%)             824 (16.6) \n",
       "  choc_autre = 1 (%)                196 ( 4.0) \n",
       "  choc_hypovolemique = 1 (%)        403 ( 8.1) \n",
       "  hnf_mediane (mean (SD))          0.29 (0.29) \n",
       "  hbpm_mediane (mean (SD))         0.39 (0.32) \n",
       "  hnf_efficacite_anticoag (%)                  \n",
       "     efficace                       243 (20.6) \n",
       "     imparfait                      871 (73.8) \n",
       "     inefficace                      66 ( 5.6) \n",
       "  hbpm_efficacite_anticoag (%)                 \n",
       "     efficace                        75 (30.7) \n",
       "     imparfait                       83 (34.0) \n",
       "     inefficace                      86 (35.2) \n",
       "  choc_cardiogenique = 1 (%)        351 ( 7.1) \n",
       "  ischemie_cerebrale = 1 (%)        105 ( 2.1) \n",
       "  ischemie_splenique = 1 (%)         12 ( 0.2) \n",
       "  ischemie_renal = 1 (%)              8 ( 0.2) \n",
       "  hemorragie = 1 (%)                402 ( 8.1) \n",
       "  hemorragie_urinaire = 1 (%)        71 ( 1.4) \n",
       "  hemorragie_respiratoire = 1 (%)    72 ( 1.5) \n",
       "  hemorragie_cerebrale = 1 (%)       43 ( 0.9) \n",
       "  hemorragie_digestif = 1 (%)       130 ( 2.6) \n",
       "  hemorragie_autre = 1 (%)           40 ( 0.8) \n",
       "  hemorragie_iatrogene = 1 (%)      154 ( 3.1) \n",
       "  hemorragie_articulaire = 1 (%)      1 ( 0.0) "
      ]
     },
     "metadata": {},
     "output_type": "display_data"
    }
   ],
   "source": [
    "tableone <- CreateTableOne(data = collect(sejours_rea_48_heures), factorVars = cat_Vars, vars = var_patients )\n",
    "\n",
    "tableone\n",
    "\n",
    "# summary(tableone)"
   ]
  },
  {
   "cell_type": "markdown",
   "id": "fbec1fb6-20c4-4eb7-a8cd-dbb94b430e95",
   "metadata": {},
   "source": [
    "## Table 1 stratifiée sur le décès pendant le séjour"
   ]
  },
  {
   "cell_type": "code",
   "execution_count": 203,
   "id": "8de2a090-c96f-4ed6-b1da-a514b8717b1b",
   "metadata": {},
   "outputs": [
    {
     "data": {
      "text/plain": [
       "                                 Stratified by death_during_stay\n",
       "                                  0             1              p      test\n",
       "  n                                4433           529                     \n",
       "  age_at_stay_entry (mean (SD))   73.17 (11.03) 75.26 (10.65)   NA        \n",
       "  duree_sejour (mean (SD))         6.87 (7.74)  10.34 (10.40)   NA        \n",
       "  duree_visite (mean (SD))        28.75 (27.03) 16.30 (14.45)   NA        \n",
       "  sex_cd = W (%)                   1510 (34.1)    200 ( 37.8)   0.096     \n",
       "  death_during_stay = 1 (%)           0 ( 0.0)    529 (100.0)  <0.001     \n",
       "  death_during_visit (%)                                       <0.001     \n",
       "     0                             3894 (87.8)      0 (  0.0)             \n",
       "     1                              534 (12.0)    528 ( 99.8)             \n",
       "     NaN                              5 ( 0.1)      1 (  0.2)             \n",
       "  type_rea = med (%)               3268 (73.7)    434 ( 82.0)  <0.001     \n",
       "  atcd_hta = 1 (%)                 1867 (42.1)    176 ( 33.3)  <0.001     \n",
       "  atcd_diabete = 1 (%)              954 (21.5)    115 ( 21.7)   0.952     \n",
       "  atcd_obesite = 1 (%)              500 (11.3)     56 ( 10.6)   0.686     \n",
       "  atcd_bpco = 1 (%)                 554 (12.5)     51 (  9.6)   0.068     \n",
       "  atcd_ins_cardiaque = 1 (%)       1013 (22.9)    120 ( 22.7)   0.975     \n",
       "  atcd_ins_renale = 1 (%)           674 (15.2)     78 ( 14.7)   0.830     \n",
       "  diag_cat (%)                                                 <0.001     \n",
       "     Post_op                        531 (12.0)     13 (  2.5)             \n",
       "     Inconnu                        724 (16.3)     75 ( 14.2)             \n",
       "     Autre                         1054 (23.8)    131 ( 24.8)             \n",
       "     Cardio                         650 (14.7)     79 ( 14.9)             \n",
       "     Sepsis                         391 ( 8.8)     67 ( 12.7)             \n",
       "     Respi                          541 (12.2)    107 ( 20.2)             \n",
       "     Metabo                         184 ( 4.2)     14 (  2.6)             \n",
       "     Neuro                          111 ( 2.5)     17 (  3.2)             \n",
       "     Hemato                         107 ( 2.4)     18 (  3.4)             \n",
       "     Trauma_non_cranien             129 ( 2.9)      3 (  0.6)             \n",
       "     Hepatique                       11 ( 0.2)      5 (  0.9)             \n",
       "  chads_vasc (mean (SD))           2.23 (1.35)   2.25 (1.29)    NA        \n",
       "  fadenovo = 1 (%)                 1358 (30.6)    200 ( 37.8)   0.001     \n",
       "  vm = 1 (%)                       1203 (27.1)    351 ( 66.4)  <0.001     \n",
       "  vasopresseurs = 1 (%)            1333 (30.1)    349 ( 66.0)  <0.001     \n",
       "  eer = 1 (%)                       347 ( 7.8)    140 ( 26.5)  <0.001     \n",
       "  coagulopathie = 1 (%)              52 ( 1.2)     25 (  4.7)  <0.001     \n",
       "  choc_septique = 1 (%)             633 (14.3)    191 ( 36.1)  <0.001     \n",
       "  choc_autre = 1 (%)                161 ( 3.6)     35 (  6.6)   0.001     \n",
       "  choc_hypovolemique = 1 (%)        336 ( 7.6)     67 ( 12.7)  <0.001     \n",
       "  hnf_mediane (mean (SD))          0.29 (0.29)   0.31 (0.26)    NA        \n",
       "  hbpm_mediane (mean (SD))         0.38 (0.31)   0.43 (0.38)    NA        \n",
       "  hnf_efficacite_anticoag (%)                                   0.042     \n",
       "     efficace                       201 (19.5)     42 ( 28.2)             \n",
       "     imparfait                      770 (74.7)    101 ( 67.8)             \n",
       "     inefficace                      60 ( 5.8)      6 (  4.0)             \n",
       "  hbpm_efficacite_anticoag (%)                                  0.319     \n",
       "     efficace                        66 (30.7)      9 ( 31.0)             \n",
       "     imparfait                       70 (32.6)     13 ( 44.8)             \n",
       "     inefficace                      79 (36.7)      7 ( 24.1)             \n",
       "  choc_cardiogenique = 1 (%)        284 ( 6.4)     67 ( 12.7)  <0.001     \n",
       "  ischemie_cerebrale = 1 (%)         93 ( 2.1)     12 (  2.3)   0.922     \n",
       "  ischemie_splenique = 1 (%)          9 ( 0.2)      3 (  0.6)   0.253     \n",
       "  ischemie_renal = 1 (%)              7 ( 0.2)      1 (  0.2)   1.000     \n",
       "  hemorragie = 1 (%)                359 ( 8.1)     43 (  8.1)   1.000     \n",
       "  hemorragie_urinaire = 1 (%)        67 ( 1.5)      4 (  0.8)   0.235     \n",
       "  hemorragie_respiratoire = 1 (%)    66 ( 1.5)      6 (  1.1)   0.651     \n",
       "  hemorragie_cerebrale = 1 (%)       34 ( 0.8)      9 (  1.7)   0.052     \n",
       "  hemorragie_digestif = 1 (%)       112 ( 2.5)     18 (  3.4)   0.294     \n",
       "  hemorragie_autre = 1 (%)           36 ( 0.8)      4 (  0.8)   1.000     \n",
       "  hemorragie_iatrogene = 1 (%)      144 ( 3.2)     10 (  1.9)   0.116     \n",
       "  hemorragie_articulaire = 1 (%)      1 ( 0.0)      0 (  0.0)   1.000     "
      ]
     },
     "metadata": {},
     "output_type": "display_data"
    }
   ],
   "source": [
    "tabletwo <- CreateTableOne(data = collect(sejours_rea_48_heures), factorVars = cat_Vars, vars = var_patients, strata = 'death_during_stay')\n",
    "\n",
    "tabletwo\n",
    "\n",
    "# summary(tabletwo)"
   ]
  },
  {
   "cell_type": "markdown",
   "id": "0fcddb99-0e69-4bef-b795-3caaa0784913",
   "metadata": {
    "tags": []
   },
   "source": [
    "## Table 1 stratifiée sur l'exposition à l'anticoagulation"
   ]
  },
  {
   "cell_type": "code",
   "execution_count": 204,
   "id": "0e745a29-75d6-4b02-8c45-dda03eb8bdf7",
   "metadata": {
    "tags": []
   },
   "outputs": [
    {
     "data": {
      "text/plain": [
       "                                 Stratified by volonte_anticoag\n",
       "                                  Overall       0              1             \n",
       "  n                                4962          3678           1284         \n",
       "  age_at_stay_entry (mean (SD))   73.40 (11.01) 73.55 (11.01)  72.94 (10.99) \n",
       "  duree_sejour (mean (SD))         7.24 (8.13)   6.75 (7.77)    8.67 (8.93)  \n",
       "  duree_visite (mean (SD))        27.42 (26.26) 26.76 (26.95)  29.32 (24.09) \n",
       "  sex_cd = W (%)                   1710 (34.5)   1253 ( 34.1)    457 ( 35.6) \n",
       "  death_during_stay = 1 (%)         529 (10.7)    372 ( 10.1)    157 ( 12.2) \n",
       "  death_during_visit (%)                                                     \n",
       "     0                             3894 (78.5)   2924 ( 79.5)    970 ( 75.5) \n",
       "     1                             1062 (21.4)    752 ( 20.4)    310 ( 24.1) \n",
       "     NaN                              6 ( 0.1)      2 (  0.1)      4 (  0.3) \n",
       "  type_rea = med (%)               3702 (74.6)   2698 ( 73.4)   1004 ( 78.2) \n",
       "  atcd_hta = 1 (%)                 2043 (41.2)   1519 ( 41.3)    524 ( 40.8) \n",
       "  atcd_diabete = 1 (%)             1069 (21.5)    760 ( 20.7)    309 ( 24.1) \n",
       "  atcd_obesite = 1 (%)              556 (11.2)    389 ( 10.6)    167 ( 13.0) \n",
       "  atcd_bpco = 1 (%)                 605 (12.2)    464 ( 12.6)    141 ( 11.0) \n",
       "  atcd_ins_cardiaque = 1 (%)       1133 (22.8)    767 ( 20.9)    366 ( 28.5) \n",
       "  atcd_ins_renale = 1 (%)           752 (15.2)    510 ( 13.9)    242 ( 18.8) \n",
       "  diag_cat (%)                                                               \n",
       "     Post_op                        544 (11.0)    436 ( 11.9)    108 (  8.4) \n",
       "     Inconnu                        799 (16.1)    623 ( 16.9)    176 ( 13.7) \n",
       "     Autre                         1185 (23.9)    875 ( 23.8)    310 ( 24.1) \n",
       "     Cardio                         729 (14.7)    478 ( 13.0)    251 ( 19.5) \n",
       "     Sepsis                         458 ( 9.2)    326 (  8.9)    132 ( 10.3) \n",
       "     Respi                          648 (13.1)    474 ( 12.9)    174 ( 13.6) \n",
       "     Metabo                         198 ( 4.0)    137 (  3.7)     61 (  4.8) \n",
       "     Neuro                          128 ( 2.6)    111 (  3.0)     17 (  1.3) \n",
       "     Hemato                         125 ( 2.5)     95 (  2.6)     30 (  2.3) \n",
       "     Trauma_non_cranien             132 ( 2.7)    109 (  3.0)     23 (  1.8) \n",
       "     Hepatique                       16 ( 0.3)     14 (  0.4)      2 (  0.2) \n",
       "  chads_vasc (mean (SD))           2.24 (1.34)   2.20 (1.33)    2.33 (1.38)  \n",
       "  fadenovo = 1 (%)                 1558 (31.4)   1223 ( 33.3)    335 ( 26.1) \n",
       "  vm = 1 (%)                       1554 (31.3)    998 ( 27.1)    556 ( 43.3) \n",
       "  vasopresseurs = 1 (%)            1682 (33.9)   1064 ( 28.9)    618 ( 48.1) \n",
       "  eer = 1 (%)                       487 ( 9.8)    278 (  7.6)    209 ( 16.3) \n",
       "  coagulopathie = 1 (%)              77 ( 1.6)     58 (  1.6)     19 (  1.5) \n",
       "  choc_septique = 1 (%)             824 (16.6)    574 ( 15.6)    250 ( 19.5) \n",
       "  choc_autre = 1 (%)                196 ( 4.0)    113 (  3.1)     83 (  6.5) \n",
       "  choc_hypovolemique = 1 (%)        403 ( 8.1)    284 (  7.7)    119 (  9.3) \n",
       "  hnf_mediane (mean (SD))          0.29 (0.29)   0.24 (0.34)    0.31 (0.27)  \n",
       "  hbpm_mediane (mean (SD))         0.39 (0.32)   0.34 (0.32)    0.43 (0.32)  \n",
       "  hnf_efficacite_anticoag (%)                                                \n",
       "     efficace                       243 (20.6)      0 (  0.0)    243 ( 20.6) \n",
       "     imparfait                      871 (73.8)      3 (100.0)    868 ( 73.7) \n",
       "     inefficace                      66 ( 5.6)      0 (  0.0)     66 (  5.6) \n",
       "  hbpm_efficacite_anticoag (%)                                               \n",
       "     efficace                        75 (30.7)      0 (  0.0)     75 ( 30.9) \n",
       "     imparfait                       83 (34.0)      1 (100.0)     82 ( 33.7) \n",
       "     inefficace                      86 (35.2)      0 (  0.0)     86 ( 35.4) \n",
       "  choc_cardiogenique = 1 (%)        351 ( 7.1)    181 (  4.9)    170 ( 13.2) \n",
       "  ischemie_cerebrale = 1 (%)        105 ( 2.1)     73 (  2.0)     32 (  2.5) \n",
       "  ischemie_splenique = 1 (%)         12 ( 0.2)      9 (  0.2)      3 (  0.2) \n",
       "  ischemie_renal = 1 (%)              8 ( 0.2)      6 (  0.2)      2 (  0.2) \n",
       "  hemorragie = 1 (%)                402 ( 8.1)    292 (  7.9)    110 (  8.6) \n",
       "  hemorragie_urinaire = 1 (%)        71 ( 1.4)     55 (  1.5)     16 (  1.2) \n",
       "  hemorragie_respiratoire = 1 (%)    72 ( 1.5)     62 (  1.7)     10 (  0.8) \n",
       "  hemorragie_cerebrale = 1 (%)       43 ( 0.9)     38 (  1.0)      5 (  0.4) \n",
       "  hemorragie_digestif = 1 (%)       130 ( 2.6)     95 (  2.6)     35 (  2.7) \n",
       "  hemorragie_autre = 1 (%)           40 ( 0.8)     30 (  0.8)     10 (  0.8) \n",
       "  hemorragie_iatrogene = 1 (%)      154 ( 3.1)     96 (  2.6)     58 (  4.5) \n",
       "  hemorragie_articulaire = 1 (%)      1 ( 0.0)      1 (  0.0)      0 (  0.0) \n",
       "                                 Stratified by volonte_anticoag\n",
       "                                  p      test\n",
       "  n                                          \n",
       "  age_at_stay_entry (mean (SD))    NA        \n",
       "  duree_sejour (mean (SD))         NA        \n",
       "  duree_visite (mean (SD))         NA        \n",
       "  sex_cd = W (%)                   0.339     \n",
       "  death_during_stay = 1 (%)        0.039     \n",
       "  death_during_visit (%)           0.001     \n",
       "     0                                       \n",
       "     1                                       \n",
       "     NaN                                     \n",
       "  type_rea = med (%)               0.001     \n",
       "  atcd_hta = 1 (%)                 0.784     \n",
       "  atcd_diabete = 1 (%)             0.012     \n",
       "  atcd_obesite = 1 (%)             0.020     \n",
       "  atcd_bpco = 1 (%)                0.136     \n",
       "  atcd_ins_cardiaque = 1 (%)      <0.001     \n",
       "  atcd_ins_renale = 1 (%)         <0.001     \n",
       "  diag_cat (%)                    <0.001     \n",
       "     Post_op                                 \n",
       "     Inconnu                                 \n",
       "     Autre                                   \n",
       "     Cardio                                  \n",
       "     Sepsis                                  \n",
       "     Respi                                   \n",
       "     Metabo                                  \n",
       "     Neuro                                   \n",
       "     Hemato                                  \n",
       "     Trauma_non_cranien                      \n",
       "     Hepatique                               \n",
       "  chads_vasc (mean (SD))           NA        \n",
       "  fadenovo = 1 (%)                <0.001     \n",
       "  vm = 1 (%)                      <0.001     \n",
       "  vasopresseurs = 1 (%)           <0.001     \n",
       "  eer = 1 (%)                     <0.001     \n",
       "  coagulopathie = 1 (%)            0.911     \n",
       "  choc_septique = 1 (%)            0.002     \n",
       "  choc_autre = 1 (%)              <0.001     \n",
       "  choc_hypovolemique = 1 (%)       0.092     \n",
       "  hnf_mediane (mean (SD))          NA        \n",
       "  hbpm_mediane (mean (SD))         NA        \n",
       "  hnf_efficacite_anticoag (%)      0.587     \n",
       "     efficace                                \n",
       "     imparfait                               \n",
       "     inefficace                              \n",
       "  hbpm_efficacite_anticoag (%)     0.378     \n",
       "     efficace                                \n",
       "     imparfait                               \n",
       "     inefficace                              \n",
       "  choc_cardiogenique = 1 (%)      <0.001     \n",
       "  ischemie_cerebrale = 1 (%)       0.330     \n",
       "  ischemie_splenique = 1 (%)       1.000     \n",
       "  ischemie_renal = 1 (%)           1.000     \n",
       "  hemorragie = 1 (%)               0.515     \n",
       "  hemorragie_urinaire = 1 (%)      0.609     \n",
       "  hemorragie_respiratoire = 1 (%)  0.028     \n",
       "  hemorragie_cerebrale = 1 (%)     0.049     \n",
       "  hemorragie_digestif = 1 (%)      0.861     \n",
       "  hemorragie_autre = 1 (%)         1.000     \n",
       "  hemorragie_iatrogene = 1 (%)     0.001     \n",
       "  hemorragie_articulaire = 1 (%)   1.000     "
      ]
     },
     "metadata": {},
     "output_type": "display_data"
    }
   ],
   "source": [
    "tablethree <- CreateTableOne(data = collect(sejours_rea_48_heures), factorVars = cat_Vars, vars = var_patients, addOverall = TRUE, strata = 'volonte_anticoag')\n",
    "\n",
    "tablethree\n",
    "\n",
    "# summary(tablethree)"
   ]
  },
  {
   "cell_type": "markdown",
   "id": "9e0d4972-1bbb-436c-a339-5f80a248b1d2",
   "metadata": {
    "tags": []
   },
   "source": [
    "## Table 1 stratifiée sur l'ischémie cérébrale"
   ]
  },
  {
   "cell_type": "code",
   "execution_count": 205,
   "id": "96ef63cc-a332-4d11-a638-9cae10b68f23",
   "metadata": {
    "tags": []
   },
   "outputs": [
    {
     "data": {
      "text/plain": [
       "                                 Stratified by ischemie_cerebrale\n",
       "                                  0             1              p      test\n",
       "  n                                4857           105                     \n",
       "  age_at_stay_entry (mean (SD))   73.39 (11.03) 73.52 (9.84)    NA        \n",
       "  duree_sejour (mean (SD))         7.18 (8.06)  10.31 (10.50)   NA        \n",
       "  duree_visite (mean (SD))        27.08 (25.48) 43.09 (48.10)   NA        \n",
       "  sex_cd = W (%)                   1672 (34.4)     38 ( 36.2)   0.785     \n",
       "  death_during_stay = 1 (%)         517 (10.6)     12 ( 11.4)   0.922     \n",
       "  death_during_visit (%)                                        0.184     \n",
       "     0                             3819 (78.6)     75 ( 71.4)             \n",
       "     1                             1032 (21.2)     30 ( 28.6)             \n",
       "     NaN                              6 ( 0.1)      0 (  0.0)             \n",
       "  type_rea = med (%)               3625 (74.6)     77 ( 73.3)   0.849     \n",
       "  atcd_hta = 1 (%)                 1982 (40.8)     61 ( 58.1)   0.001     \n",
       "  atcd_diabete = 1 (%)             1044 (21.5)     25 ( 23.8)   0.652     \n",
       "  atcd_obesite = 1 (%)              548 (11.3)      8 (  7.6)   0.307     \n",
       "  atcd_bpco = 1 (%)                 595 (12.3)     10 (  9.5)   0.488     \n",
       "  atcd_ins_cardiaque = 1 (%)       1099 (22.6)     34 ( 32.4)   0.025     \n",
       "  atcd_ins_renale = 1 (%)           738 (15.2)     14 ( 13.3)   0.698     \n",
       "  diag_cat (%)                                                 <0.001     \n",
       "     Post_op                        537 (11.1)      7 (  6.7)             \n",
       "     Inconnu                        799 (16.5)      0 (  0.0)             \n",
       "     Autre                         1151 (23.7)     34 ( 32.4)             \n",
       "     Cardio                         708 (14.6)     21 ( 20.0)             \n",
       "     Sepsis                         447 ( 9.2)     11 ( 10.5)             \n",
       "     Respi                          630 (13.0)     18 ( 17.1)             \n",
       "     Metabo                         197 ( 4.1)      1 (  1.0)             \n",
       "     Neuro                          118 ( 2.4)     10 (  9.5)             \n",
       "     Hemato                         124 ( 2.6)      1 (  1.0)             \n",
       "     Trauma_non_cranien             130 ( 2.7)      2 (  1.9)             \n",
       "     Hepatique                       16 ( 0.3)      0 (  0.0)             \n",
       "  chads_vasc (mean (SD))           2.23 (1.34)   2.55 (1.39)    NA        \n",
       "  fadenovo = 1 (%)                 1512 (31.1)     46 ( 43.8)   0.008     \n",
       "  vm = 1 (%)                       1498 (30.8)     56 ( 53.3)  <0.001     \n",
       "  vasopresseurs = 1 (%)            1633 (33.6)     49 ( 46.7)   0.007     \n",
       "  eer = 1 (%)                       473 ( 9.7)     14 ( 13.3)   0.290     \n",
       "  coagulopathie = 1 (%)              74 ( 1.5)      3 (  2.9)   0.487     \n",
       "  choc_septique = 1 (%)             798 (16.4)     26 ( 24.8)   0.033     \n",
       "  choc_autre = 1 (%)                185 ( 3.8)     11 ( 10.5)   0.001     \n",
       "  choc_hypovolemique = 1 (%)        388 ( 8.0)     15 ( 14.3)   0.031     \n",
       "  hnf_mediane (mean (SD))          0.29 (0.29)   0.28 (0.14)    NA        \n",
       "  hbpm_mediane (mean (SD))         0.39 (0.32)   0.29 (0.24)    NA        \n",
       "  hnf_efficacite_anticoag (%)                                   0.333     \n",
       "     efficace                       235 (20.5)      8 ( 25.8)             \n",
       "     imparfait                      848 (73.8)     23 ( 74.2)             \n",
       "     inefficace                      66 ( 5.7)      0 (  0.0)             \n",
       "  hbpm_efficacite_anticoag (%)                                  0.279     \n",
       "     efficace                        71 (30.0)      4 ( 57.1)             \n",
       "     imparfait                       82 (34.6)      1 ( 14.3)             \n",
       "     inefficace                      84 (35.4)      2 ( 28.6)             \n",
       "  choc_cardiogenique = 1 (%)        336 ( 6.9)     15 ( 14.3)   0.007     \n",
       "  ischemie_cerebrale = 1 (%)          0 ( 0.0)    105 (100.0)  <0.001     \n",
       "  ischemie_splenique = 1 (%)          9 ( 0.2)      3 (  2.9)  <0.001     \n",
       "  ischemie_renal = 1 (%)              6 ( 0.1)      2 (  1.9)   0.001     \n",
       "  hemorragie = 1 (%)                382 ( 7.9)     20 ( 19.0)  <0.001     \n",
       "  hemorragie_urinaire = 1 (%)        71 ( 1.5)      0 (  0.0)   0.405     \n",
       "  hemorragie_respiratoire = 1 (%)    71 ( 1.5)      1 (  1.0)   0.984     \n",
       "  hemorragie_cerebrale = 1 (%)       34 ( 0.7)      9 (  8.6)  <0.001     \n",
       "  hemorragie_digestif = 1 (%)       127 ( 2.6)      3 (  2.9)   1.000     \n",
       "  hemorragie_autre = 1 (%)           38 ( 0.8)      2 (  1.9)   0.471     \n",
       "  hemorragie_iatrogene = 1 (%)      148 ( 3.0)      6 (  5.7)   0.202     \n",
       "  hemorragie_articulaire = 1 (%)      1 ( 0.0)      0 (  0.0)   1.000     "
      ]
     },
     "metadata": {},
     "output_type": "display_data"
    }
   ],
   "source": [
    "tablefour <- CreateTableOne(data = collect(sejours_rea_48_heures), factorVars = cat_Vars, vars = var_patients, strata = 'ischemie_cerebrale')\n",
    "tablefour\n",
    "\n",
    "# summary(tablefour)"
   ]
  },
  {
   "cell_type": "markdown",
   "id": "4a465767-db3a-4c2e-9a73-40dbec49bc6c",
   "metadata": {},
   "source": [
    "# Modélisation statistique"
   ]
  },
  {
   "cell_type": "markdown",
   "id": "d046eadf-eb0d-4a20-ad30-d799272ff54f",
   "metadata": {},
   "source": [
    "## Sommaire des variables d'intérêt"
   ]
  },
  {
   "cell_type": "code",
   "execution_count": 206,
   "id": "da686be1-018a-4e46-a133-f13f4366c30a",
   "metadata": {},
   "outputs": [
    {
     "data": {
      "text/plain": [
       "    sex_cd          age_at_stay_entry vasopresseurs        eer         \n",
       " Length:4962        Min.   : 23.0     Min.   :0.000   Min.   :0.00000  \n",
       " Class :character   1st Qu.: 67.0     1st Qu.:0.000   1st Qu.:0.00000  \n",
       " Mode  :character   Median : 74.0     Median :0.000   Median :0.00000  \n",
       "                    Mean   : 73.4     Mean   :0.339   Mean   :0.09815  \n",
       "                    3rd Qu.: 81.0     3rd Qu.:1.000   3rd Qu.:0.00000  \n",
       "                    Max.   :101.0     Max.   :1.000   Max.   :1.00000  \n",
       "                                                                       \n",
       "    diag_cat      chads_vasc          vm            atcd_hta     \n",
       " Autre  :1185   Min.   :0.000   Min.   :0.0000   Min.   :0.0000  \n",
       " Inconnu: 799   1st Qu.:1.000   1st Qu.:0.0000   1st Qu.:0.0000  \n",
       " Cardio : 729   Median :2.000   Median :0.0000   Median :0.0000  \n",
       " Respi  : 648   Mean   :2.236   Mean   :0.3132   Mean   :0.4117  \n",
       " Post_op: 544   3rd Qu.:3.000   3rd Qu.:1.0000   3rd Qu.:1.0000  \n",
       " Sepsis : 458   Max.   :7.000   Max.   :1.0000   Max.   :1.0000  \n",
       " (Other): 599                                                    \n",
       "   atcd_bpco       atcd_diabete    atcd_ins_cardiaque atcd_ins_renale \n",
       " Min.   :0.0000   Min.   :0.0000   Min.   :0.0000     Min.   :0.0000  \n",
       " 1st Qu.:0.0000   1st Qu.:0.0000   1st Qu.:0.0000     1st Qu.:0.0000  \n",
       " Median :0.0000   Median :0.0000   Median :0.0000     Median :0.0000  \n",
       " Mean   :0.1219   Mean   :0.2154   Mean   :0.2283     Mean   :0.1516  \n",
       " 3rd Qu.:0.0000   3rd Qu.:0.0000   3rd Qu.:0.0000     3rd Qu.:0.0000  \n",
       " Max.   :1.0000   Max.   :1.0000   Max.   :1.0000     Max.   :1.0000  \n",
       "                                                                      \n",
       "  atcd_obesite        annee        type_rea            fadenovo    \n",
       " Min.   :0.0000   Min.   :2011   Length:4962        Min.   :0.000  \n",
       " 1st Qu.:0.0000   1st Qu.:2016   Class :character   1st Qu.:0.000  \n",
       " Median :0.0000   Median :2018   Mode  :character   Median :0.000  \n",
       " Mean   :0.1121   Mean   :2018                      Mean   :0.314  \n",
       " 3rd Qu.:0.0000   3rd Qu.:2020                      3rd Qu.:1.000  \n",
       " Max.   :1.0000   Max.   :2021                      Max.   :1.000  \n",
       "                                                                   \n",
       "   etat_choc        surdosage       volonte_anticoag     location_cd  \n",
       " Min.   :0.0000   Min.   :0.00000   Min.   :0.0000   UFR:087260: 782  \n",
       " 1st Qu.:0.0000   1st Qu.:0.00000   1st Qu.:0.0000   UFR:014025: 472  \n",
       " Median :0.0000   Median :0.00000   Median :0.0000   UFR:010030: 398  \n",
       " Mean   :0.2969   Mean   :0.08565   Mean   :0.2588   UFR:026151: 371  \n",
       " 3rd Qu.:1.0000   3rd Qu.:0.00000   3rd Qu.:1.0000   UFR:021034: 339  \n",
       " Max.   :1.0000   Max.   :1.00000   Max.   :1.0000   UFR:095013: 301  \n",
       "                                                     (Other)   :2299  "
      ]
     },
     "metadata": {},
     "output_type": "display_data"
    }
   ],
   "source": [
    "sejours_rea_48_heures %>%\n",
    "    select(c('sex_cd','age_at_stay_entry','vasopresseurs','eer', 'diag_cat', 'chads_vasc','vm','atcd_hta','atcd_bpco','atcd_diabete','atcd_ins_cardiaque','atcd_ins_renale',\n",
    "             'atcd_obesite','annee','type_rea', 'fadenovo', 'etat_choc', 'surdosage', 'volonte_anticoag', 'location_cd')) %>%\n",
    "    as_tibble() %>%\n",
    "    summary()"
   ]
  },
  {
   "cell_type": "markdown",
   "id": "2bd9bdb4-2ad7-4093-a3f6-ae0714f039f9",
   "metadata": {},
   "source": [
    "## Estimation d'un score de propension, avec pondération inverse. "
   ]
  },
  {
   "cell_type": "code",
   "execution_count": 207,
   "id": "a259d797-1737-49ab-94b9-dcfce6afddcd",
   "metadata": {},
   "outputs": [],
   "source": [
    "W_PS <- weightit(volonte_anticoag ~ sex_cd + age_at_stay_entry + vasopresseurs + eer + diag_cat + chads_vasc + vm + atcd_hta + atcd_bpco + \n",
    "              atcd_diabete + atcd_ins_cardiaque + atcd_ins_renale + atcd_obesite + annee + type_rea + fadenovo + etat_choc, \n",
    "              data = collect(sejours_rea_48_heures), \n",
    "              method = \"glm\", \n",
    "              estimand = \"ATE\")"
   ]
  },
  {
   "cell_type": "code",
   "execution_count": 208,
   "id": "44175f58-67d6-4e25-a79e-b0ce99f18a16",
   "metadata": {},
   "outputs": [
    {
     "data": {
      "text/plain": [
       "A \u001b[3mweightit\u001b[23m object\n",
       " - method: \"glm\" (propensity score weighting with GLM)\n",
       " - number of obs.: 4962\n",
       " - sampling weights: none\n",
       " - treatment: 2-category\n",
       " - estimand: ATE\n",
       " - covariates: sex_cd, age_at_stay_entry, vasopresseurs, eer, diag_cat, chads_vasc, vm, atcd_hta, atcd_bpco, atcd_diabete, atcd_ins_cardiaque, atcd_ins_renale, atcd_obesite, annee, type_rea, fadenovo, etat_choc"
      ]
     },
     "metadata": {},
     "output_type": "display_data"
    }
   ],
   "source": [
    "W_PS"
   ]
  },
  {
   "cell_type": "markdown",
   "id": "074954dc-8255-48e0-b791-946efceef3ba",
   "metadata": {},
   "source": [
    "### Table des corrections des covariables par le score de propension"
   ]
  },
  {
   "cell_type": "code",
   "execution_count": 209,
   "id": "338dc83c-b316-468f-8674-be550be584b1",
   "metadata": {},
   "outputs": [
    {
     "data": {
      "text/plain": [
       "\u001b[4mBalance Measures\u001b[24m\n",
       "                                Type Diff.Un Diff.Adj\n",
       "prop.score                  Distance  0.5883   0.0035\n",
       "sex_cd_W                      Binary  0.0152   0.0020\n",
       "age_at_stay_entry            Contin. -0.0560   0.0100\n",
       "vasopresseurs                 Binary  0.1920  -0.0033\n",
       "eer                           Binary  0.0872   0.0009\n",
       "diag_cat_Post_op              Binary -0.0344  -0.0059\n",
       "diag_cat_Inconnu              Binary -0.0323   0.0019\n",
       "diag_cat_Autre                Binary  0.0035  -0.0005\n",
       "diag_cat_Cardio               Binary  0.0655   0.0009\n",
       "diag_cat_Sepsis               Binary  0.0142  -0.0019\n",
       "diag_cat_Respi                Binary  0.0066   0.0036\n",
       "diag_cat_Metabo               Binary  0.0103  -0.0007\n",
       "diag_cat_Neuro                Binary -0.0169  -0.0007\n",
       "diag_cat_Hemato               Binary -0.0025   0.0025\n",
       "diag_cat_Trauma_non_cranien   Binary -0.0117  -0.0003\n",
       "diag_cat_Hepatique            Binary -0.0022   0.0011\n",
       "chads_vasc                   Contin.  0.0925   0.0221\n",
       "vm                            Binary  0.1617  -0.0003\n",
       "atcd_hta                      Binary -0.0049   0.0104\n",
       "atcd_bpco                     Binary -0.0163  -0.0075\n",
       "atcd_diabete                  Binary  0.0340   0.0027\n",
       "atcd_ins_cardiaque            Binary  0.0765   0.0044\n",
       "atcd_ins_renale               Binary  0.0498  -0.0011\n",
       "atcd_obesite                  Binary  0.0243   0.0081\n",
       "annee                        Contin.  0.1080  -0.0048\n",
       "type_rea_med                  Binary  0.0484   0.0052\n",
       "fadenovo                      Binary -0.0716  -0.0040\n",
       "etat_choc                     Binary  0.1280   0.0073\n",
       "\n",
       "\u001b[4mEffective sample sizes\u001b[24m\n",
       "           Control Treated\n",
       "Unadjusted 3678.   1284.  \n",
       "Adjusted   3566.44 1068.15"
      ]
     },
     "metadata": {},
     "output_type": "display_data"
    }
   ],
   "source": [
    "bal.tab(W_PS, un = TRUE)"
   ]
  },
  {
   "cell_type": "markdown",
   "id": "4a4b89b4-74e4-40f9-9432-97bcbc91ed03",
   "metadata": {},
   "source": [
    "### Graphique des corrections des covariables par le score de propension"
   ]
  },
  {
   "cell_type": "code",
   "execution_count": 210,
   "id": "730421b0-d87e-4481-a94c-fbdf0d538cd6",
   "metadata": {},
   "outputs": [
    {
     "data": {
      "image/png": "[encoded data removed]",
      "text/plain": [
       "plot without title"
      ]
     },
     "metadata": {
      "image/png": {
       "height": 420,
       "width": 420
      }
     },
     "output_type": "display_data"
    }
   ],
   "source": [
    "v_love_plot <- data.frame(old = c('sex_cd','age_at_stay_entry','vasopresseurs','eer','chads_vasc','vm','atcd_hta','atcd_bpco','atcd_diabete','atcd_ins_cardiaque','atcd_ins_renale',\n",
    "             'atcd_obesite','annee','type_rea', 'fadenovo', 'etat_choc'),\n",
    "                new = c('Sex','Age','Vasopressors','RRT','CHA2DS2-VASc','MV','Hypertension','COBP','Diabetes','Heart Failure','Renal Failure',\n",
    "             'Obesity','Admission year','ICU type', 'NOAF', 'Shock'))\n",
    "\n",
    "love.plot(W_PS, stars = 'std', threshold = .05, var.order = \"unadjusted\", var.names = v_love_plot)"
   ]
  },
  {
   "cell_type": "markdown",
   "id": "9d44e7fe-59d8-47ea-978c-30d199056bd5",
   "metadata": {},
   "source": [
    "### Sommaire des poids inversés"
   ]
  },
  {
   "cell_type": "code",
   "execution_count": 211,
   "id": "10243fa1-b36f-471a-a7ae-34fed6087f29",
   "metadata": {},
   "outputs": [
    {
     "data": {
      "text/plain": [
       "                 \u001b[4mSummary of weights\u001b[24m\n",
       "\n",
       "- \u001b[3mWeight ranges\u001b[23m:\n",
       "\n",
       "           Min                                   Max\n",
       "treated 1.4594  |--------------------------| 17.1693\n",
       "control 1.0461 |--|                           3.4222\n",
       "\n",
       "- \u001b[3mUnits with the 5 most extreme weights by group\u001b[23m:\n",
       "                                               \n",
       "           3059    3950    2906    2819    3531\n",
       " treated 10.679 11.8618 14.0055 14.5171 17.1693\n",
       "            690      63    2610     465    3370\n",
       " control 2.9538  2.9591  2.9604  3.1042  3.4222\n",
       "\n",
       "- \u001b[3mWeight statistics\u001b[23m:\n",
       "\n",
       "        Coef of Var   MAD Entropy # Zeros\n",
       "treated       0.450 0.354   0.092       0\n",
       "control       0.177 0.125   0.014       0\n",
       "\n",
       "- \u001b[3mEffective Sample Sizes\u001b[23m:\n",
       "\n",
       "           Control Treated\n",
       "Unweighted 3678.   1284.  \n",
       "Weighted   3566.44 1068.15"
      ]
     },
     "metadata": {},
     "output_type": "display_data"
    }
   ],
   "source": [
    "summary(W_PS)"
   ]
  },
  {
   "cell_type": "markdown",
   "id": "4ef8f16b-3df2-41e0-ad19-dfbea82d9171",
   "metadata": {},
   "source": [
    "### Ajout des poids à la table des séjours"
   ]
  },
  {
   "cell_type": "code",
   "execution_count": 212,
   "id": "4eacc829-4a84-41fe-86a2-e600e34a7b5e",
   "metadata": {},
   "outputs": [],
   "source": [
    "sejours_rea_48_heures$weights <- W_PS$weights"
   ]
  },
  {
   "cell_type": "markdown",
   "id": "e6f65422-3571-4d95-9a7a-8e30317a3708",
   "metadata": {
    "tags": []
   },
   "source": [
    "## Modèle de l'outcome avec l'estimateur double-robuste proposé par le package DRTMLE\n",
    "### Régression par GLM "
   ]
  },
  {
   "cell_type": "code",
   "execution_count": 213,
   "id": "142fab62-73c6-4412-bd02-f49ca05a1dee",
   "metadata": {},
   "outputs": [],
   "source": [
    "set.seed(100384)\n",
    "W_GLM <- collect(sejours_rea_48_heures %>% select(c('ischemie_cerebrale','volonte_anticoag','sex_cd','age_at_stay_entry','vasopresseurs','eer','chads_vasc','vm',\n",
    "                                        'atcd_hta','atcd_bpco','atcd_diabete','atcd_ins_cardiaque','atcd_ins_renale','atcd_obesite','annee','type_rea',\n",
    "                                        'etat_choc','fadenovo', 'diag_cat')))\n",
    "A <- collect(sejours_rea_48_heures %>% select(volonte_anticoag)) %>% unlist() %>% as.integer()\n",
    "Y <- collect(sejours_rea_48_heures %>% select(ischemie_cerebrale)) %>% unlist() %>% as.integer()"
   ]
  },
  {
   "cell_type": "code",
   "execution_count": 214,
   "id": "48ebd2ae-f536-46d4-b59d-5c5ea67eae4c",
   "metadata": {},
   "outputs": [
    {
     "data": {
      "text/plain": [
       "$est\n",
       "            \n",
       "0 0.02032958\n",
       "1 0.02383547\n",
       "\n",
       "$cov\n",
       "             0            1\n",
       "0 5.754253e-06 5.622766e-08\n",
       "1 5.622766e-08 2.279969e-05\n"
      ]
     },
     "metadata": {},
     "output_type": "display_data"
    }
   ],
   "source": [
    "glm_fit_uni <- drtmle(W = W_GLM, A = A, Y = Y, family = binomial(),\n",
    "                      glm_g = \"sex_cd + age_at_stay_entry + vasopresseurs + eer + chads_vasc + vm + atcd_hta + atcd_bpco + atcd_diabete + \n",
    "                                    atcd_ins_cardiaque + atcd_ins_renale + atcd_obesite + annee + type_rea + etat_choc + fadenovo + diag_cat\", \n",
    "                      glm_Q = \"(sex_cd + age_at_stay_entry + vasopresseurs + eer + chads_vasc + vm + atcd_hta + atcd_bpco + atcd_diabete + \n",
    "                                    atcd_ins_cardiaque + atcd_ins_renale + atcd_obesite + annee + type_rea + etat_choc + fadenovo + diag_cat)*A\",\n",
    "                      glm_gr = \"Qn\", glm_Qr = \"gn\", stratify = FALSE)\n",
    "\n",
    "glm_fit_uni"
   ]
  },
  {
   "cell_type": "code",
   "execution_count": 215,
   "id": "937994be-585f-497f-9e93-907e0e6e82da",
   "metadata": {},
   "outputs": [
    {
     "data": {
      "text/plain": [
       "$drtmle\n",
       "    est   cil   ciu\n",
       "0 0.020 0.016 0.025\n",
       "1 0.024 0.014 0.033\n"
      ]
     },
     "metadata": {},
     "output_type": "display_data"
    }
   ],
   "source": [
    "ci(glm_fit_uni)"
   ]
  },
  {
   "cell_type": "code",
   "execution_count": 216,
   "id": "faaff775-7cd1-47d9-ab89-c563eb2aefc5",
   "metadata": {
    "tags": []
   },
   "outputs": [],
   "source": [
    "riskRatio <- list(f = function(eff) {log(eff)},\n",
    "                  f_inv = function(eff) {exp(eff)},\n",
    "                  h = function(est) {est[2]/est[1]},\n",
    "                  fh_grad = function(est){c(1/est[2],-1/est[1])})"
   ]
  },
  {
   "cell_type": "code",
   "execution_count": 217,
   "id": "3d6464de-f895-427e-9c45-07998e23a135",
   "metadata": {
    "tags": []
   },
   "outputs": [
    {
     "data": {
      "text/plain": [
       "$drtmle\n",
       "                est   cil   ciu\n",
       "user contrast 1.172 0.711 1.933\n"
      ]
     },
     "metadata": {},
     "output_type": "display_data"
    }
   ],
   "source": [
    "ci(glm_fit_uni, contrast = riskRatio)"
   ]
  },
  {
   "cell_type": "markdown",
   "id": "8c335528-4cbe-4af4-8eff-fbb3f70b9d1c",
   "metadata": {
    "tags": []
   },
   "source": [
    "### Régression par SuperLearner\n",
    "\n",
    "W_SL enlève ischemie cerebrale, volonte d'anticoagulation et catégorie diagnostique car :\n",
    " - le modèle de SL intègre l'ensemble des variables du tableau et rend l'erreur \"glm.fit : algorithm did not converge\" car ces variables sont l'exposition et l'outcome)\n",
    " - le modèle Gam n'accepte pas les variables catégorielles à plusieurs facteurs mais uniquement les variables binaires, d'où le retrait de diag_cat et son remplacement par des dummy variables (on aurait aussi pu faire un pivot_wider)"
   ]
  },
  {
   "cell_type": "code",
   "execution_count": 218,
   "id": "7d0008c4-92cb-4d57-a8ed-0ff27bd4f683",
   "metadata": {
    "tags": []
   },
   "outputs": [],
   "source": [
    "W_SL <- W %>% select(-c('ischemie_cerebrale', 'volonte_anticoag', 'diag_cat'))"
   ]
  },
  {
   "cell_type": "code",
   "execution_count": 219,
   "id": "764a823a-a6b6-4e14-8657-25c57336046b",
   "metadata": {
    "tags": []
   },
   "outputs": [
    {
     "data": {
      "text/plain": [
       "$est\n",
       "            \n",
       "0 0.02056279\n",
       "1 0.02179988\n",
       "\n",
       "$cov\n",
       "             0            1\n",
       "0 5.791292e-06 9.622318e-08\n",
       "1 9.622318e-08 1.793895e-05\n"
      ]
     },
     "metadata": {},
     "output_type": "display_data"
    }
   ],
   "source": [
    "sl_fit <- drtmle(W = W_SL, A = A, Y = Y, family = binomial(),\n",
    "                 SL_g = c(\"SL.glm\",\"SL.mean\", \"SL.step.forward\", \"SL.gam\", \"SL.stepAIC\", \"SL.randomForest\"),\n",
    "                 SL_Q = c(\"SL.glm\",\"SL.mean\", \"SL.step.forward\", \"SL.gam\", \"SL.stepAIC\", \"SL.randomForest\"),\n",
    "                 SL_gr = c(\"SL.glm\",\"SL.mean\", \"SL.step.forward\", \"SL.gam\", \"SL.stepAIC\", \"SL.randomForest\"),\n",
    "                 SL_Qr = c(\"SL.glm\",\"SL.mean\", \"SL.step.forward\", \"SL.gam\", \"SL.stepAIC\", \"SL.randomForest\"),\n",
    "                 stratify = FALSE)\n",
    "sl_fit"
   ]
  },
  {
   "cell_type": "code",
   "execution_count": 220,
   "id": "5b91aead-c784-46e0-a1a0-9bcc25b88f0b",
   "metadata": {},
   "outputs": [
    {
     "data": {
      "text/plain": [
       "$drtmle\n",
       "    est   cil   ciu\n",
       "0 0.021 0.016 0.025\n",
       "1 0.022 0.013 0.030\n"
      ]
     },
     "metadata": {},
     "output_type": "display_data"
    }
   ],
   "source": [
    "ci(sl_fit)"
   ]
  },
  {
   "cell_type": "code",
   "execution_count": 221,
   "id": "7848661b-c9d1-4378-99c5-4f6d611416d8",
   "metadata": {
    "tags": []
   },
   "outputs": [],
   "source": [
    "riskRatio <- list(f = function(eff) {log(eff)},\n",
    "                  f_inv = function(eff) {exp(eff)},\n",
    "                  h = function(est) {est[2]/est[1]},\n",
    "                  fh_grad = function(est){c(1/est[2],-1/est[1])})"
   ]
  },
  {
   "cell_type": "code",
   "execution_count": 222,
   "id": "53adcb9d-2b70-49af-a0e5-f8e4d5211e69",
   "metadata": {
    "tags": []
   },
   "outputs": [
    {
     "data": {
      "text/plain": [
       "$drtmle\n",
       "               est   cil   ciu\n",
       "user contrast 1.06 0.672 1.673\n"
      ]
     },
     "metadata": {},
     "output_type": "display_data"
    }
   ],
   "source": [
    "ci(sl_fit, contrast = riskRatio)"
   ]
  },
  {
   "cell_type": "markdown",
   "id": "14abad2b-3617-479e-8e54-cd6770a5c30f",
   "metadata": {
    "tags": []
   },
   "source": [
    "## Estimateur double robuste AIPTW fait main"
   ]
  },
  {
   "cell_type": "code",
   "execution_count": 223,
   "id": "f101eb4b-0268-4e3d-902d-bf5e00fe4c96",
   "metadata": {
    "tags": []
   },
   "outputs": [],
   "source": [
    "fit <- glm(ischemie_cerebrale ~ volonte_anticoag * (sex_cd + age_at_stay_entry + vasopresseurs + eer + chads_vasc + vm + atcd_hta + atcd_bpco + atcd_diabete + \n",
    "                                                    atcd_ins_cardiaque + atcd_ins_renale + atcd_obesite + annee + type_rea + etat_choc + fadenovo + diag_cat), \n",
    "           data = collect(sejours_rea_48_heures), family = 'quasibinomial')"
   ]
  },
  {
   "cell_type": "code",
   "execution_count": 224,
   "id": "a7a9539e-db0c-4577-9756-35c8a7eb27c6",
   "metadata": {
    "tags": []
   },
   "outputs": [],
   "source": [
    "sejours_rea_48_heures_T1 <- sejours_rea_48_heures\n",
    "sejours_rea_48_heures_T1$volonte_anticoag <- 1\n",
    "mu1_hat <- predict(fit, newdata = sejours_rea_48_heures_T1, type = \"response\")"
   ]
  },
  {
   "cell_type": "code",
   "execution_count": 225,
   "id": "9a4cf6c6-c102-4a9e-9d71-b0a2b12ad0cd",
   "metadata": {
    "tags": []
   },
   "outputs": [
    {
     "name": "stdout",
     "output_type": "stream",
     "text": [
      "ATE (AIPTW) : 0.0033 \n",
      "IC 95% : [ -0.007 , 0.0136 ]\n"
     ]
    }
   ],
   "source": [
    "sejours_rea_48_heures_T0 <- sejours_rea_48_heures\n",
    "sejours_rea_48_heures_T0$volonte_anticoag <- 0\n",
    "mu0_hat <- predict(fit, newdata = sejours_rea_48_heures_T0, type = \"response\")\n",
    "\n",
    "ps_hat <- W_PS$ps\n",
    "\n",
    "aiptw_1 <- (sejours_rea_48_heures$volonte_anticoag * (sejours_rea_48_heures$ischemie_cerebrale - mu1_hat) / ps_hat) + mu1_hat\n",
    "aiptw_0 <- ((1 - sejours_rea_48_heures$volonte_anticoag) * (sejours_rea_48_heures$ischemie_cerebrale - mu0_hat) / (1 - ps_hat)) + mu0_hat\n",
    "\n",
    "aiptw_diff <- aiptw_1 - aiptw_0\n",
    "ATE_hat <- mean(aiptw_diff)\n",
    "\n",
    "se_ATE <- as.numeric(sd(aiptw_diff) /sqrt(count(sejours_rea_48_heures)))\n",
    "\n",
    "CI_lower <- ATE_hat - 1.96 * se_ATE\n",
    "CI_upper <- ATE_hat + 1.96 * se_ATE\n",
    "\n",
    "cat(\"ATE (AIPTW) :\", round(ATE_hat, 4), \"\\n\")\n",
    "cat(\"IC 95% : [\", round(CI_lower, 4), \",\", round(CI_upper, 4), \"]\\n\")"
   ]
  },
  {
   "cell_type": "code",
   "execution_count": 226,
   "id": "42a9c6ad-36b5-4cb1-a71d-96da3f3a96d3",
   "metadata": {
    "tags": []
   },
   "outputs": [
    {
     "name": "stdout",
     "output_type": "stream",
     "text": [
      "Risk Ratio : 1.163 \n",
      "IC 95% : [ 0.74 , 1.828 ]\n"
     ]
    }
   ],
   "source": [
    "RR <- mean(aiptw_1) / mean(aiptw_0)\n",
    "se_p1 <- as.numeric(sd(aiptw_1) / sqrt(count(sejours_rea_48_heures)))\n",
    "se_p0 <- as.numeric(sd(aiptw_0) / sqrt(count(sejours_rea_48_heures)))\n",
    "se_logRR <- sqrt((se_p1 / mean(aiptw_1))^2 + (se_p0 / mean(aiptw_0))^2)\n",
    "logRR <- log(RR)\n",
    "CI_logRR <- c(logRR - 1.96 * se_logRR, logRR + 1.96 * se_logRR)\n",
    "CI_RR <- exp(CI_logRR)\n",
    "\n",
    "cat(\"Risk Ratio :\", round(RR, 3), \"\\n\")\n",
    "cat(\"IC 95% : [\", round(CI_RR[1], 3), \",\", round(CI_RR[2], 3), \"]\\n\")"
   ]
  },
  {
   "cell_type": "markdown",
   "id": "b7226d26-e868-47bc-9c4b-faf3bcc04389",
   "metadata": {},
   "source": [
    "## Modèle classique de régression logistique\n",
    "\n",
    " - En intégrant les covariables du score de propension et d'autres reliées à la survenue d'une ischémie cérébrale.\n",
    " - Equations de G-computation pour l'estimation de l'Average Treatmen Effect (ATE)"
   ]
  },
  {
   "cell_type": "code",
   "execution_count": 227,
   "id": "02135a2f-a372-4f7c-b857-42a34c71bbff",
   "metadata": {},
   "outputs": [],
   "source": [
    "fit <- glm(ischemie_cerebrale ~ volonte_anticoag * (sex_cd + age_at_stay_entry + vasopresseurs + eer + chads_vasc + vm + atcd_hta + atcd_bpco + atcd_diabete + \n",
    "                                                    atcd_ins_cardiaque + atcd_ins_renale + atcd_obesite + annee + type_rea + etat_choc + fadenovo + diag_cat), \n",
    "           data = collect(sejours_rea_48_heures), family = 'quasibinomial', weights = sejours_rea_48_heures$weights)"
   ]
  },
  {
   "cell_type": "code",
   "execution_count": 228,
   "id": "e0c7027a-04ef-4e4c-b7a4-c7a133ee9159",
   "metadata": {},
   "outputs": [
    {
     "data": {
      "text/html": [
       "<table>\n",
       "<caption>A comparisons: 1 × 10</caption>\n",
       "<thead>\n",
       "\t<tr><th scope=col>term</th><th scope=col>contrast</th><th scope=col>estimate</th><th scope=col>p.value</th><th scope=col>s.value</th><th scope=col>conf.low</th><th scope=col>conf.high</th><th scope=col>predicted_lo</th><th scope=col>predicted_hi</th><th scope=col>predicted</th></tr>\n",
       "\t<tr><th scope=col>&lt;chr&gt;</th><th scope=col>&lt;chr&gt;</th><th scope=col>&lt;dbl&gt;</th><th scope=col>&lt;dbl&gt;</th><th scope=col>&lt;dbl&gt;</th><th scope=col>&lt;dbl&gt;</th><th scope=col>&lt;dbl&gt;</th><th scope=col>&lt;dbl&gt;</th><th scope=col>&lt;dbl&gt;</th><th scope=col>&lt;dbl&gt;</th></tr>\n",
       "</thead>\n",
       "<tbody>\n",
       "\t<tr><td>volonte_anticoag</td><td>ln(mean(1) / mean(0))</td><td>1.13225</td><td>0.6285229</td><td>0.6699628</td><td>0.6845646</td><td>1.87271</td><td>0.007530621</td><td>0.03050148</td><td>0.007530621</td></tr>\n",
       "</tbody>\n",
       "</table>\n"
      ],
      "text/latex": [
       "A comparisons: 1 × 10\n",
       "\\begin{tabular}{llllllllll}\n",
       " term & contrast & estimate & p.value & s.value & conf.low & conf.high & predicted\\_lo & predicted\\_hi & predicted\\\\\n",
       " <chr> & <chr> & <dbl> & <dbl> & <dbl> & <dbl> & <dbl> & <dbl> & <dbl> & <dbl>\\\\\n",
       "\\hline\n",
       "\t volonte\\_anticoag & ln(mean(1) / mean(0)) & 1.13225 & 0.6285229 & 0.6699628 & 0.6845646 & 1.87271 & 0.007530621 & 0.03050148 & 0.007530621\\\\\n",
       "\\end{tabular}\n"
      ],
      "text/markdown": [
       "\n",
       "A comparisons: 1 × 10\n",
       "\n",
       "| term &lt;chr&gt; | contrast &lt;chr&gt; | estimate &lt;dbl&gt; | p.value &lt;dbl&gt; | s.value &lt;dbl&gt; | conf.low &lt;dbl&gt; | conf.high &lt;dbl&gt; | predicted_lo &lt;dbl&gt; | predicted_hi &lt;dbl&gt; | predicted &lt;dbl&gt; |\n",
       "|---|---|---|---|---|---|---|---|---|---|\n",
       "| volonte_anticoag | ln(mean(1) / mean(0)) | 1.13225 | 0.6285229 | 0.6699628 | 0.6845646 | 1.87271 | 0.007530621 | 0.03050148 | 0.007530621 |\n",
       "\n"
      ],
      "text/plain": [
       "  term             contrast              estimate p.value   s.value   conf.low \n",
       "1 volonte_anticoag ln(mean(1) / mean(0)) 1.13225  0.6285229 0.6699628 0.6845646\n",
       "  conf.high predicted_lo predicted_hi predicted  \n",
       "1 1.87271   0.007530621  0.03050148   0.007530621"
      ]
     },
     "metadata": {},
     "output_type": "display_data"
    }
   ],
   "source": [
    "avg_comparisons(fit, variables = \"volonte_anticoag\",\n",
    "                vcov = \"HC3\",\n",
    "                newdata = collect(sejours_rea_48_heures),\n",
    "                wts = sejours_rea_48_heures$weights,\n",
    "                comparison = \"lnratioavg\",\n",
    "                transform = \"exp\")"
   ]
  },
  {
   "cell_type": "code",
   "execution_count": 229,
   "id": "2ce705d3-7ec8-4fb5-9166-ecfd60f49c50",
   "metadata": {},
   "outputs": [
    {
     "data": {
      "text/html": [
       "<table>\n",
       "<caption>A comparisons: 1 × 9</caption>\n",
       "<thead>\n",
       "\t<tr><th scope=col>term</th><th scope=col>contrast</th><th scope=col>estimate</th><th scope=col>std.error</th><th scope=col>statistic</th><th scope=col>p.value</th><th scope=col>s.value</th><th scope=col>conf.low</th><th scope=col>conf.high</th></tr>\n",
       "\t<tr><th scope=col>&lt;chr&gt;</th><th scope=col>&lt;chr&gt;</th><th scope=col>&lt;dbl&gt;</th><th scope=col>&lt;dbl&gt;</th><th scope=col>&lt;dbl&gt;</th><th scope=col>&lt;dbl&gt;</th><th scope=col>&lt;dbl&gt;</th><th scope=col>&lt;dbl&gt;</th><th scope=col>&lt;dbl&gt;</th></tr>\n",
       "</thead>\n",
       "<tbody>\n",
       "\t<tr><td>volonte_anticoag</td><td>1 - 0</td><td>0.002712457</td><td>0.005820067</td><td>0.4660526</td><td>0.6411779</td><td>0.6412034</td><td>-0.008694665</td><td>0.01411958</td></tr>\n",
       "</tbody>\n",
       "</table>\n"
      ],
      "text/latex": [
       "A comparisons: 1 × 9\n",
       "\\begin{tabular}{lllllllll}\n",
       " term & contrast & estimate & std.error & statistic & p.value & s.value & conf.low & conf.high\\\\\n",
       " <chr> & <chr> & <dbl> & <dbl> & <dbl> & <dbl> & <dbl> & <dbl> & <dbl>\\\\\n",
       "\\hline\n",
       "\t volonte\\_anticoag & 1 - 0 & 0.002712457 & 0.005820067 & 0.4660526 & 0.6411779 & 0.6412034 & -0.008694665 & 0.01411958\\\\\n",
       "\\end{tabular}\n"
      ],
      "text/markdown": [
       "\n",
       "A comparisons: 1 × 9\n",
       "\n",
       "| term &lt;chr&gt; | contrast &lt;chr&gt; | estimate &lt;dbl&gt; | std.error &lt;dbl&gt; | statistic &lt;dbl&gt; | p.value &lt;dbl&gt; | s.value &lt;dbl&gt; | conf.low &lt;dbl&gt; | conf.high &lt;dbl&gt; |\n",
       "|---|---|---|---|---|---|---|---|---|\n",
       "| volonte_anticoag | 1 - 0 | 0.002712457 | 0.005820067 | 0.4660526 | 0.6411779 | 0.6412034 | -0.008694665 | 0.01411958 |\n",
       "\n"
      ],
      "text/plain": [
       "  term             contrast estimate    std.error   statistic p.value  \n",
       "1 volonte_anticoag 1 - 0    0.002712457 0.005820067 0.4660526 0.6411779\n",
       "  s.value   conf.low     conf.high \n",
       "1 0.6412034 -0.008694665 0.01411958"
      ]
     },
     "metadata": {},
     "output_type": "display_data"
    }
   ],
   "source": [
    "avg_comparisons(fit, variables = \"volonte_anticoag\",\n",
    "                vcov = \"HC3\",\n",
    "                newdata = collect(sejours_rea_48_heures),\n",
    "                wts = sejours_rea_48_heures$weights)"
   ]
  },
  {
   "cell_type": "markdown",
   "id": "87af4aed-d714-49c0-ad14-998d06384640",
   "metadata": {},
   "source": [
    "### Estimation de l'ATE et des paramètres associés par bootstrap\n",
    "Erreur standard, intervalle de confiance\n",
    "\n",
    "#### Fonction à itérer avec les deux modèles \n",
    "(SP avec poids inverses et régression logistique avec ischémie cérébrale)"
   ]
  },
  {
   "cell_type": "code",
   "execution_count": 230,
   "id": "0816d889-d520-4bc9-8a8f-07f40061cacc",
   "metadata": {},
   "outputs": [],
   "source": [
    "boot_fun <- function(data, i) {\n",
    "  boot_data <- data[i,]\n",
    "  \n",
    "  #PS weighting for the ATE\n",
    "  W <- weightit(volonte_anticoag ~ sex_cd + age_at_stay_entry + vasopresseurs + eer + chads_vasc + vm + atcd_hta + atcd_bpco + atcd_diabete + \n",
    "                                    atcd_ins_cardiaque + atcd_ins_renale + atcd_obesite + annee + type_rea + etat_choc + fadenovo,\n",
    "              data = boot_data, \n",
    "              method = \"glm\", \n",
    "              estimand = \"ATE\")\n",
    "  \n",
    "  #Bring weights into the dataset\n",
    "  boot_data$weights <- W_PS$weights\n",
    "  \n",
    "  #Fit outcome model\n",
    "  fit <- glm(ischemie_cerebrale ~ volonte_anticoag * (sex_cd + age_at_stay_entry + vasopresseurs + eer + chads_vasc + vm + atcd_hta + atcd_bpco + \n",
    "                                                      atcd_diabete + atcd_ins_cardiaque + atcd_ins_renale + atcd_obesite + annee + type_rea + etat_choc + fadenovo),\n",
    "             data = boot_data, weights = boot_data$weights,\n",
    "             family = 'quasibinomial')\n",
    "  \n",
    "  #G-computation\n",
    "  comp <- avg_comparisons(fit,\n",
    "                          variables = 'volonte_anticoag',\n",
    "                          vcov = FALSE,\n",
    "                          newdata = boot_data,\n",
    "                          wts = boot_data$weights,\n",
    "                          comparison = \"lnratioavg\",\n",
    "                          transform = \"exp\")\n",
    "  \n",
    "  comp$estimate\n",
    "}"
   ]
  },
  {
   "cell_type": "markdown",
   "id": "f07e4192-1add-4619-b34a-affed45d1640",
   "metadata": {},
   "source": [
    "#### Bootstrap\n",
    "5000 itérations\n",
    "##### RR, biais, erreur standard"
   ]
  },
  {
   "cell_type": "code",
   "execution_count": 231,
   "id": "2018b874-88e5-4e04-bbe5-bd9bf42a784e",
   "metadata": {
    "scrolled": true
   },
   "outputs": [],
   "source": [
    "set.seed(100384)\n",
    "\n",
    "boot_out <- boot(collect(sejours_rea_48_heures), boot_fun, R = 5000)\n",
    "\n",
    "boot_out"
   ]
  },
  {
   "cell_type": "markdown",
   "id": "36ca48d7-9c5e-48b8-84df-9ad6356c464e",
   "metadata": {},
   "source": [
    "#### Intervalles de confiance"
   ]
  },
  {
   "cell_type": "code",
   "execution_count": null,
   "id": "02764347-1ac7-43f9-972a-29f1f335fec1",
   "metadata": {
    "scrolled": true
   },
   "outputs": [],
   "source": [
    "boot.ci(boot_out, type = \"perc\")"
   ]
  },
  {
   "cell_type": "markdown",
   "id": "b0e81df3-cd51-4a8d-898d-7a8708679e43",
   "metadata": {},
   "source": [
    "#### Représentation graphique"
   ]
  },
  {
   "cell_type": "code",
   "execution_count": null,
   "id": "ed2a91bd-72d6-4f2c-8266-a4fee0489950",
   "metadata": {
    "scrolled": true,
    "tags": []
   },
   "outputs": [],
   "source": [
    "plot(boot_out)"
   ]
  },
  {
   "cell_type": "markdown",
   "id": "6c710227-af1b-4dcc-89f9-6b42dae56222",
   "metadata": {
    "tags": []
   },
   "source": [
    "## Vérification des hypothèses du modèle\n",
    "### Test du respect de la linéarité des variables continues avec le logit"
   ]
  },
  {
   "cell_type": "code",
   "execution_count": 232,
   "id": "b9d070b0-ea44-4c86-961a-f5773bb114e0",
   "metadata": {},
   "outputs": [
    {
     "data": {
      "image/png": "[encoded data removed]",
      "text/plain": [
       "plot without title"
      ]
     },
     "metadata": {
      "image/png": {
       "height": 420,
       "width": 420
      }
     },
     "output_type": "display_data"
    }
   ],
   "source": [
    "sejours_rea_48_heures %>%\n",
    "    count(age_at_stay_entry) %>%\n",
    "    ggplot + geom_col(aes(x = age_at_stay_entry, y = n))"
   ]
  },
  {
   "cell_type": "code",
   "execution_count": 233,
   "id": "d2165574-b6a2-4386-98c6-d96d51dc8a0c",
   "metadata": {},
   "outputs": [
    {
     "ename": "ERROR",
     "evalue": "Error in boxTidwell.formula(ischemie_cerebrale ~ age_at_stay_entry, other.x = efficacite_anticoag_binary + : object 'efficacite_anticoag_binary' not found\n",
     "output_type": "error",
     "traceback": [
      "Error in boxTidwell.formula(ischemie_cerebrale ~ age_at_stay_entry, other.x = efficacite_anticoag_binary + : object 'efficacite_anticoag_binary' not found\nTraceback:\n",
      "1. boxTidwell(ischemie_cerebrale ~ age_at_stay_entry, other.x = efficacite_anticoag_binary + \n .     sex_cd + age_at_stay_entry + vasopresseurs + eer + chads_vasc + \n .     vm + atcd_hta + atcd_bpco + atcd_diabete + atcd_ins_cardiaque + \n .     atcd_ins_renale + atcd_obesite + annee + type_rea + etat_choc + \n .     fadenovo, data = \"sejours_rea_48_heures\")",
      "2. boxTidwell.formula(ischemie_cerebrale ~ age_at_stay_entry, other.x = efficacite_anticoag_binary + \n .     sex_cd + age_at_stay_entry + vasopresseurs + eer + chads_vasc + \n .     vm + atcd_hta + atcd_bpco + atcd_diabete + atcd_ins_cardiaque + \n .     atcd_ins_renale + atcd_obesite + annee + type_rea + etat_choc + \n .     fadenovo, data = \"sejours_rea_48_heures\")"
     ]
    }
   ],
   "source": [
    "boxTidwell(ischemie_cerebrale ~ age_at_stay_entry,\n",
    "           other.x = efficacite_anticoag_binary + sex_cd + age_at_stay_entry + vasopresseurs + eer + chads_vasc + vm + atcd_hta + \n",
    "           atcd_bpco + atcd_diabete + atcd_ins_cardiaque + atcd_ins_renale + atcd_obesite + annee + type_rea + etat_choc + fadenovo,\n",
    "           data = \"sejours_rea_48_heures\")"
   ]
  },
  {
   "cell_type": "markdown",
   "id": "3d638b4b-3c14-4d5f-913e-9c30162d98ff",
   "metadata": {},
   "source": [
    "# Analyses secondaires"
   ]
  },
  {
   "cell_type": "markdown",
   "id": "a878a992-bea0-42dc-9158-ade2c552adec",
   "metadata": {
    "tags": []
   },
   "source": [
    "## Estimateur double robuste pour évaluer le risque hémorragique associé à l'anticoagulation (DRTMLE)\n",
    "### Toutes hémorragies"
   ]
  },
  {
   "cell_type": "code",
   "execution_count": 235,
   "id": "2b79ac1c-3e68-4fee-bec8-0646f91d7be4",
   "metadata": {
    "tags": []
   },
   "outputs": [],
   "source": [
    "Y_h <- collect(sejours_rea_48_heures %>% select(hemorragie)) %>% unlist() %>% as.integer()"
   ]
  },
  {
   "cell_type": "code",
   "execution_count": 236,
   "id": "3d20766a-94f0-45e2-92d2-e3fad91d3a13",
   "metadata": {},
   "outputs": [
    {
     "data": {
      "text/plain": [
       "$est\n",
       "            \n",
       "0 0.08184872\n",
       "1 0.08007433\n",
       "\n",
       "$cov\n",
       "             0            1\n",
       "0 2.150542e-05 7.368316e-07\n",
       "1 7.368316e-07 6.206910e-05\n"
      ]
     },
     "metadata": {},
     "output_type": "display_data"
    }
   ],
   "source": [
    "glm_fit_uni <- drtmle(W = W, A = A, Y = Y_h, family = binomial(),\n",
    "                      glm_g = \"sex_cd + age_at_stay_entry + vasopresseurs + eer + chads_vasc + vm + atcd_hta + atcd_bpco + atcd_diabete + \n",
    "                                    atcd_ins_cardiaque + atcd_ins_renale + atcd_obesite + annee + type_rea + etat_choc + fadenovo + diag_cat\", \n",
    "                      glm_Q = \"(sex_cd + age_at_stay_entry + vasopresseurs + eer + chads_vasc + vm + atcd_hta + atcd_bpco + atcd_diabete + \n",
    "                                    atcd_ins_cardiaque + atcd_ins_renale + atcd_obesite + annee + type_rea + etat_choc + fadenovo + diag_cat)*A\",\n",
    "                      glm_gr = \"Qn\", glm_Qr = \"gn\", stratify = FALSE)\n",
    "\n",
    "glm_fit_uni"
   ]
  },
  {
   "cell_type": "code",
   "execution_count": 237,
   "id": "7ebb4124-83c2-4bb5-a93c-4623671261c9",
   "metadata": {
    "tags": []
   },
   "outputs": [
    {
     "data": {
      "text/plain": [
       "$drtmle\n",
       "    est   cil   ciu\n",
       "0 0.082 0.073 0.091\n",
       "1 0.080 0.065 0.096\n"
      ]
     },
     "metadata": {},
     "output_type": "display_data"
    }
   ],
   "source": [
    "ci(glm_fit_uni)"
   ]
  },
  {
   "cell_type": "code",
   "execution_count": 238,
   "id": "fb582381-8002-4142-b950-5bf1e8d6818c",
   "metadata": {
    "tags": []
   },
   "outputs": [],
   "source": [
    "riskRatio <- list(f = function(eff) {log(eff)},\n",
    "                  f_inv = function(eff) {exp(eff)},\n",
    "                  h = function(est) {est[2]/est[1]},\n",
    "                  fh_grad = function(est){c(1/est[2],-1/est[1])})"
   ]
  },
  {
   "cell_type": "code",
   "execution_count": 239,
   "id": "7f7cdfe6-e228-4697-964d-165cea5128e4",
   "metadata": {
    "tags": []
   },
   "outputs": [
    {
     "data": {
      "text/plain": [
       "$drtmle\n",
       "                est   cil   ciu\n",
       "user contrast 0.978 0.787 1.217\n"
      ]
     },
     "metadata": {},
     "output_type": "display_data"
    }
   ],
   "source": [
    "ci(glm_fit_uni, contrast = riskRatio)"
   ]
  },
  {
   "cell_type": "markdown",
   "id": "61fb8761-2a9b-44aa-8c56-1b9d6daa7cd0",
   "metadata": {
    "tags": []
   },
   "source": [
    "### Hémorragies iatrogènes"
   ]
  },
  {
   "cell_type": "code",
   "execution_count": 240,
   "id": "29ad7a92-ed1c-41b3-a739-b1de5254f328",
   "metadata": {
    "tags": []
   },
   "outputs": [],
   "source": [
    "Y_h_i <- collect(sejours_rea_48_heures %>% select(hemorragie_iatrogene)) %>% unlist() %>% as.integer()"
   ]
  },
  {
   "cell_type": "code",
   "execution_count": 241,
   "id": "3c9ffb25-c01f-445c-8b4f-b872d1f1719d",
   "metadata": {},
   "outputs": [
    {
     "data": {
      "text/plain": [
       "$est\n",
       "            \n",
       "0 0.02634594\n",
       "1 0.04915215\n",
       "\n",
       "$cov\n",
       "             0            1\n",
       "0 7.244554e-06 4.165454e-07\n",
       "1 4.165454e-07 4.099701e-05\n"
      ]
     },
     "metadata": {},
     "output_type": "display_data"
    }
   ],
   "source": [
    "glm_fit_uni <- drtmle(W = W, A = A, Y = Y_h_i, family = binomial(),\n",
    "                      glm_g = \"sex_cd + age_at_stay_entry + vasopresseurs + eer + chads_vasc + vm + atcd_hta + atcd_bpco + atcd_diabete + \n",
    "                                    atcd_ins_cardiaque + atcd_ins_renale + atcd_obesite + annee + type_rea + etat_choc + fadenovo + diag_cat\", \n",
    "                      glm_Q = \"(sex_cd + age_at_stay_entry + vasopresseurs + eer + chads_vasc + vm + atcd_hta + atcd_bpco + atcd_diabete + \n",
    "                                    atcd_ins_cardiaque + atcd_ins_renale + atcd_obesite + annee + type_rea + etat_choc + fadenovo + diag_cat)*A\",\n",
    "                      glm_gr = \"Qn\", glm_Qr = \"gn\", stratify = FALSE)\n",
    "\n",
    "glm_fit_uni"
   ]
  },
  {
   "cell_type": "code",
   "execution_count": 242,
   "id": "08f3aea0-d9c5-412e-ba5d-538463fdc0e3",
   "metadata": {
    "tags": []
   },
   "outputs": [
    {
     "data": {
      "text/plain": [
       "$drtmle\n",
       "    est   cil   ciu\n",
       "0 0.026 0.021 0.032\n",
       "1 0.049 0.037 0.062\n"
      ]
     },
     "metadata": {},
     "output_type": "display_data"
    }
   ],
   "source": [
    "ci(glm_fit_uni)"
   ]
  },
  {
   "cell_type": "code",
   "execution_count": 243,
   "id": "a110cd44-36a5-466f-8b03-b600dccf3767",
   "metadata": {
    "tags": []
   },
   "outputs": [],
   "source": [
    "riskRatio <- list(f = function(eff) {log(eff)},\n",
    "                  f_inv = function(eff) {exp(eff)},\n",
    "                  h = function(est) {est[2]/est[1]},\n",
    "                  fh_grad = function(est){c(1/est[2],-1/est[1])})"
   ]
  },
  {
   "cell_type": "code",
   "execution_count": 244,
   "id": "f7c4be75-1f18-4900-91cd-d9d3f35b1244",
   "metadata": {
    "tags": []
   },
   "outputs": [
    {
     "data": {
      "text/plain": [
       "$drtmle\n",
       "                est   cil   ciu\n",
       "user contrast 1.866 1.148 3.032\n"
      ]
     },
     "metadata": {},
     "output_type": "display_data"
    }
   ],
   "source": [
    "ci(glm_fit_uni, contrast = riskRatio)"
   ]
  },
  {
   "cell_type": "markdown",
   "id": "fdd53bd2-2ae3-4d6c-8676-62e3f434c6ce",
   "metadata": {
    "tags": []
   },
   "source": [
    "### Hémorragies cérébrales"
   ]
  },
  {
   "cell_type": "code",
   "execution_count": 245,
   "id": "38aab430-58e6-416e-a4d6-dacbbd0a4b07",
   "metadata": {},
   "outputs": [],
   "source": [
    "# Codes des actes chirurgicaux \n",
    "\n",
    "## Neurochirurgie encéphalique et médullaire\n",
    "\n",
    "nc <- tibble(code = c('CCAM:ACFA', 'CCAM:ABJA', 'CCAM:ABCC', 'CCAM:ABCA', 'CCAM:ABMA', 'CCAM:AAJA', 'CCAM:AAJH',\n",
    "                      'CCAM:ABFA', 'CCAM:ABSA', 'CCAM:AAFA', 'CCAM:ABFC', 'CCAM:ABJC'),\n",
    "             type = c('cerebrale', 'cerebrale', 'cerebrale', 'cerebrale', 'cerebrale', 'cerebrale', 'cerebrale', \n",
    "                      'cerebrale', 'cerebrale', 'cerebrale', 'cerebrale', 'cerebrale'))"
   ]
  },
  {
   "cell_type": "code",
   "execution_count": 246,
   "id": "4b49b2a7-d561-4676-a23e-a7961377729a",
   "metadata": {},
   "outputs": [],
   "source": [
    "tbl_change_db(sc, 'cse_200007_20210519')"
   ]
  },
  {
   "cell_type": "code",
   "execution_count": 247,
   "id": "b53e1b22-23ac-45f1-838b-71ef636d7691",
   "metadata": {},
   "outputs": [],
   "source": [
    "visites_avec_nc <- sc %>% tbl('i2b2_observation_ccam') %>%\n",
    "    mutate(concept_cd_abr = str_sub(concept_cd, 1, 9)) %>%\n",
    "    filter(concept_cd_abr %in% !!nc$code) %>%\n",
    "    as_tibble() %>%\n",
    "    group_by(encounter_num) %>%\n",
    "    count()"
   ]
  },
  {
   "cell_type": "code",
   "execution_count": 248,
   "id": "e6f4a75b-89b4-4345-bc92-ffc12f330335",
   "metadata": {
    "tags": []
   },
   "outputs": [],
   "source": [
    "W_h_c <- collect(sejours_rea_48_heures %>% select(c('ischemie_cerebrale','volonte_anticoag','sex_cd','age_at_stay_entry','vasopresseurs','eer','chads_vasc','vm',\n",
    "                                        'atcd_hta','atcd_bpco','atcd_diabete','atcd_ins_cardiaque','atcd_ins_renale','atcd_obesite','annee','type_rea',\n",
    "                                        'etat_choc','fadenovo', 'diag_cat')))\n",
    "A_h_c <- collect(sejours_rea_48_heures %>% select(volonte_anticoag)) %>% unlist() %>% as.integer()\n",
    "Y_h_c <- collect(sejours_rea_48_heures %>% select(hemorragie_cerebrale)) %>% unlist() %>% as.integer()"
   ]
  },
  {
   "cell_type": "code",
   "execution_count": 249,
   "id": "2f906f1d-a615-48b7-90b0-3ad8909d9cb3",
   "metadata": {},
   "outputs": [
    {
     "data": {
      "text/plain": [
       "$est\n",
       "             \n",
       "0 0.010238095\n",
       "1 0.004411288\n",
       "\n",
       "$cov\n",
       "             0            1\n",
       "0 2.805635e-06 1.183476e-07\n",
       "1 1.183476e-07 6.023580e-06\n"
      ]
     },
     "metadata": {},
     "output_type": "display_data"
    }
   ],
   "source": [
    "glm_fit_uni <- drtmle(W = W_h_c, A = A_h_c, Y = Y_h_c, family = binomial(),\n",
    "                      glm_g = \"sex_cd + age_at_stay_entry + vasopresseurs + eer + chads_vasc + vm + atcd_hta + atcd_bpco + atcd_diabete + \n",
    "                                    atcd_ins_cardiaque + atcd_ins_renale + atcd_obesite + annee + type_rea + etat_choc + fadenovo + diag_cat\", \n",
    "                      glm_Q = \"(sex_cd + age_at_stay_entry + vasopresseurs + eer + chads_vasc + vm + atcd_hta + atcd_bpco + atcd_diabete + \n",
    "                                    atcd_ins_cardiaque + atcd_ins_renale + atcd_obesite + annee + type_rea + etat_choc + fadenovo + diag_cat)*A\",\n",
    "                      glm_gr = \"Qn\", glm_Qr = \"gn\", stratify = FALSE)\n",
    "\n",
    "glm_fit_uni"
   ]
  },
  {
   "cell_type": "code",
   "execution_count": 250,
   "id": "c3642d80-bc7b-4386-bd25-eef91b5778f2",
   "metadata": {
    "tags": []
   },
   "outputs": [
    {
     "data": {
      "text/plain": [
       "$drtmle\n",
       "    est   cil   ciu\n",
       "0 0.010 0.007 0.014\n",
       "1 0.004 0.000 0.009\n"
      ]
     },
     "metadata": {},
     "output_type": "display_data"
    }
   ],
   "source": [
    "ci(glm_fit_uni)"
   ]
  },
  {
   "cell_type": "code",
   "execution_count": 251,
   "id": "15505aa5-fa55-44f9-b60f-5b33abcf1cb9",
   "metadata": {
    "tags": []
   },
   "outputs": [],
   "source": [
    "riskRatio <- list(f = function(eff) {log(eff)},\n",
    "                  f_inv = function(eff) {exp(eff)},\n",
    "                  h = function(est) {est[2]/est[1]},\n",
    "                  fh_grad = function(est){c(1/est[2],-1/est[1])})"
   ]
  },
  {
   "cell_type": "code",
   "execution_count": 252,
   "id": "c48a7fb4-7ce3-46da-837d-190b8381488e",
   "metadata": {
    "tags": []
   },
   "outputs": [
    {
     "data": {
      "text/plain": [
       "$drtmle\n",
       "                est   cil   ciu\n",
       "user contrast 0.431 0.181 1.027\n"
      ]
     },
     "metadata": {},
     "output_type": "display_data"
    }
   ],
   "source": [
    "ci(glm_fit_uni, contrast = riskRatio)"
   ]
  },
  {
   "cell_type": "markdown",
   "id": "04013684-12da-474a-a2b2-731c6894cc77",
   "metadata": {},
   "source": [
    "## Facteurs de risques\n",
    "\n",
    "### Ischémie cérébrale\n",
    "#### Avec la variable de l'efficacité du traitement"
   ]
  },
  {
   "cell_type": "code",
   "execution_count": 253,
   "id": "558c610f-33a4-432a-9abc-263865a14ff4",
   "metadata": {},
   "outputs": [
    {
     "name": "stderr",
     "output_type": "stream",
     "text": [
      "Warning message:\n",
      "“\u001b[1m\u001b[22mThere was 1 warning in `mutate()`.\n",
      "\u001b[1m\u001b[22m\u001b[36mℹ\u001b[39m In argument: `across(where(is.numeric), round, digits = 2)`.\n",
      "Caused by warning:\n",
      "\u001b[1m\u001b[22m\u001b[33m!\u001b[39m The `...` argument of `across()` is deprecated as of dplyr 1.1.0.\n",
      "Supply arguments directly to `.fns` through an anonymous function instead.\n",
      "\n",
      "  # Previously\n",
      "  across(a:b, mean, na.rm = TRUE)\n",
      "\n",
      "  # Now\n",
      "  across(a:b, \\(x) mean(x, na.rm = TRUE))”\n"
     ]
    },
    {
     "data": {
      "text/html": [
       "<table>\n",
       "<caption>A tibble: 18 × 7</caption>\n",
       "<thead>\n",
       "\t<tr><th scope=col>term</th><th scope=col>estimate</th><th scope=col>std.error</th><th scope=col>statistic</th><th scope=col>p.value</th><th scope=col>conf.low</th><th scope=col>conf.high</th></tr>\n",
       "\t<tr><th scope=col>&lt;chr&gt;</th><th scope=col>&lt;dbl&gt;</th><th scope=col>&lt;dbl&gt;</th><th scope=col>&lt;dbl&gt;</th><th scope=col>&lt;dbl&gt;</th><th scope=col>&lt;dbl&gt;</th><th scope=col>&lt;dbl&gt;</th></tr>\n",
       "</thead>\n",
       "<tbody>\n",
       "\t<tr><td>(Intercept)               </td><td>0.00</td><td>115.79</td><td>-1.84</td><td>0.07</td><td>0.00</td><td>13010.47</td></tr>\n",
       "\t<tr><td>efficacite_anticoag_binary</td><td>1.44</td><td>  0.36</td><td> 1.01</td><td>0.31</td><td>0.66</td><td>    2.79</td></tr>\n",
       "\t<tr><td>sex_cdW                   </td><td>1.12</td><td>  0.24</td><td> 0.48</td><td>0.63</td><td>0.70</td><td>    1.80</td></tr>\n",
       "\t<tr><td>age_at_stay_entry         </td><td>1.00</td><td>  0.01</td><td> 0.18</td><td>0.85</td><td>0.98</td><td>    1.02</td></tr>\n",
       "\t<tr><td>vasopresseurs             </td><td>0.75</td><td>  0.29</td><td>-1.01</td><td>0.31</td><td>0.43</td><td>    1.31</td></tr>\n",
       "\t<tr><td>eer                       </td><td>1.04</td><td>  0.32</td><td> 0.11</td><td>0.91</td><td>0.54</td><td>    1.87</td></tr>\n",
       "\t<tr><td>chads_vasc                </td><td>0.94</td><td>  0.15</td><td>-0.43</td><td>0.67</td><td>0.69</td><td>    1.25</td></tr>\n",
       "\t<tr><td>vm                        </td><td>2.68</td><td>  0.26</td><td> 3.83</td><td>0.00</td><td>1.62</td><td>    4.44</td></tr>\n",
       "\t<tr><td>atcd_hta                  </td><td>2.14</td><td>  0.28</td><td> 2.75</td><td>0.01</td><td>1.25</td><td>    3.69</td></tr>\n",
       "\t<tr><td>atcd_bpco                 </td><td>0.72</td><td>  0.34</td><td>-0.95</td><td>0.34</td><td>0.35</td><td>    1.35</td></tr>\n",
       "\t<tr><td>atcd_diabete              </td><td>0.99</td><td>  0.30</td><td>-0.02</td><td>0.99</td><td>0.55</td><td>    1.78</td></tr>\n",
       "\t<tr><td>atcd_ins_cardiaque        </td><td>1.61</td><td>  0.26</td><td> 1.87</td><td>0.06</td><td>0.97</td><td>    2.64</td></tr>\n",
       "\t<tr><td>atcd_ins_renale           </td><td>0.69</td><td>  0.31</td><td>-1.19</td><td>0.23</td><td>0.36</td><td>    1.23</td></tr>\n",
       "\t<tr><td>atcd_obesite              </td><td>0.46</td><td>  0.38</td><td>-2.00</td><td>0.04</td><td>0.20</td><td>    0.93</td></tr>\n",
       "\t<tr><td>annee                     </td><td>1.11</td><td>  0.06</td><td> 1.80</td><td>0.07</td><td>0.99</td><td>    1.24</td></tr>\n",
       "\t<tr><td>type_reamed               </td><td>1.05</td><td>  0.24</td><td> 0.20</td><td>0.85</td><td>0.67</td><td>    1.68</td></tr>\n",
       "\t<tr><td>etat_choc                 </td><td>1.56</td><td>  0.24</td><td> 1.85</td><td>0.06</td><td>0.97</td><td>    2.49</td></tr>\n",
       "\t<tr><td>fadenovo                  </td><td>1.33</td><td>  0.21</td><td> 1.40</td><td>0.16</td><td>0.89</td><td>    1.99</td></tr>\n",
       "</tbody>\n",
       "</table>\n"
      ],
      "text/latex": [
       "A tibble: 18 × 7\n",
       "\\begin{tabular}{lllllll}\n",
       " term & estimate & std.error & statistic & p.value & conf.low & conf.high\\\\\n",
       " <chr> & <dbl> & <dbl> & <dbl> & <dbl> & <dbl> & <dbl>\\\\\n",
       "\\hline\n",
       "\t (Intercept)                & 0.00 & 115.79 & -1.84 & 0.07 & 0.00 & 13010.47\\\\\n",
       "\t efficacite\\_anticoag\\_binary & 1.44 &   0.36 &  1.01 & 0.31 & 0.66 &     2.79\\\\\n",
       "\t sex\\_cdW                    & 1.12 &   0.24 &  0.48 & 0.63 & 0.70 &     1.80\\\\\n",
       "\t age\\_at\\_stay\\_entry          & 1.00 &   0.01 &  0.18 & 0.85 & 0.98 &     1.02\\\\\n",
       "\t vasopresseurs              & 0.75 &   0.29 & -1.01 & 0.31 & 0.43 &     1.31\\\\\n",
       "\t eer                        & 1.04 &   0.32 &  0.11 & 0.91 & 0.54 &     1.87\\\\\n",
       "\t chads\\_vasc                 & 0.94 &   0.15 & -0.43 & 0.67 & 0.69 &     1.25\\\\\n",
       "\t vm                         & 2.68 &   0.26 &  3.83 & 0.00 & 1.62 &     4.44\\\\\n",
       "\t atcd\\_hta                   & 2.14 &   0.28 &  2.75 & 0.01 & 1.25 &     3.69\\\\\n",
       "\t atcd\\_bpco                  & 0.72 &   0.34 & -0.95 & 0.34 & 0.35 &     1.35\\\\\n",
       "\t atcd\\_diabete               & 0.99 &   0.30 & -0.02 & 0.99 & 0.55 &     1.78\\\\\n",
       "\t atcd\\_ins\\_cardiaque         & 1.61 &   0.26 &  1.87 & 0.06 & 0.97 &     2.64\\\\\n",
       "\t atcd\\_ins\\_renale            & 0.69 &   0.31 & -1.19 & 0.23 & 0.36 &     1.23\\\\\n",
       "\t atcd\\_obesite               & 0.46 &   0.38 & -2.00 & 0.04 & 0.20 &     0.93\\\\\n",
       "\t annee                      & 1.11 &   0.06 &  1.80 & 0.07 & 0.99 &     1.24\\\\\n",
       "\t type\\_reamed                & 1.05 &   0.24 &  0.20 & 0.85 & 0.67 &     1.68\\\\\n",
       "\t etat\\_choc                  & 1.56 &   0.24 &  1.85 & 0.06 & 0.97 &     2.49\\\\\n",
       "\t fadenovo                   & 1.33 &   0.21 &  1.40 & 0.16 & 0.89 &     1.99\\\\\n",
       "\\end{tabular}\n"
      ],
      "text/markdown": [
       "\n",
       "A tibble: 18 × 7\n",
       "\n",
       "| term &lt;chr&gt; | estimate &lt;dbl&gt; | std.error &lt;dbl&gt; | statistic &lt;dbl&gt; | p.value &lt;dbl&gt; | conf.low &lt;dbl&gt; | conf.high &lt;dbl&gt; |\n",
       "|---|---|---|---|---|---|---|\n",
       "| (Intercept)                | 0.00 | 115.79 | -1.84 | 0.07 | 0.00 | 13010.47 |\n",
       "| efficacite_anticoag_binary | 1.44 |   0.36 |  1.01 | 0.31 | 0.66 |     2.79 |\n",
       "| sex_cdW                    | 1.12 |   0.24 |  0.48 | 0.63 | 0.70 |     1.80 |\n",
       "| age_at_stay_entry          | 1.00 |   0.01 |  0.18 | 0.85 | 0.98 |     1.02 |\n",
       "| vasopresseurs              | 0.75 |   0.29 | -1.01 | 0.31 | 0.43 |     1.31 |\n",
       "| eer                        | 1.04 |   0.32 |  0.11 | 0.91 | 0.54 |     1.87 |\n",
       "| chads_vasc                 | 0.94 |   0.15 | -0.43 | 0.67 | 0.69 |     1.25 |\n",
       "| vm                         | 2.68 |   0.26 |  3.83 | 0.00 | 1.62 |     4.44 |\n",
       "| atcd_hta                   | 2.14 |   0.28 |  2.75 | 0.01 | 1.25 |     3.69 |\n",
       "| atcd_bpco                  | 0.72 |   0.34 | -0.95 | 0.34 | 0.35 |     1.35 |\n",
       "| atcd_diabete               | 0.99 |   0.30 | -0.02 | 0.99 | 0.55 |     1.78 |\n",
       "| atcd_ins_cardiaque         | 1.61 |   0.26 |  1.87 | 0.06 | 0.97 |     2.64 |\n",
       "| atcd_ins_renale            | 0.69 |   0.31 | -1.19 | 0.23 | 0.36 |     1.23 |\n",
       "| atcd_obesite               | 0.46 |   0.38 | -2.00 | 0.04 | 0.20 |     0.93 |\n",
       "| annee                      | 1.11 |   0.06 |  1.80 | 0.07 | 0.99 |     1.24 |\n",
       "| type_reamed                | 1.05 |   0.24 |  0.20 | 0.85 | 0.67 |     1.68 |\n",
       "| etat_choc                  | 1.56 |   0.24 |  1.85 | 0.06 | 0.97 |     2.49 |\n",
       "| fadenovo                   | 1.33 |   0.21 |  1.40 | 0.16 | 0.89 |     1.99 |\n",
       "\n"
      ],
      "text/plain": [
       "   term                       estimate std.error statistic p.value conf.low\n",
       "1  (Intercept)                0.00     115.79    -1.84     0.07    0.00    \n",
       "2  efficacite_anticoag_binary 1.44       0.36     1.01     0.31    0.66    \n",
       "3  sex_cdW                    1.12       0.24     0.48     0.63    0.70    \n",
       "4  age_at_stay_entry          1.00       0.01     0.18     0.85    0.98    \n",
       "5  vasopresseurs              0.75       0.29    -1.01     0.31    0.43    \n",
       "6  eer                        1.04       0.32     0.11     0.91    0.54    \n",
       "7  chads_vasc                 0.94       0.15    -0.43     0.67    0.69    \n",
       "8  vm                         2.68       0.26     3.83     0.00    1.62    \n",
       "9  atcd_hta                   2.14       0.28     2.75     0.01    1.25    \n",
       "10 atcd_bpco                  0.72       0.34    -0.95     0.34    0.35    \n",
       "11 atcd_diabete               0.99       0.30    -0.02     0.99    0.55    \n",
       "12 atcd_ins_cardiaque         1.61       0.26     1.87     0.06    0.97    \n",
       "13 atcd_ins_renale            0.69       0.31    -1.19     0.23    0.36    \n",
       "14 atcd_obesite               0.46       0.38    -2.00     0.04    0.20    \n",
       "15 annee                      1.11       0.06     1.80     0.07    0.99    \n",
       "16 type_reamed                1.05       0.24     0.20     0.85    0.67    \n",
       "17 etat_choc                  1.56       0.24     1.85     0.06    0.97    \n",
       "18 fadenovo                   1.33       0.21     1.40     0.16    0.89    \n",
       "   conf.high\n",
       "1  13010.47 \n",
       "2      2.79 \n",
       "3      1.80 \n",
       "4      1.02 \n",
       "5      1.31 \n",
       "6      1.87 \n",
       "7      1.25 \n",
       "8      4.44 \n",
       "9      3.69 \n",
       "10     1.35 \n",
       "11     1.78 \n",
       "12     2.64 \n",
       "13     1.23 \n",
       "14     0.93 \n",
       "15     1.24 \n",
       "16     1.68 \n",
       "17     2.49 \n",
       "18     1.99 "
      ]
     },
     "metadata": {},
     "output_type": "display_data"
    }
   ],
   "source": [
    "mv_ischemie_traitement <- glm(ischemie_cerebrale ~ efficacite_anticoag_binary + sex_cd + age_at_stay_entry + vasopresseurs + eer + chads_vasc + vm + atcd_hta + atcd_bpco + atcd_diabete + \n",
    "                                                    atcd_ins_cardiaque + atcd_ins_renale + atcd_obesite + annee + type_rea + etat_choc + fadenovo,\n",
    "              data=collect(sejours_rea_48_heures), family=\"binomial\") %>%\n",
    "    broom::tidy(exponentiate = TRUE, conf.int = TRUE) %>%\n",
    "    mutate(across(where(is.numeric), round, digits = 2))\n",
    "\n",
    "mv_ischemie_traitement"
   ]
  },
  {
   "cell_type": "code",
   "execution_count": 254,
   "id": "b31adb0e-b60a-4543-bbd7-07d6157ba99b",
   "metadata": {},
   "outputs": [
    {
     "name": "stderr",
     "output_type": "stream",
     "text": [
      "Warning message:\n",
      "“\u001b[1m\u001b[22mUsing `size` aesthetic for lines was deprecated in ggplot2 3.4.0.\n",
      "\u001b[36mℹ\u001b[39m Please use `linewidth` instead.”\n"
     ]
    },
    {
     "data": {
      "image/png": "[encoded data removed]",
      "text/plain": [
       "plot without title"
      ]
     },
     "metadata": {
      "image/png": {
       "height": 420,
       "width": 420
      }
     },
     "output_type": "display_data"
    }
   ],
   "source": [
    "mv_ischemie_traitement %>%\n",
    "    slice(-1) %>%\n",
    "    ggplot + aes(x = estimate, y = term) +\n",
    "    geom_vline(aes(xintercept = 1), size = .25, linetype = \"dashed\") + \n",
    "    geom_errorbarh(aes(xmin = conf.low, xmax = conf.high), size = .5, height = .2, ) +\n",
    "    geom_point(size = 3, color = \"black\")"
   ]
  },
  {
   "cell_type": "markdown",
   "id": "1aa31790-5010-44a0-aadb-b454b57b9163",
   "metadata": {},
   "source": [
    "#### Sans la variable de l'efficacité du traitement"
   ]
  },
  {
   "cell_type": "code",
   "execution_count": 255,
   "id": "2d97d4c1-ee61-4067-b590-d3f674c62f96",
   "metadata": {},
   "outputs": [
    {
     "data": {
      "text/html": [
       "<table>\n",
       "<caption>A tibble: 18 × 7</caption>\n",
       "<thead>\n",
       "\t<tr><th scope=col>term</th><th scope=col>estimate</th><th scope=col>std.error</th><th scope=col>statistic</th><th scope=col>p.value</th><th scope=col>conf.low</th><th scope=col>conf.high</th></tr>\n",
       "\t<tr><th scope=col>&lt;chr&gt;</th><th scope=col>&lt;dbl&gt;</th><th scope=col>&lt;dbl&gt;</th><th scope=col>&lt;dbl&gt;</th><th scope=col>&lt;dbl&gt;</th><th scope=col>&lt;dbl&gt;</th><th scope=col>&lt;dbl&gt;</th></tr>\n",
       "</thead>\n",
       "<tbody>\n",
       "\t<tr><td>(Intercept)       </td><td>0.00</td><td>115.69</td><td>-1.86</td><td>0.06</td><td>0.00</td><td>1184.17</td></tr>\n",
       "\t<tr><td>volonte_anticoag  </td><td>1.08</td><td>  0.22</td><td> 0.36</td><td>0.72</td><td>0.69</td><td>   1.66</td></tr>\n",
       "\t<tr><td>sex_cdW           </td><td>1.13</td><td>  0.24</td><td> 0.51</td><td>0.61</td><td>0.70</td><td>   1.81</td></tr>\n",
       "\t<tr><td>age_at_stay_entry </td><td>1.00</td><td>  0.01</td><td> 0.19</td><td>0.85</td><td>0.98</td><td>   1.02</td></tr>\n",
       "\t<tr><td>vasopresseurs     </td><td>0.75</td><td>  0.29</td><td>-1.01</td><td>0.31</td><td>0.43</td><td>   1.31</td></tr>\n",
       "\t<tr><td>eer               </td><td>1.02</td><td>  0.32</td><td> 0.07</td><td>0.94</td><td>0.53</td><td>   1.85</td></tr>\n",
       "\t<tr><td>chads_vasc        </td><td>0.94</td><td>  0.15</td><td>-0.41</td><td>0.68</td><td>0.69</td><td>   1.25</td></tr>\n",
       "\t<tr><td>vm                </td><td>2.67</td><td>  0.26</td><td> 3.80</td><td>0.00</td><td>1.60</td><td>   4.42</td></tr>\n",
       "\t<tr><td>atcd_hta          </td><td>2.13</td><td>  0.28</td><td> 2.74</td><td>0.01</td><td>1.25</td><td>   3.69</td></tr>\n",
       "\t<tr><td>atcd_bpco         </td><td>0.73</td><td>  0.34</td><td>-0.91</td><td>0.36</td><td>0.35</td><td>   1.36</td></tr>\n",
       "\t<tr><td>atcd_diabete      </td><td>1.00</td><td>  0.30</td><td>-0.01</td><td>0.99</td><td>0.55</td><td>   1.79</td></tr>\n",
       "\t<tr><td>atcd_ins_cardiaque</td><td>1.62</td><td>  0.26</td><td> 1.87</td><td>0.06</td><td>0.97</td><td>   2.66</td></tr>\n",
       "\t<tr><td>atcd_ins_renale   </td><td>0.70</td><td>  0.31</td><td>-1.17</td><td>0.24</td><td>0.37</td><td>   1.24</td></tr>\n",
       "\t<tr><td>atcd_obesite      </td><td>0.47</td><td>  0.38</td><td>-1.98</td><td>0.05</td><td>0.20</td><td>   0.94</td></tr>\n",
       "\t<tr><td>annee             </td><td>1.11</td><td>  0.06</td><td> 1.82</td><td>0.07</td><td>0.99</td><td>   1.24</td></tr>\n",
       "\t<tr><td>type_reamed       </td><td>1.06</td><td>  0.24</td><td> 0.25</td><td>0.80</td><td>0.68</td><td>   1.71</td></tr>\n",
       "\t<tr><td>etat_choc         </td><td>1.56</td><td>  0.24</td><td> 1.85</td><td>0.06</td><td>0.97</td><td>   2.49</td></tr>\n",
       "\t<tr><td>fadenovo          </td><td>1.33</td><td>  0.21</td><td> 1.38</td><td>0.17</td><td>0.88</td><td>   1.99</td></tr>\n",
       "</tbody>\n",
       "</table>\n"
      ],
      "text/latex": [
       "A tibble: 18 × 7\n",
       "\\begin{tabular}{lllllll}\n",
       " term & estimate & std.error & statistic & p.value & conf.low & conf.high\\\\\n",
       " <chr> & <dbl> & <dbl> & <dbl> & <dbl> & <dbl> & <dbl>\\\\\n",
       "\\hline\n",
       "\t (Intercept)        & 0.00 & 115.69 & -1.86 & 0.06 & 0.00 & 1184.17\\\\\n",
       "\t volonte\\_anticoag   & 1.08 &   0.22 &  0.36 & 0.72 & 0.69 &    1.66\\\\\n",
       "\t sex\\_cdW            & 1.13 &   0.24 &  0.51 & 0.61 & 0.70 &    1.81\\\\\n",
       "\t age\\_at\\_stay\\_entry  & 1.00 &   0.01 &  0.19 & 0.85 & 0.98 &    1.02\\\\\n",
       "\t vasopresseurs      & 0.75 &   0.29 & -1.01 & 0.31 & 0.43 &    1.31\\\\\n",
       "\t eer                & 1.02 &   0.32 &  0.07 & 0.94 & 0.53 &    1.85\\\\\n",
       "\t chads\\_vasc         & 0.94 &   0.15 & -0.41 & 0.68 & 0.69 &    1.25\\\\\n",
       "\t vm                 & 2.67 &   0.26 &  3.80 & 0.00 & 1.60 &    4.42\\\\\n",
       "\t atcd\\_hta           & 2.13 &   0.28 &  2.74 & 0.01 & 1.25 &    3.69\\\\\n",
       "\t atcd\\_bpco          & 0.73 &   0.34 & -0.91 & 0.36 & 0.35 &    1.36\\\\\n",
       "\t atcd\\_diabete       & 1.00 &   0.30 & -0.01 & 0.99 & 0.55 &    1.79\\\\\n",
       "\t atcd\\_ins\\_cardiaque & 1.62 &   0.26 &  1.87 & 0.06 & 0.97 &    2.66\\\\\n",
       "\t atcd\\_ins\\_renale    & 0.70 &   0.31 & -1.17 & 0.24 & 0.37 &    1.24\\\\\n",
       "\t atcd\\_obesite       & 0.47 &   0.38 & -1.98 & 0.05 & 0.20 &    0.94\\\\\n",
       "\t annee              & 1.11 &   0.06 &  1.82 & 0.07 & 0.99 &    1.24\\\\\n",
       "\t type\\_reamed        & 1.06 &   0.24 &  0.25 & 0.80 & 0.68 &    1.71\\\\\n",
       "\t etat\\_choc          & 1.56 &   0.24 &  1.85 & 0.06 & 0.97 &    2.49\\\\\n",
       "\t fadenovo           & 1.33 &   0.21 &  1.38 & 0.17 & 0.88 &    1.99\\\\\n",
       "\\end{tabular}\n"
      ],
      "text/markdown": [
       "\n",
       "A tibble: 18 × 7\n",
       "\n",
       "| term &lt;chr&gt; | estimate &lt;dbl&gt; | std.error &lt;dbl&gt; | statistic &lt;dbl&gt; | p.value &lt;dbl&gt; | conf.low &lt;dbl&gt; | conf.high &lt;dbl&gt; |\n",
       "|---|---|---|---|---|---|---|\n",
       "| (Intercept)        | 0.00 | 115.69 | -1.86 | 0.06 | 0.00 | 1184.17 |\n",
       "| volonte_anticoag   | 1.08 |   0.22 |  0.36 | 0.72 | 0.69 |    1.66 |\n",
       "| sex_cdW            | 1.13 |   0.24 |  0.51 | 0.61 | 0.70 |    1.81 |\n",
       "| age_at_stay_entry  | 1.00 |   0.01 |  0.19 | 0.85 | 0.98 |    1.02 |\n",
       "| vasopresseurs      | 0.75 |   0.29 | -1.01 | 0.31 | 0.43 |    1.31 |\n",
       "| eer                | 1.02 |   0.32 |  0.07 | 0.94 | 0.53 |    1.85 |\n",
       "| chads_vasc         | 0.94 |   0.15 | -0.41 | 0.68 | 0.69 |    1.25 |\n",
       "| vm                 | 2.67 |   0.26 |  3.80 | 0.00 | 1.60 |    4.42 |\n",
       "| atcd_hta           | 2.13 |   0.28 |  2.74 | 0.01 | 1.25 |    3.69 |\n",
       "| atcd_bpco          | 0.73 |   0.34 | -0.91 | 0.36 | 0.35 |    1.36 |\n",
       "| atcd_diabete       | 1.00 |   0.30 | -0.01 | 0.99 | 0.55 |    1.79 |\n",
       "| atcd_ins_cardiaque | 1.62 |   0.26 |  1.87 | 0.06 | 0.97 |    2.66 |\n",
       "| atcd_ins_renale    | 0.70 |   0.31 | -1.17 | 0.24 | 0.37 |    1.24 |\n",
       "| atcd_obesite       | 0.47 |   0.38 | -1.98 | 0.05 | 0.20 |    0.94 |\n",
       "| annee              | 1.11 |   0.06 |  1.82 | 0.07 | 0.99 |    1.24 |\n",
       "| type_reamed        | 1.06 |   0.24 |  0.25 | 0.80 | 0.68 |    1.71 |\n",
       "| etat_choc          | 1.56 |   0.24 |  1.85 | 0.06 | 0.97 |    2.49 |\n",
       "| fadenovo           | 1.33 |   0.21 |  1.38 | 0.17 | 0.88 |    1.99 |\n",
       "\n"
      ],
      "text/plain": [
       "   term               estimate std.error statistic p.value conf.low conf.high\n",
       "1  (Intercept)        0.00     115.69    -1.86     0.06    0.00     1184.17  \n",
       "2  volonte_anticoag   1.08       0.22     0.36     0.72    0.69        1.66  \n",
       "3  sex_cdW            1.13       0.24     0.51     0.61    0.70        1.81  \n",
       "4  age_at_stay_entry  1.00       0.01     0.19     0.85    0.98        1.02  \n",
       "5  vasopresseurs      0.75       0.29    -1.01     0.31    0.43        1.31  \n",
       "6  eer                1.02       0.32     0.07     0.94    0.53        1.85  \n",
       "7  chads_vasc         0.94       0.15    -0.41     0.68    0.69        1.25  \n",
       "8  vm                 2.67       0.26     3.80     0.00    1.60        4.42  \n",
       "9  atcd_hta           2.13       0.28     2.74     0.01    1.25        3.69  \n",
       "10 atcd_bpco          0.73       0.34    -0.91     0.36    0.35        1.36  \n",
       "11 atcd_diabete       1.00       0.30    -0.01     0.99    0.55        1.79  \n",
       "12 atcd_ins_cardiaque 1.62       0.26     1.87     0.06    0.97        2.66  \n",
       "13 atcd_ins_renale    0.70       0.31    -1.17     0.24    0.37        1.24  \n",
       "14 atcd_obesite       0.47       0.38    -1.98     0.05    0.20        0.94  \n",
       "15 annee              1.11       0.06     1.82     0.07    0.99        1.24  \n",
       "16 type_reamed        1.06       0.24     0.25     0.80    0.68        1.71  \n",
       "17 etat_choc          1.56       0.24     1.85     0.06    0.97        2.49  \n",
       "18 fadenovo           1.33       0.21     1.38     0.17    0.88        1.99  "
      ]
     },
     "metadata": {},
     "output_type": "display_data"
    }
   ],
   "source": [
    "mv_ischemie <- glm(ischemie_cerebrale ~ volonte_anticoag + sex_cd + age_at_stay_entry + vasopresseurs + eer + chads_vasc + vm + atcd_hta + atcd_bpco + atcd_diabete + \n",
    "                                                    atcd_ins_cardiaque + atcd_ins_renale + atcd_obesite + annee + type_rea + etat_choc + fadenovo,\n",
    "              data=collect(sejours_rea_48_heures), family=\"binomial\") %>%\n",
    "              broom::tidy(exponentiate = TRUE, conf.int = TRUE) %>%\n",
    "              mutate(across(where(is.numeric), round, digits = 2))\n",
    "\n",
    "mv_ischemie"
   ]
  },
  {
   "cell_type": "code",
   "execution_count": 256,
   "id": "f6423c40-2081-4574-b51c-0bdbc6cb96ef",
   "metadata": {},
   "outputs": [
    {
     "data": {
      "image/png": "[encoded data removed]",
      "text/plain": [
       "plot without title"
      ]
     },
     "metadata": {
      "image/png": {
       "height": 420,
       "width": 420
      }
     },
     "output_type": "display_data"
    }
   ],
   "source": [
    "mv_ischemie %>%\n",
    "    slice(-1) %>%\n",
    "    ggplot + aes(x = estimate, y = term) +\n",
    "    geom_vline(aes(xintercept = 1), size = .25, linetype = \"dashed\") + \n",
    "    geom_errorbarh(aes(xmin = conf.low, xmax = conf.high), size = .5, height = .2, ) +\n",
    "    geom_point(size = 3, color = \"black\")"
   ]
  },
  {
   "cell_type": "code",
   "execution_count": 257,
   "id": "82e779ac-00d0-400e-b7c8-de6a8a900589",
   "metadata": {},
   "outputs": [
    {
     "data": {
      "text/html": [
       "<table>\n",
       "<caption>A tibble: 18 × 7</caption>\n",
       "<thead>\n",
       "\t<tr><th scope=col>term</th><th scope=col>estimate</th><th scope=col>std.error</th><th scope=col>statistic</th><th scope=col>p.value</th><th scope=col>conf.low</th><th scope=col>conf.high</th></tr>\n",
       "\t<tr><th scope=col>&lt;chr&gt;</th><th scope=col>&lt;dbl&gt;</th><th scope=col>&lt;dbl&gt;</th><th scope=col>&lt;dbl&gt;</th><th scope=col>&lt;dbl&gt;</th><th scope=col>&lt;dbl&gt;</th><th scope=col>&lt;dbl&gt;</th></tr>\n",
       "</thead>\n",
       "<tbody>\n",
       "\t<tr><td>(Intercept)       </td><td>0.00</td><td>115.44</td><td>-1.88</td><td>0.06</td><td>0.00</td><td>90.11</td></tr>\n",
       "\t<tr><td>sex_cdW           </td><td>1.13</td><td>  0.24</td><td> 0.52</td><td>0.60</td><td>0.70</td><td> 1.82</td></tr>\n",
       "\t<tr><td>age_at_stay_entry </td><td>1.00</td><td>  0.01</td><td> 0.19</td><td>0.85</td><td>0.98</td><td> 1.02</td></tr>\n",
       "\t<tr><td>vasopresseurs     </td><td>0.75</td><td>  0.29</td><td>-1.02</td><td>0.31</td><td>0.43</td><td> 1.31</td></tr>\n",
       "\t<tr><td>eer               </td><td>1.01</td><td>  0.32</td><td> 0.03</td><td>0.98</td><td>0.52</td><td> 1.83</td></tr>\n",
       "\t<tr><td>chads_vasc        </td><td>0.94</td><td>  0.15</td><td>-0.42</td><td>0.67</td><td>0.69</td><td> 1.25</td></tr>\n",
       "\t<tr><td>vm                </td><td>2.68</td><td>  0.26</td><td> 3.81</td><td>0.00</td><td>1.61</td><td> 4.43</td></tr>\n",
       "\t<tr><td>atcd_hta          </td><td>2.14</td><td>  0.28</td><td> 2.75</td><td>0.01</td><td>1.25</td><td> 3.69</td></tr>\n",
       "\t<tr><td>atcd_bpco         </td><td>0.74</td><td>  0.34</td><td>-0.90</td><td>0.37</td><td>0.35</td><td> 1.37</td></tr>\n",
       "\t<tr><td>atcd_diabete      </td><td>1.00</td><td>  0.30</td><td> 0.00</td><td>1.00</td><td>0.55</td><td> 1.80</td></tr>\n",
       "\t<tr><td>atcd_ins_cardiaque</td><td>1.63</td><td>  0.26</td><td> 1.90</td><td>0.06</td><td>0.98</td><td> 2.67</td></tr>\n",
       "\t<tr><td>atcd_ins_renale   </td><td>0.70</td><td>  0.31</td><td>-1.15</td><td>0.25</td><td>0.37</td><td> 1.24</td></tr>\n",
       "\t<tr><td>atcd_obesite      </td><td>0.47</td><td>  0.38</td><td>-1.97</td><td>0.05</td><td>0.21</td><td> 0.94</td></tr>\n",
       "\t<tr><td>annee             </td><td>1.11</td><td>  0.06</td><td> 1.84</td><td>0.07</td><td>1.00</td><td> 1.25</td></tr>\n",
       "\t<tr><td>type_reamed       </td><td>1.07</td><td>  0.23</td><td> 0.29</td><td>0.77</td><td>0.68</td><td> 1.72</td></tr>\n",
       "\t<tr><td>etat_choc         </td><td>1.56</td><td>  0.24</td><td> 1.85</td><td>0.06</td><td>0.97</td><td> 2.49</td></tr>\n",
       "\t<tr><td>fadenovo          </td><td>1.32</td><td>  0.21</td><td> 1.34</td><td>0.18</td><td>0.88</td><td> 1.97</td></tr>\n",
       "\t<tr><td>coagulopathie     </td><td>1.45</td><td>  0.61</td><td> 0.60</td><td>0.55</td><td>0.34</td><td> 4.14</td></tr>\n",
       "</tbody>\n",
       "</table>\n"
      ],
      "text/latex": [
       "A tibble: 18 × 7\n",
       "\\begin{tabular}{lllllll}\n",
       " term & estimate & std.error & statistic & p.value & conf.low & conf.high\\\\\n",
       " <chr> & <dbl> & <dbl> & <dbl> & <dbl> & <dbl> & <dbl>\\\\\n",
       "\\hline\n",
       "\t (Intercept)        & 0.00 & 115.44 & -1.88 & 0.06 & 0.00 & 90.11\\\\\n",
       "\t sex\\_cdW            & 1.13 &   0.24 &  0.52 & 0.60 & 0.70 &  1.82\\\\\n",
       "\t age\\_at\\_stay\\_entry  & 1.00 &   0.01 &  0.19 & 0.85 & 0.98 &  1.02\\\\\n",
       "\t vasopresseurs      & 0.75 &   0.29 & -1.02 & 0.31 & 0.43 &  1.31\\\\\n",
       "\t eer                & 1.01 &   0.32 &  0.03 & 0.98 & 0.52 &  1.83\\\\\n",
       "\t chads\\_vasc         & 0.94 &   0.15 & -0.42 & 0.67 & 0.69 &  1.25\\\\\n",
       "\t vm                 & 2.68 &   0.26 &  3.81 & 0.00 & 1.61 &  4.43\\\\\n",
       "\t atcd\\_hta           & 2.14 &   0.28 &  2.75 & 0.01 & 1.25 &  3.69\\\\\n",
       "\t atcd\\_bpco          & 0.74 &   0.34 & -0.90 & 0.37 & 0.35 &  1.37\\\\\n",
       "\t atcd\\_diabete       & 1.00 &   0.30 &  0.00 & 1.00 & 0.55 &  1.80\\\\\n",
       "\t atcd\\_ins\\_cardiaque & 1.63 &   0.26 &  1.90 & 0.06 & 0.98 &  2.67\\\\\n",
       "\t atcd\\_ins\\_renale    & 0.70 &   0.31 & -1.15 & 0.25 & 0.37 &  1.24\\\\\n",
       "\t atcd\\_obesite       & 0.47 &   0.38 & -1.97 & 0.05 & 0.21 &  0.94\\\\\n",
       "\t annee              & 1.11 &   0.06 &  1.84 & 0.07 & 1.00 &  1.25\\\\\n",
       "\t type\\_reamed        & 1.07 &   0.23 &  0.29 & 0.77 & 0.68 &  1.72\\\\\n",
       "\t etat\\_choc          & 1.56 &   0.24 &  1.85 & 0.06 & 0.97 &  2.49\\\\\n",
       "\t fadenovo           & 1.32 &   0.21 &  1.34 & 0.18 & 0.88 &  1.97\\\\\n",
       "\t coagulopathie      & 1.45 &   0.61 &  0.60 & 0.55 & 0.34 &  4.14\\\\\n",
       "\\end{tabular}\n"
      ],
      "text/markdown": [
       "\n",
       "A tibble: 18 × 7\n",
       "\n",
       "| term &lt;chr&gt; | estimate &lt;dbl&gt; | std.error &lt;dbl&gt; | statistic &lt;dbl&gt; | p.value &lt;dbl&gt; | conf.low &lt;dbl&gt; | conf.high &lt;dbl&gt; |\n",
       "|---|---|---|---|---|---|---|\n",
       "| (Intercept)        | 0.00 | 115.44 | -1.88 | 0.06 | 0.00 | 90.11 |\n",
       "| sex_cdW            | 1.13 |   0.24 |  0.52 | 0.60 | 0.70 |  1.82 |\n",
       "| age_at_stay_entry  | 1.00 |   0.01 |  0.19 | 0.85 | 0.98 |  1.02 |\n",
       "| vasopresseurs      | 0.75 |   0.29 | -1.02 | 0.31 | 0.43 |  1.31 |\n",
       "| eer                | 1.01 |   0.32 |  0.03 | 0.98 | 0.52 |  1.83 |\n",
       "| chads_vasc         | 0.94 |   0.15 | -0.42 | 0.67 | 0.69 |  1.25 |\n",
       "| vm                 | 2.68 |   0.26 |  3.81 | 0.00 | 1.61 |  4.43 |\n",
       "| atcd_hta           | 2.14 |   0.28 |  2.75 | 0.01 | 1.25 |  3.69 |\n",
       "| atcd_bpco          | 0.74 |   0.34 | -0.90 | 0.37 | 0.35 |  1.37 |\n",
       "| atcd_diabete       | 1.00 |   0.30 |  0.00 | 1.00 | 0.55 |  1.80 |\n",
       "| atcd_ins_cardiaque | 1.63 |   0.26 |  1.90 | 0.06 | 0.98 |  2.67 |\n",
       "| atcd_ins_renale    | 0.70 |   0.31 | -1.15 | 0.25 | 0.37 |  1.24 |\n",
       "| atcd_obesite       | 0.47 |   0.38 | -1.97 | 0.05 | 0.21 |  0.94 |\n",
       "| annee              | 1.11 |   0.06 |  1.84 | 0.07 | 1.00 |  1.25 |\n",
       "| type_reamed        | 1.07 |   0.23 |  0.29 | 0.77 | 0.68 |  1.72 |\n",
       "| etat_choc          | 1.56 |   0.24 |  1.85 | 0.06 | 0.97 |  2.49 |\n",
       "| fadenovo           | 1.32 |   0.21 |  1.34 | 0.18 | 0.88 |  1.97 |\n",
       "| coagulopathie      | 1.45 |   0.61 |  0.60 | 0.55 | 0.34 |  4.14 |\n",
       "\n"
      ],
      "text/plain": [
       "   term               estimate std.error statistic p.value conf.low conf.high\n",
       "1  (Intercept)        0.00     115.44    -1.88     0.06    0.00     90.11    \n",
       "2  sex_cdW            1.13       0.24     0.52     0.60    0.70      1.82    \n",
       "3  age_at_stay_entry  1.00       0.01     0.19     0.85    0.98      1.02    \n",
       "4  vasopresseurs      0.75       0.29    -1.02     0.31    0.43      1.31    \n",
       "5  eer                1.01       0.32     0.03     0.98    0.52      1.83    \n",
       "6  chads_vasc         0.94       0.15    -0.42     0.67    0.69      1.25    \n",
       "7  vm                 2.68       0.26     3.81     0.00    1.61      4.43    \n",
       "8  atcd_hta           2.14       0.28     2.75     0.01    1.25      3.69    \n",
       "9  atcd_bpco          0.74       0.34    -0.90     0.37    0.35      1.37    \n",
       "10 atcd_diabete       1.00       0.30     0.00     1.00    0.55      1.80    \n",
       "11 atcd_ins_cardiaque 1.63       0.26     1.90     0.06    0.98      2.67    \n",
       "12 atcd_ins_renale    0.70       0.31    -1.15     0.25    0.37      1.24    \n",
       "13 atcd_obesite       0.47       0.38    -1.97     0.05    0.21      0.94    \n",
       "14 annee              1.11       0.06     1.84     0.07    1.00      1.25    \n",
       "15 type_reamed        1.07       0.23     0.29     0.77    0.68      1.72    \n",
       "16 etat_choc          1.56       0.24     1.85     0.06    0.97      2.49    \n",
       "17 fadenovo           1.32       0.21     1.34     0.18    0.88      1.97    \n",
       "18 coagulopathie      1.45       0.61     0.60     0.55    0.34      4.14    "
      ]
     },
     "metadata": {},
     "output_type": "display_data"
    }
   ],
   "source": [
    "#### Modèle multivarié sans la variable d'efficacité ni celle de la volonté d'anticoagulation\n",
    "mv_ischemie_mathilde <- glm(ischemie_cerebrale ~ sex_cd + age_at_stay_entry + vasopresseurs + eer + chads_vasc + vm + atcd_hta + atcd_bpco + atcd_diabete + \n",
    "                                                    atcd_ins_cardiaque + atcd_ins_renale + atcd_obesite + annee + type_rea + etat_choc + fadenovo + coagulopathie,\n",
    "              data=collect(sejours_rea_48_heures), family=\"binomial\") %>%\n",
    "              broom::tidy(exponentiate = TRUE, conf.int = TRUE) %>%\n",
    "              mutate(across(where(is.numeric), round, digits = 2))\n",
    "\n",
    "mv_ischemie_mathilde"
   ]
  },
  {
   "cell_type": "code",
   "execution_count": 258,
   "id": "6e2d70d6-e93a-4d30-8a6c-05cb3b1dff7a",
   "metadata": {},
   "outputs": [
    {
     "data": {
      "image/png": "[encoded data removed]",
      "text/plain": [
       "plot without title"
      ]
     },
     "metadata": {
      "image/png": {
       "height": 420,
       "width": 420
      }
     },
     "output_type": "display_data"
    }
   ],
   "source": [
    "mv_ischemie_mathilde %>%\n",
    "    slice(-1) %>%\n",
    "    ggplot + aes(x = estimate, y = term) +\n",
    "    geom_vline(aes(xintercept = 1), size = .25, linetype = \"dashed\") + \n",
    "    geom_errorbarh(aes(xmin = conf.low, xmax = conf.high), size = .5, height = .2, ) +\n",
    "    geom_point(size = 3, color = \"black\")"
   ]
  },
  {
   "cell_type": "markdown",
   "id": "e8195e5d-9ba2-4d52-b0d6-4b6261e2077e",
   "metadata": {},
   "source": [
    "### Complications hémorragiques"
   ]
  },
  {
   "cell_type": "code",
   "execution_count": 259,
   "id": "2502f8d3-7024-41b8-8d10-ad4c1eb6482c",
   "metadata": {},
   "outputs": [
    {
     "data": {
      "text/html": [
       "<table>\n",
       "<caption>A tibble: 2 × 4</caption>\n",
       "<thead>\n",
       "\t<tr><th scope=col>volonte_anticoag</th><th scope=col>nb_sejours</th><th scope=col>nb_hemorragie</th><th scope=col>pct_hemorragie</th></tr>\n",
       "\t<tr><th scope=col>&lt;dbl&gt;</th><th scope=col>&lt;int&gt;</th><th scope=col>&lt;dbl&gt;</th><th scope=col>&lt;dbl&gt;</th></tr>\n",
       "</thead>\n",
       "<tbody>\n",
       "\t<tr><td>0</td><td>3678</td><td>292</td><td>7.9</td></tr>\n",
       "\t<tr><td>1</td><td>1284</td><td>110</td><td>8.6</td></tr>\n",
       "</tbody>\n",
       "</table>\n"
      ],
      "text/latex": [
       "A tibble: 2 × 4\n",
       "\\begin{tabular}{llll}\n",
       " volonte\\_anticoag & nb\\_sejours & nb\\_hemorragie & pct\\_hemorragie\\\\\n",
       " <dbl> & <int> & <dbl> & <dbl>\\\\\n",
       "\\hline\n",
       "\t 0 & 3678 & 292 & 7.9\\\\\n",
       "\t 1 & 1284 & 110 & 8.6\\\\\n",
       "\\end{tabular}\n"
      ],
      "text/markdown": [
       "\n",
       "A tibble: 2 × 4\n",
       "\n",
       "| volonte_anticoag &lt;dbl&gt; | nb_sejours &lt;int&gt; | nb_hemorragie &lt;dbl&gt; | pct_hemorragie &lt;dbl&gt; |\n",
       "|---|---|---|---|\n",
       "| 0 | 3678 | 292 | 7.9 |\n",
       "| 1 | 1284 | 110 | 8.6 |\n",
       "\n"
      ],
      "text/plain": [
       "  volonte_anticoag nb_sejours nb_hemorragie pct_hemorragie\n",
       "1 0                3678       292           7.9           \n",
       "2 1                1284       110           8.6           "
      ]
     },
     "metadata": {},
     "output_type": "display_data"
    }
   ],
   "source": [
    "sejours_rea_48_heures %>%\n",
    "    group_by(volonte_anticoag) %>%\n",
    "    summarise(\n",
    "        nb_sejours = n(),\n",
    "        nb_hemorragie = sum(hemorragie)\n",
    "    ) %>%\n",
    "    mutate(pct_hemorragie = round(nb_hemorragie / nb_sejours * 100, 1)) %>%\n",
    "    as_tibble()"
   ]
  },
  {
   "cell_type": "code",
   "execution_count": 260,
   "id": "a8c126e4-1798-4bce-85b9-22c3225ad42b",
   "metadata": {},
   "outputs": [
    {
     "data": {
      "text/html": [
       "<table>\n",
       "<caption>A tibble: 2 × 4</caption>\n",
       "<thead>\n",
       "\t<tr><th scope=col>volonte_anticoag</th><th scope=col>nb_sejours</th><th scope=col>nb_hemorragie_iatrogene</th><th scope=col>pct_hemorragie_iatrogene</th></tr>\n",
       "\t<tr><th scope=col>&lt;dbl&gt;</th><th scope=col>&lt;int&gt;</th><th scope=col>&lt;dbl&gt;</th><th scope=col>&lt;dbl&gt;</th></tr>\n",
       "</thead>\n",
       "<tbody>\n",
       "\t<tr><td>0</td><td>3678</td><td>96</td><td>2.6</td></tr>\n",
       "\t<tr><td>1</td><td>1284</td><td>58</td><td>4.5</td></tr>\n",
       "</tbody>\n",
       "</table>\n"
      ],
      "text/latex": [
       "A tibble: 2 × 4\n",
       "\\begin{tabular}{llll}\n",
       " volonte\\_anticoag & nb\\_sejours & nb\\_hemorragie\\_iatrogene & pct\\_hemorragie\\_iatrogene\\\\\n",
       " <dbl> & <int> & <dbl> & <dbl>\\\\\n",
       "\\hline\n",
       "\t 0 & 3678 & 96 & 2.6\\\\\n",
       "\t 1 & 1284 & 58 & 4.5\\\\\n",
       "\\end{tabular}\n"
      ],
      "text/markdown": [
       "\n",
       "A tibble: 2 × 4\n",
       "\n",
       "| volonte_anticoag &lt;dbl&gt; | nb_sejours &lt;int&gt; | nb_hemorragie_iatrogene &lt;dbl&gt; | pct_hemorragie_iatrogene &lt;dbl&gt; |\n",
       "|---|---|---|---|\n",
       "| 0 | 3678 | 96 | 2.6 |\n",
       "| 1 | 1284 | 58 | 4.5 |\n",
       "\n"
      ],
      "text/plain": [
       "  volonte_anticoag nb_sejours nb_hemorragie_iatrogene pct_hemorragie_iatrogene\n",
       "1 0                3678       96                      2.6                     \n",
       "2 1                1284       58                      4.5                     "
      ]
     },
     "metadata": {},
     "output_type": "display_data"
    }
   ],
   "source": [
    "sejours_rea_48_heures %>%\n",
    "    group_by(volonte_anticoag) %>%\n",
    "    summarise(\n",
    "        nb_sejours = n(),\n",
    "        nb_hemorragie_iatrogene = sum(hemorragie_iatrogene)\n",
    "    ) %>%\n",
    "    mutate(pct_hemorragie_iatrogene = round(nb_hemorragie_iatrogene / nb_sejours * 100, 1)) %>%\n",
    "    as_tibble()"
   ]
  },
  {
   "cell_type": "code",
   "execution_count": 261,
   "id": "8fa6594d-2229-479a-b924-82f68b4c3aeb",
   "metadata": {},
   "outputs": [
    {
     "name": "stderr",
     "output_type": "stream",
     "text": [
      "\u001b[1m\u001b[22m`summarise()` has grouped output by 'volonte_anticoag'. You can override using\n",
      "the `.groups` argument.\n"
     ]
    },
    {
     "data": {
      "text/html": [
       "<table>\n",
       "<caption>A tibble: 4 × 5</caption>\n",
       "<thead>\n",
       "\t<tr><th scope=col>volonte_anticoag</th><th scope=col>type_rea</th><th scope=col>nb_sejours</th><th scope=col>nb_hemorragie_iatrogene</th><th scope=col>pct_hemorragie_iatrogene</th></tr>\n",
       "\t<tr><th scope=col>&lt;dbl&gt;</th><th scope=col>&lt;chr&gt;</th><th scope=col>&lt;int&gt;</th><th scope=col>&lt;dbl&gt;</th><th scope=col>&lt;dbl&gt;</th></tr>\n",
       "</thead>\n",
       "<tbody>\n",
       "\t<tr><td>0</td><td>chir</td><td> 980</td><td>50</td><td> 5.1</td></tr>\n",
       "\t<tr><td>0</td><td>med </td><td>2698</td><td>46</td><td> 1.7</td></tr>\n",
       "\t<tr><td>1</td><td>chir</td><td> 280</td><td>32</td><td>11.4</td></tr>\n",
       "\t<tr><td>1</td><td>med </td><td>1004</td><td>26</td><td> 2.6</td></tr>\n",
       "</tbody>\n",
       "</table>\n"
      ],
      "text/latex": [
       "A tibble: 4 × 5\n",
       "\\begin{tabular}{lllll}\n",
       " volonte\\_anticoag & type\\_rea & nb\\_sejours & nb\\_hemorragie\\_iatrogene & pct\\_hemorragie\\_iatrogene\\\\\n",
       " <dbl> & <chr> & <int> & <dbl> & <dbl>\\\\\n",
       "\\hline\n",
       "\t 0 & chir &  980 & 50 &  5.1\\\\\n",
       "\t 0 & med  & 2698 & 46 &  1.7\\\\\n",
       "\t 1 & chir &  280 & 32 & 11.4\\\\\n",
       "\t 1 & med  & 1004 & 26 &  2.6\\\\\n",
       "\\end{tabular}\n"
      ],
      "text/markdown": [
       "\n",
       "A tibble: 4 × 5\n",
       "\n",
       "| volonte_anticoag &lt;dbl&gt; | type_rea &lt;chr&gt; | nb_sejours &lt;int&gt; | nb_hemorragie_iatrogene &lt;dbl&gt; | pct_hemorragie_iatrogene &lt;dbl&gt; |\n",
       "|---|---|---|---|---|\n",
       "| 0 | chir |  980 | 50 |  5.1 |\n",
       "| 0 | med  | 2698 | 46 |  1.7 |\n",
       "| 1 | chir |  280 | 32 | 11.4 |\n",
       "| 1 | med  | 1004 | 26 |  2.6 |\n",
       "\n"
      ],
      "text/plain": [
       "  volonte_anticoag type_rea nb_sejours nb_hemorragie_iatrogene\n",
       "1 0                chir      980       50                     \n",
       "2 0                med      2698       46                     \n",
       "3 1                chir      280       32                     \n",
       "4 1                med      1004       26                     \n",
       "  pct_hemorragie_iatrogene\n",
       "1  5.1                    \n",
       "2  1.7                    \n",
       "3 11.4                    \n",
       "4  2.6                    "
      ]
     },
     "metadata": {},
     "output_type": "display_data"
    }
   ],
   "source": [
    "sejours_rea_48_heures %>%\n",
    "    group_by(volonte_anticoag, type_rea) %>%\n",
    "    summarise(\n",
    "        nb_sejours = n(),\n",
    "        nb_hemorragie_iatrogene = sum(hemorragie_iatrogene)\n",
    "    ) %>%\n",
    "    mutate(pct_hemorragie_iatrogene = round(nb_hemorragie_iatrogene / nb_sejours * 100, 1)) %>%\n",
    "    as_tibble()"
   ]
  },
  {
   "cell_type": "code",
   "execution_count": 262,
   "id": "01dc27a4-a85e-4b46-b774-1e1d92658755",
   "metadata": {},
   "outputs": [
    {
     "data": {
      "text/html": [
       "<table>\n",
       "<caption>A tibble: 17 × 7</caption>\n",
       "<thead>\n",
       "\t<tr><th scope=col>term</th><th scope=col>estimate</th><th scope=col>std.error</th><th scope=col>statistic</th><th scope=col>p.value</th><th scope=col>conf.low</th><th scope=col>conf.high</th></tr>\n",
       "\t<tr><th scope=col>&lt;chr&gt;</th><th scope=col>&lt;dbl&gt;</th><th scope=col>&lt;dbl&gt;</th><th scope=col>&lt;dbl&gt;</th><th scope=col>&lt;dbl&gt;</th><th scope=col>&lt;dbl&gt;</th><th scope=col>&lt;dbl&gt;</th></tr>\n",
       "</thead>\n",
       "<tbody>\n",
       "\t<tr><td>(Intercept)       </td><td>0.00</td><td>63.13</td><td>-2.25</td><td>0.02</td><td>0.00</td><td>0.00</td></tr>\n",
       "\t<tr><td>sex_cdW           </td><td>0.94</td><td> 0.13</td><td>-0.45</td><td>0.65</td><td>0.73</td><td>1.22</td></tr>\n",
       "\t<tr><td>age_at_stay_entry </td><td>0.99</td><td> 0.01</td><td>-2.14</td><td>0.03</td><td>0.98</td><td>1.00</td></tr>\n",
       "\t<tr><td>vasopresseurs     </td><td>0.68</td><td> 0.15</td><td>-2.58</td><td>0.01</td><td>0.50</td><td>0.91</td></tr>\n",
       "\t<tr><td>eer               </td><td>0.86</td><td> 0.17</td><td>-0.84</td><td>0.40</td><td>0.61</td><td>1.21</td></tr>\n",
       "\t<tr><td>chads_vasc        </td><td>1.08</td><td> 0.08</td><td> 0.94</td><td>0.35</td><td>0.92</td><td>1.25</td></tr>\n",
       "\t<tr><td>coagulopathie     </td><td>1.71</td><td> 0.35</td><td> 1.54</td><td>0.12</td><td>0.82</td><td>3.28</td></tr>\n",
       "\t<tr><td>vm                </td><td>1.90</td><td> 0.14</td><td> 4.62</td><td>0.00</td><td>1.44</td><td>2.49</td></tr>\n",
       "\t<tr><td>atcd_hta          </td><td>1.23</td><td> 0.14</td><td> 1.43</td><td>0.15</td><td>0.93</td><td>1.63</td></tr>\n",
       "\t<tr><td>atcd_bpco         </td><td>0.80</td><td> 0.18</td><td>-1.25</td><td>0.21</td><td>0.56</td><td>1.12</td></tr>\n",
       "\t<tr><td>atcd_diabete      </td><td>0.98</td><td> 0.16</td><td>-0.12</td><td>0.90</td><td>0.71</td><td>1.34</td></tr>\n",
       "\t<tr><td>atcd_ins_cardiaque</td><td>0.99</td><td> 0.14</td><td>-0.05</td><td>0.96</td><td>0.75</td><td>1.31</td></tr>\n",
       "\t<tr><td>atcd_ins_renale   </td><td>1.85</td><td> 0.13</td><td> 4.62</td><td>0.00</td><td>1.42</td><td>2.40</td></tr>\n",
       "\t<tr><td>atcd_obesite      </td><td>0.97</td><td> 0.16</td><td>-0.16</td><td>0.87</td><td>0.70</td><td>1.33</td></tr>\n",
       "\t<tr><td>annee             </td><td>1.07</td><td> 0.03</td><td> 2.22</td><td>0.03</td><td>1.01</td><td>1.14</td></tr>\n",
       "\t<tr><td>type_reamed       </td><td>0.53</td><td> 0.12</td><td>-5.43</td><td>0.00</td><td>0.42</td><td>0.67</td></tr>\n",
       "\t<tr><td>etat_choc         </td><td>2.66</td><td> 0.12</td><td> 7.89</td><td>0.00</td><td>2.09</td><td>3.40</td></tr>\n",
       "</tbody>\n",
       "</table>\n"
      ],
      "text/latex": [
       "A tibble: 17 × 7\n",
       "\\begin{tabular}{lllllll}\n",
       " term & estimate & std.error & statistic & p.value & conf.low & conf.high\\\\\n",
       " <chr> & <dbl> & <dbl> & <dbl> & <dbl> & <dbl> & <dbl>\\\\\n",
       "\\hline\n",
       "\t (Intercept)        & 0.00 & 63.13 & -2.25 & 0.02 & 0.00 & 0.00\\\\\n",
       "\t sex\\_cdW            & 0.94 &  0.13 & -0.45 & 0.65 & 0.73 & 1.22\\\\\n",
       "\t age\\_at\\_stay\\_entry  & 0.99 &  0.01 & -2.14 & 0.03 & 0.98 & 1.00\\\\\n",
       "\t vasopresseurs      & 0.68 &  0.15 & -2.58 & 0.01 & 0.50 & 0.91\\\\\n",
       "\t eer                & 0.86 &  0.17 & -0.84 & 0.40 & 0.61 & 1.21\\\\\n",
       "\t chads\\_vasc         & 1.08 &  0.08 &  0.94 & 0.35 & 0.92 & 1.25\\\\\n",
       "\t coagulopathie      & 1.71 &  0.35 &  1.54 & 0.12 & 0.82 & 3.28\\\\\n",
       "\t vm                 & 1.90 &  0.14 &  4.62 & 0.00 & 1.44 & 2.49\\\\\n",
       "\t atcd\\_hta           & 1.23 &  0.14 &  1.43 & 0.15 & 0.93 & 1.63\\\\\n",
       "\t atcd\\_bpco          & 0.80 &  0.18 & -1.25 & 0.21 & 0.56 & 1.12\\\\\n",
       "\t atcd\\_diabete       & 0.98 &  0.16 & -0.12 & 0.90 & 0.71 & 1.34\\\\\n",
       "\t atcd\\_ins\\_cardiaque & 0.99 &  0.14 & -0.05 & 0.96 & 0.75 & 1.31\\\\\n",
       "\t atcd\\_ins\\_renale    & 1.85 &  0.13 &  4.62 & 0.00 & 1.42 & 2.40\\\\\n",
       "\t atcd\\_obesite       & 0.97 &  0.16 & -0.16 & 0.87 & 0.70 & 1.33\\\\\n",
       "\t annee              & 1.07 &  0.03 &  2.22 & 0.03 & 1.01 & 1.14\\\\\n",
       "\t type\\_reamed        & 0.53 &  0.12 & -5.43 & 0.00 & 0.42 & 0.67\\\\\n",
       "\t etat\\_choc          & 2.66 &  0.12 &  7.89 & 0.00 & 2.09 & 3.40\\\\\n",
       "\\end{tabular}\n"
      ],
      "text/markdown": [
       "\n",
       "A tibble: 17 × 7\n",
       "\n",
       "| term &lt;chr&gt; | estimate &lt;dbl&gt; | std.error &lt;dbl&gt; | statistic &lt;dbl&gt; | p.value &lt;dbl&gt; | conf.low &lt;dbl&gt; | conf.high &lt;dbl&gt; |\n",
       "|---|---|---|---|---|---|---|\n",
       "| (Intercept)        | 0.00 | 63.13 | -2.25 | 0.02 | 0.00 | 0.00 |\n",
       "| sex_cdW            | 0.94 |  0.13 | -0.45 | 0.65 | 0.73 | 1.22 |\n",
       "| age_at_stay_entry  | 0.99 |  0.01 | -2.14 | 0.03 | 0.98 | 1.00 |\n",
       "| vasopresseurs      | 0.68 |  0.15 | -2.58 | 0.01 | 0.50 | 0.91 |\n",
       "| eer                | 0.86 |  0.17 | -0.84 | 0.40 | 0.61 | 1.21 |\n",
       "| chads_vasc         | 1.08 |  0.08 |  0.94 | 0.35 | 0.92 | 1.25 |\n",
       "| coagulopathie      | 1.71 |  0.35 |  1.54 | 0.12 | 0.82 | 3.28 |\n",
       "| vm                 | 1.90 |  0.14 |  4.62 | 0.00 | 1.44 | 2.49 |\n",
       "| atcd_hta           | 1.23 |  0.14 |  1.43 | 0.15 | 0.93 | 1.63 |\n",
       "| atcd_bpco          | 0.80 |  0.18 | -1.25 | 0.21 | 0.56 | 1.12 |\n",
       "| atcd_diabete       | 0.98 |  0.16 | -0.12 | 0.90 | 0.71 | 1.34 |\n",
       "| atcd_ins_cardiaque | 0.99 |  0.14 | -0.05 | 0.96 | 0.75 | 1.31 |\n",
       "| atcd_ins_renale    | 1.85 |  0.13 |  4.62 | 0.00 | 1.42 | 2.40 |\n",
       "| atcd_obesite       | 0.97 |  0.16 | -0.16 | 0.87 | 0.70 | 1.33 |\n",
       "| annee              | 1.07 |  0.03 |  2.22 | 0.03 | 1.01 | 1.14 |\n",
       "| type_reamed        | 0.53 |  0.12 | -5.43 | 0.00 | 0.42 | 0.67 |\n",
       "| etat_choc          | 2.66 |  0.12 |  7.89 | 0.00 | 2.09 | 3.40 |\n",
       "\n"
      ],
      "text/plain": [
       "   term               estimate std.error statistic p.value conf.low conf.high\n",
       "1  (Intercept)        0.00     63.13     -2.25     0.02    0.00     0.00     \n",
       "2  sex_cdW            0.94      0.13     -0.45     0.65    0.73     1.22     \n",
       "3  age_at_stay_entry  0.99      0.01     -2.14     0.03    0.98     1.00     \n",
       "4  vasopresseurs      0.68      0.15     -2.58     0.01    0.50     0.91     \n",
       "5  eer                0.86      0.17     -0.84     0.40    0.61     1.21     \n",
       "6  chads_vasc         1.08      0.08      0.94     0.35    0.92     1.25     \n",
       "7  coagulopathie      1.71      0.35      1.54     0.12    0.82     3.28     \n",
       "8  vm                 1.90      0.14      4.62     0.00    1.44     2.49     \n",
       "9  atcd_hta           1.23      0.14      1.43     0.15    0.93     1.63     \n",
       "10 atcd_bpco          0.80      0.18     -1.25     0.21    0.56     1.12     \n",
       "11 atcd_diabete       0.98      0.16     -0.12     0.90    0.71     1.34     \n",
       "12 atcd_ins_cardiaque 0.99      0.14     -0.05     0.96    0.75     1.31     \n",
       "13 atcd_ins_renale    1.85      0.13      4.62     0.00    1.42     2.40     \n",
       "14 atcd_obesite       0.97      0.16     -0.16     0.87    0.70     1.33     \n",
       "15 annee              1.07      0.03      2.22     0.03    1.01     1.14     \n",
       "16 type_reamed        0.53      0.12     -5.43     0.00    0.42     0.67     \n",
       "17 etat_choc          2.66      0.12      7.89     0.00    2.09     3.40     "
      ]
     },
     "metadata": {},
     "output_type": "display_data"
    }
   ],
   "source": [
    "mv_hemorragie <- glm(hemorragie ~ sex_cd + age_at_stay_entry + vasopresseurs + eer + chads_vasc + coagulopathie + vm + atcd_hta + atcd_bpco + atcd_diabete + \n",
    "                                                    atcd_ins_cardiaque + atcd_ins_renale + atcd_obesite + annee + type_rea + etat_choc,\n",
    "              data=collect(sejours_rea_48_heures),  family=\"quasibinomial\", weights = sejours_rea_48_heures$weights) %>%\n",
    "    broom::tidy(exponentiate = TRUE, conf.int = TRUE) %>%\n",
    "    mutate(across(where(is.numeric), round, digits = 2))\n",
    "\n",
    "mv_hemorragie"
   ]
  },
  {
   "cell_type": "code",
   "execution_count": 263,
   "id": "0a493449-c716-473e-9e8c-721b2b63b4b9",
   "metadata": {},
   "outputs": [
    {
     "data": {
      "text/html": [
       "<table>\n",
       "<caption>A tibble: 19 × 7</caption>\n",
       "<thead>\n",
       "\t<tr><th scope=col>term</th><th scope=col>estimate</th><th scope=col>std.error</th><th scope=col>statistic</th><th scope=col>p.value</th><th scope=col>conf.low</th><th scope=col>conf.high</th></tr>\n",
       "\t<tr><th scope=col>&lt;chr&gt;</th><th scope=col>&lt;dbl&gt;</th><th scope=col>&lt;dbl&gt;</th><th scope=col>&lt;dbl&gt;</th><th scope=col>&lt;dbl&gt;</th><th scope=col>&lt;dbl&gt;</th><th scope=col>&lt;dbl&gt;</th></tr>\n",
       "</thead>\n",
       "<tbody>\n",
       "\t<tr><td>(Intercept)       </td><td>0.00</td><td>62.97</td><td>-2.37</td><td>0.02</td><td>0.00</td><td>0.00</td></tr>\n",
       "\t<tr><td>volonte_anticoag  </td><td>1.08</td><td> 0.11</td><td> 0.69</td><td>0.49</td><td>0.87</td><td>1.34</td></tr>\n",
       "\t<tr><td>surdosage         </td><td>0.65</td><td> 0.18</td><td>-2.42</td><td>0.02</td><td>0.45</td><td>0.91</td></tr>\n",
       "\t<tr><td>sex_cdW           </td><td>0.96</td><td> 0.13</td><td>-0.34</td><td>0.74</td><td>0.74</td><td>1.23</td></tr>\n",
       "\t<tr><td>age_at_stay_entry </td><td>0.99</td><td> 0.01</td><td>-2.16</td><td>0.03</td><td>0.98</td><td>1.00</td></tr>\n",
       "\t<tr><td>coagulopathie     </td><td>1.72</td><td> 0.35</td><td> 1.56</td><td>0.12</td><td>0.83</td><td>3.30</td></tr>\n",
       "\t<tr><td>vasopresseurs     </td><td>0.68</td><td> 0.15</td><td>-2.58</td><td>0.01</td><td>0.50</td><td>0.91</td></tr>\n",
       "\t<tr><td>eer               </td><td>0.87</td><td> 0.17</td><td>-0.80</td><td>0.42</td><td>0.61</td><td>1.21</td></tr>\n",
       "\t<tr><td>chads_vasc        </td><td>1.08</td><td> 0.08</td><td> 1.02</td><td>0.31</td><td>0.93</td><td>1.26</td></tr>\n",
       "\t<tr><td>vm                </td><td>1.95</td><td> 0.14</td><td> 4.82</td><td>0.00</td><td>1.48</td><td>2.55</td></tr>\n",
       "\t<tr><td>atcd_hta          </td><td>1.22</td><td> 0.14</td><td> 1.38</td><td>0.17</td><td>0.92</td><td>1.62</td></tr>\n",
       "\t<tr><td>atcd_bpco         </td><td>0.80</td><td> 0.18</td><td>-1.29</td><td>0.20</td><td>0.56</td><td>1.11</td></tr>\n",
       "\t<tr><td>atcd_diabete      </td><td>0.99</td><td> 0.16</td><td>-0.04</td><td>0.97</td><td>0.72</td><td>1.36</td></tr>\n",
       "\t<tr><td>atcd_ins_cardiaque</td><td>0.98</td><td> 0.14</td><td>-0.11</td><td>0.91</td><td>0.74</td><td>1.30</td></tr>\n",
       "\t<tr><td>atcd_ins_renale   </td><td>1.84</td><td> 0.13</td><td> 4.60</td><td>0.00</td><td>1.42</td><td>2.38</td></tr>\n",
       "\t<tr><td>atcd_obesite      </td><td>0.98</td><td> 0.16</td><td>-0.13</td><td>0.90</td><td>0.70</td><td>1.34</td></tr>\n",
       "\t<tr><td>annee             </td><td>1.08</td><td> 0.03</td><td> 2.34</td><td>0.02</td><td>1.01</td><td>1.14</td></tr>\n",
       "\t<tr><td>type_reamed       </td><td>0.54</td><td> 0.12</td><td>-5.29</td><td>0.00</td><td>0.43</td><td>0.68</td></tr>\n",
       "\t<tr><td>etat_choc         </td><td>2.67</td><td> 0.12</td><td> 7.96</td><td>0.00</td><td>2.10</td><td>3.41</td></tr>\n",
       "</tbody>\n",
       "</table>\n"
      ],
      "text/latex": [
       "A tibble: 19 × 7\n",
       "\\begin{tabular}{lllllll}\n",
       " term & estimate & std.error & statistic & p.value & conf.low & conf.high\\\\\n",
       " <chr> & <dbl> & <dbl> & <dbl> & <dbl> & <dbl> & <dbl>\\\\\n",
       "\\hline\n",
       "\t (Intercept)        & 0.00 & 62.97 & -2.37 & 0.02 & 0.00 & 0.00\\\\\n",
       "\t volonte\\_anticoag   & 1.08 &  0.11 &  0.69 & 0.49 & 0.87 & 1.34\\\\\n",
       "\t surdosage          & 0.65 &  0.18 & -2.42 & 0.02 & 0.45 & 0.91\\\\\n",
       "\t sex\\_cdW            & 0.96 &  0.13 & -0.34 & 0.74 & 0.74 & 1.23\\\\\n",
       "\t age\\_at\\_stay\\_entry  & 0.99 &  0.01 & -2.16 & 0.03 & 0.98 & 1.00\\\\\n",
       "\t coagulopathie      & 1.72 &  0.35 &  1.56 & 0.12 & 0.83 & 3.30\\\\\n",
       "\t vasopresseurs      & 0.68 &  0.15 & -2.58 & 0.01 & 0.50 & 0.91\\\\\n",
       "\t eer                & 0.87 &  0.17 & -0.80 & 0.42 & 0.61 & 1.21\\\\\n",
       "\t chads\\_vasc         & 1.08 &  0.08 &  1.02 & 0.31 & 0.93 & 1.26\\\\\n",
       "\t vm                 & 1.95 &  0.14 &  4.82 & 0.00 & 1.48 & 2.55\\\\\n",
       "\t atcd\\_hta           & 1.22 &  0.14 &  1.38 & 0.17 & 0.92 & 1.62\\\\\n",
       "\t atcd\\_bpco          & 0.80 &  0.18 & -1.29 & 0.20 & 0.56 & 1.11\\\\\n",
       "\t atcd\\_diabete       & 0.99 &  0.16 & -0.04 & 0.97 & 0.72 & 1.36\\\\\n",
       "\t atcd\\_ins\\_cardiaque & 0.98 &  0.14 & -0.11 & 0.91 & 0.74 & 1.30\\\\\n",
       "\t atcd\\_ins\\_renale    & 1.84 &  0.13 &  4.60 & 0.00 & 1.42 & 2.38\\\\\n",
       "\t atcd\\_obesite       & 0.98 &  0.16 & -0.13 & 0.90 & 0.70 & 1.34\\\\\n",
       "\t annee              & 1.08 &  0.03 &  2.34 & 0.02 & 1.01 & 1.14\\\\\n",
       "\t type\\_reamed        & 0.54 &  0.12 & -5.29 & 0.00 & 0.43 & 0.68\\\\\n",
       "\t etat\\_choc          & 2.67 &  0.12 &  7.96 & 0.00 & 2.10 & 3.41\\\\\n",
       "\\end{tabular}\n"
      ],
      "text/markdown": [
       "\n",
       "A tibble: 19 × 7\n",
       "\n",
       "| term &lt;chr&gt; | estimate &lt;dbl&gt; | std.error &lt;dbl&gt; | statistic &lt;dbl&gt; | p.value &lt;dbl&gt; | conf.low &lt;dbl&gt; | conf.high &lt;dbl&gt; |\n",
       "|---|---|---|---|---|---|---|\n",
       "| (Intercept)        | 0.00 | 62.97 | -2.37 | 0.02 | 0.00 | 0.00 |\n",
       "| volonte_anticoag   | 1.08 |  0.11 |  0.69 | 0.49 | 0.87 | 1.34 |\n",
       "| surdosage          | 0.65 |  0.18 | -2.42 | 0.02 | 0.45 | 0.91 |\n",
       "| sex_cdW            | 0.96 |  0.13 | -0.34 | 0.74 | 0.74 | 1.23 |\n",
       "| age_at_stay_entry  | 0.99 |  0.01 | -2.16 | 0.03 | 0.98 | 1.00 |\n",
       "| coagulopathie      | 1.72 |  0.35 |  1.56 | 0.12 | 0.83 | 3.30 |\n",
       "| vasopresseurs      | 0.68 |  0.15 | -2.58 | 0.01 | 0.50 | 0.91 |\n",
       "| eer                | 0.87 |  0.17 | -0.80 | 0.42 | 0.61 | 1.21 |\n",
       "| chads_vasc         | 1.08 |  0.08 |  1.02 | 0.31 | 0.93 | 1.26 |\n",
       "| vm                 | 1.95 |  0.14 |  4.82 | 0.00 | 1.48 | 2.55 |\n",
       "| atcd_hta           | 1.22 |  0.14 |  1.38 | 0.17 | 0.92 | 1.62 |\n",
       "| atcd_bpco          | 0.80 |  0.18 | -1.29 | 0.20 | 0.56 | 1.11 |\n",
       "| atcd_diabete       | 0.99 |  0.16 | -0.04 | 0.97 | 0.72 | 1.36 |\n",
       "| atcd_ins_cardiaque | 0.98 |  0.14 | -0.11 | 0.91 | 0.74 | 1.30 |\n",
       "| atcd_ins_renale    | 1.84 |  0.13 |  4.60 | 0.00 | 1.42 | 2.38 |\n",
       "| atcd_obesite       | 0.98 |  0.16 | -0.13 | 0.90 | 0.70 | 1.34 |\n",
       "| annee              | 1.08 |  0.03 |  2.34 | 0.02 | 1.01 | 1.14 |\n",
       "| type_reamed        | 0.54 |  0.12 | -5.29 | 0.00 | 0.43 | 0.68 |\n",
       "| etat_choc          | 2.67 |  0.12 |  7.96 | 0.00 | 2.10 | 3.41 |\n",
       "\n"
      ],
      "text/plain": [
       "   term               estimate std.error statistic p.value conf.low conf.high\n",
       "1  (Intercept)        0.00     62.97     -2.37     0.02    0.00     0.00     \n",
       "2  volonte_anticoag   1.08      0.11      0.69     0.49    0.87     1.34     \n",
       "3  surdosage          0.65      0.18     -2.42     0.02    0.45     0.91     \n",
       "4  sex_cdW            0.96      0.13     -0.34     0.74    0.74     1.23     \n",
       "5  age_at_stay_entry  0.99      0.01     -2.16     0.03    0.98     1.00     \n",
       "6  coagulopathie      1.72      0.35      1.56     0.12    0.83     3.30     \n",
       "7  vasopresseurs      0.68      0.15     -2.58     0.01    0.50     0.91     \n",
       "8  eer                0.87      0.17     -0.80     0.42    0.61     1.21     \n",
       "9  chads_vasc         1.08      0.08      1.02     0.31    0.93     1.26     \n",
       "10 vm                 1.95      0.14      4.82     0.00    1.48     2.55     \n",
       "11 atcd_hta           1.22      0.14      1.38     0.17    0.92     1.62     \n",
       "12 atcd_bpco          0.80      0.18     -1.29     0.20    0.56     1.11     \n",
       "13 atcd_diabete       0.99      0.16     -0.04     0.97    0.72     1.36     \n",
       "14 atcd_ins_cardiaque 0.98      0.14     -0.11     0.91    0.74     1.30     \n",
       "15 atcd_ins_renale    1.84      0.13      4.60     0.00    1.42     2.38     \n",
       "16 atcd_obesite       0.98      0.16     -0.13     0.90    0.70     1.34     \n",
       "17 annee              1.08      0.03      2.34     0.02    1.01     1.14     \n",
       "18 type_reamed        0.54      0.12     -5.29     0.00    0.43     0.68     \n",
       "19 etat_choc          2.67      0.12      7.96     0.00    2.10     3.41     "
      ]
     },
     "metadata": {},
     "output_type": "display_data"
    }
   ],
   "source": [
    "mv_hemorragie_volonte <- glm(hemorragie ~ volonte_anticoag + surdosage + sex_cd + age_at_stay_entry + coagulopathie + vasopresseurs + eer + chads_vasc + vm + atcd_hta + atcd_bpco + atcd_diabete + \n",
    "                                                    atcd_ins_cardiaque + atcd_ins_renale + atcd_obesite + annee + type_rea + etat_choc,\n",
    "              data=collect(sejours_rea_48_heures), family=\"quasibinomial\", weights = sejours_rea_48_heures$weights) %>%\n",
    "    broom::tidy(exponentiate = TRUE, conf.int = TRUE) %>%\n",
    "    mutate(across(where(is.numeric), round, digits = 2))\n",
    "\n",
    "mv_hemorragie_volonte"
   ]
  },
  {
   "cell_type": "code",
   "execution_count": 264,
   "id": "775f6886-bf6c-415a-904d-cf973e344e2e",
   "metadata": {},
   "outputs": [
    {
     "data": {
      "image/png": "[encoded data removed]",
      "text/plain": [
       "plot without title"
      ]
     },
     "metadata": {
      "image/png": {
       "height": 420,
       "width": 420
      }
     },
     "output_type": "display_data"
    }
   ],
   "source": [
    "mv_hemorragie_volonte %>%\n",
    "    slice(-1) %>%\n",
    "    ggplot + aes(x = estimate, y = term) +\n",
    "    geom_vline(aes(xintercept = 1), size = .25, linetype = \"dashed\") + \n",
    "    geom_errorbarh(aes(xmin = conf.low, xmax = conf.high), linewidth = .5, height = .2, ) +\n",
    "    geom_point(size = 3, color = \"black\")"
   ]
  },
  {
   "cell_type": "code",
   "execution_count": 265,
   "id": "f680189c-c2dd-4fe5-a651-24348a7247ba",
   "metadata": {},
   "outputs": [
    {
     "data": {
      "text/html": [
       "<table>\n",
       "<caption>A tibble: 19 × 7</caption>\n",
       "<thead>\n",
       "\t<tr><th scope=col>term</th><th scope=col>estimate</th><th scope=col>std.error</th><th scope=col>statistic</th><th scope=col>p.value</th><th scope=col>conf.low</th><th scope=col>conf.high</th></tr>\n",
       "\t<tr><th scope=col>&lt;chr&gt;</th><th scope=col>&lt;dbl&gt;</th><th scope=col>&lt;dbl&gt;</th><th scope=col>&lt;dbl&gt;</th><th scope=col>&lt;dbl&gt;</th><th scope=col>&lt;dbl&gt;</th><th scope=col>&lt;dbl&gt;</th></tr>\n",
       "</thead>\n",
       "<tbody>\n",
       "\t<tr><td>(Intercept)       </td><td>0.00</td><td>103.85</td><td>-2.81</td><td>0.00</td><td>0.00</td><td>0.00</td></tr>\n",
       "\t<tr><td>volonte_anticoag  </td><td>2.14</td><td>  0.17</td><td> 4.56</td><td>0.00</td><td>1.55</td><td>2.98</td></tr>\n",
       "\t<tr><td>surdosage         </td><td>0.66</td><td>  0.24</td><td>-1.75</td><td>0.08</td><td>0.40</td><td>1.03</td></tr>\n",
       "\t<tr><td>sex_cdW           </td><td>1.20</td><td>  0.18</td><td> 1.00</td><td>0.32</td><td>0.84</td><td>1.73</td></tr>\n",
       "\t<tr><td>age_at_stay_entry </td><td>0.99</td><td>  0.01</td><td>-1.26</td><td>0.21</td><td>0.97</td><td>1.01</td></tr>\n",
       "\t<tr><td>coagulopathie     </td><td>2.46</td><td>  0.51</td><td> 1.77</td><td>0.08</td><td>0.81</td><td>6.14</td></tr>\n",
       "\t<tr><td>vasopresseurs     </td><td>0.62</td><td>  0.22</td><td>-2.20</td><td>0.03</td><td>0.40</td><td>0.94</td></tr>\n",
       "\t<tr><td>eer               </td><td>0.56</td><td>  0.31</td><td>-1.87</td><td>0.06</td><td>0.30</td><td>1.00</td></tr>\n",
       "\t<tr><td>chads_vasc        </td><td>1.23</td><td>  0.11</td><td> 1.90</td><td>0.06</td><td>0.99</td><td>1.52</td></tr>\n",
       "\t<tr><td>vm                </td><td>1.18</td><td>  0.21</td><td> 0.78</td><td>0.43</td><td>0.78</td><td>1.77</td></tr>\n",
       "\t<tr><td>atcd_hta          </td><td>1.37</td><td>  0.21</td><td> 1.53</td><td>0.13</td><td>0.92</td><td>2.07</td></tr>\n",
       "\t<tr><td>atcd_bpco         </td><td>0.56</td><td>  0.30</td><td>-1.93</td><td>0.05</td><td>0.30</td><td>0.97</td></tr>\n",
       "\t<tr><td>atcd_diabete      </td><td>0.74</td><td>  0.24</td><td>-1.28</td><td>0.20</td><td>0.46</td><td>1.17</td></tr>\n",
       "\t<tr><td>atcd_ins_cardiaque</td><td>0.76</td><td>  0.21</td><td>-1.32</td><td>0.19</td><td>0.50</td><td>1.13</td></tr>\n",
       "\t<tr><td>atcd_ins_renale   </td><td>2.03</td><td>  0.19</td><td> 3.82</td><td>0.00</td><td>1.40</td><td>2.91</td></tr>\n",
       "\t<tr><td>atcd_obesite      </td><td>0.81</td><td>  0.25</td><td>-0.84</td><td>0.40</td><td>0.48</td><td>1.30</td></tr>\n",
       "\t<tr><td>annee             </td><td>1.15</td><td>  0.05</td><td> 2.78</td><td>0.01</td><td>1.05</td><td>1.28</td></tr>\n",
       "\t<tr><td>type_reamed       </td><td>0.30</td><td>  0.16</td><td>-7.43</td><td>0.00</td><td>0.22</td><td>0.41</td></tr>\n",
       "\t<tr><td>etat_choc         </td><td>3.40</td><td>  0.18</td><td> 6.96</td><td>0.00</td><td>2.41</td><td>4.80</td></tr>\n",
       "</tbody>\n",
       "</table>\n"
      ],
      "text/latex": [
       "A tibble: 19 × 7\n",
       "\\begin{tabular}{lllllll}\n",
       " term & estimate & std.error & statistic & p.value & conf.low & conf.high\\\\\n",
       " <chr> & <dbl> & <dbl> & <dbl> & <dbl> & <dbl> & <dbl>\\\\\n",
       "\\hline\n",
       "\t (Intercept)        & 0.00 & 103.85 & -2.81 & 0.00 & 0.00 & 0.00\\\\\n",
       "\t volonte\\_anticoag   & 2.14 &   0.17 &  4.56 & 0.00 & 1.55 & 2.98\\\\\n",
       "\t surdosage          & 0.66 &   0.24 & -1.75 & 0.08 & 0.40 & 1.03\\\\\n",
       "\t sex\\_cdW            & 1.20 &   0.18 &  1.00 & 0.32 & 0.84 & 1.73\\\\\n",
       "\t age\\_at\\_stay\\_entry  & 0.99 &   0.01 & -1.26 & 0.21 & 0.97 & 1.01\\\\\n",
       "\t coagulopathie      & 2.46 &   0.51 &  1.77 & 0.08 & 0.81 & 6.14\\\\\n",
       "\t vasopresseurs      & 0.62 &   0.22 & -2.20 & 0.03 & 0.40 & 0.94\\\\\n",
       "\t eer                & 0.56 &   0.31 & -1.87 & 0.06 & 0.30 & 1.00\\\\\n",
       "\t chads\\_vasc         & 1.23 &   0.11 &  1.90 & 0.06 & 0.99 & 1.52\\\\\n",
       "\t vm                 & 1.18 &   0.21 &  0.78 & 0.43 & 0.78 & 1.77\\\\\n",
       "\t atcd\\_hta           & 1.37 &   0.21 &  1.53 & 0.13 & 0.92 & 2.07\\\\\n",
       "\t atcd\\_bpco          & 0.56 &   0.30 & -1.93 & 0.05 & 0.30 & 0.97\\\\\n",
       "\t atcd\\_diabete       & 0.74 &   0.24 & -1.28 & 0.20 & 0.46 & 1.17\\\\\n",
       "\t atcd\\_ins\\_cardiaque & 0.76 &   0.21 & -1.32 & 0.19 & 0.50 & 1.13\\\\\n",
       "\t atcd\\_ins\\_renale    & 2.03 &   0.19 &  3.82 & 0.00 & 1.40 & 2.91\\\\\n",
       "\t atcd\\_obesite       & 0.81 &   0.25 & -0.84 & 0.40 & 0.48 & 1.30\\\\\n",
       "\t annee              & 1.15 &   0.05 &  2.78 & 0.01 & 1.05 & 1.28\\\\\n",
       "\t type\\_reamed        & 0.30 &   0.16 & -7.43 & 0.00 & 0.22 & 0.41\\\\\n",
       "\t etat\\_choc          & 3.40 &   0.18 &  6.96 & 0.00 & 2.41 & 4.80\\\\\n",
       "\\end{tabular}\n"
      ],
      "text/markdown": [
       "\n",
       "A tibble: 19 × 7\n",
       "\n",
       "| term &lt;chr&gt; | estimate &lt;dbl&gt; | std.error &lt;dbl&gt; | statistic &lt;dbl&gt; | p.value &lt;dbl&gt; | conf.low &lt;dbl&gt; | conf.high &lt;dbl&gt; |\n",
       "|---|---|---|---|---|---|---|\n",
       "| (Intercept)        | 0.00 | 103.85 | -2.81 | 0.00 | 0.00 | 0.00 |\n",
       "| volonte_anticoag   | 2.14 |   0.17 |  4.56 | 0.00 | 1.55 | 2.98 |\n",
       "| surdosage          | 0.66 |   0.24 | -1.75 | 0.08 | 0.40 | 1.03 |\n",
       "| sex_cdW            | 1.20 |   0.18 |  1.00 | 0.32 | 0.84 | 1.73 |\n",
       "| age_at_stay_entry  | 0.99 |   0.01 | -1.26 | 0.21 | 0.97 | 1.01 |\n",
       "| coagulopathie      | 2.46 |   0.51 |  1.77 | 0.08 | 0.81 | 6.14 |\n",
       "| vasopresseurs      | 0.62 |   0.22 | -2.20 | 0.03 | 0.40 | 0.94 |\n",
       "| eer                | 0.56 |   0.31 | -1.87 | 0.06 | 0.30 | 1.00 |\n",
       "| chads_vasc         | 1.23 |   0.11 |  1.90 | 0.06 | 0.99 | 1.52 |\n",
       "| vm                 | 1.18 |   0.21 |  0.78 | 0.43 | 0.78 | 1.77 |\n",
       "| atcd_hta           | 1.37 |   0.21 |  1.53 | 0.13 | 0.92 | 2.07 |\n",
       "| atcd_bpco          | 0.56 |   0.30 | -1.93 | 0.05 | 0.30 | 0.97 |\n",
       "| atcd_diabete       | 0.74 |   0.24 | -1.28 | 0.20 | 0.46 | 1.17 |\n",
       "| atcd_ins_cardiaque | 0.76 |   0.21 | -1.32 | 0.19 | 0.50 | 1.13 |\n",
       "| atcd_ins_renale    | 2.03 |   0.19 |  3.82 | 0.00 | 1.40 | 2.91 |\n",
       "| atcd_obesite       | 0.81 |   0.25 | -0.84 | 0.40 | 0.48 | 1.30 |\n",
       "| annee              | 1.15 |   0.05 |  2.78 | 0.01 | 1.05 | 1.28 |\n",
       "| type_reamed        | 0.30 |   0.16 | -7.43 | 0.00 | 0.22 | 0.41 |\n",
       "| etat_choc          | 3.40 |   0.18 |  6.96 | 0.00 | 2.41 | 4.80 |\n",
       "\n"
      ],
      "text/plain": [
       "   term               estimate std.error statistic p.value conf.low conf.high\n",
       "1  (Intercept)        0.00     103.85    -2.81     0.00    0.00     0.00     \n",
       "2  volonte_anticoag   2.14       0.17     4.56     0.00    1.55     2.98     \n",
       "3  surdosage          0.66       0.24    -1.75     0.08    0.40     1.03     \n",
       "4  sex_cdW            1.20       0.18     1.00     0.32    0.84     1.73     \n",
       "5  age_at_stay_entry  0.99       0.01    -1.26     0.21    0.97     1.01     \n",
       "6  coagulopathie      2.46       0.51     1.77     0.08    0.81     6.14     \n",
       "7  vasopresseurs      0.62       0.22    -2.20     0.03    0.40     0.94     \n",
       "8  eer                0.56       0.31    -1.87     0.06    0.30     1.00     \n",
       "9  chads_vasc         1.23       0.11     1.90     0.06    0.99     1.52     \n",
       "10 vm                 1.18       0.21     0.78     0.43    0.78     1.77     \n",
       "11 atcd_hta           1.37       0.21     1.53     0.13    0.92     2.07     \n",
       "12 atcd_bpco          0.56       0.30    -1.93     0.05    0.30     0.97     \n",
       "13 atcd_diabete       0.74       0.24    -1.28     0.20    0.46     1.17     \n",
       "14 atcd_ins_cardiaque 0.76       0.21    -1.32     0.19    0.50     1.13     \n",
       "15 atcd_ins_renale    2.03       0.19     3.82     0.00    1.40     2.91     \n",
       "16 atcd_obesite       0.81       0.25    -0.84     0.40    0.48     1.30     \n",
       "17 annee              1.15       0.05     2.78     0.01    1.05     1.28     \n",
       "18 type_reamed        0.30       0.16    -7.43     0.00    0.22     0.41     \n",
       "19 etat_choc          3.40       0.18     6.96     0.00    2.41     4.80     "
      ]
     },
     "metadata": {},
     "output_type": "display_data"
    }
   ],
   "source": [
    "mv_hemorragie_iatrogene_volonte <- glm(hemorragie_iatrogene ~ volonte_anticoag + surdosage + sex_cd + age_at_stay_entry + coagulopathie + vasopresseurs + eer + chads_vasc + vm + atcd_hta + atcd_bpco + atcd_diabete + \n",
    "                                                    atcd_ins_cardiaque + atcd_ins_renale + atcd_obesite + annee + type_rea + etat_choc,\n",
    "              data=collect(sejours_rea_48_heures), family=\"quasibinomial\", weights = sejours_rea_48_heures$weights) %>%\n",
    "    broom::tidy(exponentiate = TRUE, conf.int = TRUE) %>%\n",
    "    mutate(across(where(is.numeric), round, digits = 2))\n",
    "\n",
    "mv_hemorragie_iatrogene_volonte"
   ]
  },
  {
   "cell_type": "code",
   "execution_count": 266,
   "id": "f0872db5-b58a-4e2a-9f8c-6c868cf07e80",
   "metadata": {
    "tags": []
   },
   "outputs": [
    {
     "data": {
      "image/png": "[encoded data removed]",
      "text/plain": [
       "plot without title"
      ]
     },
     "metadata": {
      "image/png": {
       "height": 420,
       "width": 420
      }
     },
     "output_type": "display_data"
    }
   ],
   "source": [
    "mv_hemorragie_iatrogene_volonte %>%\n",
    "    slice(-1) %>%\n",
    "    ggplot + aes(x = estimate, y = term) +\n",
    "    geom_vline(aes(xintercept = 1), size = .25, linetype = \"dashed\") + \n",
    "    geom_errorbarh(aes(xmin = conf.low, xmax = conf.high), size = .5, height = .2, ) +\n",
    "    geom_point(size = 3, color = \"black\")"
   ]
  },
  {
   "cell_type": "code",
   "execution_count": 267,
   "id": "f17a724b-d9c2-4e46-aee0-81481a2e3dac",
   "metadata": {},
   "outputs": [
    {
     "data": {
      "text/html": [
       "<table>\n",
       "<caption>A tibble: 19 × 7</caption>\n",
       "<thead>\n",
       "\t<tr><th scope=col>term</th><th scope=col>estimate</th><th scope=col>std.error</th><th scope=col>statistic</th><th scope=col>p.value</th><th scope=col>conf.low</th><th scope=col>conf.high</th></tr>\n",
       "\t<tr><th scope=col>&lt;chr&gt;</th><th scope=col>&lt;dbl&gt;</th><th scope=col>&lt;dbl&gt;</th><th scope=col>&lt;dbl&gt;</th><th scope=col>&lt;dbl&gt;</th><th scope=col>&lt;dbl&gt;</th><th scope=col>&lt;dbl&gt;</th></tr>\n",
       "</thead>\n",
       "<tbody>\n",
       "\t<tr><td>(Intercept)       </td><td>2.614418e+35</td><td>181.99</td><td> 0.45</td><td>0.65</td><td>0.00</td><td>1.881569e+187</td></tr>\n",
       "\t<tr><td>volonte_anticoag  </td><td>4.900000e-01</td><td>  0.39</td><td>-1.84</td><td>0.07</td><td>0.22</td><td> 1.020000e+00</td></tr>\n",
       "\t<tr><td>surdosage         </td><td>5.800000e-01</td><td>  0.72</td><td>-0.76</td><td>0.44</td><td>0.11</td><td> 2.020000e+00</td></tr>\n",
       "\t<tr><td>sex_cdW           </td><td>1.370000e+00</td><td>  0.44</td><td> 0.72</td><td>0.47</td><td>0.58</td><td> 3.260000e+00</td></tr>\n",
       "\t<tr><td>age_at_stay_entry </td><td>1.010000e+00</td><td>  0.02</td><td> 0.61</td><td>0.54</td><td>0.98</td><td> 1.050000e+00</td></tr>\n",
       "\t<tr><td>coagulopathie     </td><td>1.490000e+00</td><td>  1.04</td><td> 0.39</td><td>0.70</td><td>0.09</td><td> 7.790000e+00</td></tr>\n",
       "\t<tr><td>vasopresseurs     </td><td>4.600000e-01</td><td>  0.46</td><td>-1.72</td><td>0.09</td><td>0.19</td><td> 1.120000e+00</td></tr>\n",
       "\t<tr><td>eer               </td><td>9.700000e-01</td><td>  0.56</td><td>-0.05</td><td>0.96</td><td>0.28</td><td> 2.680000e+00</td></tr>\n",
       "\t<tr><td>chads_vasc        </td><td>7.100000e-01</td><td>  0.29</td><td>-1.21</td><td>0.23</td><td>0.39</td><td> 1.200000e+00</td></tr>\n",
       "\t<tr><td>vm                </td><td>7.660000e+00</td><td>  0.43</td><td> 4.77</td><td>0.00</td><td>3.33</td><td> 1.800000e+01</td></tr>\n",
       "\t<tr><td>atcd_hta          </td><td>5.420000e+00</td><td>  0.51</td><td> 3.33</td><td>0.00</td><td>2.05</td><td> 1.509000e+01</td></tr>\n",
       "\t<tr><td>atcd_bpco         </td><td>8.800000e-01</td><td>  0.57</td><td>-0.23</td><td>0.81</td><td>0.24</td><td> 2.370000e+00</td></tr>\n",
       "\t<tr><td>atcd_diabete      </td><td>9.400000e-01</td><td>  0.56</td><td>-0.12</td><td>0.91</td><td>0.30</td><td> 2.740000e+00</td></tr>\n",
       "\t<tr><td>atcd_ins_cardiaque</td><td>1.570000e+00</td><td>  0.46</td><td> 0.97</td><td>0.33</td><td>0.61</td><td> 3.770000e+00</td></tr>\n",
       "\t<tr><td>atcd_ins_renale   </td><td>4.600000e-01</td><td>  0.65</td><td>-1.20</td><td>0.23</td><td>0.10</td><td> 1.400000e+00</td></tr>\n",
       "\t<tr><td>atcd_obesite      </td><td>8.200000e-01</td><td>  0.55</td><td>-0.36</td><td>0.72</td><td>0.24</td><td> 2.200000e+00</td></tr>\n",
       "\t<tr><td>annee             </td><td>9.600000e-01</td><td>  0.09</td><td>-0.48</td><td>0.63</td><td>0.81</td><td> 1.150000e+00</td></tr>\n",
       "\t<tr><td>type_reamed       </td><td>8.000000e-01</td><td>  0.40</td><td>-0.55</td><td>0.58</td><td>0.37</td><td> 1.830000e+00</td></tr>\n",
       "\t<tr><td>etat_choc         </td><td>1.270000e+00</td><td>  0.42</td><td> 0.56</td><td>0.57</td><td>0.55</td><td> 2.860000e+00</td></tr>\n",
       "</tbody>\n",
       "</table>\n"
      ],
      "text/latex": [
       "A tibble: 19 × 7\n",
       "\\begin{tabular}{lllllll}\n",
       " term & estimate & std.error & statistic & p.value & conf.low & conf.high\\\\\n",
       " <chr> & <dbl> & <dbl> & <dbl> & <dbl> & <dbl> & <dbl>\\\\\n",
       "\\hline\n",
       "\t (Intercept)        & 2.614418e+35 & 181.99 &  0.45 & 0.65 & 0.00 & 1.881569e+187\\\\\n",
       "\t volonte\\_anticoag   & 4.900000e-01 &   0.39 & -1.84 & 0.07 & 0.22 &  1.020000e+00\\\\\n",
       "\t surdosage          & 5.800000e-01 &   0.72 & -0.76 & 0.44 & 0.11 &  2.020000e+00\\\\\n",
       "\t sex\\_cdW            & 1.370000e+00 &   0.44 &  0.72 & 0.47 & 0.58 &  3.260000e+00\\\\\n",
       "\t age\\_at\\_stay\\_entry  & 1.010000e+00 &   0.02 &  0.61 & 0.54 & 0.98 &  1.050000e+00\\\\\n",
       "\t coagulopathie      & 1.490000e+00 &   1.04 &  0.39 & 0.70 & 0.09 &  7.790000e+00\\\\\n",
       "\t vasopresseurs      & 4.600000e-01 &   0.46 & -1.72 & 0.09 & 0.19 &  1.120000e+00\\\\\n",
       "\t eer                & 9.700000e-01 &   0.56 & -0.05 & 0.96 & 0.28 &  2.680000e+00\\\\\n",
       "\t chads\\_vasc         & 7.100000e-01 &   0.29 & -1.21 & 0.23 & 0.39 &  1.200000e+00\\\\\n",
       "\t vm                 & 7.660000e+00 &   0.43 &  4.77 & 0.00 & 3.33 &  1.800000e+01\\\\\n",
       "\t atcd\\_hta           & 5.420000e+00 &   0.51 &  3.33 & 0.00 & 2.05 &  1.509000e+01\\\\\n",
       "\t atcd\\_bpco          & 8.800000e-01 &   0.57 & -0.23 & 0.81 & 0.24 &  2.370000e+00\\\\\n",
       "\t atcd\\_diabete       & 9.400000e-01 &   0.56 & -0.12 & 0.91 & 0.30 &  2.740000e+00\\\\\n",
       "\t atcd\\_ins\\_cardiaque & 1.570000e+00 &   0.46 &  0.97 & 0.33 & 0.61 &  3.770000e+00\\\\\n",
       "\t atcd\\_ins\\_renale    & 4.600000e-01 &   0.65 & -1.20 & 0.23 & 0.10 &  1.400000e+00\\\\\n",
       "\t atcd\\_obesite       & 8.200000e-01 &   0.55 & -0.36 & 0.72 & 0.24 &  2.200000e+00\\\\\n",
       "\t annee              & 9.600000e-01 &   0.09 & -0.48 & 0.63 & 0.81 &  1.150000e+00\\\\\n",
       "\t type\\_reamed        & 8.000000e-01 &   0.40 & -0.55 & 0.58 & 0.37 &  1.830000e+00\\\\\n",
       "\t etat\\_choc          & 1.270000e+00 &   0.42 &  0.56 & 0.57 & 0.55 &  2.860000e+00\\\\\n",
       "\\end{tabular}\n"
      ],
      "text/markdown": [
       "\n",
       "A tibble: 19 × 7\n",
       "\n",
       "| term &lt;chr&gt; | estimate &lt;dbl&gt; | std.error &lt;dbl&gt; | statistic &lt;dbl&gt; | p.value &lt;dbl&gt; | conf.low &lt;dbl&gt; | conf.high &lt;dbl&gt; |\n",
       "|---|---|---|---|---|---|---|\n",
       "| (Intercept)        | 2.614418e+35 | 181.99 |  0.45 | 0.65 | 0.00 | 1.881569e+187 |\n",
       "| volonte_anticoag   | 4.900000e-01 |   0.39 | -1.84 | 0.07 | 0.22 |  1.020000e+00 |\n",
       "| surdosage          | 5.800000e-01 |   0.72 | -0.76 | 0.44 | 0.11 |  2.020000e+00 |\n",
       "| sex_cdW            | 1.370000e+00 |   0.44 |  0.72 | 0.47 | 0.58 |  3.260000e+00 |\n",
       "| age_at_stay_entry  | 1.010000e+00 |   0.02 |  0.61 | 0.54 | 0.98 |  1.050000e+00 |\n",
       "| coagulopathie      | 1.490000e+00 |   1.04 |  0.39 | 0.70 | 0.09 |  7.790000e+00 |\n",
       "| vasopresseurs      | 4.600000e-01 |   0.46 | -1.72 | 0.09 | 0.19 |  1.120000e+00 |\n",
       "| eer                | 9.700000e-01 |   0.56 | -0.05 | 0.96 | 0.28 |  2.680000e+00 |\n",
       "| chads_vasc         | 7.100000e-01 |   0.29 | -1.21 | 0.23 | 0.39 |  1.200000e+00 |\n",
       "| vm                 | 7.660000e+00 |   0.43 |  4.77 | 0.00 | 3.33 |  1.800000e+01 |\n",
       "| atcd_hta           | 5.420000e+00 |   0.51 |  3.33 | 0.00 | 2.05 |  1.509000e+01 |\n",
       "| atcd_bpco          | 8.800000e-01 |   0.57 | -0.23 | 0.81 | 0.24 |  2.370000e+00 |\n",
       "| atcd_diabete       | 9.400000e-01 |   0.56 | -0.12 | 0.91 | 0.30 |  2.740000e+00 |\n",
       "| atcd_ins_cardiaque | 1.570000e+00 |   0.46 |  0.97 | 0.33 | 0.61 |  3.770000e+00 |\n",
       "| atcd_ins_renale    | 4.600000e-01 |   0.65 | -1.20 | 0.23 | 0.10 |  1.400000e+00 |\n",
       "| atcd_obesite       | 8.200000e-01 |   0.55 | -0.36 | 0.72 | 0.24 |  2.200000e+00 |\n",
       "| annee              | 9.600000e-01 |   0.09 | -0.48 | 0.63 | 0.81 |  1.150000e+00 |\n",
       "| type_reamed        | 8.000000e-01 |   0.40 | -0.55 | 0.58 | 0.37 |  1.830000e+00 |\n",
       "| etat_choc          | 1.270000e+00 |   0.42 |  0.56 | 0.57 | 0.55 |  2.860000e+00 |\n",
       "\n"
      ],
      "text/plain": [
       "   term               estimate     std.error statistic p.value conf.low\n",
       "1  (Intercept)        2.614418e+35 181.99     0.45     0.65    0.00    \n",
       "2  volonte_anticoag   4.900000e-01   0.39    -1.84     0.07    0.22    \n",
       "3  surdosage          5.800000e-01   0.72    -0.76     0.44    0.11    \n",
       "4  sex_cdW            1.370000e+00   0.44     0.72     0.47    0.58    \n",
       "5  age_at_stay_entry  1.010000e+00   0.02     0.61     0.54    0.98    \n",
       "6  coagulopathie      1.490000e+00   1.04     0.39     0.70    0.09    \n",
       "7  vasopresseurs      4.600000e-01   0.46    -1.72     0.09    0.19    \n",
       "8  eer                9.700000e-01   0.56    -0.05     0.96    0.28    \n",
       "9  chads_vasc         7.100000e-01   0.29    -1.21     0.23    0.39    \n",
       "10 vm                 7.660000e+00   0.43     4.77     0.00    3.33    \n",
       "11 atcd_hta           5.420000e+00   0.51     3.33     0.00    2.05    \n",
       "12 atcd_bpco          8.800000e-01   0.57    -0.23     0.81    0.24    \n",
       "13 atcd_diabete       9.400000e-01   0.56    -0.12     0.91    0.30    \n",
       "14 atcd_ins_cardiaque 1.570000e+00   0.46     0.97     0.33    0.61    \n",
       "15 atcd_ins_renale    4.600000e-01   0.65    -1.20     0.23    0.10    \n",
       "16 atcd_obesite       8.200000e-01   0.55    -0.36     0.72    0.24    \n",
       "17 annee              9.600000e-01   0.09    -0.48     0.63    0.81    \n",
       "18 type_reamed        8.000000e-01   0.40    -0.55     0.58    0.37    \n",
       "19 etat_choc          1.270000e+00   0.42     0.56     0.57    0.55    \n",
       "   conf.high    \n",
       "1  1.881569e+187\n",
       "2   1.020000e+00\n",
       "3   2.020000e+00\n",
       "4   3.260000e+00\n",
       "5   1.050000e+00\n",
       "6   7.790000e+00\n",
       "7   1.120000e+00\n",
       "8   2.680000e+00\n",
       "9   1.200000e+00\n",
       "10  1.800000e+01\n",
       "11  1.509000e+01\n",
       "12  2.370000e+00\n",
       "13  2.740000e+00\n",
       "14  3.770000e+00\n",
       "15  1.400000e+00\n",
       "16  2.200000e+00\n",
       "17  1.150000e+00\n",
       "18  1.830000e+00\n",
       "19  2.860000e+00"
      ]
     },
     "metadata": {},
     "output_type": "display_data"
    }
   ],
   "source": [
    "mv_hemorragie_cerebrale_volonte <- glm(hemorragie_cerebrale ~ volonte_anticoag + surdosage + sex_cd + age_at_stay_entry + coagulopathie + vasopresseurs + eer + chads_vasc + vm + atcd_hta + atcd_bpco + atcd_diabete + \n",
    "                                                    atcd_ins_cardiaque + atcd_ins_renale + atcd_obesite + annee + type_rea + etat_choc,\n",
    "              data=collect(sejours_rea_48_heures), family=\"quasibinomial\", weights = sejours_rea_48_heures$weights) %>%\n",
    "    broom::tidy(exponentiate = TRUE, conf.int = TRUE) %>%\n",
    "    mutate(across(where(is.numeric), round, digits = 2))\n",
    "\n",
    "mv_hemorragie_cerebrale_volonte"
   ]
  },
  {
   "cell_type": "code",
   "execution_count": 268,
   "id": "a17cb178-d5df-48bf-86b8-0600a8f5633d",
   "metadata": {},
   "outputs": [
    {
     "data": {
      "image/png": "[encoded data removed]",
      "text/plain": [
       "plot without title"
      ]
     },
     "metadata": {
      "image/png": {
       "height": 420,
       "width": 420
      }
     },
     "output_type": "display_data"
    }
   ],
   "source": [
    "mv_hemorragie_cerebrale_volonte %>%\n",
    "    slice(-1) %>%\n",
    "    ggplot + aes(x = estimate, y = term) +\n",
    "    geom_vline(aes(xintercept = 1), size = .25, linetype = \"dashed\") + \n",
    "    geom_errorbarh(aes(xmin = conf.low, xmax = conf.high), size = .5, height = .2, ) +\n",
    "    geom_point(size = 3, color = \"black\")"
   ]
  },
  {
   "cell_type": "markdown",
   "id": "5b750ad0-af0f-46cd-aa11-d36dc2303d4a",
   "metadata": {},
   "source": [
    "### Mortalité"
   ]
  },
  {
   "cell_type": "code",
   "execution_count": 269,
   "id": "8adde8df-3a9b-404e-8374-e0693025a49c",
   "metadata": {},
   "outputs": [
    {
     "data": {
      "text/html": [
       "<table>\n",
       "<caption>A tibble: 17 × 7</caption>\n",
       "<thead>\n",
       "\t<tr><th scope=col>term</th><th scope=col>estimate</th><th scope=col>std.error</th><th scope=col>statistic</th><th scope=col>p.value</th><th scope=col>conf.low</th><th scope=col>conf.high</th></tr>\n",
       "\t<tr><th scope=col>&lt;chr&gt;</th><th scope=col>&lt;dbl&gt;</th><th scope=col>&lt;dbl&gt;</th><th scope=col>&lt;dbl&gt;</th><th scope=col>&lt;dbl&gt;</th><th scope=col>&lt;dbl&gt;</th><th scope=col>&lt;dbl&gt;</th></tr>\n",
       "</thead>\n",
       "<tbody>\n",
       "\t<tr><td>(Intercept)               </td><td>0.00</td><td>0.41</td><td>-14.03</td><td>0.00</td><td>0.00</td><td>0.01</td></tr>\n",
       "\t<tr><td>efficacite_anticoag_binary</td><td>1.56</td><td>0.18</td><td>  2.46</td><td>0.01</td><td>1.08</td><td>2.21</td></tr>\n",
       "\t<tr><td>age_at_stay_entry         </td><td>1.03</td><td>0.01</td><td>  6.21</td><td>0.00</td><td>1.02</td><td>1.05</td></tr>\n",
       "\t<tr><td>vasopresseurs             </td><td>1.32</td><td>0.14</td><td>  2.01</td><td>0.04</td><td>1.01</td><td>1.74</td></tr>\n",
       "\t<tr><td>eer                       </td><td>2.27</td><td>0.13</td><td>  6.23</td><td>0.00</td><td>1.75</td><td>2.93</td></tr>\n",
       "\t<tr><td>coagulopathie             </td><td>1.90</td><td>0.28</td><td>  2.30</td><td>0.02</td><td>1.09</td><td>3.25</td></tr>\n",
       "\t<tr><td>chads_vasc                </td><td>1.03</td><td>0.07</td><td>  0.39</td><td>0.69</td><td>0.90</td><td>1.17</td></tr>\n",
       "\t<tr><td>vm                        </td><td>3.31</td><td>0.13</td><td>  9.28</td><td>0.00</td><td>2.57</td><td>4.26</td></tr>\n",
       "\t<tr><td>atcd_hta                  </td><td>0.61</td><td>0.14</td><td> -3.55</td><td>0.00</td><td>0.47</td><td>0.80</td></tr>\n",
       "\t<tr><td>atcd_bpco                 </td><td>0.89</td><td>0.17</td><td> -0.73</td><td>0.47</td><td>0.63</td><td>1.22</td></tr>\n",
       "\t<tr><td>atcd_diabete              </td><td>1.08</td><td>0.15</td><td>  0.54</td><td>0.59</td><td>0.80</td><td>1.45</td></tr>\n",
       "\t<tr><td>atcd_ins_cardiaque        </td><td>0.95</td><td>0.14</td><td> -0.35</td><td>0.73</td><td>0.72</td><td>1.25</td></tr>\n",
       "\t<tr><td>atcd_ins_renale           </td><td>0.91</td><td>0.15</td><td> -0.63</td><td>0.53</td><td>0.68</td><td>1.21</td></tr>\n",
       "\t<tr><td>etat_choc                 </td><td>2.08</td><td>0.11</td><td>  6.42</td><td>0.00</td><td>1.66</td><td>2.60</td></tr>\n",
       "\t<tr><td>hemorragie                </td><td>0.72</td><td>0.18</td><td> -1.80</td><td>0.07</td><td>0.50</td><td>1.02</td></tr>\n",
       "\t<tr><td>ischemie_cerebrale        </td><td>0.74</td><td>0.33</td><td> -0.93</td><td>0.35</td><td>0.37</td><td>1.36</td></tr>\n",
       "\t<tr><td>type_reamed               </td><td>1.30</td><td>0.13</td><td>  2.06</td><td>0.04</td><td>1.02</td><td>1.67</td></tr>\n",
       "</tbody>\n",
       "</table>\n"
      ],
      "text/latex": [
       "A tibble: 17 × 7\n",
       "\\begin{tabular}{lllllll}\n",
       " term & estimate & std.error & statistic & p.value & conf.low & conf.high\\\\\n",
       " <chr> & <dbl> & <dbl> & <dbl> & <dbl> & <dbl> & <dbl>\\\\\n",
       "\\hline\n",
       "\t (Intercept)                & 0.00 & 0.41 & -14.03 & 0.00 & 0.00 & 0.01\\\\\n",
       "\t efficacite\\_anticoag\\_binary & 1.56 & 0.18 &   2.46 & 0.01 & 1.08 & 2.21\\\\\n",
       "\t age\\_at\\_stay\\_entry          & 1.03 & 0.01 &   6.21 & 0.00 & 1.02 & 1.05\\\\\n",
       "\t vasopresseurs              & 1.32 & 0.14 &   2.01 & 0.04 & 1.01 & 1.74\\\\\n",
       "\t eer                        & 2.27 & 0.13 &   6.23 & 0.00 & 1.75 & 2.93\\\\\n",
       "\t coagulopathie              & 1.90 & 0.28 &   2.30 & 0.02 & 1.09 & 3.25\\\\\n",
       "\t chads\\_vasc                 & 1.03 & 0.07 &   0.39 & 0.69 & 0.90 & 1.17\\\\\n",
       "\t vm                         & 3.31 & 0.13 &   9.28 & 0.00 & 2.57 & 4.26\\\\\n",
       "\t atcd\\_hta                   & 0.61 & 0.14 &  -3.55 & 0.00 & 0.47 & 0.80\\\\\n",
       "\t atcd\\_bpco                  & 0.89 & 0.17 &  -0.73 & 0.47 & 0.63 & 1.22\\\\\n",
       "\t atcd\\_diabete               & 1.08 & 0.15 &   0.54 & 0.59 & 0.80 & 1.45\\\\\n",
       "\t atcd\\_ins\\_cardiaque         & 0.95 & 0.14 &  -0.35 & 0.73 & 0.72 & 1.25\\\\\n",
       "\t atcd\\_ins\\_renale            & 0.91 & 0.15 &  -0.63 & 0.53 & 0.68 & 1.21\\\\\n",
       "\t etat\\_choc                  & 2.08 & 0.11 &   6.42 & 0.00 & 1.66 & 2.60\\\\\n",
       "\t hemorragie                 & 0.72 & 0.18 &  -1.80 & 0.07 & 0.50 & 1.02\\\\\n",
       "\t ischemie\\_cerebrale         & 0.74 & 0.33 &  -0.93 & 0.35 & 0.37 & 1.36\\\\\n",
       "\t type\\_reamed                & 1.30 & 0.13 &   2.06 & 0.04 & 1.02 & 1.67\\\\\n",
       "\\end{tabular}\n"
      ],
      "text/markdown": [
       "\n",
       "A tibble: 17 × 7\n",
       "\n",
       "| term &lt;chr&gt; | estimate &lt;dbl&gt; | std.error &lt;dbl&gt; | statistic &lt;dbl&gt; | p.value &lt;dbl&gt; | conf.low &lt;dbl&gt; | conf.high &lt;dbl&gt; |\n",
       "|---|---|---|---|---|---|---|\n",
       "| (Intercept)                | 0.00 | 0.41 | -14.03 | 0.00 | 0.00 | 0.01 |\n",
       "| efficacite_anticoag_binary | 1.56 | 0.18 |   2.46 | 0.01 | 1.08 | 2.21 |\n",
       "| age_at_stay_entry          | 1.03 | 0.01 |   6.21 | 0.00 | 1.02 | 1.05 |\n",
       "| vasopresseurs              | 1.32 | 0.14 |   2.01 | 0.04 | 1.01 | 1.74 |\n",
       "| eer                        | 2.27 | 0.13 |   6.23 | 0.00 | 1.75 | 2.93 |\n",
       "| coagulopathie              | 1.90 | 0.28 |   2.30 | 0.02 | 1.09 | 3.25 |\n",
       "| chads_vasc                 | 1.03 | 0.07 |   0.39 | 0.69 | 0.90 | 1.17 |\n",
       "| vm                         | 3.31 | 0.13 |   9.28 | 0.00 | 2.57 | 4.26 |\n",
       "| atcd_hta                   | 0.61 | 0.14 |  -3.55 | 0.00 | 0.47 | 0.80 |\n",
       "| atcd_bpco                  | 0.89 | 0.17 |  -0.73 | 0.47 | 0.63 | 1.22 |\n",
       "| atcd_diabete               | 1.08 | 0.15 |   0.54 | 0.59 | 0.80 | 1.45 |\n",
       "| atcd_ins_cardiaque         | 0.95 | 0.14 |  -0.35 | 0.73 | 0.72 | 1.25 |\n",
       "| atcd_ins_renale            | 0.91 | 0.15 |  -0.63 | 0.53 | 0.68 | 1.21 |\n",
       "| etat_choc                  | 2.08 | 0.11 |   6.42 | 0.00 | 1.66 | 2.60 |\n",
       "| hemorragie                 | 0.72 | 0.18 |  -1.80 | 0.07 | 0.50 | 1.02 |\n",
       "| ischemie_cerebrale         | 0.74 | 0.33 |  -0.93 | 0.35 | 0.37 | 1.36 |\n",
       "| type_reamed                | 1.30 | 0.13 |   2.06 | 0.04 | 1.02 | 1.67 |\n",
       "\n"
      ],
      "text/plain": [
       "   term                       estimate std.error statistic p.value conf.low\n",
       "1  (Intercept)                0.00     0.41      -14.03    0.00    0.00    \n",
       "2  efficacite_anticoag_binary 1.56     0.18        2.46    0.01    1.08    \n",
       "3  age_at_stay_entry          1.03     0.01        6.21    0.00    1.02    \n",
       "4  vasopresseurs              1.32     0.14        2.01    0.04    1.01    \n",
       "5  eer                        2.27     0.13        6.23    0.00    1.75    \n",
       "6  coagulopathie              1.90     0.28        2.30    0.02    1.09    \n",
       "7  chads_vasc                 1.03     0.07        0.39    0.69    0.90    \n",
       "8  vm                         3.31     0.13        9.28    0.00    2.57    \n",
       "9  atcd_hta                   0.61     0.14       -3.55    0.00    0.47    \n",
       "10 atcd_bpco                  0.89     0.17       -0.73    0.47    0.63    \n",
       "11 atcd_diabete               1.08     0.15        0.54    0.59    0.80    \n",
       "12 atcd_ins_cardiaque         0.95     0.14       -0.35    0.73    0.72    \n",
       "13 atcd_ins_renale            0.91     0.15       -0.63    0.53    0.68    \n",
       "14 etat_choc                  2.08     0.11        6.42    0.00    1.66    \n",
       "15 hemorragie                 0.72     0.18       -1.80    0.07    0.50    \n",
       "16 ischemie_cerebrale         0.74     0.33       -0.93    0.35    0.37    \n",
       "17 type_reamed                1.30     0.13        2.06    0.04    1.02    \n",
       "   conf.high\n",
       "1  0.01     \n",
       "2  2.21     \n",
       "3  1.05     \n",
       "4  1.74     \n",
       "5  2.93     \n",
       "6  3.25     \n",
       "7  1.17     \n",
       "8  4.26     \n",
       "9  0.80     \n",
       "10 1.22     \n",
       "11 1.45     \n",
       "12 1.25     \n",
       "13 1.21     \n",
       "14 2.60     \n",
       "15 1.02     \n",
       "16 1.36     \n",
       "17 1.67     "
      ]
     },
     "metadata": {},
     "output_type": "display_data"
    }
   ],
   "source": [
    "mv_mortalite <- glm(death_during_stay~efficacite_anticoag_binary + age_at_stay_entry + vasopresseurs + eer + \n",
    "                               coagulopathie + chads_vasc + vm + atcd_hta + atcd_bpco + atcd_diabete + \n",
    "                               atcd_ins_cardiaque + atcd_ins_renale + etat_choc + hemorragie + ischemie_cerebrale + type_rea,\n",
    "                    data=collect(sejours_rea_48_heures), family=\"binomial\") %>%\n",
    "    broom::tidy(exponentiate = TRUE, conf.int = TRUE) %>%\n",
    "    mutate(across(where(is.numeric), round, digits = 2))\n",
    "\n",
    "mv_mortalite"
   ]
  },
  {
   "cell_type": "code",
   "execution_count": 270,
   "id": "5c9f0ec9-e187-443d-89f3-422792a4db39",
   "metadata": {
    "tags": []
   },
   "outputs": [
    {
     "data": {
      "image/png": "[encoded data removed]",
      "text/plain": [
       "plot without title"
      ]
     },
     "metadata": {
      "image/png": {
       "height": 420,
       "width": 420
      }
     },
     "output_type": "display_data"
    }
   ],
   "source": [
    "mv_mortalite %>%\n",
    "    slice(-1) %>%\n",
    "    ggplot + aes(x = estimate, y = term) +\n",
    "    geom_vline(aes(xintercept = 1), size = .25, linetype = \"dashed\") + \n",
    "    geom_errorbarh(aes(xmin = conf.low, xmax = conf.high), size = .5, height = .2, ) +\n",
    "    geom_point(size = 3, color = \"black\")"
   ]
  },
  {
   "cell_type": "markdown",
   "id": "3c7f89ac-42ad-4cfc-8e1f-2e7013eb387c",
   "metadata": {},
   "source": [
    "## Analyses de sous-groupes\n",
    "### FA de novo"
   ]
  },
  {
   "cell_type": "code",
   "execution_count": 271,
   "id": "51367713-15f9-4cfe-ab98-a762170b1169",
   "metadata": {},
   "outputs": [
    {
     "data": {
      "text/html": [
       "<table>\n",
       "<caption>A tibble: 17 × 7</caption>\n",
       "<thead>\n",
       "\t<tr><th scope=col>term</th><th scope=col>estimate</th><th scope=col>std.error</th><th scope=col>statistic</th><th scope=col>p.value</th><th scope=col>conf.low</th><th scope=col>conf.high</th></tr>\n",
       "\t<tr><th scope=col>&lt;chr&gt;</th><th scope=col>&lt;dbl&gt;</th><th scope=col>&lt;dbl&gt;</th><th scope=col>&lt;dbl&gt;</th><th scope=col>&lt;dbl&gt;</th><th scope=col>&lt;dbl&gt;</th><th scope=col>&lt;dbl&gt;</th></tr>\n",
       "</thead>\n",
       "<tbody>\n",
       "\t<tr><td>(Intercept)       </td><td>1.693562e+80</td><td>166.19</td><td> 1.11</td><td>0.27</td><td>0.00</td><td>3.379991e+218</td></tr>\n",
       "\t<tr><td>volonte_anticoag  </td><td>1.140000e+00</td><td>  0.36</td><td> 0.36</td><td>0.72</td><td>0.54</td><td> 2.240000e+00</td></tr>\n",
       "\t<tr><td>sex_cdW           </td><td>1.010000e+00</td><td>  0.36</td><td> 0.03</td><td>0.98</td><td>0.49</td><td> 2.050000e+00</td></tr>\n",
       "\t<tr><td>age_at_stay_entry </td><td>9.900000e-01</td><td>  0.02</td><td>-0.67</td><td>0.50</td><td>0.96</td><td> 1.020000e+00</td></tr>\n",
       "\t<tr><td>vasopresseurs     </td><td>3.900000e-01</td><td>  0.46</td><td>-2.05</td><td>0.04</td><td>0.16</td><td> 9.600000e-01</td></tr>\n",
       "\t<tr><td>eer               </td><td>1.180000e+00</td><td>  0.49</td><td> 0.34</td><td>0.73</td><td>0.42</td><td> 2.890000e+00</td></tr>\n",
       "\t<tr><td>chads_vasc        </td><td>1.050000e+00</td><td>  0.22</td><td> 0.24</td><td>0.81</td><td>0.68</td><td> 1.580000e+00</td></tr>\n",
       "\t<tr><td>vm                </td><td>3.670000e+00</td><td>  0.39</td><td> 3.37</td><td>0.00</td><td>1.71</td><td> 7.790000e+00</td></tr>\n",
       "\t<tr><td>atcd_hta          </td><td>1.910000e+00</td><td>  0.41</td><td> 1.57</td><td>0.12</td><td>0.86</td><td> 4.350000e+00</td></tr>\n",
       "\t<tr><td>atcd_bpco         </td><td>1.240000e+00</td><td>  0.43</td><td> 0.50</td><td>0.62</td><td>0.49</td><td> 2.720000e+00</td></tr>\n",
       "\t<tr><td>atcd_diabete      </td><td>6.400000e-01</td><td>  0.46</td><td>-0.96</td><td>0.34</td><td>0.25</td><td> 1.550000e+00</td></tr>\n",
       "\t<tr><td>atcd_ins_cardiaque</td><td>1.420000e+00</td><td>  0.39</td><td> 0.92</td><td>0.36</td><td>0.66</td><td> 3.000000e+00</td></tr>\n",
       "\t<tr><td>atcd_ins_renale   </td><td>8.000000e-01</td><td>  0.47</td><td>-0.49</td><td>0.63</td><td>0.29</td><td> 1.870000e+00</td></tr>\n",
       "\t<tr><td>atcd_obesite      </td><td>3.500000e-01</td><td>  0.62</td><td>-1.69</td><td>0.09</td><td>0.08</td><td> 1.020000e+00</td></tr>\n",
       "\t<tr><td>annee             </td><td>9.100000e-01</td><td>  0.08</td><td>-1.13</td><td>0.26</td><td>0.78</td><td> 1.080000e+00</td></tr>\n",
       "\t<tr><td>type_reamed       </td><td>1.120000e+00</td><td>  0.36</td><td> 0.31</td><td>0.76</td><td>0.56</td><td> 2.390000e+00</td></tr>\n",
       "\t<tr><td>etat_choc         </td><td>1.180000e+00</td><td>  0.38</td><td> 0.44</td><td>0.66</td><td>0.55</td><td> 2.460000e+00</td></tr>\n",
       "</tbody>\n",
       "</table>\n"
      ],
      "text/latex": [
       "A tibble: 17 × 7\n",
       "\\begin{tabular}{lllllll}\n",
       " term & estimate & std.error & statistic & p.value & conf.low & conf.high\\\\\n",
       " <chr> & <dbl> & <dbl> & <dbl> & <dbl> & <dbl> & <dbl>\\\\\n",
       "\\hline\n",
       "\t (Intercept)        & 1.693562e+80 & 166.19 &  1.11 & 0.27 & 0.00 & 3.379991e+218\\\\\n",
       "\t volonte\\_anticoag   & 1.140000e+00 &   0.36 &  0.36 & 0.72 & 0.54 &  2.240000e+00\\\\\n",
       "\t sex\\_cdW            & 1.010000e+00 &   0.36 &  0.03 & 0.98 & 0.49 &  2.050000e+00\\\\\n",
       "\t age\\_at\\_stay\\_entry  & 9.900000e-01 &   0.02 & -0.67 & 0.50 & 0.96 &  1.020000e+00\\\\\n",
       "\t vasopresseurs      & 3.900000e-01 &   0.46 & -2.05 & 0.04 & 0.16 &  9.600000e-01\\\\\n",
       "\t eer                & 1.180000e+00 &   0.49 &  0.34 & 0.73 & 0.42 &  2.890000e+00\\\\\n",
       "\t chads\\_vasc         & 1.050000e+00 &   0.22 &  0.24 & 0.81 & 0.68 &  1.580000e+00\\\\\n",
       "\t vm                 & 3.670000e+00 &   0.39 &  3.37 & 0.00 & 1.71 &  7.790000e+00\\\\\n",
       "\t atcd\\_hta           & 1.910000e+00 &   0.41 &  1.57 & 0.12 & 0.86 &  4.350000e+00\\\\\n",
       "\t atcd\\_bpco          & 1.240000e+00 &   0.43 &  0.50 & 0.62 & 0.49 &  2.720000e+00\\\\\n",
       "\t atcd\\_diabete       & 6.400000e-01 &   0.46 & -0.96 & 0.34 & 0.25 &  1.550000e+00\\\\\n",
       "\t atcd\\_ins\\_cardiaque & 1.420000e+00 &   0.39 &  0.92 & 0.36 & 0.66 &  3.000000e+00\\\\\n",
       "\t atcd\\_ins\\_renale    & 8.000000e-01 &   0.47 & -0.49 & 0.63 & 0.29 &  1.870000e+00\\\\\n",
       "\t atcd\\_obesite       & 3.500000e-01 &   0.62 & -1.69 & 0.09 & 0.08 &  1.020000e+00\\\\\n",
       "\t annee              & 9.100000e-01 &   0.08 & -1.13 & 0.26 & 0.78 &  1.080000e+00\\\\\n",
       "\t type\\_reamed        & 1.120000e+00 &   0.36 &  0.31 & 0.76 & 0.56 &  2.390000e+00\\\\\n",
       "\t etat\\_choc          & 1.180000e+00 &   0.38 &  0.44 & 0.66 & 0.55 &  2.460000e+00\\\\\n",
       "\\end{tabular}\n"
      ],
      "text/markdown": [
       "\n",
       "A tibble: 17 × 7\n",
       "\n",
       "| term &lt;chr&gt; | estimate &lt;dbl&gt; | std.error &lt;dbl&gt; | statistic &lt;dbl&gt; | p.value &lt;dbl&gt; | conf.low &lt;dbl&gt; | conf.high &lt;dbl&gt; |\n",
       "|---|---|---|---|---|---|---|\n",
       "| (Intercept)        | 1.693562e+80 | 166.19 |  1.11 | 0.27 | 0.00 | 3.379991e+218 |\n",
       "| volonte_anticoag   | 1.140000e+00 |   0.36 |  0.36 | 0.72 | 0.54 |  2.240000e+00 |\n",
       "| sex_cdW            | 1.010000e+00 |   0.36 |  0.03 | 0.98 | 0.49 |  2.050000e+00 |\n",
       "| age_at_stay_entry  | 9.900000e-01 |   0.02 | -0.67 | 0.50 | 0.96 |  1.020000e+00 |\n",
       "| vasopresseurs      | 3.900000e-01 |   0.46 | -2.05 | 0.04 | 0.16 |  9.600000e-01 |\n",
       "| eer                | 1.180000e+00 |   0.49 |  0.34 | 0.73 | 0.42 |  2.890000e+00 |\n",
       "| chads_vasc         | 1.050000e+00 |   0.22 |  0.24 | 0.81 | 0.68 |  1.580000e+00 |\n",
       "| vm                 | 3.670000e+00 |   0.39 |  3.37 | 0.00 | 1.71 |  7.790000e+00 |\n",
       "| atcd_hta           | 1.910000e+00 |   0.41 |  1.57 | 0.12 | 0.86 |  4.350000e+00 |\n",
       "| atcd_bpco          | 1.240000e+00 |   0.43 |  0.50 | 0.62 | 0.49 |  2.720000e+00 |\n",
       "| atcd_diabete       | 6.400000e-01 |   0.46 | -0.96 | 0.34 | 0.25 |  1.550000e+00 |\n",
       "| atcd_ins_cardiaque | 1.420000e+00 |   0.39 |  0.92 | 0.36 | 0.66 |  3.000000e+00 |\n",
       "| atcd_ins_renale    | 8.000000e-01 |   0.47 | -0.49 | 0.63 | 0.29 |  1.870000e+00 |\n",
       "| atcd_obesite       | 3.500000e-01 |   0.62 | -1.69 | 0.09 | 0.08 |  1.020000e+00 |\n",
       "| annee              | 9.100000e-01 |   0.08 | -1.13 | 0.26 | 0.78 |  1.080000e+00 |\n",
       "| type_reamed        | 1.120000e+00 |   0.36 |  0.31 | 0.76 | 0.56 |  2.390000e+00 |\n",
       "| etat_choc          | 1.180000e+00 |   0.38 |  0.44 | 0.66 | 0.55 |  2.460000e+00 |\n",
       "\n"
      ],
      "text/plain": [
       "   term               estimate     std.error statistic p.value conf.low\n",
       "1  (Intercept)        1.693562e+80 166.19     1.11     0.27    0.00    \n",
       "2  volonte_anticoag   1.140000e+00   0.36     0.36     0.72    0.54    \n",
       "3  sex_cdW            1.010000e+00   0.36     0.03     0.98    0.49    \n",
       "4  age_at_stay_entry  9.900000e-01   0.02    -0.67     0.50    0.96    \n",
       "5  vasopresseurs      3.900000e-01   0.46    -2.05     0.04    0.16    \n",
       "6  eer                1.180000e+00   0.49     0.34     0.73    0.42    \n",
       "7  chads_vasc         1.050000e+00   0.22     0.24     0.81    0.68    \n",
       "8  vm                 3.670000e+00   0.39     3.37     0.00    1.71    \n",
       "9  atcd_hta           1.910000e+00   0.41     1.57     0.12    0.86    \n",
       "10 atcd_bpco          1.240000e+00   0.43     0.50     0.62    0.49    \n",
       "11 atcd_diabete       6.400000e-01   0.46    -0.96     0.34    0.25    \n",
       "12 atcd_ins_cardiaque 1.420000e+00   0.39     0.92     0.36    0.66    \n",
       "13 atcd_ins_renale    8.000000e-01   0.47    -0.49     0.63    0.29    \n",
       "14 atcd_obesite       3.500000e-01   0.62    -1.69     0.09    0.08    \n",
       "15 annee              9.100000e-01   0.08    -1.13     0.26    0.78    \n",
       "16 type_reamed        1.120000e+00   0.36     0.31     0.76    0.56    \n",
       "17 etat_choc          1.180000e+00   0.38     0.44     0.66    0.55    \n",
       "   conf.high    \n",
       "1  3.379991e+218\n",
       "2   2.240000e+00\n",
       "3   2.050000e+00\n",
       "4   1.020000e+00\n",
       "5   9.600000e-01\n",
       "6   2.890000e+00\n",
       "7   1.580000e+00\n",
       "8   7.790000e+00\n",
       "9   4.350000e+00\n",
       "10  2.720000e+00\n",
       "11  1.550000e+00\n",
       "12  3.000000e+00\n",
       "13  1.870000e+00\n",
       "14  1.020000e+00\n",
       "15  1.080000e+00\n",
       "16  2.390000e+00\n",
       "17  2.460000e+00"
      ]
     },
     "metadata": {},
     "output_type": "display_data"
    }
   ],
   "source": [
    "mv_ischemie_fadenovo <- glm(ischemie_cerebrale ~ volonte_anticoag + sex_cd + age_at_stay_entry + vasopresseurs + eer + chads_vasc + vm + atcd_hta + atcd_bpco + atcd_diabete + \n",
    "                                                    atcd_ins_cardiaque + atcd_ins_renale + atcd_obesite + annee + type_rea + etat_choc,\n",
    "              data=collect(sejours_rea_48_heures %>% filter (fadenovo == 1)), family=\"binomial\") %>%\n",
    "    broom::tidy(exponentiate = TRUE, conf.int = TRUE) %>%\n",
    "    mutate(across(where(is.numeric), round, digits = 2))\n",
    "\n",
    "mv_ischemie_fadenovo"
   ]
  },
  {
   "cell_type": "code",
   "execution_count": 272,
   "id": "bc6c2f8d-967f-4f29-b0e4-ab942b2ef650",
   "metadata": {},
   "outputs": [
    {
     "data": {
      "image/png": "[encoded data removed]",
      "text/plain": [
       "plot without title"
      ]
     },
     "metadata": {
      "image/png": {
       "height": 420,
       "width": 420
      }
     },
     "output_type": "display_data"
    }
   ],
   "source": [
    "mv_ischemie_fadenovo %>%\n",
    "    slice(-1) %>%\n",
    "    ggplot + aes(x = estimate, y = term) +\n",
    "    geom_vline(aes(xintercept = 1), size = .25, linetype = \"dashed\") + \n",
    "    geom_errorbarh(aes(xmin = conf.low, xmax = conf.high), size = .5, height = .2, ) +\n",
    "    geom_point(size = 3, color = \"black\")"
   ]
  },
  {
   "cell_type": "markdown",
   "id": "630120d7-7294-49c1-8e83-3e0921d0f19e",
   "metadata": {},
   "source": [
    "### Choc septique"
   ]
  },
  {
   "cell_type": "code",
   "execution_count": 273,
   "id": "3f98ff91-5ced-44f4-82af-46365f0d878e",
   "metadata": {},
   "outputs": [
    {
     "data": {
      "text/html": [
       "<table>\n",
       "<caption>A tibble: 17 × 7</caption>\n",
       "<thead>\n",
       "\t<tr><th scope=col>term</th><th scope=col>estimate</th><th scope=col>std.error</th><th scope=col>statistic</th><th scope=col>p.value</th><th scope=col>conf.low</th><th scope=col>conf.high</th></tr>\n",
       "\t<tr><th scope=col>&lt;chr&gt;</th><th scope=col>&lt;dbl&gt;</th><th scope=col>&lt;dbl&gt;</th><th scope=col>&lt;dbl&gt;</th><th scope=col>&lt;dbl&gt;</th><th scope=col>&lt;dbl&gt;</th><th scope=col>&lt;dbl&gt;</th></tr>\n",
       "</thead>\n",
       "<tbody>\n",
       "\t<tr><td>(Intercept)       </td><td>0.00</td><td>268.35</td><td>-0.19</td><td>0.85</td><td>0.00</td><td>5.263956e+200</td></tr>\n",
       "\t<tr><td>volonte_anticoag  </td><td>0.97</td><td>  0.45</td><td>-0.08</td><td>0.94</td><td>0.38</td><td> 2.270000e+00</td></tr>\n",
       "\t<tr><td>sex_cdW           </td><td>0.40</td><td>  0.60</td><td>-1.53</td><td>0.13</td><td>0.11</td><td> 1.200000e+00</td></tr>\n",
       "\t<tr><td>age_at_stay_entry </td><td>1.00</td><td>  0.02</td><td> 0.06</td><td>0.96</td><td>0.96</td><td> 1.050000e+00</td></tr>\n",
       "\t<tr><td>vasopresseurs     </td><td>0.50</td><td>  0.62</td><td>-1.13</td><td>0.26</td><td>0.15</td><td> 1.710000e+00</td></tr>\n",
       "\t<tr><td>eer               </td><td>1.87</td><td>  0.47</td><td> 1.33</td><td>0.18</td><td>0.72</td><td> 4.640000e+00</td></tr>\n",
       "\t<tr><td>chads_vasc        </td><td>0.87</td><td>  0.30</td><td>-0.46</td><td>0.64</td><td>0.47</td><td> 1.530000e+00</td></tr>\n",
       "\t<tr><td>vm                </td><td>2.41</td><td>  0.60</td><td> 1.47</td><td>0.14</td><td>0.78</td><td> 8.240000e+00</td></tr>\n",
       "\t<tr><td>atcd_hta          </td><td>1.50</td><td>  0.55</td><td> 0.74</td><td>0.46</td><td>0.51</td><td> 4.510000e+00</td></tr>\n",
       "\t<tr><td>atcd_bpco         </td><td>0.57</td><td>  0.76</td><td>-0.74</td><td>0.46</td><td>0.09</td><td> 2.050000e+00</td></tr>\n",
       "\t<tr><td>atcd_diabete      </td><td>2.08</td><td>  0.57</td><td> 1.30</td><td>0.19</td><td>0.68</td><td> 6.340000e+00</td></tr>\n",
       "\t<tr><td>atcd_ins_cardiaque</td><td>3.21</td><td>  0.53</td><td> 2.19</td><td>0.03</td><td>1.12</td><td> 9.210000e+00</td></tr>\n",
       "\t<tr><td>atcd_ins_renale   </td><td>0.52</td><td>  0.59</td><td>-1.13</td><td>0.26</td><td>0.14</td><td> 1.490000e+00</td></tr>\n",
       "\t<tr><td>atcd_obesite      </td><td>0.72</td><td>  0.65</td><td>-0.51</td><td>0.61</td><td>0.16</td><td> 2.260000e+00</td></tr>\n",
       "\t<tr><td>annee             </td><td>1.02</td><td>  0.13</td><td> 0.18</td><td>0.86</td><td>0.79</td><td> 1.340000e+00</td></tr>\n",
       "\t<tr><td>type_reamed       </td><td>0.90</td><td>  0.50</td><td>-0.21</td><td>0.83</td><td>0.35</td><td> 2.620000e+00</td></tr>\n",
       "\t<tr><td>fadenovo          </td><td>0.80</td><td>  0.42</td><td>-0.52</td><td>0.60</td><td>0.35</td><td> 1.830000e+00</td></tr>\n",
       "</tbody>\n",
       "</table>\n"
      ],
      "text/latex": [
       "A tibble: 17 × 7\n",
       "\\begin{tabular}{lllllll}\n",
       " term & estimate & std.error & statistic & p.value & conf.low & conf.high\\\\\n",
       " <chr> & <dbl> & <dbl> & <dbl> & <dbl> & <dbl> & <dbl>\\\\\n",
       "\\hline\n",
       "\t (Intercept)        & 0.00 & 268.35 & -0.19 & 0.85 & 0.00 & 5.263956e+200\\\\\n",
       "\t volonte\\_anticoag   & 0.97 &   0.45 & -0.08 & 0.94 & 0.38 &  2.270000e+00\\\\\n",
       "\t sex\\_cdW            & 0.40 &   0.60 & -1.53 & 0.13 & 0.11 &  1.200000e+00\\\\\n",
       "\t age\\_at\\_stay\\_entry  & 1.00 &   0.02 &  0.06 & 0.96 & 0.96 &  1.050000e+00\\\\\n",
       "\t vasopresseurs      & 0.50 &   0.62 & -1.13 & 0.26 & 0.15 &  1.710000e+00\\\\\n",
       "\t eer                & 1.87 &   0.47 &  1.33 & 0.18 & 0.72 &  4.640000e+00\\\\\n",
       "\t chads\\_vasc         & 0.87 &   0.30 & -0.46 & 0.64 & 0.47 &  1.530000e+00\\\\\n",
       "\t vm                 & 2.41 &   0.60 &  1.47 & 0.14 & 0.78 &  8.240000e+00\\\\\n",
       "\t atcd\\_hta           & 1.50 &   0.55 &  0.74 & 0.46 & 0.51 &  4.510000e+00\\\\\n",
       "\t atcd\\_bpco          & 0.57 &   0.76 & -0.74 & 0.46 & 0.09 &  2.050000e+00\\\\\n",
       "\t atcd\\_diabete       & 2.08 &   0.57 &  1.30 & 0.19 & 0.68 &  6.340000e+00\\\\\n",
       "\t atcd\\_ins\\_cardiaque & 3.21 &   0.53 &  2.19 & 0.03 & 1.12 &  9.210000e+00\\\\\n",
       "\t atcd\\_ins\\_renale    & 0.52 &   0.59 & -1.13 & 0.26 & 0.14 &  1.490000e+00\\\\\n",
       "\t atcd\\_obesite       & 0.72 &   0.65 & -0.51 & 0.61 & 0.16 &  2.260000e+00\\\\\n",
       "\t annee              & 1.02 &   0.13 &  0.18 & 0.86 & 0.79 &  1.340000e+00\\\\\n",
       "\t type\\_reamed        & 0.90 &   0.50 & -0.21 & 0.83 & 0.35 &  2.620000e+00\\\\\n",
       "\t fadenovo           & 0.80 &   0.42 & -0.52 & 0.60 & 0.35 &  1.830000e+00\\\\\n",
       "\\end{tabular}\n"
      ],
      "text/markdown": [
       "\n",
       "A tibble: 17 × 7\n",
       "\n",
       "| term &lt;chr&gt; | estimate &lt;dbl&gt; | std.error &lt;dbl&gt; | statistic &lt;dbl&gt; | p.value &lt;dbl&gt; | conf.low &lt;dbl&gt; | conf.high &lt;dbl&gt; |\n",
       "|---|---|---|---|---|---|---|\n",
       "| (Intercept)        | 0.00 | 268.35 | -0.19 | 0.85 | 0.00 | 5.263956e+200 |\n",
       "| volonte_anticoag   | 0.97 |   0.45 | -0.08 | 0.94 | 0.38 |  2.270000e+00 |\n",
       "| sex_cdW            | 0.40 |   0.60 | -1.53 | 0.13 | 0.11 |  1.200000e+00 |\n",
       "| age_at_stay_entry  | 1.00 |   0.02 |  0.06 | 0.96 | 0.96 |  1.050000e+00 |\n",
       "| vasopresseurs      | 0.50 |   0.62 | -1.13 | 0.26 | 0.15 |  1.710000e+00 |\n",
       "| eer                | 1.87 |   0.47 |  1.33 | 0.18 | 0.72 |  4.640000e+00 |\n",
       "| chads_vasc         | 0.87 |   0.30 | -0.46 | 0.64 | 0.47 |  1.530000e+00 |\n",
       "| vm                 | 2.41 |   0.60 |  1.47 | 0.14 | 0.78 |  8.240000e+00 |\n",
       "| atcd_hta           | 1.50 |   0.55 |  0.74 | 0.46 | 0.51 |  4.510000e+00 |\n",
       "| atcd_bpco          | 0.57 |   0.76 | -0.74 | 0.46 | 0.09 |  2.050000e+00 |\n",
       "| atcd_diabete       | 2.08 |   0.57 |  1.30 | 0.19 | 0.68 |  6.340000e+00 |\n",
       "| atcd_ins_cardiaque | 3.21 |   0.53 |  2.19 | 0.03 | 1.12 |  9.210000e+00 |\n",
       "| atcd_ins_renale    | 0.52 |   0.59 | -1.13 | 0.26 | 0.14 |  1.490000e+00 |\n",
       "| atcd_obesite       | 0.72 |   0.65 | -0.51 | 0.61 | 0.16 |  2.260000e+00 |\n",
       "| annee              | 1.02 |   0.13 |  0.18 | 0.86 | 0.79 |  1.340000e+00 |\n",
       "| type_reamed        | 0.90 |   0.50 | -0.21 | 0.83 | 0.35 |  2.620000e+00 |\n",
       "| fadenovo           | 0.80 |   0.42 | -0.52 | 0.60 | 0.35 |  1.830000e+00 |\n",
       "\n"
      ],
      "text/plain": [
       "   term               estimate std.error statistic p.value conf.low\n",
       "1  (Intercept)        0.00     268.35    -0.19     0.85    0.00    \n",
       "2  volonte_anticoag   0.97       0.45    -0.08     0.94    0.38    \n",
       "3  sex_cdW            0.40       0.60    -1.53     0.13    0.11    \n",
       "4  age_at_stay_entry  1.00       0.02     0.06     0.96    0.96    \n",
       "5  vasopresseurs      0.50       0.62    -1.13     0.26    0.15    \n",
       "6  eer                1.87       0.47     1.33     0.18    0.72    \n",
       "7  chads_vasc         0.87       0.30    -0.46     0.64    0.47    \n",
       "8  vm                 2.41       0.60     1.47     0.14    0.78    \n",
       "9  atcd_hta           1.50       0.55     0.74     0.46    0.51    \n",
       "10 atcd_bpco          0.57       0.76    -0.74     0.46    0.09    \n",
       "11 atcd_diabete       2.08       0.57     1.30     0.19    0.68    \n",
       "12 atcd_ins_cardiaque 3.21       0.53     2.19     0.03    1.12    \n",
       "13 atcd_ins_renale    0.52       0.59    -1.13     0.26    0.14    \n",
       "14 atcd_obesite       0.72       0.65    -0.51     0.61    0.16    \n",
       "15 annee              1.02       0.13     0.18     0.86    0.79    \n",
       "16 type_reamed        0.90       0.50    -0.21     0.83    0.35    \n",
       "17 fadenovo           0.80       0.42    -0.52     0.60    0.35    \n",
       "   conf.high    \n",
       "1  5.263956e+200\n",
       "2   2.270000e+00\n",
       "3   1.200000e+00\n",
       "4   1.050000e+00\n",
       "5   1.710000e+00\n",
       "6   4.640000e+00\n",
       "7   1.530000e+00\n",
       "8   8.240000e+00\n",
       "9   4.510000e+00\n",
       "10  2.050000e+00\n",
       "11  6.340000e+00\n",
       "12  9.210000e+00\n",
       "13  1.490000e+00\n",
       "14  2.260000e+00\n",
       "15  1.340000e+00\n",
       "16  2.620000e+00\n",
       "17  1.830000e+00"
      ]
     },
     "metadata": {},
     "output_type": "display_data"
    }
   ],
   "source": [
    "mv_ischemie_choc_septique <- glm(ischemie_cerebrale ~ volonte_anticoag + sex_cd + age_at_stay_entry + vasopresseurs + eer + chads_vasc + vm + atcd_hta + atcd_bpco + atcd_diabete + \n",
    "                                                    atcd_ins_cardiaque + atcd_ins_renale + atcd_obesite + annee + type_rea + fadenovo,\n",
    "              data=collect(sejours_rea_48_heures %>% filter (choc_septique == 1)), family=\"binomial\") %>%\n",
    "    broom::tidy(exponentiate = TRUE, conf.int = TRUE) %>%\n",
    "    mutate(across(where(is.numeric), round, digits = 2))\n",
    "\n",
    "mv_ischemie_choc_septique"
   ]
  },
  {
   "cell_type": "code",
   "execution_count": 274,
   "id": "bb7101d1-e86b-4fd9-93bb-ef220d743182",
   "metadata": {},
   "outputs": [
    {
     "data": {
      "image/png": "[encoded data removed]",
      "text/plain": [
       "plot without title"
      ]
     },
     "metadata": {
      "image/png": {
       "height": 420,
       "width": 420
      }
     },
     "output_type": "display_data"
    }
   ],
   "source": [
    "mv_ischemie_choc_septique %>%\n",
    "    slice(-1) %>%\n",
    "    ggplot + aes(x = estimate, y = term) +\n",
    "    geom_vline(aes(xintercept = 1), size = .25, linetype = \"dashed\") + \n",
    "    geom_errorbarh(aes(xmin = conf.low, xmax = conf.high), size = .5, height = .2, ) +\n",
    "    geom_point(size = 3, color = \"black\")"
   ]
  },
  {
   "cell_type": "markdown",
   "id": "ff0c0832-9a49-43d9-8149-15891253dc17",
   "metadata": {},
   "source": [
    "### CHA2DS2-VASC > 3"
   ]
  },
  {
   "cell_type": "code",
   "execution_count": 275,
   "id": "622248e6-7b80-41f9-beda-c61dc9f54fac",
   "metadata": {},
   "outputs": [
    {
     "data": {
      "text/html": [
       "<table>\n",
       "<caption>A tibble: 18 × 7</caption>\n",
       "<thead>\n",
       "\t<tr><th scope=col>term</th><th scope=col>estimate</th><th scope=col>std.error</th><th scope=col>statistic</th><th scope=col>p.value</th><th scope=col>conf.low</th><th scope=col>conf.high</th></tr>\n",
       "\t<tr><th scope=col>&lt;chr&gt;</th><th scope=col>&lt;dbl&gt;</th><th scope=col>&lt;dbl&gt;</th><th scope=col>&lt;dbl&gt;</th><th scope=col>&lt;dbl&gt;</th><th scope=col>&lt;dbl&gt;</th><th scope=col>&lt;dbl&gt;</th></tr>\n",
       "</thead>\n",
       "<tbody>\n",
       "\t<tr><td>(Intercept)       </td><td>1.065331e+145</td><td>272.82</td><td> 1.22</td><td>0.22</td><td>0.00</td><td>  Inf</td></tr>\n",
       "\t<tr><td>volonte_anticoag  </td><td> 6.500000e-01</td><td>  0.54</td><td>-0.80</td><td>0.42</td><td>0.20</td><td> 1.76</td></tr>\n",
       "\t<tr><td>sex_cdW           </td><td> 3.400000e-01</td><td>  0.52</td><td>-2.06</td><td>0.04</td><td>0.12</td><td> 0.91</td></tr>\n",
       "\t<tr><td>age_at_stay_entry </td><td> 9.700000e-01</td><td>  0.03</td><td>-1.02</td><td>0.31</td><td>0.92</td><td> 1.03</td></tr>\n",
       "\t<tr><td>vasopresseurs     </td><td> 4.400000e-01</td><td>  0.67</td><td>-1.24</td><td>0.22</td><td>0.11</td><td> 1.58</td></tr>\n",
       "\t<tr><td>eer               </td><td> 6.900000e-01</td><td>  0.83</td><td>-0.45</td><td>0.65</td><td>0.10</td><td> 2.98</td></tr>\n",
       "\t<tr><td>chads_vasc        </td><td> 1.520000e+00</td><td>  0.31</td><td> 1.36</td><td>0.17</td><td>0.80</td><td> 2.73</td></tr>\n",
       "\t<tr><td>vm                </td><td> 2.580000e+00</td><td>  0.60</td><td> 1.58</td><td>0.12</td><td>0.78</td><td> 8.30</td></tr>\n",
       "\t<tr><td>atcd_hta          </td><td> 2.370000e+00</td><td>  1.07</td><td> 0.81</td><td>0.42</td><td>0.43</td><td>44.61</td></tr>\n",
       "\t<tr><td>atcd_bpco         </td><td> 6.500000e-01</td><td>  0.66</td><td>-0.65</td><td>0.52</td><td>0.15</td><td> 2.09</td></tr>\n",
       "\t<tr><td>atcd_diabete      </td><td> 2.360000e+00</td><td>  0.60</td><td> 1.43</td><td>0.15</td><td>0.79</td><td> 8.82</td></tr>\n",
       "\t<tr><td>atcd_ins_cardiaque</td><td> 1.090000e+00</td><td>  0.48</td><td> 0.18</td><td>0.85</td><td>0.42</td><td> 2.84</td></tr>\n",
       "\t<tr><td>atcd_ins_renale   </td><td> 3.100000e-01</td><td>  0.60</td><td>-1.93</td><td>0.05</td><td>0.08</td><td> 0.93</td></tr>\n",
       "\t<tr><td>atcd_obesite      </td><td> 7.200000e-01</td><td>  0.58</td><td>-0.57</td><td>0.57</td><td>0.20</td><td> 2.07</td></tr>\n",
       "\t<tr><td>annee             </td><td> 8.500000e-01</td><td>  0.14</td><td>-1.24</td><td>0.22</td><td>0.65</td><td> 1.11</td></tr>\n",
       "\t<tr><td>type_reamed       </td><td> 8.600000e-01</td><td>  0.53</td><td>-0.28</td><td>0.78</td><td>0.32</td><td> 2.60</td></tr>\n",
       "\t<tr><td>etat_choc         </td><td> 2.900000e+00</td><td>  0.52</td><td> 2.06</td><td>0.04</td><td>1.05</td><td> 8.14</td></tr>\n",
       "\t<tr><td>fadenovo          </td><td> 6.600000e-01</td><td>  0.48</td><td>-0.87</td><td>0.38</td><td>0.24</td><td> 1.65</td></tr>\n",
       "</tbody>\n",
       "</table>\n"
      ],
      "text/latex": [
       "A tibble: 18 × 7\n",
       "\\begin{tabular}{lllllll}\n",
       " term & estimate & std.error & statistic & p.value & conf.low & conf.high\\\\\n",
       " <chr> & <dbl> & <dbl> & <dbl> & <dbl> & <dbl> & <dbl>\\\\\n",
       "\\hline\n",
       "\t (Intercept)        & 1.065331e+145 & 272.82 &  1.22 & 0.22 & 0.00 &   Inf\\\\\n",
       "\t volonte\\_anticoag   &  6.500000e-01 &   0.54 & -0.80 & 0.42 & 0.20 &  1.76\\\\\n",
       "\t sex\\_cdW            &  3.400000e-01 &   0.52 & -2.06 & 0.04 & 0.12 &  0.91\\\\\n",
       "\t age\\_at\\_stay\\_entry  &  9.700000e-01 &   0.03 & -1.02 & 0.31 & 0.92 &  1.03\\\\\n",
       "\t vasopresseurs      &  4.400000e-01 &   0.67 & -1.24 & 0.22 & 0.11 &  1.58\\\\\n",
       "\t eer                &  6.900000e-01 &   0.83 & -0.45 & 0.65 & 0.10 &  2.98\\\\\n",
       "\t chads\\_vasc         &  1.520000e+00 &   0.31 &  1.36 & 0.17 & 0.80 &  2.73\\\\\n",
       "\t vm                 &  2.580000e+00 &   0.60 &  1.58 & 0.12 & 0.78 &  8.30\\\\\n",
       "\t atcd\\_hta           &  2.370000e+00 &   1.07 &  0.81 & 0.42 & 0.43 & 44.61\\\\\n",
       "\t atcd\\_bpco          &  6.500000e-01 &   0.66 & -0.65 & 0.52 & 0.15 &  2.09\\\\\n",
       "\t atcd\\_diabete       &  2.360000e+00 &   0.60 &  1.43 & 0.15 & 0.79 &  8.82\\\\\n",
       "\t atcd\\_ins\\_cardiaque &  1.090000e+00 &   0.48 &  0.18 & 0.85 & 0.42 &  2.84\\\\\n",
       "\t atcd\\_ins\\_renale    &  3.100000e-01 &   0.60 & -1.93 & 0.05 & 0.08 &  0.93\\\\\n",
       "\t atcd\\_obesite       &  7.200000e-01 &   0.58 & -0.57 & 0.57 & 0.20 &  2.07\\\\\n",
       "\t annee              &  8.500000e-01 &   0.14 & -1.24 & 0.22 & 0.65 &  1.11\\\\\n",
       "\t type\\_reamed        &  8.600000e-01 &   0.53 & -0.28 & 0.78 & 0.32 &  2.60\\\\\n",
       "\t etat\\_choc          &  2.900000e+00 &   0.52 &  2.06 & 0.04 & 1.05 &  8.14\\\\\n",
       "\t fadenovo           &  6.600000e-01 &   0.48 & -0.87 & 0.38 & 0.24 &  1.65\\\\\n",
       "\\end{tabular}\n"
      ],
      "text/markdown": [
       "\n",
       "A tibble: 18 × 7\n",
       "\n",
       "| term &lt;chr&gt; | estimate &lt;dbl&gt; | std.error &lt;dbl&gt; | statistic &lt;dbl&gt; | p.value &lt;dbl&gt; | conf.low &lt;dbl&gt; | conf.high &lt;dbl&gt; |\n",
       "|---|---|---|---|---|---|---|\n",
       "| (Intercept)        | 1.065331e+145 | 272.82 |  1.22 | 0.22 | 0.00 |   Inf |\n",
       "| volonte_anticoag   |  6.500000e-01 |   0.54 | -0.80 | 0.42 | 0.20 |  1.76 |\n",
       "| sex_cdW            |  3.400000e-01 |   0.52 | -2.06 | 0.04 | 0.12 |  0.91 |\n",
       "| age_at_stay_entry  |  9.700000e-01 |   0.03 | -1.02 | 0.31 | 0.92 |  1.03 |\n",
       "| vasopresseurs      |  4.400000e-01 |   0.67 | -1.24 | 0.22 | 0.11 |  1.58 |\n",
       "| eer                |  6.900000e-01 |   0.83 | -0.45 | 0.65 | 0.10 |  2.98 |\n",
       "| chads_vasc         |  1.520000e+00 |   0.31 |  1.36 | 0.17 | 0.80 |  2.73 |\n",
       "| vm                 |  2.580000e+00 |   0.60 |  1.58 | 0.12 | 0.78 |  8.30 |\n",
       "| atcd_hta           |  2.370000e+00 |   1.07 |  0.81 | 0.42 | 0.43 | 44.61 |\n",
       "| atcd_bpco          |  6.500000e-01 |   0.66 | -0.65 | 0.52 | 0.15 |  2.09 |\n",
       "| atcd_diabete       |  2.360000e+00 |   0.60 |  1.43 | 0.15 | 0.79 |  8.82 |\n",
       "| atcd_ins_cardiaque |  1.090000e+00 |   0.48 |  0.18 | 0.85 | 0.42 |  2.84 |\n",
       "| atcd_ins_renale    |  3.100000e-01 |   0.60 | -1.93 | 0.05 | 0.08 |  0.93 |\n",
       "| atcd_obesite       |  7.200000e-01 |   0.58 | -0.57 | 0.57 | 0.20 |  2.07 |\n",
       "| annee              |  8.500000e-01 |   0.14 | -1.24 | 0.22 | 0.65 |  1.11 |\n",
       "| type_reamed        |  8.600000e-01 |   0.53 | -0.28 | 0.78 | 0.32 |  2.60 |\n",
       "| etat_choc          |  2.900000e+00 |   0.52 |  2.06 | 0.04 | 1.05 |  8.14 |\n",
       "| fadenovo           |  6.600000e-01 |   0.48 | -0.87 | 0.38 | 0.24 |  1.65 |\n",
       "\n"
      ],
      "text/plain": [
       "   term               estimate      std.error statistic p.value conf.low\n",
       "1  (Intercept)        1.065331e+145 272.82     1.22     0.22    0.00    \n",
       "2  volonte_anticoag    6.500000e-01   0.54    -0.80     0.42    0.20    \n",
       "3  sex_cdW             3.400000e-01   0.52    -2.06     0.04    0.12    \n",
       "4  age_at_stay_entry   9.700000e-01   0.03    -1.02     0.31    0.92    \n",
       "5  vasopresseurs       4.400000e-01   0.67    -1.24     0.22    0.11    \n",
       "6  eer                 6.900000e-01   0.83    -0.45     0.65    0.10    \n",
       "7  chads_vasc          1.520000e+00   0.31     1.36     0.17    0.80    \n",
       "8  vm                  2.580000e+00   0.60     1.58     0.12    0.78    \n",
       "9  atcd_hta            2.370000e+00   1.07     0.81     0.42    0.43    \n",
       "10 atcd_bpco           6.500000e-01   0.66    -0.65     0.52    0.15    \n",
       "11 atcd_diabete        2.360000e+00   0.60     1.43     0.15    0.79    \n",
       "12 atcd_ins_cardiaque  1.090000e+00   0.48     0.18     0.85    0.42    \n",
       "13 atcd_ins_renale     3.100000e-01   0.60    -1.93     0.05    0.08    \n",
       "14 atcd_obesite        7.200000e-01   0.58    -0.57     0.57    0.20    \n",
       "15 annee               8.500000e-01   0.14    -1.24     0.22    0.65    \n",
       "16 type_reamed         8.600000e-01   0.53    -0.28     0.78    0.32    \n",
       "17 etat_choc           2.900000e+00   0.52     2.06     0.04    1.05    \n",
       "18 fadenovo            6.600000e-01   0.48    -0.87     0.38    0.24    \n",
       "   conf.high\n",
       "1    Inf    \n",
       "2   1.76    \n",
       "3   0.91    \n",
       "4   1.03    \n",
       "5   1.58    \n",
       "6   2.98    \n",
       "7   2.73    \n",
       "8   8.30    \n",
       "9  44.61    \n",
       "10  2.09    \n",
       "11  8.82    \n",
       "12  2.84    \n",
       "13  0.93    \n",
       "14  2.07    \n",
       "15  1.11    \n",
       "16  2.60    \n",
       "17  8.14    \n",
       "18  1.65    "
      ]
     },
     "metadata": {},
     "output_type": "display_data"
    }
   ],
   "source": [
    "mv_ischemie_chads_3 <- glm(ischemie_cerebrale ~ volonte_anticoag + sex_cd + age_at_stay_entry + vasopresseurs + eer + chads_vasc + vm + atcd_hta + atcd_bpco + atcd_diabete + \n",
    "                                                    atcd_ins_cardiaque + atcd_ins_renale + atcd_obesite + annee + type_rea + etat_choc + fadenovo,\n",
    "              data=collect(sejours_rea_48_heures %>% filter (chads_vasc > 3)), family=\"binomial\") %>%\n",
    "    broom::tidy(exponentiate = TRUE, conf.int = TRUE) %>%\n",
    "    mutate(across(where(is.numeric), round, digits = 2))\n",
    "\n",
    "mv_ischemie_chads_3"
   ]
  },
  {
   "cell_type": "code",
   "execution_count": 276,
   "id": "38115694-9c81-40fc-bcac-07b040c405b8",
   "metadata": {},
   "outputs": [
    {
     "data": {
      "image/png": "[encoded data removed]",
      "text/plain": [
       "plot without title"
      ]
     },
     "metadata": {
      "image/png": {
       "height": 420,
       "width": 420
      }
     },
     "output_type": "display_data"
    }
   ],
   "source": [
    "mv_ischemie_chads_3 %>%\n",
    "    slice(-1) %>%\n",
    "    ggplot + aes(x = estimate, y = term) +\n",
    "    geom_vline(aes(xintercept = 1), size = .25, linetype = \"dashed\") + \n",
    "    geom_errorbarh(aes(xmin = conf.low, xmax = conf.high), size = .5, height = .2, ) +\n",
    "    geom_point(size = 3, color = \"black\")"
   ]
  },
  {
   "cell_type": "markdown",
   "id": "7182c575-b9fc-404e-ab8d-687c664b800e",
   "metadata": {},
   "source": [
    "### Graphique des OR/RR global et en fonction des sous-groupes"
   ]
  },
  {
   "cell_type": "code",
   "execution_count": 277,
   "id": "ecc6f5b6-d810-4ec3-80aa-d110406f0d96",
   "metadata": {},
   "outputs": [
    {
     "data": {
      "text/html": [
       "<table>\n",
       "<caption>A tibble: 18 × 7</caption>\n",
       "<thead>\n",
       "\t<tr><th scope=col>term</th><th scope=col>estimate</th><th scope=col>std.error</th><th scope=col>statistic</th><th scope=col>p.value</th><th scope=col>conf.low</th><th scope=col>conf.high</th></tr>\n",
       "\t<tr><th scope=col>&lt;chr&gt;</th><th scope=col>&lt;dbl&gt;</th><th scope=col>&lt;dbl&gt;</th><th scope=col>&lt;dbl&gt;</th><th scope=col>&lt;dbl&gt;</th><th scope=col>&lt;dbl&gt;</th><th scope=col>&lt;dbl&gt;</th></tr>\n",
       "</thead>\n",
       "<tbody>\n",
       "\t<tr><td>(Intercept)               </td><td>0.00</td><td>115.79</td><td>-1.84</td><td>0.07</td><td>0.00</td><td>13010.47</td></tr>\n",
       "\t<tr><td>efficacite_anticoag_binary</td><td>1.44</td><td>  0.36</td><td> 1.01</td><td>0.31</td><td>0.66</td><td>    2.79</td></tr>\n",
       "\t<tr><td>sex_cdW                   </td><td>1.12</td><td>  0.24</td><td> 0.48</td><td>0.63</td><td>0.70</td><td>    1.80</td></tr>\n",
       "\t<tr><td>age_at_stay_entry         </td><td>1.00</td><td>  0.01</td><td> 0.18</td><td>0.85</td><td>0.98</td><td>    1.02</td></tr>\n",
       "\t<tr><td>vasopresseurs             </td><td>0.75</td><td>  0.29</td><td>-1.01</td><td>0.31</td><td>0.43</td><td>    1.31</td></tr>\n",
       "\t<tr><td>eer                       </td><td>1.04</td><td>  0.32</td><td> 0.11</td><td>0.91</td><td>0.54</td><td>    1.87</td></tr>\n",
       "\t<tr><td>chads_vasc                </td><td>0.94</td><td>  0.15</td><td>-0.43</td><td>0.67</td><td>0.69</td><td>    1.25</td></tr>\n",
       "\t<tr><td>vm                        </td><td>2.68</td><td>  0.26</td><td> 3.83</td><td>0.00</td><td>1.62</td><td>    4.44</td></tr>\n",
       "\t<tr><td>atcd_hta                  </td><td>2.14</td><td>  0.28</td><td> 2.75</td><td>0.01</td><td>1.25</td><td>    3.69</td></tr>\n",
       "\t<tr><td>atcd_bpco                 </td><td>0.72</td><td>  0.34</td><td>-0.95</td><td>0.34</td><td>0.35</td><td>    1.35</td></tr>\n",
       "\t<tr><td>atcd_diabete              </td><td>0.99</td><td>  0.30</td><td>-0.02</td><td>0.99</td><td>0.55</td><td>    1.78</td></tr>\n",
       "\t<tr><td>atcd_ins_cardiaque        </td><td>1.61</td><td>  0.26</td><td> 1.87</td><td>0.06</td><td>0.97</td><td>    2.64</td></tr>\n",
       "\t<tr><td>atcd_ins_renale           </td><td>0.69</td><td>  0.31</td><td>-1.19</td><td>0.23</td><td>0.36</td><td>    1.23</td></tr>\n",
       "\t<tr><td>atcd_obesite              </td><td>0.46</td><td>  0.38</td><td>-2.00</td><td>0.04</td><td>0.20</td><td>    0.93</td></tr>\n",
       "\t<tr><td>annee                     </td><td>1.11</td><td>  0.06</td><td> 1.80</td><td>0.07</td><td>0.99</td><td>    1.24</td></tr>\n",
       "\t<tr><td>type_reamed               </td><td>1.05</td><td>  0.24</td><td> 0.20</td><td>0.85</td><td>0.67</td><td>    1.68</td></tr>\n",
       "\t<tr><td>etat_choc                 </td><td>1.56</td><td>  0.24</td><td> 1.85</td><td>0.06</td><td>0.97</td><td>    2.49</td></tr>\n",
       "\t<tr><td>fadenovo                  </td><td>1.33</td><td>  0.21</td><td> 1.40</td><td>0.16</td><td>0.89</td><td>    1.99</td></tr>\n",
       "</tbody>\n",
       "</table>\n"
      ],
      "text/latex": [
       "A tibble: 18 × 7\n",
       "\\begin{tabular}{lllllll}\n",
       " term & estimate & std.error & statistic & p.value & conf.low & conf.high\\\\\n",
       " <chr> & <dbl> & <dbl> & <dbl> & <dbl> & <dbl> & <dbl>\\\\\n",
       "\\hline\n",
       "\t (Intercept)                & 0.00 & 115.79 & -1.84 & 0.07 & 0.00 & 13010.47\\\\\n",
       "\t efficacite\\_anticoag\\_binary & 1.44 &   0.36 &  1.01 & 0.31 & 0.66 &     2.79\\\\\n",
       "\t sex\\_cdW                    & 1.12 &   0.24 &  0.48 & 0.63 & 0.70 &     1.80\\\\\n",
       "\t age\\_at\\_stay\\_entry          & 1.00 &   0.01 &  0.18 & 0.85 & 0.98 &     1.02\\\\\n",
       "\t vasopresseurs              & 0.75 &   0.29 & -1.01 & 0.31 & 0.43 &     1.31\\\\\n",
       "\t eer                        & 1.04 &   0.32 &  0.11 & 0.91 & 0.54 &     1.87\\\\\n",
       "\t chads\\_vasc                 & 0.94 &   0.15 & -0.43 & 0.67 & 0.69 &     1.25\\\\\n",
       "\t vm                         & 2.68 &   0.26 &  3.83 & 0.00 & 1.62 &     4.44\\\\\n",
       "\t atcd\\_hta                   & 2.14 &   0.28 &  2.75 & 0.01 & 1.25 &     3.69\\\\\n",
       "\t atcd\\_bpco                  & 0.72 &   0.34 & -0.95 & 0.34 & 0.35 &     1.35\\\\\n",
       "\t atcd\\_diabete               & 0.99 &   0.30 & -0.02 & 0.99 & 0.55 &     1.78\\\\\n",
       "\t atcd\\_ins\\_cardiaque         & 1.61 &   0.26 &  1.87 & 0.06 & 0.97 &     2.64\\\\\n",
       "\t atcd\\_ins\\_renale            & 0.69 &   0.31 & -1.19 & 0.23 & 0.36 &     1.23\\\\\n",
       "\t atcd\\_obesite               & 0.46 &   0.38 & -2.00 & 0.04 & 0.20 &     0.93\\\\\n",
       "\t annee                      & 1.11 &   0.06 &  1.80 & 0.07 & 0.99 &     1.24\\\\\n",
       "\t type\\_reamed                & 1.05 &   0.24 &  0.20 & 0.85 & 0.67 &     1.68\\\\\n",
       "\t etat\\_choc                  & 1.56 &   0.24 &  1.85 & 0.06 & 0.97 &     2.49\\\\\n",
       "\t fadenovo                   & 1.33 &   0.21 &  1.40 & 0.16 & 0.89 &     1.99\\\\\n",
       "\\end{tabular}\n"
      ],
      "text/markdown": [
       "\n",
       "A tibble: 18 × 7\n",
       "\n",
       "| term &lt;chr&gt; | estimate &lt;dbl&gt; | std.error &lt;dbl&gt; | statistic &lt;dbl&gt; | p.value &lt;dbl&gt; | conf.low &lt;dbl&gt; | conf.high &lt;dbl&gt; |\n",
       "|---|---|---|---|---|---|---|\n",
       "| (Intercept)                | 0.00 | 115.79 | -1.84 | 0.07 | 0.00 | 13010.47 |\n",
       "| efficacite_anticoag_binary | 1.44 |   0.36 |  1.01 | 0.31 | 0.66 |     2.79 |\n",
       "| sex_cdW                    | 1.12 |   0.24 |  0.48 | 0.63 | 0.70 |     1.80 |\n",
       "| age_at_stay_entry          | 1.00 |   0.01 |  0.18 | 0.85 | 0.98 |     1.02 |\n",
       "| vasopresseurs              | 0.75 |   0.29 | -1.01 | 0.31 | 0.43 |     1.31 |\n",
       "| eer                        | 1.04 |   0.32 |  0.11 | 0.91 | 0.54 |     1.87 |\n",
       "| chads_vasc                 | 0.94 |   0.15 | -0.43 | 0.67 | 0.69 |     1.25 |\n",
       "| vm                         | 2.68 |   0.26 |  3.83 | 0.00 | 1.62 |     4.44 |\n",
       "| atcd_hta                   | 2.14 |   0.28 |  2.75 | 0.01 | 1.25 |     3.69 |\n",
       "| atcd_bpco                  | 0.72 |   0.34 | -0.95 | 0.34 | 0.35 |     1.35 |\n",
       "| atcd_diabete               | 0.99 |   0.30 | -0.02 | 0.99 | 0.55 |     1.78 |\n",
       "| atcd_ins_cardiaque         | 1.61 |   0.26 |  1.87 | 0.06 | 0.97 |     2.64 |\n",
       "| atcd_ins_renale            | 0.69 |   0.31 | -1.19 | 0.23 | 0.36 |     1.23 |\n",
       "| atcd_obesite               | 0.46 |   0.38 | -2.00 | 0.04 | 0.20 |     0.93 |\n",
       "| annee                      | 1.11 |   0.06 |  1.80 | 0.07 | 0.99 |     1.24 |\n",
       "| type_reamed                | 1.05 |   0.24 |  0.20 | 0.85 | 0.67 |     1.68 |\n",
       "| etat_choc                  | 1.56 |   0.24 |  1.85 | 0.06 | 0.97 |     2.49 |\n",
       "| fadenovo                   | 1.33 |   0.21 |  1.40 | 0.16 | 0.89 |     1.99 |\n",
       "\n"
      ],
      "text/plain": [
       "   term                       estimate std.error statistic p.value conf.low\n",
       "1  (Intercept)                0.00     115.79    -1.84     0.07    0.00    \n",
       "2  efficacite_anticoag_binary 1.44       0.36     1.01     0.31    0.66    \n",
       "3  sex_cdW                    1.12       0.24     0.48     0.63    0.70    \n",
       "4  age_at_stay_entry          1.00       0.01     0.18     0.85    0.98    \n",
       "5  vasopresseurs              0.75       0.29    -1.01     0.31    0.43    \n",
       "6  eer                        1.04       0.32     0.11     0.91    0.54    \n",
       "7  chads_vasc                 0.94       0.15    -0.43     0.67    0.69    \n",
       "8  vm                         2.68       0.26     3.83     0.00    1.62    \n",
       "9  atcd_hta                   2.14       0.28     2.75     0.01    1.25    \n",
       "10 atcd_bpco                  0.72       0.34    -0.95     0.34    0.35    \n",
       "11 atcd_diabete               0.99       0.30    -0.02     0.99    0.55    \n",
       "12 atcd_ins_cardiaque         1.61       0.26     1.87     0.06    0.97    \n",
       "13 atcd_ins_renale            0.69       0.31    -1.19     0.23    0.36    \n",
       "14 atcd_obesite               0.46       0.38    -2.00     0.04    0.20    \n",
       "15 annee                      1.11       0.06     1.80     0.07    0.99    \n",
       "16 type_reamed                1.05       0.24     0.20     0.85    0.67    \n",
       "17 etat_choc                  1.56       0.24     1.85     0.06    0.97    \n",
       "18 fadenovo                   1.33       0.21     1.40     0.16    0.89    \n",
       "   conf.high\n",
       "1  13010.47 \n",
       "2      2.79 \n",
       "3      1.80 \n",
       "4      1.02 \n",
       "5      1.31 \n",
       "6      1.87 \n",
       "7      1.25 \n",
       "8      4.44 \n",
       "9      3.69 \n",
       "10     1.35 \n",
       "11     1.78 \n",
       "12     2.64 \n",
       "13     1.23 \n",
       "14     0.93 \n",
       "15     1.24 \n",
       "16     1.68 \n",
       "17     2.49 \n",
       "18     1.99 "
      ]
     },
     "metadata": {},
     "output_type": "display_data"
    }
   ],
   "source": [
    "mv_ischemie_traitement"
   ]
  },
  {
   "cell_type": "code",
   "execution_count": 278,
   "id": "974e4909-b9d1-4c21-a08e-cdd8ecbb729f",
   "metadata": {},
   "outputs": [
    {
     "data": {
      "image/png": "[encoded data removed]",
      "text/plain": [
       "plot without title"
      ]
     },
     "metadata": {
      "image/png": {
       "height": 420,
       "width": 420
      }
     },
     "output_type": "display_data"
    }
   ],
   "source": [
    "bind_rows(lst(mv_ischemie, mv_ischemie_chads_3, mv_ischemie_choc_septique, mv_ischemie_fadenovo), .id = \"id\") %>%\n",
    "    filter(term == 'volonte_anticoag') %>%\n",
    "    mutate(id = case_when(\n",
    "        id == \"mv_ischemie\" ~ \"Global\",\n",
    "        id == \"mv_ischemie_chads_3\" ~ \"CHADS > 3\",\n",
    "        id == \"mv_ischemie_choc_septique\" ~ \"Septic Shock\",\n",
    "        id == \"mv_ischemie_fadenovo\" ~ \"De novo AF\"\n",
    "        )) %>%\n",
    "    ggplot + aes(x = estimate, y = fct_relevel(id, \"Global\", \"CHADS > 3\", \"Septic Shock\", \"De novo AF\")) +\n",
    "    geom_vline(aes(xintercept = 1), size = .25, linetype = \"dashed\") + \n",
    "    geom_errorbarh(aes(xmin = conf.low, xmax = conf.high), size = .5, height = .2) +\n",
    "    geom_point(size = 3.5, color = \"black\") +\n",
    "    labs(x = \"Odds Ratio\",\n",
    "         y = \"\") +\n",
    "    theme_minimal()"
   ]
  },
  {
   "cell_type": "markdown",
   "id": "c2ebf374-52bf-4a9d-98c7-ea676a2effbe",
   "metadata": {
    "tags": []
   },
   "source": [
    "## Analyses de sensibilité supplémentaires\n",
    "### Calcul de l'ATE dans le sous-groupe des patients ayant une FA de novo"
   ]
  },
  {
   "cell_type": "code",
   "execution_count": 279,
   "id": "327cde41-9b1f-4fec-8104-ff894e7598b7",
   "metadata": {},
   "outputs": [],
   "source": [
    "sejours_rea_48_heures_fa_de_novo <- sejours_rea_48_heures %>% filter (fadenovo == 1)\n",
    "\n",
    "fit <- glm(ischemie_cerebrale ~ volonte_anticoag * (sex_cd + age_at_stay_entry + vasopresseurs + eer + chads_vasc + vm + atcd_hta + atcd_bpco + atcd_diabete + \n",
    "                                                    atcd_ins_cardiaque + atcd_ins_renale + atcd_obesite + annee + type_rea + etat_choc + fadenovo), \n",
    "           data = collect(sejours_rea_48_heures_fa_de_novo), family = 'quasibinomial', weights = sejours_rea_48_heures_fa_de_novo$weights)"
   ]
  },
  {
   "cell_type": "code",
   "execution_count": 280,
   "id": "ddd117d1-9472-4d83-9985-d87ea42c618a",
   "metadata": {},
   "outputs": [
    {
     "data": {
      "text/html": [
       "<table>\n",
       "<caption>A comparisons: 1 × 10</caption>\n",
       "<thead>\n",
       "\t<tr><th scope=col>term</th><th scope=col>contrast</th><th scope=col>estimate</th><th scope=col>p.value</th><th scope=col>s.value</th><th scope=col>conf.low</th><th scope=col>conf.high</th><th scope=col>predicted_lo</th><th scope=col>predicted_hi</th><th scope=col>predicted</th></tr>\n",
       "\t<tr><th scope=col>&lt;chr&gt;</th><th scope=col>&lt;chr&gt;</th><th scope=col>&lt;dbl&gt;</th><th scope=col>&lt;dbl&gt;</th><th scope=col>&lt;dbl&gt;</th><th scope=col>&lt;dbl&gt;</th><th scope=col>&lt;dbl&gt;</th><th scope=col>&lt;dbl&gt;</th><th scope=col>&lt;dbl&gt;</th><th scope=col>&lt;dbl&gt;</th></tr>\n",
       "</thead>\n",
       "<tbody>\n",
       "\t<tr><td>volonte_anticoag</td><td>ln(mean(1) / mean(0))</td><td>1.476111</td><td>0.3668531</td><td>1.446726</td><td>0.6335707</td><td>3.439084</td><td>0.007389277</td><td>0.2590646</td><td>0.007389277</td></tr>\n",
       "</tbody>\n",
       "</table>\n"
      ],
      "text/latex": [
       "A comparisons: 1 × 10\n",
       "\\begin{tabular}{llllllllll}\n",
       " term & contrast & estimate & p.value & s.value & conf.low & conf.high & predicted\\_lo & predicted\\_hi & predicted\\\\\n",
       " <chr> & <chr> & <dbl> & <dbl> & <dbl> & <dbl> & <dbl> & <dbl> & <dbl> & <dbl>\\\\\n",
       "\\hline\n",
       "\t volonte\\_anticoag & ln(mean(1) / mean(0)) & 1.476111 & 0.3668531 & 1.446726 & 0.6335707 & 3.439084 & 0.007389277 & 0.2590646 & 0.007389277\\\\\n",
       "\\end{tabular}\n"
      ],
      "text/markdown": [
       "\n",
       "A comparisons: 1 × 10\n",
       "\n",
       "| term &lt;chr&gt; | contrast &lt;chr&gt; | estimate &lt;dbl&gt; | p.value &lt;dbl&gt; | s.value &lt;dbl&gt; | conf.low &lt;dbl&gt; | conf.high &lt;dbl&gt; | predicted_lo &lt;dbl&gt; | predicted_hi &lt;dbl&gt; | predicted &lt;dbl&gt; |\n",
       "|---|---|---|---|---|---|---|---|---|---|\n",
       "| volonte_anticoag | ln(mean(1) / mean(0)) | 1.476111 | 0.3668531 | 1.446726 | 0.6335707 | 3.439084 | 0.007389277 | 0.2590646 | 0.007389277 |\n",
       "\n"
      ],
      "text/plain": [
       "  term             contrast              estimate p.value   s.value  conf.low \n",
       "1 volonte_anticoag ln(mean(1) / mean(0)) 1.476111 0.3668531 1.446726 0.6335707\n",
       "  conf.high predicted_lo predicted_hi predicted  \n",
       "1 3.439084  0.007389277  0.2590646    0.007389277"
      ]
     },
     "metadata": {},
     "output_type": "display_data"
    }
   ],
   "source": [
    "avg_comparisons(fit, variables = \"volonte_anticoag\",\n",
    "                vcov = \"HC3\",\n",
    "                newdata = collect(sejours_rea_48_heures_fa_de_novo),\n",
    "                wts = sejours_rea_48_heures_fa_de_novo$weights,\n",
    "                comparison = \"lnratioavg\",\n",
    "                transform = \"exp\")"
   ]
  },
  {
   "cell_type": "code",
   "execution_count": 281,
   "id": "3f97b23d-21eb-4cd5-95b6-0073ff3021b4",
   "metadata": {},
   "outputs": [
    {
     "data": {
      "text/html": [
       "<table>\n",
       "<caption>A comparisons: 1 × 9</caption>\n",
       "<thead>\n",
       "\t<tr><th scope=col>term</th><th scope=col>contrast</th><th scope=col>estimate</th><th scope=col>std.error</th><th scope=col>statistic</th><th scope=col>p.value</th><th scope=col>s.value</th><th scope=col>conf.low</th><th scope=col>conf.high</th></tr>\n",
       "\t<tr><th scope=col>&lt;chr&gt;</th><th scope=col>&lt;chr&gt;</th><th scope=col>&lt;dbl&gt;</th><th scope=col>&lt;dbl&gt;</th><th scope=col>&lt;dbl&gt;</th><th scope=col>&lt;dbl&gt;</th><th scope=col>&lt;dbl&gt;</th><th scope=col>&lt;dbl&gt;</th><th scope=col>&lt;dbl&gt;</th></tr>\n",
       "</thead>\n",
       "<tbody>\n",
       "\t<tr><td>volonte_anticoag</td><td>1 - 0</td><td>0.01418877</td><td>0.01808065</td><td>0.7847487</td><td>0.4326009</td><td>1.208891</td><td>-0.02124866</td><td>0.0496262</td></tr>\n",
       "</tbody>\n",
       "</table>\n"
      ],
      "text/latex": [
       "A comparisons: 1 × 9\n",
       "\\begin{tabular}{lllllllll}\n",
       " term & contrast & estimate & std.error & statistic & p.value & s.value & conf.low & conf.high\\\\\n",
       " <chr> & <chr> & <dbl> & <dbl> & <dbl> & <dbl> & <dbl> & <dbl> & <dbl>\\\\\n",
       "\\hline\n",
       "\t volonte\\_anticoag & 1 - 0 & 0.01418877 & 0.01808065 & 0.7847487 & 0.4326009 & 1.208891 & -0.02124866 & 0.0496262\\\\\n",
       "\\end{tabular}\n"
      ],
      "text/markdown": [
       "\n",
       "A comparisons: 1 × 9\n",
       "\n",
       "| term &lt;chr&gt; | contrast &lt;chr&gt; | estimate &lt;dbl&gt; | std.error &lt;dbl&gt; | statistic &lt;dbl&gt; | p.value &lt;dbl&gt; | s.value &lt;dbl&gt; | conf.low &lt;dbl&gt; | conf.high &lt;dbl&gt; |\n",
       "|---|---|---|---|---|---|---|---|---|\n",
       "| volonte_anticoag | 1 - 0 | 0.01418877 | 0.01808065 | 0.7847487 | 0.4326009 | 1.208891 | -0.02124866 | 0.0496262 |\n",
       "\n"
      ],
      "text/plain": [
       "  term             contrast estimate   std.error  statistic p.value   s.value \n",
       "1 volonte_anticoag 1 - 0    0.01418877 0.01808065 0.7847487 0.4326009 1.208891\n",
       "  conf.low    conf.high\n",
       "1 -0.02124866 0.0496262"
      ]
     },
     "metadata": {},
     "output_type": "display_data"
    }
   ],
   "source": [
    "avg_comparisons(fit, variables = \"volonte_anticoag\",\n",
    "                vcov = \"HC3\",\n",
    "                newdata = collect(sejours_rea_48_heures_fa_de_novo),\n",
    "                wts = sejours_rea_48_heures_fa_de_novo$weights)"
   ]
  },
  {
   "cell_type": "markdown",
   "id": "034e9f64-4e89-40fa-adf0-ae0d04c1a713",
   "metadata": {},
   "source": [
    "### Calcul de l'ATE dans le sous-groupe des patients ayant une anticoagulation jugée efficace"
   ]
  },
  {
   "cell_type": "code",
   "execution_count": 282,
   "id": "0927f060-83c4-43ee-9dde-6c3db1b3237e",
   "metadata": {},
   "outputs": [],
   "source": [
    "fit <- glm(ischemie_cerebrale ~ efficacite_anticoag_binary * (sex_cd + age_at_stay_entry + vasopresseurs + eer + chads_vasc + vm + atcd_hta + atcd_bpco + atcd_diabete + \n",
    "                                                    atcd_ins_cardiaque + atcd_ins_renale + atcd_obesite + annee + type_rea + etat_choc + fadenovo), \n",
    "           data = collect(sejours_rea_48_heures), family = 'quasibinomial', weights = sejours_rea_48_heures$weights)"
   ]
  },
  {
   "cell_type": "code",
   "execution_count": 283,
   "id": "8bb7ce41-655f-40ba-8ac2-aadd7e5e6d05",
   "metadata": {},
   "outputs": [
    {
     "data": {
      "text/html": [
       "<table>\n",
       "<caption>A comparisons: 1 × 10</caption>\n",
       "<thead>\n",
       "\t<tr><th scope=col>term</th><th scope=col>contrast</th><th scope=col>estimate</th><th scope=col>p.value</th><th scope=col>s.value</th><th scope=col>conf.low</th><th scope=col>conf.high</th><th scope=col>predicted_lo</th><th scope=col>predicted_hi</th><th scope=col>predicted</th></tr>\n",
       "\t<tr><th scope=col>&lt;chr&gt;</th><th scope=col>&lt;chr&gt;</th><th scope=col>&lt;dbl&gt;</th><th scope=col>&lt;dbl&gt;</th><th scope=col>&lt;dbl&gt;</th><th scope=col>&lt;dbl&gt;</th><th scope=col>&lt;dbl&gt;</th><th scope=col>&lt;dbl&gt;</th><th scope=col>&lt;dbl&gt;</th><th scope=col>&lt;dbl&gt;</th></tr>\n",
       "</thead>\n",
       "<tbody>\n",
       "\t<tr><td>efficacite_anticoag_binary</td><td>ln(mean(1) / mean(0))</td><td>1.234161</td><td>0.6619416</td><td>0.5952241</td><td>0.4806005</td><td>3.169273</td><td>0.02195909</td><td>0.004459326</td><td>0.02195909</td></tr>\n",
       "</tbody>\n",
       "</table>\n"
      ],
      "text/latex": [
       "A comparisons: 1 × 10\n",
       "\\begin{tabular}{llllllllll}\n",
       " term & contrast & estimate & p.value & s.value & conf.low & conf.high & predicted\\_lo & predicted\\_hi & predicted\\\\\n",
       " <chr> & <chr> & <dbl> & <dbl> & <dbl> & <dbl> & <dbl> & <dbl> & <dbl> & <dbl>\\\\\n",
       "\\hline\n",
       "\t efficacite\\_anticoag\\_binary & ln(mean(1) / mean(0)) & 1.234161 & 0.6619416 & 0.5952241 & 0.4806005 & 3.169273 & 0.02195909 & 0.004459326 & 0.02195909\\\\\n",
       "\\end{tabular}\n"
      ],
      "text/markdown": [
       "\n",
       "A comparisons: 1 × 10\n",
       "\n",
       "| term &lt;chr&gt; | contrast &lt;chr&gt; | estimate &lt;dbl&gt; | p.value &lt;dbl&gt; | s.value &lt;dbl&gt; | conf.low &lt;dbl&gt; | conf.high &lt;dbl&gt; | predicted_lo &lt;dbl&gt; | predicted_hi &lt;dbl&gt; | predicted &lt;dbl&gt; |\n",
       "|---|---|---|---|---|---|---|---|---|---|\n",
       "| efficacite_anticoag_binary | ln(mean(1) / mean(0)) | 1.234161 | 0.6619416 | 0.5952241 | 0.4806005 | 3.169273 | 0.02195909 | 0.004459326 | 0.02195909 |\n",
       "\n"
      ],
      "text/plain": [
       "  term                       contrast              estimate p.value   s.value  \n",
       "1 efficacite_anticoag_binary ln(mean(1) / mean(0)) 1.234161 0.6619416 0.5952241\n",
       "  conf.low  conf.high predicted_lo predicted_hi predicted \n",
       "1 0.4806005 3.169273  0.02195909   0.004459326  0.02195909"
      ]
     },
     "metadata": {},
     "output_type": "display_data"
    }
   ],
   "source": [
    "avg_comparisons(fit, variables = \"efficacite_anticoag_binary\",\n",
    "                vcov = \"HC3\",\n",
    "                newdata = collect(sejours_rea_48_heures),\n",
    "                wts = sejours_rea_48_heures$weights,\n",
    "                comparison = \"lnratioavg\",\n",
    "                transform = \"exp\")"
   ]
  },
  {
   "cell_type": "code",
   "execution_count": 284,
   "id": "61c36206-c6f9-47ea-b0d7-340aefabc17d",
   "metadata": {},
   "outputs": [
    {
     "data": {
      "text/html": [
       "<table>\n",
       "<caption>A comparisons: 1 × 9</caption>\n",
       "<thead>\n",
       "\t<tr><th scope=col>term</th><th scope=col>contrast</th><th scope=col>estimate</th><th scope=col>std.error</th><th scope=col>statistic</th><th scope=col>p.value</th><th scope=col>s.value</th><th scope=col>conf.low</th><th scope=col>conf.high</th></tr>\n",
       "\t<tr><th scope=col>&lt;chr&gt;</th><th scope=col>&lt;chr&gt;</th><th scope=col>&lt;dbl&gt;</th><th scope=col>&lt;dbl&gt;</th><th scope=col>&lt;dbl&gt;</th><th scope=col>&lt;dbl&gt;</th><th scope=col>&lt;dbl&gt;</th><th scope=col>&lt;dbl&gt;</th><th scope=col>&lt;dbl&gt;</th></tr>\n",
       "</thead>\n",
       "<tbody>\n",
       "\t<tr><td>efficacite_anticoag_binary</td><td>1 - 0</td><td>0.004970271</td><td>0.01243159</td><td>0.3998099</td><td>0.6892966</td><td>0.5368033</td><td>-0.01939519</td><td>0.02933573</td></tr>\n",
       "</tbody>\n",
       "</table>\n"
      ],
      "text/latex": [
       "A comparisons: 1 × 9\n",
       "\\begin{tabular}{lllllllll}\n",
       " term & contrast & estimate & std.error & statistic & p.value & s.value & conf.low & conf.high\\\\\n",
       " <chr> & <chr> & <dbl> & <dbl> & <dbl> & <dbl> & <dbl> & <dbl> & <dbl>\\\\\n",
       "\\hline\n",
       "\t efficacite\\_anticoag\\_binary & 1 - 0 & 0.004970271 & 0.01243159 & 0.3998099 & 0.6892966 & 0.5368033 & -0.01939519 & 0.02933573\\\\\n",
       "\\end{tabular}\n"
      ],
      "text/markdown": [
       "\n",
       "A comparisons: 1 × 9\n",
       "\n",
       "| term &lt;chr&gt; | contrast &lt;chr&gt; | estimate &lt;dbl&gt; | std.error &lt;dbl&gt; | statistic &lt;dbl&gt; | p.value &lt;dbl&gt; | s.value &lt;dbl&gt; | conf.low &lt;dbl&gt; | conf.high &lt;dbl&gt; |\n",
       "|---|---|---|---|---|---|---|---|---|\n",
       "| efficacite_anticoag_binary | 1 - 0 | 0.004970271 | 0.01243159 | 0.3998099 | 0.6892966 | 0.5368033 | -0.01939519 | 0.02933573 |\n",
       "\n"
      ],
      "text/plain": [
       "  term                       contrast estimate    std.error  statistic\n",
       "1 efficacite_anticoag_binary 1 - 0    0.004970271 0.01243159 0.3998099\n",
       "  p.value   s.value   conf.low    conf.high \n",
       "1 0.6892966 0.5368033 -0.01939519 0.02933573"
      ]
     },
     "metadata": {},
     "output_type": "display_data"
    }
   ],
   "source": [
    "avg_comparisons(fit, variables = \"efficacite_anticoag_binary\",\n",
    "                vcov = \"HC3\",\n",
    "                newdata = collect(sejours_rea_48_heures),\n",
    "                wts = sejours_rea_48_heures$weights)"
   ]
  }
 ],
 "metadata": {
  "kernelspec": {
   "display_name": "[2.4.3] K8s R local",
   "language": "R",
   "name": "k8s-sparkr-local-2.4.3"
  },
  "language_info": {
   "codemirror_mode": "r",
   "file_extension": ".r",
   "mimetype": "text/x-r-source",
   "name": "R",
   "pygments_lexer": "r",
   "version": "4.0.0"
  },
  "toc-autonumbering": true,
  "toc-showcode": false,
  "toc-showmarkdowntxt": false,
  "toc-showtags": false
 },
 "nbformat": 4,
 "nbformat_minor": 5
}
