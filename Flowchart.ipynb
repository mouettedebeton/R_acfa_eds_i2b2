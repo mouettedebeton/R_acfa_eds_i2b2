{
 "cells": [
  {
   "cell_type": "markdown",
   "id": "b3a80108-7df0-480c-80fc-a4cec74ee897",
   "metadata": {},
   "source": [
    "# Chargement des librairies"
   ]
  },
  {
   "cell_type": "code",
   "execution_count": 1,
   "id": "ae29d853-1a6b-4456-8b93-df5faae211fa",
   "metadata": {},
   "outputs": [
    {
     "name": "stderr",
     "output_type": "stream",
     "text": [
      "\n",
      "Attaching package: ‘sparklyr’\n",
      "\n",
      "\n",
      "The following object is masked from ‘package:SparkR’:\n",
      "\n",
      "    collect\n",
      "\n",
      "\n",
      "── \u001b[1mAttaching packages\u001b[22m ─────────────────────────────────────── tidyverse 1.2.1 ──\n",
      "\n",
      "\u001b[32m✔\u001b[39m \u001b[34mggplot2\u001b[39m 3.2.0     \u001b[32m✔\u001b[39m \u001b[34mpurrr  \u001b[39m 0.3.4\n",
      "\u001b[32m✔\u001b[39m \u001b[34mtibble \u001b[39m 3.0.3     \u001b[32m✔\u001b[39m \u001b[34mdplyr  \u001b[39m 1.0.2\n",
      "\u001b[32m✔\u001b[39m \u001b[34mtidyr  \u001b[39m 1.1.1     \u001b[32m✔\u001b[39m \u001b[34mstringr\u001b[39m 1.4.0\n",
      "\u001b[32m✔\u001b[39m \u001b[34mreadr  \u001b[39m 1.3.1     \u001b[32m✔\u001b[39m \u001b[34mforcats\u001b[39m 0.5.0\n",
      "\n",
      "Warning message:\n",
      "“package ‘tibble’ was built under R version 4.0.2”\n",
      "Warning message:\n",
      "“package ‘tidyr’ was built under R version 4.0.2”\n",
      "Warning message:\n",
      "“package ‘dplyr’ was built under R version 4.0.2”\n",
      "── \u001b[1mConflicts\u001b[22m ────────────────────────────────────────── tidyverse_conflicts() ──\n",
      "\u001b[31m✖\u001b[39m \u001b[34mdplyr\u001b[39m::\u001b[32marrange()\u001b[39m      masks \u001b[34mSparkR\u001b[39m::arrange()\n",
      "\u001b[31m✖\u001b[39m \u001b[34mdplyr\u001b[39m::\u001b[32mbetween()\u001b[39m      masks \u001b[34mSparkR\u001b[39m::between()\n",
      "\u001b[31m✖\u001b[39m \u001b[34mdplyr\u001b[39m::\u001b[32mcoalesce()\u001b[39m     masks \u001b[34mSparkR\u001b[39m::coalesce()\n",
      "\u001b[31m✖\u001b[39m \u001b[34mdplyr\u001b[39m::\u001b[32mcollect()\u001b[39m      masks \u001b[34msparklyr\u001b[39m::collect(), \u001b[34mSparkR\u001b[39m::collect()\n",
      "\u001b[31m✖\u001b[39m \u001b[34mdplyr\u001b[39m::\u001b[32mcontains()\u001b[39m     masks \u001b[34mtidyr\u001b[39m::contains(), \u001b[34mSparkR\u001b[39m::contains()\n",
      "\u001b[31m✖\u001b[39m \u001b[34mdplyr\u001b[39m::\u001b[32mcount()\u001b[39m        masks \u001b[34mSparkR\u001b[39m::count()\n",
      "\u001b[31m✖\u001b[39m \u001b[34mdplyr\u001b[39m::\u001b[32mcume_dist()\u001b[39m    masks \u001b[34mSparkR\u001b[39m::cume_dist()\n",
      "\u001b[31m✖\u001b[39m \u001b[34mdplyr\u001b[39m::\u001b[32mdense_rank()\u001b[39m   masks \u001b[34mSparkR\u001b[39m::dense_rank()\n",
      "\u001b[31m✖\u001b[39m \u001b[34mdplyr\u001b[39m::\u001b[32mdesc()\u001b[39m         masks \u001b[34mSparkR\u001b[39m::desc()\n",
      "\u001b[31m✖\u001b[39m \u001b[34mdplyr\u001b[39m::\u001b[32mdistinct()\u001b[39m     masks \u001b[34mSparkR\u001b[39m::distinct()\n",
      "\u001b[31m✖\u001b[39m \u001b[34mdplyr\u001b[39m::\u001b[32mexplain()\u001b[39m      masks \u001b[34mSparkR\u001b[39m::explain()\n",
      "\u001b[31m✖\u001b[39m \u001b[34mdplyr\u001b[39m::\u001b[32mexpr()\u001b[39m         masks \u001b[34mggplot2\u001b[39m::expr(), \u001b[34mSparkR\u001b[39m::expr()\n",
      "\u001b[31m✖\u001b[39m \u001b[34mdplyr\u001b[39m::\u001b[32mfilter()\u001b[39m       masks \u001b[34mstats\u001b[39m::filter(), \u001b[34mSparkR\u001b[39m::filter()\n",
      "\u001b[31m✖\u001b[39m \u001b[34mdplyr\u001b[39m::\u001b[32mfirst()\u001b[39m        masks \u001b[34mSparkR\u001b[39m::first()\n",
      "\u001b[31m✖\u001b[39m \u001b[34mpurrr\u001b[39m::\u001b[32mflatten()\u001b[39m      masks \u001b[34mSparkR\u001b[39m::flatten()\n",
      "\u001b[31m✖\u001b[39m \u001b[34mdplyr\u001b[39m::\u001b[32mgroup_by()\u001b[39m     masks \u001b[34mSparkR\u001b[39m::group_by()\n",
      "\u001b[31m✖\u001b[39m \u001b[34mpurrr\u001b[39m::\u001b[32minvoke()\u001b[39m       masks \u001b[34msparklyr\u001b[39m::invoke()\n",
      "\u001b[31m✖\u001b[39m \u001b[34mdplyr\u001b[39m::\u001b[32mlag()\u001b[39m          masks \u001b[34mstats\u001b[39m::lag(), \u001b[34mSparkR\u001b[39m::lag()\n",
      "\u001b[31m✖\u001b[39m \u001b[34mdplyr\u001b[39m::\u001b[32mlast()\u001b[39m         masks \u001b[34mSparkR\u001b[39m::last()\n",
      "\u001b[31m✖\u001b[39m \u001b[34mdplyr\u001b[39m::\u001b[32mlead()\u001b[39m         masks \u001b[34mSparkR\u001b[39m::lead()\n",
      "\u001b[31m✖\u001b[39m \u001b[34mdplyr\u001b[39m::\u001b[32mmutate()\u001b[39m       masks \u001b[34mSparkR\u001b[39m::mutate()\n",
      "\u001b[31m✖\u001b[39m \u001b[34mdplyr\u001b[39m::\u001b[32mn()\u001b[39m            masks \u001b[34mSparkR\u001b[39m::n()\n",
      "\u001b[31m✖\u001b[39m \u001b[34mdplyr\u001b[39m::\u001b[32mn_distinct()\u001b[39m   masks \u001b[34mSparkR\u001b[39m::n_distinct()\n",
      "\u001b[31m✖\u001b[39m \u001b[34mpurrr\u001b[39m::\u001b[32mnegate()\u001b[39m       masks \u001b[34mSparkR\u001b[39m::negate()\n",
      "\u001b[31m✖\u001b[39m \u001b[34mdplyr\u001b[39m::\u001b[32mntile()\u001b[39m        masks \u001b[34mSparkR\u001b[39m::ntile()\n",
      "\u001b[31m✖\u001b[39m \u001b[34mdplyr\u001b[39m::\u001b[32mpercent_rank()\u001b[39m masks \u001b[34mSparkR\u001b[39m::percent_rank()\n",
      "\u001b[31m✖\u001b[39m \u001b[34mdplyr\u001b[39m::\u001b[32mrename()\u001b[39m       masks \u001b[34mSparkR\u001b[39m::rename()\n",
      "\u001b[31m✖\u001b[39m \u001b[34mdplyr\u001b[39m::\u001b[32mrow_number()\u001b[39m   masks \u001b[34mSparkR\u001b[39m::row_number()\n",
      "\u001b[31m✖\u001b[39m \u001b[34mdplyr\u001b[39m::\u001b[32msample_frac()\u001b[39m  masks \u001b[34mSparkR\u001b[39m::sample_frac()\n",
      "\u001b[31m✖\u001b[39m \u001b[34mdplyr\u001b[39m::\u001b[32mselect()\u001b[39m       masks \u001b[34mSparkR\u001b[39m::select()\n",
      "\u001b[31m✖\u001b[39m \u001b[34mdplyr\u001b[39m::\u001b[32mslice()\u001b[39m        masks \u001b[34mSparkR\u001b[39m::slice()\n",
      "\u001b[31m✖\u001b[39m \u001b[34mdplyr\u001b[39m::\u001b[32msql()\u001b[39m          masks \u001b[34mSparkR\u001b[39m::sql()\n",
      "\u001b[31m✖\u001b[39m \u001b[34mdplyr\u001b[39m::\u001b[32msummarize()\u001b[39m    masks \u001b[34mSparkR\u001b[39m::summarize()\n",
      "\u001b[31m✖\u001b[39m \u001b[34mpurrr\u001b[39m::\u001b[32mwhen()\u001b[39m         masks \u001b[34mSparkR\u001b[39m::when()\n",
      "\n"
     ]
    }
   ],
   "source": [
    "library(sparklyr)\n",
    "library(tidyverse, warn.conflicts = FALSE)"
   ]
  },
  {
   "cell_type": "markdown",
   "id": "13d1c9b1-80f0-40dc-ae4d-e6ec442c2daa",
   "metadata": {},
   "source": [
    "# Connexion à Spark"
   ]
  },
  {
   "cell_type": "code",
   "execution_count": 2,
   "id": "af383ca2-56cd-4f24-bc1f-84b598fa5b22",
   "metadata": {},
   "outputs": [],
   "source": [
    "config <- spark_config()\n",
    "sc <- spark_connect(master = \"yarn-cluster\", config = config, version = '2.4.3')"
   ]
  },
  {
   "cell_type": "markdown",
   "id": "17544ed6-589b-43bc-bcce-6fe412ce1bd5",
   "metadata": {
    "tags": []
   },
   "source": [
    "# Chargement de la table des séjours"
   ]
  },
  {
   "cell_type": "code",
   "execution_count": 3,
   "id": "b0a6f796-9239-480c-8936-c6180be637f8",
   "metadata": {
    "tags": []
   },
   "outputs": [
    {
     "data": {
      "text/plain": [
       "\u001b[90m# Source: spark<sejours_rea_48_heures> [?? x 137]\u001b[39m\n",
       "   encounter_num location_cd chads_vasc patient_num start_date_stay    \n",
       "   \u001b[3m\u001b[90m<chr>\u001b[39m\u001b[23m         \u001b[3m\u001b[90m<chr>\u001b[39m\u001b[23m            \u001b[3m\u001b[90m<dbl>\u001b[39m\u001b[23m \u001b[3m\u001b[90m<chr>\u001b[39m\u001b[23m       \u001b[3m\u001b[90m<dttm>\u001b[39m\u001b[23m             \n",
       "\u001b[90m 1\u001b[39m 175266599629… UFR:026514           5 -447761911… 2020-03-26 \u001b[90m17:34:00\u001b[39m\n",
       "\u001b[90m 2\u001b[39m -12168133162… UFR:047242           4 5030412272… 2020-04-28 \u001b[90m00:22:00\u001b[39m\n",
       "\u001b[90m 3\u001b[39m 523133734746… UFR:021034           1 6307540937… 2020-08-20 \u001b[90m15:02:00\u001b[39m\n",
       "\u001b[90m 4\u001b[39m 448845052564… UFR:010030           1 -762983600… 2015-10-25 \u001b[90m21:25:00\u001b[39m\n",
       "\u001b[90m 5\u001b[39m 752809267244… UFR:014025           4 3096753449… 2016-03-26 \u001b[90m10:48:00\u001b[39m\n",
       "\u001b[90m 6\u001b[39m -52459538182… UFR:087260           2 4241449024… 2016-03-31 \u001b[90m10:44:00\u001b[39m\n",
       "\u001b[90m 7\u001b[39m 514156883888… UFR:066228           1 1527229162… 2020-10-28 \u001b[90m10:00:00\u001b[39m\n",
       "\u001b[90m 8\u001b[39m -20511423772… UFR:095013           1 7998281594… 2020-11-28 \u001b[90m13:10:00\u001b[39m\n",
       "\u001b[90m 9\u001b[39m 225592971885… UFR:014025           1 -700016733… 2013-09-26 \u001b[90m14:31:00\u001b[39m\n",
       "\u001b[90m10\u001b[39m 870541130703… UFR:014025           5 7778804384… 2016-07-16 \u001b[90m16:24:00\u001b[39m\n",
       "\u001b[90m# … with more rows, and 132 more variables: end_date_stay \u001b[3m\u001b[90m<dttm>\u001b[90m\u001b[23m,\u001b[39m\n",
       "\u001b[90m#   instance_num \u001b[3m\u001b[90m<chr>\u001b[90m\u001b[23m, vital_status_cd \u001b[3m\u001b[90m<chr>\u001b[90m\u001b[23m, birth_date \u001b[3m\u001b[90m<dttm>\u001b[90m\u001b[23m,\u001b[39m\n",
       "\u001b[90m#   death_date \u001b[3m\u001b[90m<dttm>\u001b[90m\u001b[23m, sex_cd \u001b[3m\u001b[90m<chr>\u001b[90m\u001b[23m, start_date_visit \u001b[3m\u001b[90m<dttm>\u001b[90m\u001b[23m,\u001b[39m\n",
       "\u001b[90m#   end_date_visit \u001b[3m\u001b[90m<dttm>\u001b[90m\u001b[23m, fadenovo \u001b[3m\u001b[90m<dbl>\u001b[90m\u001b[23m, death_during_stay \u001b[3m\u001b[90m<dbl>\u001b[90m\u001b[23m,\u001b[39m\n",
       "\u001b[90m#   age_at_stay_entry \u001b[3m\u001b[90m<dbl>\u001b[90m\u001b[23m, death_during_visit \u001b[3m\u001b[90m<dbl>\u001b[90m\u001b[23m, duree_sejour \u001b[3m\u001b[90m<dbl>\u001b[90m\u001b[23m,\u001b[39m\n",
       "\u001b[90m#   duree_visite \u001b[3m\u001b[90m<dbl>\u001b[90m\u001b[23m, type_rea \u001b[3m\u001b[90m<chr>\u001b[90m\u001b[23m, jours_vm \u001b[3m\u001b[90m<dbl>\u001b[90m\u001b[23m,\u001b[39m\n",
       "\u001b[90m#   jours_vasopresseurs \u001b[3m\u001b[90m<dbl>\u001b[90m\u001b[23m, jours_eer \u001b[3m\u001b[90m<dbl>\u001b[90m\u001b[23m, jours_transfusion \u001b[3m\u001b[90m<dbl>\u001b[90m\u001b[23m,\u001b[39m\n",
       "\u001b[90m#   jours_coagulopathie \u001b[3m\u001b[90m<dbl>\u001b[90m\u001b[23m, vm \u001b[3m\u001b[90m<dbl>\u001b[90m\u001b[23m, vasopresseurs \u001b[3m\u001b[90m<dbl>\u001b[90m\u001b[23m, eer \u001b[3m\u001b[90m<dbl>\u001b[90m\u001b[23m,\u001b[39m\n",
       "\u001b[90m#   transfusion \u001b[3m\u001b[90m<dbl>\u001b[90m\u001b[23m, coagulopathie \u001b[3m\u001b[90m<dbl>\u001b[90m\u001b[23m, nb_total_tests_par_sejour \u001b[3m\u001b[90m<dbl>\u001b[90m\u001b[23m,\u001b[39m\n",
       "\u001b[90m#   ratio_tests_duree_sejour \u001b[3m\u001b[90m<dbl>\u001b[90m\u001b[23m, hbpm_nb_tests \u001b[3m\u001b[90m<dbl>\u001b[90m\u001b[23m, hnf_nb_tests \u001b[3m\u001b[90m<dbl>\u001b[90m\u001b[23m,\u001b[39m\n",
       "\u001b[90m#   aod_nb_tests \u001b[3m\u001b[90m<dbl>\u001b[90m\u001b[23m, hbpm_moyenne \u001b[3m\u001b[90m<dbl>\u001b[90m\u001b[23m, hnf_moyenne \u001b[3m\u001b[90m<dbl>\u001b[90m\u001b[23m,\u001b[39m\n",
       "\u001b[90m#   aod_moyenne \u001b[3m\u001b[90m<dbl>\u001b[90m\u001b[23m, hbpm_mediane \u001b[3m\u001b[90m<dbl>\u001b[90m\u001b[23m, hnf_mediane \u001b[3m\u001b[90m<dbl>\u001b[90m\u001b[23m,\u001b[39m\n",
       "\u001b[90m#   aod_mediane \u001b[3m\u001b[90m<dbl>\u001b[90m\u001b[23m, hbpm_min \u001b[3m\u001b[90m<dbl>\u001b[90m\u001b[23m, hnf_min \u001b[3m\u001b[90m<dbl>\u001b[90m\u001b[23m, aod_min \u001b[3m\u001b[90m<dbl>\u001b[90m\u001b[23m,\u001b[39m\n",
       "\u001b[90m#   hbpm_max \u001b[3m\u001b[90m<dbl>\u001b[90m\u001b[23m, hnf_max \u001b[3m\u001b[90m<dbl>\u001b[90m\u001b[23m, aod_max \u001b[3m\u001b[90m<dbl>\u001b[90m\u001b[23m, hbpm_sd \u001b[3m\u001b[90m<dbl>\u001b[90m\u001b[23m, hnf_sd \u001b[3m\u001b[90m<dbl>\u001b[90m\u001b[23m,\u001b[39m\n",
       "\u001b[90m#   aod_sd \u001b[3m\u001b[90m<dbl>\u001b[90m\u001b[23m, hbpm_q25 \u001b[3m\u001b[90m<dbl>\u001b[90m\u001b[23m, hnf_q25 \u001b[3m\u001b[90m<dbl>\u001b[90m\u001b[23m, aod_q25 \u001b[3m\u001b[90m<dbl>\u001b[90m\u001b[23m, hbpm_q75 \u001b[3m\u001b[90m<dbl>\u001b[90m\u001b[23m,\u001b[39m\n",
       "\u001b[90m#   hnf_q75 \u001b[3m\u001b[90m<dbl>\u001b[90m\u001b[23m, aod_q75 \u001b[3m\u001b[90m<dbl>\u001b[90m\u001b[23m, hbpm_volonte_anticoag \u001b[3m\u001b[90m<dbl>\u001b[90m\u001b[23m,\u001b[39m\n",
       "\u001b[90m#   hnf_volonte_anticoag \u001b[3m\u001b[90m<dbl>\u001b[90m\u001b[23m, aod_volonte_anticoag \u001b[3m\u001b[90m<dbl>\u001b[90m\u001b[23m,\u001b[39m\n",
       "\u001b[90m#   hbpm_efficacite_anticoag \u001b[3m\u001b[90m<chr>\u001b[90m\u001b[23m, hnf_efficacite_anticoag \u001b[3m\u001b[90m<chr>\u001b[90m\u001b[23m,\u001b[39m\n",
       "\u001b[90m#   aod_efficacite_anticoag \u001b[3m\u001b[90m<chr>\u001b[90m\u001b[23m, hbpm_surdosage \u001b[3m\u001b[90m<dbl>\u001b[90m\u001b[23m, hnf_surdosage \u001b[3m\u001b[90m<dbl>\u001b[90m\u001b[23m,\u001b[39m\n",
       "\u001b[90m#   aod_surdosage \u001b[3m\u001b[90m<dbl>\u001b[90m\u001b[23m, volonte_anticoag \u001b[3m\u001b[90m<dbl>\u001b[90m\u001b[23m, hemoglobine_nb_tests \u001b[3m\u001b[90m<dbl>\u001b[90m\u001b[23m,\u001b[39m\n",
       "\u001b[90m#   creat_nb_tests \u001b[3m\u001b[90m<dbl>\u001b[90m\u001b[23m, fibrinogene_nb_tests \u001b[3m\u001b[90m<dbl>\u001b[90m\u001b[23m, uree_nb_tests \u001b[3m\u001b[90m<dbl>\u001b[90m\u001b[23m,\u001b[39m\n",
       "\u001b[90m#   plaquettes_nb_tests \u001b[3m\u001b[90m<dbl>\u001b[90m\u001b[23m, ddimeres_nb_tests \u001b[3m\u001b[90m<dbl>\u001b[90m\u001b[23m,\u001b[39m\n",
       "\u001b[90m#   hemoglobine_moyenne \u001b[3m\u001b[90m<dbl>\u001b[90m\u001b[23m, creat_moyenne \u001b[3m\u001b[90m<dbl>\u001b[90m\u001b[23m, fibrinogene_moyenne \u001b[3m\u001b[90m<dbl>\u001b[90m\u001b[23m,\u001b[39m\n",
       "\u001b[90m#   uree_moyenne \u001b[3m\u001b[90m<dbl>\u001b[90m\u001b[23m, plaquettes_moyenne \u001b[3m\u001b[90m<dbl>\u001b[90m\u001b[23m, ddimeres_moyenne \u001b[3m\u001b[90m<dbl>\u001b[90m\u001b[23m,\u001b[39m\n",
       "\u001b[90m#   hemoglobine_mediane \u001b[3m\u001b[90m<dbl>\u001b[90m\u001b[23m, creat_mediane \u001b[3m\u001b[90m<dbl>\u001b[90m\u001b[23m, fibrinogene_mediane \u001b[3m\u001b[90m<dbl>\u001b[90m\u001b[23m,\u001b[39m\n",
       "\u001b[90m#   uree_mediane \u001b[3m\u001b[90m<dbl>\u001b[90m\u001b[23m, plaquettes_mediane \u001b[3m\u001b[90m<dbl>\u001b[90m\u001b[23m, ddimeres_mediane \u001b[3m\u001b[90m<dbl>\u001b[90m\u001b[23m,\u001b[39m\n",
       "\u001b[90m#   hemoglobine_min \u001b[3m\u001b[90m<dbl>\u001b[90m\u001b[23m, creat_min \u001b[3m\u001b[90m<dbl>\u001b[90m\u001b[23m, fibrinogene_min \u001b[3m\u001b[90m<dbl>\u001b[90m\u001b[23m,\u001b[39m\n",
       "\u001b[90m#   uree_min \u001b[3m\u001b[90m<dbl>\u001b[90m\u001b[23m, plaquettes_min \u001b[3m\u001b[90m<dbl>\u001b[90m\u001b[23m, ddimeres_min \u001b[3m\u001b[90m<dbl>\u001b[90m\u001b[23m,\u001b[39m\n",
       "\u001b[90m#   hemoglobine_max \u001b[3m\u001b[90m<dbl>\u001b[90m\u001b[23m, creat_max \u001b[3m\u001b[90m<dbl>\u001b[90m\u001b[23m, fibrinogene_max \u001b[3m\u001b[90m<dbl>\u001b[90m\u001b[23m,\u001b[39m\n",
       "\u001b[90m#   uree_max \u001b[3m\u001b[90m<dbl>\u001b[90m\u001b[23m, plaquettes_max \u001b[3m\u001b[90m<dbl>\u001b[90m\u001b[23m, ddimeres_max \u001b[3m\u001b[90m<dbl>\u001b[90m\u001b[23m,\u001b[39m\n",
       "\u001b[90m#   hemoglobine_sd \u001b[3m\u001b[90m<dbl>\u001b[90m\u001b[23m, creat_sd \u001b[3m\u001b[90m<dbl>\u001b[90m\u001b[23m, fibrinogene_sd \u001b[3m\u001b[90m<dbl>\u001b[90m\u001b[23m, uree_sd \u001b[3m\u001b[90m<dbl>\u001b[90m\u001b[23m,\u001b[39m\n",
       "\u001b[90m#   plaquettes_sd \u001b[3m\u001b[90m<dbl>\u001b[90m\u001b[23m, ddimeres_sd \u001b[3m\u001b[90m<dbl>\u001b[90m\u001b[23m, hemoglobine_q25 \u001b[3m\u001b[90m<dbl>\u001b[90m\u001b[23m,\u001b[39m\n",
       "\u001b[90m#   creat_q25 \u001b[3m\u001b[90m<dbl>\u001b[90m\u001b[23m, fibrinogene_q25 \u001b[3m\u001b[90m<dbl>\u001b[90m\u001b[23m, …\u001b[39m"
      ]
     },
     "metadata": {},
     "output_type": "display_data"
    }
   ],
   "source": [
    "tbl_change_db(sc, 'cse_200007_work')\n",
    "\n",
    "spark_read_parquet(sc, 'sejours_rea_48_heures', 'sejours_rea_48_heures')"
   ]
  },
  {
   "cell_type": "code",
   "execution_count": 4,
   "id": "74adec03-9e7b-491e-a176-8da0227f435d",
   "metadata": {
    "tags": []
   },
   "outputs": [],
   "source": [
    "# Création des tibbles correspondant aux tables créées dans data_management\n",
    "\n",
    "sejours_rea_48_heures <- sc %>% tbl('sejours_rea_48_heures')"
   ]
  },
  {
   "cell_type": "markdown",
   "id": "24e8c110-8a6a-4c72-a00c-c91247ed4ddd",
   "metadata": {},
   "source": [
    "# Sélection du schéma FA"
   ]
  },
  {
   "cell_type": "code",
   "execution_count": 5,
   "id": "7216e222-a3ca-4ea2-b6da-29f29b7226bf",
   "metadata": {
    "tags": []
   },
   "outputs": [],
   "source": [
    "tbl_change_db(sc, 'cse_200007_20210519')"
   ]
  },
  {
   "cell_type": "markdown",
   "id": "ff884929-cd0a-4256-bdb6-68558e3a928c",
   "metadata": {
    "tags": []
   },
   "source": [
    "# Définition des variables"
   ]
  },
  {
   "cell_type": "markdown",
   "id": "f1e28637-787b-4404-8db7-ecaabd112871",
   "metadata": {},
   "source": [
    "## UFR de réanimation"
   ]
  },
  {
   "cell_type": "code",
   "execution_count": 6,
   "id": "025eba31-bd79-44a8-a561-80d086ff58e0",
   "metadata": {},
   "outputs": [],
   "source": [
    "liste_reas_med <- c('UFR:028091',  'UFR:014025', 'UFR:095013', 'UFR:011440', 'UFR:010030',\n",
    "                    'UFR:010502', 'UFR:021034', 'UFR:0101', 'UFR:026151', 'UFR:053011', 'UFR:047057',\n",
    "                    'UFR:066067', 'UFR:066228', 'UFR:068033', 'UFR:073290', 'UFR:076023', 'UFR:087260')\n",
    "\n",
    "liste_reas_chir <- c('UFR:095073', 'UFR:095062', 'UFR:010025', 'UFR:010260', 'UFR:005269', 'UFR:005389', 'UFR:021262', 'UFR:0613', \n",
    "                     'UFR:026513', 'UFR:026514', 'UFR:047242', 'UFR:061726', 'UFR:066020', 'UFR:066120', 'UFR:066420', 'UFR:066520', \n",
    "                     'UFR:066620', 'UFR:073260', 'UFR:073261')\n",
    "\n",
    "liste_reas_enlevees <- c('UFR:028402', 'UFR:010302', 'UFR:053036', 'UFR:026511', 'UFR:066320', 'UFR:0107')\n",
    "\n",
    "liste_reas <- c(liste_reas_med, liste_reas_chir)\n",
    "\n",
    "liste_reas_non_triees <- c(liste_reas, liste_reas_enlevees)"
   ]
  },
  {
   "cell_type": "markdown",
   "id": "8e35ad84-5033-4f77-9cce-62200077c9d2",
   "metadata": {},
   "source": [
    "## Liste des UFR laissées de côté après réanalyse de la liste"
   ]
  },
  {
   "cell_type": "code",
   "execution_count": 7,
   "id": "b2fe8352-4b90-41cd-b0e4-1bfbe1958e22",
   "metadata": {
    "tags": []
   },
   "outputs": [],
   "source": [
    "### Soins continus : c('UFR:028402', 'UFR:010302', 'UFR:053036')\n",
    "### Chirurgie cardiaque : c('UFR:026511', 'UFR:066320')"
   ]
  },
  {
   "cell_type": "markdown",
   "id": "c3345fec-d0c9-47a1-83cb-63bd32e33678",
   "metadata": {},
   "source": [
    "## Examens de laboratoire"
   ]
  },
  {
   "cell_type": "markdown",
   "id": "bdd4cb0c-0c0b-44df-be71-1f4217005fdc",
   "metadata": {},
   "source": [
    "### Codes des examens de laboratoire d'hémostase"
   ]
  },
  {
   "cell_type": "code",
   "execution_count": 8,
   "id": "21d8a001-0f02-415b-a8be-358b4739e529",
   "metadata": {},
   "outputs": [],
   "source": [
    "#### AntiXa-HNF : LAB:A0350, LAB:G1986, LAB:E3109, \n",
    "#### AntiXa-HBPM : LAB:A0018, LAB:E3108\n",
    "#### Danaparoïde sodique : LAB:A0019, LAB:A2662, LAB:H6291, LAB:D9103\n",
    "#### TCA : LAB:A0265 (Patient), LAB:A0266 (Témoin), LAB:A1792 (Ratio)\n",
    "#### INR : LAB:A0269, LAB:F5455\n",
    "#### AOD : LAB:E5350 (Rivaroxaban), LAB:F8012 (Apixaban), LAB:H3248 (Edoxaban)\n",
    "\n",
    "lab_antiXa_hnf <- c ('LAB:A0350', 'LAB:G1986', 'LAB:E3109')\n",
    "lab_antiXa_hbpm <- c ('LAB:A0018', 'LAB:E3108')\n",
    "lab_tca_ratio <- c ('LAB:A1792')\n",
    "lab_aod <- c('LAB:E5350', 'LAB:F8012', 'LAB:H3248')\n",
    "\n",
    "lab_tous_tests <- c(lab_antiXa_hnf,lab_antiXa_hbpm,lab_tca_ratio,lab_aod)\n",
    "lab_tous_tests_sans_tca <- c(lab_antiXa_hnf,lab_antiXa_hbpm,lab_aod)"
   ]
  },
  {
   "cell_type": "markdown",
   "id": "396a8e10-6d46-440a-91d7-4037757edc14",
   "metadata": {},
   "source": [
    "### Codes des autres examens de laboratoire pertinents"
   ]
  },
  {
   "cell_type": "code",
   "execution_count": 9,
   "id": "e5819756-a5e4-4dce-897b-4f1b9ffb847a",
   "metadata": {
    "tags": []
   },
   "outputs": [],
   "source": [
    "## Codes de l'Hb - NB B1946 et B1945 sont l'Hb des GdS veineux et artériels respectivement, donc \n",
    "## discuter la variabilité des valeurs entre GdS et NFS.\n",
    "lab_hb <- c('LAB:A0163', 'LAB:C1549', 'LAB:A9882', 'LAB:C8745', 'LAB:B1946', 'LAB:B1945')\n",
    "\n",
    "## Correspondance LOINC : 22664-7\n",
    "lab_uree <- c('LAB:A0286', 'LAB:G3350')\n",
    "\n",
    "# Correspondance LOINC : 3255-7\n",
    "lab_fib <- c('LAB:A0126', 'LAB:A1114', 'LAB:A2667')\n",
    "\n",
    "## Correspondance LOINC : 777-3\n",
    "## Correspondance LOINC : 778-1\n",
    "lab_plq <- c('LAB:A0230', 'LAB:A2538', 'LAB:B9896', 'LAB:G5746', 'LAB:G7727', 'LAB:G7728', 'LAB:G7833', 'LAB:A1598', 'LAB:A2539')\n",
    "\n",
    "## Correspondance LOINC : 48066-5\n",
    "lab_ddim <- c('LAB:B4199', 'LAB:C0474', 'LAB:C7882', 'LAB:F5402')\n",
    "\n",
    "## Correspondance LOINC : 14682-9\n",
    "lab_creat <- c('LAB:F9409','LAB:C0697','LAB:F9410','LAB:F2621','LAB:G7834','LAB:A7813','LAB:H4038','LAB:A0094')\n",
    "\n",
    "lab_tous_autres <- c(lab_hb, lab_uree, lab_fib, lab_plq, lab_ddim, lab_creat)"
   ]
  },
  {
   "cell_type": "markdown",
   "id": "35a33c90-664b-4ff4-85d6-8eedefa42fa4",
   "metadata": {},
   "source": [
    "## Variables des actes CCAM"
   ]
  },
  {
   "cell_type": "code",
   "execution_count": 10,
   "id": "1ba7c97f-028c-4097-94e1-2c868ebce1ad",
   "metadata": {},
   "outputs": [],
   "source": [
    "ccam_iot <- 'CCAM:GELD004'\n",
    "ccam_vm <- c('CCAM:GLLD015', 'CCAM:GLLD004', 'CCAM:GLLD008')\n",
    "ccam_vasopresseur <- c('CCAM:EQLF003', 'CCAM:EQLF001')\n",
    "ccam_eer <- c('CCAM:JVJF002', 'CCAM:JVJF005', 'CCAM:JVJB002')\n",
    "ccam_ecmo <- 'CCAM:EQQP004'\n",
    "ccam_transfusion <- c('CCAM:FELF011', 'CCAM:FELF004')\n",
    "ccam_coagulopathie <- 'CCAM:FELF003'"
   ]
  },
  {
   "cell_type": "markdown",
   "id": "f5a84a8f-c788-4303-be9b-b287ad5b676a",
   "metadata": {},
   "source": [
    "## Variables des codages diagnostics CIM10"
   ]
  },
  {
   "cell_type": "markdown",
   "id": "6c30cbee-4ea7-4a84-a940-abbc6e96aeda",
   "metadata": {},
   "source": [
    "### Codes ischémiques"
   ]
  },
  {
   "cell_type": "code",
   "execution_count": 11,
   "id": "90e0d271-78c3-4e2c-8848-3f1aac698c3e",
   "metadata": {},
   "outputs": [],
   "source": [
    "#### I63 : AIC\n",
    "#### I74 : Embolie ou thrombose artérielle\n",
    "#### I513 : Thrombose intra-cardiaque\n",
    "#### K55 : Troubles vasculaires aigus de l'intestin\n",
    "#### N28 : Infarctus rénal\n",
    "#### D735 : Infarctus splénique\n",
    "\n",
    "ischemie <- tibble(code = c('CIM10:I63', 'CIM10:I74', 'CIM10:I513', 'CIM10:K550', 'CIM10:N280', 'CIM10:D735'),\n",
    "                   type = c('cerebrale', 'vasculaire', 'cardiaque', 'intestinal', 'renal', 'splenique'),\n",
    "                   binaire_ischemie = c(1,1,1,1,1,1))\n",
    "\n",
    "diag_biais_anticoag <- tibble(code = c('CIM10:I74', 'CIM10:I513', 'CIM10:K550', 'CIM10:I26', 'CIM10:Z952', 'CIM10:I80', 'CIM10:I81', 'CIM10:I82', 'CIM10:D685', 'CIM10:D686'),\n",
    "                        diag = c('b_thrombose_arterielle', 'b_thrombose_cardiaque', 'b_ischemie_mesenterique', 'b_embolie_pulmonaire', 'b_valve_cardiaque', \n",
    "                                 'b_thrombose_veineuse', 'b_thrombose_veineuse', 'b_thrombose_veineuse', 'b_thrombophilie', 'b_thrombophilie'),\n",
    "                        binaire_biais_anticoag = c(1,1,1,1,1,1,1,1,1,1))"
   ]
  },
  {
   "cell_type": "code",
   "execution_count": 12,
   "id": "84485302-ac51-444e-8283-e907c992ac88",
   "metadata": {
    "tags": []
   },
   "outputs": [],
   "source": [
    "#### I61 : Hémorragie intracérébrale\n",
    "#### I62 : Autre hémorragies intracrâniennes\n",
    "#### R04 : Hémorragie des voies respiratoires\n",
    "#### T7952 : \n",
    "#### T810 : Hémorragie compliquant un acte à visée diagnostique ou thérapeutique\n",
    "#### M250 : Hémarthrose\n",
    "#### R58 : Hémorragie, non classée ailleurs\n",
    "#### N328 : Autres affections précisées de la vessie (un peu large, ça ?)\n",
    "#### R31 : Hématurie\n",
    "#### K922 : Hémorragie gastro-intestinale\n",
    "#### K920 : Hématémèse\n",
    "#### K661 : Hémopéritoine\n",
    "#### K250 : Ulcère aigu de l'estomac\n",
    "#### K260 : Ulcère aigu du duodénum\n",
    "#### K270 : Ulcère digestif de siège non précisé avec hémorragie\n",
    "#### K280 : Ulcère gastro-jéjunal aigu avec hémorragie\n",
    "#### K2X4 : Ulcère [de localisation correspondant au X] chronique ou non précisé, avec hémorragie\n",
    "\n",
    "hemorragie <- tibble(code = c('CIM10:I61', 'CIM10:I62', 'CIM10:R04', 'CIM10:T7952', 'CIM10:T810',\n",
    "                      'CIM10:M250', 'CIM10:R58', 'CIM10:N328', 'CIM10:R31', 'CIM10:K922',\n",
    "                      'CIM10:K920', 'CIM10:K661', 'CIM10:K260', 'CIM10:K250', 'CIM10:K280',\n",
    "                      'CIM10:K270', 'CIM10:K264', 'CIM10:K254', 'CIM10:K284', 'CIM10:K274'),\n",
    "                     type = c('cerebrale', 'cerebrale', 'respiratoire', 'autre', 'iatrogene',\n",
    "                              'articulaire', 'autre', 'urinaire', 'urinaire', 'digestif', 'digestif',\n",
    "                              'digestif', 'digestif', 'digestif', 'digestif', 'digestif', 'digestif',\n",
    "                              'digestif', 'digestif', 'digestif'),\n",
    "                     binaire_hemorragie = c(1,1,1,1,1,1,1,1,1,1,1,1,1,1,1,1,1,1,1,1))"
   ]
  },
  {
   "cell_type": "markdown",
   "id": "94670c32-7f2c-46cd-b62e-9c04e3665c1a",
   "metadata": {
    "tags": []
   },
   "source": [
    "## Tables\n",
    "\n",
    "### Tables de la FA\n",
    "\n",
    "#### FA de novo"
   ]
  },
  {
   "cell_type": "code",
   "execution_count": 13,
   "id": "dc0316fb-93c0-4881-a25c-b7cfc4f93e72",
   "metadata": {
    "tags": []
   },
   "outputs": [],
   "source": [
    "fa_de_novo <- sc %>% tbl('i2b2_observation_cim10') %>%\n",
    "    select(location_cd, concept_cd, encounter_num, patient_num, start_date) %>%\n",
    "    mutate(concept_cd_abr = str_sub(concept_cd, 1, 9)) %>%\n",
    "    filter(concept_cd_abr == \"CIM10:I48\") %>%\n",
    "    collect() %>%\n",
    "    group_by(patient_num) %>%\n",
    "    slice_min(start_date) %>%\n",
    "    mutate(fadenovo = ifelse(location_cd %in% liste_reas, 1, 0)) %>%\n",
    "    select(-c(concept_cd, concept_cd_abr, start_date)) %>%\n",
    "    filter(location_cd %in% liste_reas) %>%\n",
    "    distinct()"
   ]
  },
  {
   "cell_type": "code",
   "execution_count": 14,
   "id": "8b828b6f-1b34-4dd5-af05-fb0e11b683e4",
   "metadata": {
    "tags": []
   },
   "outputs": [],
   "source": [
    "fa_de_novo <- copy_to(sc, fa_de_novo, overwrite = TRUE)"
   ]
  },
  {
   "cell_type": "markdown",
   "id": "c2fb71c7-9aec-4706-a067-0e615e54adad",
   "metadata": {
    "tags": []
   },
   "source": [
    "#### Codages de FA"
   ]
  },
  {
   "cell_type": "code",
   "execution_count": 15,
   "id": "785ae181-2432-4125-83e2-b2bfc2a34b86",
   "metadata": {
    "tags": []
   },
   "outputs": [],
   "source": [
    "codages_fa <- sc %>% tbl('i2b2_observation_cim10') %>%\n",
    "    select(location_cd, concept_cd, encounter_num, patient_num, start_date) %>%\n",
    "    mutate(concept_cd_abr = str_sub(concept_cd, 1, 9)) %>%\n",
    "    filter(concept_cd_abr == \"CIM10:I48\") %>%\n",
    "    select(-c(concept_cd, start_date, concept_cd_abr))"
   ]
  },
  {
   "cell_type": "markdown",
   "id": "cf1aefec-8ad1-44d1-b0b7-9ffbddffe081",
   "metadata": {
    "tags": []
   },
   "source": [
    "## Flowchart\n",
    "### Séjours de réanimation à partir de la liste fournie par l'EDS"
   ]
  },
  {
   "cell_type": "code",
   "execution_count": 16,
   "id": "6f5bbbc8-6d9e-4d09-a5e2-e35ad7f5e54c",
   "metadata": {
    "tags": []
   },
   "outputs": [
    {
     "data": {
      "text/html": [
       "<table>\n",
       "<caption>A tibble: 1 × 1</caption>\n",
       "<thead>\n",
       "\t<tr><th scope=col>n</th></tr>\n",
       "\t<tr><th scope=col>&lt;dbl&gt;</th></tr>\n",
       "</thead>\n",
       "<tbody>\n",
       "\t<tr><td>17695</td></tr>\n",
       "</tbody>\n",
       "</table>\n"
      ],
      "text/latex": [
       "A tibble: 1 × 1\n",
       "\\begin{tabular}{l}\n",
       " n\\\\\n",
       " <dbl>\\\\\n",
       "\\hline\n",
       "\t 17695\\\\\n",
       "\\end{tabular}\n"
      ],
      "text/markdown": [
       "\n",
       "A tibble: 1 × 1\n",
       "\n",
       "| n &lt;dbl&gt; |\n",
       "|---|\n",
       "| 17695 |\n",
       "\n"
      ],
      "text/plain": [
       "  n    \n",
       "1 17695"
      ]
     },
     "metadata": {},
     "output_type": "display_data"
    }
   ],
   "source": [
    "sc %>% tbl('i2b2_observation_ufr') %>% \n",
    "    filter(location_cd %in% liste_reas_non_triees) %>%\n",
    "    count() %>% as_tibble()"
   ]
  },
  {
   "cell_type": "markdown",
   "id": "d7bba502-7296-4448-a7e0-6e38b2d35e97",
   "metadata": {
    "tags": []
   },
   "source": [
    "### Séjours de réanimation depuis une liste triée\n",
    "Pas de chirurgie cardiaque, pas d'USC"
   ]
  },
  {
   "cell_type": "code",
   "execution_count": 17,
   "id": "b3d51a45-c0a2-4bc7-a5cd-6cae3cf0e2a6",
   "metadata": {
    "tags": []
   },
   "outputs": [
    {
     "data": {
      "text/html": [
       "<table>\n",
       "<caption>A tibble: 1 × 1</caption>\n",
       "<thead>\n",
       "\t<tr><th scope=col>n</th></tr>\n",
       "\t<tr><th scope=col>&lt;dbl&gt;</th></tr>\n",
       "</thead>\n",
       "<tbody>\n",
       "\t<tr><td>14411</td></tr>\n",
       "</tbody>\n",
       "</table>\n"
      ],
      "text/latex": [
       "A tibble: 1 × 1\n",
       "\\begin{tabular}{l}\n",
       " n\\\\\n",
       " <dbl>\\\\\n",
       "\\hline\n",
       "\t 14411\\\\\n",
       "\\end{tabular}\n"
      ],
      "text/markdown": [
       "\n",
       "A tibble: 1 × 1\n",
       "\n",
       "| n &lt;dbl&gt; |\n",
       "|---|\n",
       "| 14411 |\n",
       "\n"
      ],
      "text/plain": [
       "  n    \n",
       "1 14411"
      ]
     },
     "metadata": {},
     "output_type": "display_data"
    }
   ],
   "source": [
    "sc %>% tbl('i2b2_observation_ufr') %>% \n",
    "    filter(location_cd %in% liste_reas) %>%\n",
    "    count() %>% as_tibble()"
   ]
  },
  {
   "cell_type": "markdown",
   "id": "c228572a-3be3-49ac-b210-a76d0953a70a",
   "metadata": {
    "tags": []
   },
   "source": [
    "### Séjours de réanimation avec un codage FA dans la visite"
   ]
  },
  {
   "cell_type": "code",
   "execution_count": 18,
   "id": "a1f5d5a7-1b91-4dfe-a61f-903919eef1ca",
   "metadata": {
    "tags": []
   },
   "outputs": [
    {
     "data": {
      "text/html": [
       "<table>\n",
       "<caption>A tibble: 1 × 1</caption>\n",
       "<thead>\n",
       "\t<tr><th scope=col>n</th></tr>\n",
       "\t<tr><th scope=col>&lt;dbl&gt;</th></tr>\n",
       "</thead>\n",
       "<tbody>\n",
       "\t<tr><td>12150</td></tr>\n",
       "</tbody>\n",
       "</table>\n"
      ],
      "text/latex": [
       "A tibble: 1 × 1\n",
       "\\begin{tabular}{l}\n",
       " n\\\\\n",
       " <dbl>\\\\\n",
       "\\hline\n",
       "\t 12150\\\\\n",
       "\\end{tabular}\n"
      ],
      "text/markdown": [
       "\n",
       "A tibble: 1 × 1\n",
       "\n",
       "| n &lt;dbl&gt; |\n",
       "|---|\n",
       "| 12150 |\n",
       "\n"
      ],
      "text/plain": [
       "  n    \n",
       "1 12150"
      ]
     },
     "metadata": {},
     "output_type": "display_data"
    }
   ],
   "source": [
    "sc %>% tbl('i2b2_observation_ufr') %>% \n",
    "    filter(location_cd %in% liste_reas) %>%\n",
    "    semi_join(codages_fa, by = c('encounter_num', 'patient_num')) %>%\n",
    "    count() %>% as_tibble()"
   ]
  },
  {
   "cell_type": "markdown",
   "id": "7456805f-9c89-41cd-a55c-3022a95f57d0",
   "metadata": {
    "tags": []
   },
   "source": [
    "### Séjours de réanimation avec un codage FA dans la visite et des examens de laboratoire"
   ]
  },
  {
   "cell_type": "code",
   "execution_count": 19,
   "id": "4bed1cf8-fdf1-4127-b0ef-a340470d5a63",
   "metadata": {
    "tags": []
   },
   "outputs": [
    {
     "data": {
      "text/html": [
       "<table>\n",
       "<caption>A tibble: 1 × 1</caption>\n",
       "<thead>\n",
       "\t<tr><th scope=col>n</th></tr>\n",
       "\t<tr><th scope=col>&lt;dbl&gt;</th></tr>\n",
       "</thead>\n",
       "<tbody>\n",
       "\t<tr><td>9417</td></tr>\n",
       "</tbody>\n",
       "</table>\n"
      ],
      "text/latex": [
       "A tibble: 1 × 1\n",
       "\\begin{tabular}{l}\n",
       " n\\\\\n",
       " <dbl>\\\\\n",
       "\\hline\n",
       "\t 9417\\\\\n",
       "\\end{tabular}\n"
      ],
      "text/markdown": [
       "\n",
       "A tibble: 1 × 1\n",
       "\n",
       "| n &lt;dbl&gt; |\n",
       "|---|\n",
       "| 9417 |\n",
       "\n"
      ],
      "text/plain": [
       "  n   \n",
       "1 9417"
      ]
     },
     "metadata": {},
     "output_type": "display_data"
    }
   ],
   "source": [
    "sc %>% tbl('i2b2_observation_ufr') %>% \n",
    "    filter(location_cd %in% liste_reas) %>%\n",
    "    semi_join(codages_fa, by = c('encounter_num', 'patient_num')) %>%\n",
    "    semi_join(sc %>% tbl('i2b2_observation_lab'), by = c('encounter_num', 'patient_num')) %>%\n",
    "    count() %>% as_tibble()"
   ]
  },
  {
   "cell_type": "markdown",
   "id": "9d1e66e6-d19e-4146-bd07-2093a19ecccf",
   "metadata": {
    "tags": []
   },
   "source": [
    "### Séjours de réanimation avec un codage FA dans la visite, des examens de laboratoire, une durée comprise entre 2 jours et un an"
   ]
  },
  {
   "cell_type": "code",
   "execution_count": 20,
   "id": "922f12d3-9cfa-4839-a13c-84e2eb8a8fba",
   "metadata": {
    "tags": []
   },
   "outputs": [
    {
     "data": {
      "text/html": [
       "<table>\n",
       "<caption>A tibble: 1 × 1</caption>\n",
       "<thead>\n",
       "\t<tr><th scope=col>n</th></tr>\n",
       "\t<tr><th scope=col>&lt;dbl&gt;</th></tr>\n",
       "</thead>\n",
       "<tbody>\n",
       "\t<tr><td>7395</td></tr>\n",
       "</tbody>\n",
       "</table>\n"
      ],
      "text/latex": [
       "A tibble: 1 × 1\n",
       "\\begin{tabular}{l}\n",
       " n\\\\\n",
       " <dbl>\\\\\n",
       "\\hline\n",
       "\t 7395\\\\\n",
       "\\end{tabular}\n"
      ],
      "text/markdown": [
       "\n",
       "A tibble: 1 × 1\n",
       "\n",
       "| n &lt;dbl&gt; |\n",
       "|---|\n",
       "| 7395 |\n",
       "\n"
      ],
      "text/plain": [
       "  n   \n",
       "1 7395"
      ]
     },
     "metadata": {},
     "output_type": "display_data"
    }
   ],
   "source": [
    "sc %>% tbl('i2b2_observation_ufr') %>% \n",
    "    filter(location_cd %in% liste_reas) %>%\n",
    "    semi_join(codages_fa, by = c('encounter_num', 'patient_num')) %>%\n",
    "    semi_join(sc %>% tbl('i2b2_observation_lab'), by = c('encounter_num', 'patient_num')) %>%\n",
    "    left_join(sc %>% tbl('i2b2_visit') %>% select(encounter_num, start_date, end_date), by = \"encounter_num\", suffix = c(\"_stay\", \"_visit\")) %>%\n",
    "    mutate(duree_sejour = ceiling((unix_timestamp(end_date_stay) - unix_timestamp(start_date_stay))/86400)) %>%\n",
    "    filter(duree_sejour >= 2 && duree_sejour < 365) %>%\n",
    "    count() %>% as_tibble()"
   ]
  },
  {
   "cell_type": "markdown",
   "id": "f6b1b7b5-fe89-45c2-8bf0-f0db4ce5dbd6",
   "metadata": {
    "tags": []
   },
   "source": [
    "### Séjours uniques de réanimation avec un codage FA dans la visite, des examens de laboratoire, une durée comprise entre 2 jours et un an"
   ]
  },
  {
   "cell_type": "code",
   "execution_count": 21,
   "id": "cbc4c14d-a958-4502-80fd-980642c7cf7a",
   "metadata": {
    "tags": []
   },
   "outputs": [
    {
     "name": "stderr",
     "output_type": "stream",
     "text": [
      "Warning message:\n",
      "“Missing values are always removed in SQL.\n",
      "Use `MIN(x, na.rm = TRUE)` to silence this warning\n",
      "This warning is displayed only once per session.”\n"
     ]
    },
    {
     "data": {
      "text/html": [
       "<table>\n",
       "<caption>A tibble: 1 × 1</caption>\n",
       "<thead>\n",
       "\t<tr><th scope=col>n</th></tr>\n",
       "\t<tr><th scope=col>&lt;dbl&gt;</th></tr>\n",
       "</thead>\n",
       "<tbody>\n",
       "\t<tr><td>6062</td></tr>\n",
       "</tbody>\n",
       "</table>\n"
      ],
      "text/latex": [
       "A tibble: 1 × 1\n",
       "\\begin{tabular}{l}\n",
       " n\\\\\n",
       " <dbl>\\\\\n",
       "\\hline\n",
       "\t 6062\\\\\n",
       "\\end{tabular}\n"
      ],
      "text/markdown": [
       "\n",
       "A tibble: 1 × 1\n",
       "\n",
       "| n &lt;dbl&gt; |\n",
       "|---|\n",
       "| 6062 |\n",
       "\n"
      ],
      "text/plain": [
       "  n   \n",
       "1 6062"
      ]
     },
     "metadata": {},
     "output_type": "display_data"
    }
   ],
   "source": [
    "sc %>% tbl('i2b2_observation_ufr') %>% \n",
    "    filter(location_cd %in% liste_reas) %>%\n",
    "    semi_join(codages_fa, by = c('encounter_num', 'patient_num')) %>%\n",
    "    semi_join(sc %>% tbl('i2b2_observation_lab'), by = c('encounter_num', 'patient_num')) %>%\n",
    "    left_join(sc %>% tbl('i2b2_visit') %>% select(encounter_num, start_date, end_date), by = \"encounter_num\", suffix = c(\"_stay\", \"_visit\")) %>%\n",
    "    mutate(duree_sejour = ceiling((unix_timestamp(end_date_stay) - unix_timestamp(start_date_stay))/86400)) %>%\n",
    "    filter(duree_sejour >= 2 && duree_sejour < 365) %>%\n",
    "    group_by(patient_num) %>%\n",
    "    filter(start_date_stay == min(start_date_stay)) %>%\n",
    "    ungroup() %>%\n",
    "    count() %>% as_tibble() "
   ]
  },
  {
   "cell_type": "markdown",
   "id": "ddfba1ca-72e1-4178-9980-05c1db02a372",
   "metadata": {},
   "source": [
    "### Séjours uniques de réanimation avec un codage FA dans la visite, des examens de laboratoire, une durée comprise entre 2 jours et un an et après avoir exclu les diagnostics interférant avec la décision d'anticoagulation"
   ]
  },
  {
   "cell_type": "code",
   "execution_count": 22,
   "id": "a5044dd2-b24a-41e1-91e5-388991fae4e3",
   "metadata": {},
   "outputs": [
    {
     "data": {
      "text/html": [
       "<table>\n",
       "<caption>A tibble: 1 × 1</caption>\n",
       "<thead>\n",
       "\t<tr><th scope=col>n</th></tr>\n",
       "\t<tr><th scope=col>&lt;dbl&gt;</th></tr>\n",
       "</thead>\n",
       "<tbody>\n",
       "\t<tr><td>4962</td></tr>\n",
       "</tbody>\n",
       "</table>\n"
      ],
      "text/latex": [
       "A tibble: 1 × 1\n",
       "\\begin{tabular}{l}\n",
       " n\\\\\n",
       " <dbl>\\\\\n",
       "\\hline\n",
       "\t 4962\\\\\n",
       "\\end{tabular}\n"
      ],
      "text/markdown": [
       "\n",
       "A tibble: 1 × 1\n",
       "\n",
       "| n &lt;dbl&gt; |\n",
       "|---|\n",
       "| 4962 |\n",
       "\n"
      ],
      "text/plain": [
       "  n   \n",
       "1 4962"
      ]
     },
     "metadata": {},
     "output_type": "display_data"
    }
   ],
   "source": [
    "sejours_rea_48_heures %>%\n",
    "    count() %>% as_tibble()"
   ]
  },
  {
   "cell_type": "code",
   "execution_count": null,
   "id": "53356481-fd2f-44be-af9d-8c506ea098a5",
   "metadata": {},
   "outputs": [],
   "source": []
  }
 ],
 "metadata": {
  "kernelspec": {
   "display_name": "[2.4.3] K8s R client",
   "language": "R",
   "name": "k8s-sparkr-client-2.4.3"
  },
  "language_info": {
   "codemirror_mode": "r",
   "file_extension": ".r",
   "mimetype": "text/x-r-source",
   "name": "R",
   "pygments_lexer": "r",
   "version": "4.0.0"
  }
 },
 "nbformat": 4,
 "nbformat_minor": 5
}
