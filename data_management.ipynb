{
 "cells": [
  {
   "cell_type": "markdown",
   "metadata": {},
   "source": [
    "# Chargement des librairies"
   ]
  },
  {
   "cell_type": "code",
   "execution_count": 2,
   "metadata": {},
   "outputs": [
    {
     "name": "stderr",
     "output_type": "stream",
     "text": [
      "\n",
      "Attaching package: ‘sparklyr’\n",
      "\n",
      "\n",
      "The following object is masked from ‘package:SparkR’:\n",
      "\n",
      "    collect\n",
      "\n",
      "\n",
      "Warning message:\n",
      "“Failed to locate timezone database”\n",
      "── \u001b[1mAttaching packages\u001b[22m ─────────────────────────────────────── tidyverse 1.2.1 ──\n",
      "\n",
      "\u001b[32m✔\u001b[39m \u001b[34mggplot2\u001b[39m 3.4.3     \u001b[32m✔\u001b[39m \u001b[34mpurrr  \u001b[39m 1.0.2\n",
      "\u001b[32m✔\u001b[39m \u001b[34mtibble \u001b[39m 3.2.1     \u001b[32m✔\u001b[39m \u001b[34mdplyr  \u001b[39m 1.1.2\n",
      "\u001b[32m✔\u001b[39m \u001b[34mtidyr  \u001b[39m 1.3.0     \u001b[32m✔\u001b[39m \u001b[34mstringr\u001b[39m 1.5.0\n",
      "\u001b[32m✔\u001b[39m \u001b[34mreadr  \u001b[39m 1.3.1     \u001b[32m✔\u001b[39m \u001b[34mforcats\u001b[39m 0.5.0\n",
      "\n",
      "── \u001b[1mConflicts\u001b[22m ────────────────────────────────────────── tidyverse_conflicts() ──\n",
      "\u001b[31m✖\u001b[39m \u001b[34mdplyr\u001b[39m::\u001b[32marrange()\u001b[39m      masks \u001b[34mSparkR\u001b[39m::arrange()\n",
      "\u001b[31m✖\u001b[39m \u001b[34mdplyr\u001b[39m::\u001b[32mbetween()\u001b[39m      masks \u001b[34mSparkR\u001b[39m::between()\n",
      "\u001b[31m✖\u001b[39m \u001b[34mdplyr\u001b[39m::\u001b[32mcoalesce()\u001b[39m     masks \u001b[34mSparkR\u001b[39m::coalesce()\n",
      "\u001b[31m✖\u001b[39m \u001b[34mdplyr\u001b[39m::\u001b[32mcollect()\u001b[39m      masks \u001b[34msparklyr\u001b[39m::collect(), \u001b[34mSparkR\u001b[39m::collect()\n",
      "\u001b[31m✖\u001b[39m \u001b[34mdplyr\u001b[39m::\u001b[32mcontains()\u001b[39m     masks \u001b[34mtidyr\u001b[39m::contains(), \u001b[34mSparkR\u001b[39m::contains()\n",
      "\u001b[31m✖\u001b[39m \u001b[34mdplyr\u001b[39m::\u001b[32mcount()\u001b[39m        masks \u001b[34mSparkR\u001b[39m::count()\n",
      "\u001b[31m✖\u001b[39m \u001b[34mdplyr\u001b[39m::\u001b[32mcume_dist()\u001b[39m    masks \u001b[34mSparkR\u001b[39m::cume_dist()\n",
      "\u001b[31m✖\u001b[39m \u001b[34mdplyr\u001b[39m::\u001b[32mdense_rank()\u001b[39m   masks \u001b[34mSparkR\u001b[39m::dense_rank()\n",
      "\u001b[31m✖\u001b[39m \u001b[34mdplyr\u001b[39m::\u001b[32mdesc()\u001b[39m         masks \u001b[34mSparkR\u001b[39m::desc()\n",
      "\u001b[31m✖\u001b[39m \u001b[34mdplyr\u001b[39m::\u001b[32mdistinct()\u001b[39m     masks \u001b[34mSparkR\u001b[39m::distinct()\n",
      "\u001b[31m✖\u001b[39m \u001b[34mdplyr\u001b[39m::\u001b[32mexplain()\u001b[39m      masks \u001b[34mSparkR\u001b[39m::explain()\n",
      "\u001b[31m✖\u001b[39m \u001b[34mdplyr\u001b[39m::\u001b[32mexpr()\u001b[39m         masks \u001b[34mggplot2\u001b[39m::expr(), \u001b[34mSparkR\u001b[39m::expr()\n",
      "\u001b[31m✖\u001b[39m \u001b[34mdplyr\u001b[39m::\u001b[32mfilter()\u001b[39m       masks \u001b[34mstats\u001b[39m::filter(), \u001b[34mSparkR\u001b[39m::filter()\n",
      "\u001b[31m✖\u001b[39m \u001b[34mdplyr\u001b[39m::\u001b[32mfirst()\u001b[39m        masks \u001b[34mSparkR\u001b[39m::first()\n",
      "\u001b[31m✖\u001b[39m \u001b[34mpurrr\u001b[39m::\u001b[32mflatten()\u001b[39m      masks \u001b[34mSparkR\u001b[39m::flatten()\n",
      "\u001b[31m✖\u001b[39m \u001b[34mdplyr\u001b[39m::\u001b[32mgroup_by()\u001b[39m     masks \u001b[34mSparkR\u001b[39m::group_by()\n",
      "\u001b[31m✖\u001b[39m \u001b[34mpurrr\u001b[39m::\u001b[32minvoke()\u001b[39m       masks \u001b[34msparklyr\u001b[39m::invoke()\n",
      "\u001b[31m✖\u001b[39m \u001b[34mdplyr\u001b[39m::\u001b[32mlag()\u001b[39m          masks \u001b[34mstats\u001b[39m::lag(), \u001b[34mSparkR\u001b[39m::lag()\n",
      "\u001b[31m✖\u001b[39m \u001b[34mdplyr\u001b[39m::\u001b[32mlast()\u001b[39m         masks \u001b[34mSparkR\u001b[39m::last()\n",
      "\u001b[31m✖\u001b[39m \u001b[34mdplyr\u001b[39m::\u001b[32mlead()\u001b[39m         masks \u001b[34mSparkR\u001b[39m::lead()\n",
      "\u001b[31m✖\u001b[39m \u001b[34mdplyr\u001b[39m::\u001b[32mmutate()\u001b[39m       masks \u001b[34mSparkR\u001b[39m::mutate()\n",
      "\u001b[31m✖\u001b[39m \u001b[34mdplyr\u001b[39m::\u001b[32mn()\u001b[39m            masks \u001b[34mSparkR\u001b[39m::n()\n",
      "\u001b[31m✖\u001b[39m \u001b[34mdplyr\u001b[39m::\u001b[32mn_distinct()\u001b[39m   masks \u001b[34mSparkR\u001b[39m::n_distinct()\n",
      "\u001b[31m✖\u001b[39m \u001b[34mpurrr\u001b[39m::\u001b[32mnegate()\u001b[39m       masks \u001b[34mSparkR\u001b[39m::negate()\n",
      "\u001b[31m✖\u001b[39m \u001b[34mdplyr\u001b[39m::\u001b[32mntile()\u001b[39m        masks \u001b[34mSparkR\u001b[39m::ntile()\n",
      "\u001b[31m✖\u001b[39m \u001b[34mdplyr\u001b[39m::\u001b[32mpercent_rank()\u001b[39m masks \u001b[34mSparkR\u001b[39m::percent_rank()\n",
      "\u001b[31m✖\u001b[39m \u001b[34mdplyr\u001b[39m::\u001b[32mrename()\u001b[39m       masks \u001b[34mSparkR\u001b[39m::rename()\n",
      "\u001b[31m✖\u001b[39m \u001b[34mdplyr\u001b[39m::\u001b[32mrow_number()\u001b[39m   masks \u001b[34mSparkR\u001b[39m::row_number()\n",
      "\u001b[31m✖\u001b[39m \u001b[34mdplyr\u001b[39m::\u001b[32msample_frac()\u001b[39m  masks \u001b[34mSparkR\u001b[39m::sample_frac()\n",
      "\u001b[31m✖\u001b[39m \u001b[34mdplyr\u001b[39m::\u001b[32mselect()\u001b[39m       masks \u001b[34mSparkR\u001b[39m::select()\n",
      "\u001b[31m✖\u001b[39m \u001b[34mdplyr\u001b[39m::\u001b[32mslice()\u001b[39m        masks \u001b[34mSparkR\u001b[39m::slice()\n",
      "\u001b[31m✖\u001b[39m \u001b[34mdplyr\u001b[39m::\u001b[32msql()\u001b[39m          masks \u001b[34mSparkR\u001b[39m::sql()\n",
      "\u001b[31m✖\u001b[39m \u001b[34mdplyr\u001b[39m::\u001b[32msummarize()\u001b[39m    masks \u001b[34mSparkR\u001b[39m::summarize()\n",
      "\u001b[31m✖\u001b[39m \u001b[34mpurrr\u001b[39m::\u001b[32mwhen()\u001b[39m         masks \u001b[34mSparkR\u001b[39m::when()\n",
      "\u001b[31m✖\u001b[39m \u001b[34mdplyr\u001b[39m::\u001b[32mwhere()\u001b[39m        masks \u001b[34mSparkR\u001b[39m::where()\n",
      "\n",
      "\n",
      "Attaching package: ‘lubridate’\n",
      "\n",
      "\n",
      "The following objects are masked from ‘package:SparkR’:\n",
      "\n",
      "    hour, intersect, minute, month, quarter, second, union, year\n",
      "\n",
      "\n",
      "The following objects are masked from ‘package:base’:\n",
      "\n",
      "    date, intersect, setdiff, union\n",
      "\n",
      "\n"
     ]
    }
   ],
   "source": [
    "library(sparklyr)\n",
    "library(tidyverse, warn.conflicts = FALSE)\n",
    "library(lubridate)\n",
    "library(tableone)\n",
    "library(fuzzyjoin)\n",
    "library(fastDummies)"
   ]
  },
  {
   "cell_type": "markdown",
   "metadata": {},
   "source": [
    "# Connexion à Spark"
   ]
  },
  {
   "cell_type": "code",
   "execution_count": 3,
   "metadata": {},
   "outputs": [],
   "source": [
    "config <- spark_config()\n",
    "sc <- spark_connect(master = \"yarn-cluster\", config = config, version = '2.4.3')"
   ]
  },
  {
   "cell_type": "markdown",
   "metadata": {},
   "source": [
    "# Sélection du schéma FA"
   ]
  },
  {
   "cell_type": "code",
   "execution_count": 4,
   "metadata": {},
   "outputs": [],
   "source": [
    "tbl_change_db(sc, 'cse_200007_20210519')"
   ]
  },
  {
   "cell_type": "markdown",
   "metadata": {
    "tags": []
   },
   "source": [
    "# Définition des variables"
   ]
  },
  {
   "cell_type": "markdown",
   "metadata": {},
   "source": [
    "## UFR de réanimation"
   ]
  },
  {
   "cell_type": "code",
   "execution_count": 5,
   "metadata": {},
   "outputs": [],
   "source": [
    "liste_reas_med <- c('UFR:028091',  'UFR:014025', 'UFR:095013', 'UFR:011440', 'UFR:010030',\n",
    "                    'UFR:010502', 'UFR:021034', 'UFR:0101', 'UFR:026151', 'UFR:053011', 'UFR:047057',\n",
    "                    'UFR:066067', 'UFR:066228', 'UFR:068033', 'UFR:073290', 'UFR:076023', 'UFR:087260')\n",
    "\n",
    "liste_reas_chir <- c('UFR:095073', 'UFR:095062', 'UFR:010025', 'UFR:010260', 'UFR:005269', 'UFR:005389', 'UFR:021262', 'UFR:0613', \n",
    "                     'UFR:026513', 'UFR:026514', 'UFR:047242', 'UFR:061726', 'UFR:066020', 'UFR:066120', 'UFR:066420', 'UFR:066520', \n",
    "                     'UFR:066620', 'UFR:073260', 'UFR:073261')\n",
    "\n",
    "liste_reas_enlevees <- c('UFR:028402', 'UFR:010302', 'UFR:053036', 'UFR:026511', 'UFR:066320', 'UFR:0107')\n",
    "\n",
    "liste_reas <- c(liste_reas_med, liste_reas_chir)\n",
    "\n",
    "liste_reas_non_triees <- c(liste_reas, liste_reas_enlevees)"
   ]
  },
  {
   "cell_type": "markdown",
   "metadata": {},
   "source": [
    "## Liste des UFR laissées de côté après réanalyse de la liste"
   ]
  },
  {
   "cell_type": "code",
   "execution_count": 6,
   "metadata": {
    "tags": []
   },
   "outputs": [],
   "source": [
    "### Soins continus : c('UFR:028402', 'UFR:010302', 'UFR:053036')\n",
    "### Chirurgie cardiaque : c('UFR:026511', 'UFR:066320')"
   ]
  },
  {
   "cell_type": "markdown",
   "metadata": {},
   "source": [
    "## Examens de laboratoire"
   ]
  },
  {
   "cell_type": "markdown",
   "metadata": {},
   "source": [
    "### Codes des examens de laboratoire d'hémostase"
   ]
  },
  {
   "cell_type": "code",
   "execution_count": 7,
   "metadata": {},
   "outputs": [],
   "source": [
    "#### AntiXa-HNF : LAB:A0350, LAB:G1986, LAB:E3109, \n",
    "#### AntiXa-HBPM : LAB:A0018, LAB:E3108\n",
    "#### Danaparoïde sodique : LAB:A0019, LAB:A2662, LAB:H6291, LAB:D9103\n",
    "#### TCA : LAB:A0265 (Patient), LAB:A0266 (Témoin), LAB:A1792 (Ratio)\n",
    "#### INR : LAB:A0269, LAB:F5455\n",
    "#### AOD : LAB:E5350 (Rivaroxaban), LAB:F8012 (Apixaban), LAB:H3248 (Edoxaban)\n",
    "\n",
    "lab_antiXa_hnf <- c ('LAB:A0350', 'LAB:G1986', 'LAB:E3109')\n",
    "lab_antiXa_hbpm <- c ('LAB:A0018', 'LAB:E3108')\n",
    "lab_tca_ratio <- c ('LAB:A1792')\n",
    "lab_aod <- c('LAB:E5350', 'LAB:F8012', 'LAB:H3248')\n",
    "\n",
    "lab_tous_tests <- c(lab_antiXa_hnf,lab_antiXa_hbpm,lab_tca_ratio,lab_aod)\n",
    "lab_tous_tests_sans_tca <- c(lab_antiXa_hnf,lab_antiXa_hbpm,lab_aod)"
   ]
  },
  {
   "cell_type": "markdown",
   "metadata": {},
   "source": [
    "### Codes des autres examens de laboratoire pertinents"
   ]
  },
  {
   "cell_type": "code",
   "execution_count": 8,
   "metadata": {
    "tags": []
   },
   "outputs": [],
   "source": [
    "## Codes de l'Hb - NB B1946 et B1945 sont l'Hb des GdS veineux et artériels respectivement, donc \n",
    "## discuter la variabilité des valeurs entre GdS et NFS.\n",
    "lab_hb <- c('LAB:A0163', 'LAB:C1549', 'LAB:A9882', 'LAB:C8745', 'LAB:B1946', 'LAB:B1945')\n",
    "\n",
    "## Correspondance LOINC : 22664-7\n",
    "lab_uree <- c('LAB:A0286', 'LAB:G3350')\n",
    "\n",
    "# Correspondance LOINC : 3255-7\n",
    "lab_fib <- c('LAB:A0126', 'LAB:A1114', 'LAB:A2667')\n",
    "\n",
    "## Correspondance LOINC : 777-3\n",
    "## Correspondance LOINC : 778-1\n",
    "lab_plq <- c('LAB:A0230', 'LAB:A2538', 'LAB:B9896', 'LAB:G5746', 'LAB:G7727', 'LAB:G7728', 'LAB:G7833', 'LAB:A1598', 'LAB:A2539')\n",
    "\n",
    "## Correspondance LOINC : 48066-5\n",
    "lab_ddim <- c('LAB:B4199', 'LAB:C0474', 'LAB:C7882', 'LAB:F5402')\n",
    "\n",
    "## Correspondance LOINC : 14682-9\n",
    "lab_creat <- c('LAB:F9409','LAB:C0697','LAB:F9410','LAB:F2621','LAB:G7834','LAB:A7813','LAB:H4038','LAB:A0094')\n",
    "\n",
    "lab_tous_autres <- c(lab_hb, lab_uree, lab_fib, lab_plq, lab_ddim, lab_creat)"
   ]
  },
  {
   "cell_type": "markdown",
   "metadata": {},
   "source": [
    "## Variables des actes CCAM"
   ]
  },
  {
   "cell_type": "code",
   "execution_count": 9,
   "metadata": {},
   "outputs": [],
   "source": [
    "ccam_iot <- 'CCAM:GELD004'\n",
    "ccam_vm <- c('CCAM:GLLD015', 'CCAM:GLLD004', 'CCAM:GLLD008')\n",
    "ccam_vasopresseur <- c('CCAM:EQLF003', 'CCAM:EQLF001')\n",
    "ccam_eer <- c('CCAM:JVJF002', 'CCAM:JVJF005', 'CCAM:JVJB002')\n",
    "ccam_ecmo <- 'CCAM:EQQP004'\n",
    "ccam_transfusion <- c('CCAM:FELF011', 'CCAM:FELF004')\n",
    "ccam_coagulopathie <- 'CCAM:FELF003'"
   ]
  },
  {
   "cell_type": "markdown",
   "metadata": {},
   "source": [
    "## Variables des codages diagnostics CIM10"
   ]
  },
  {
   "cell_type": "markdown",
   "metadata": {},
   "source": [
    "### Codes ischémiques"
   ]
  },
  {
   "cell_type": "code",
   "execution_count": 10,
   "metadata": {},
   "outputs": [],
   "source": [
    "#### I63 : AIC\n",
    "#### I74 : Embolie ou thrombose artérielle\n",
    "#### I513 : Thrombose intra-cardiaque\n",
    "#### K55 : Troubles vasculaires aigus de l'intestin\n",
    "#### N28 : Infarctus rénal\n",
    "#### D735 : Infarctus splénique\n",
    "\n",
    "ischemie <- tibble(code = c('CIM10:I63', 'CIM10:I74', 'CIM10:I513', 'CIM10:K550', 'CIM10:N280', 'CIM10:D735'),\n",
    "                   type = c('cerebrale', 'vasculaire', 'cardiaque', 'intestinal', 'renal', 'splenique'),\n",
    "                   binaire_ischemie = c(1,1,1,1,1,1))\n",
    "\n",
    "diag_biais_anticoag <- tibble(code = c('CIM10:I74', 'CIM10:I513', 'CIM10:K550', 'CIM10:I26', 'CIM10:Z952', 'CIM10:I80', 'CIM10:I81', 'CIM10:I82', 'CIM10:D685', 'CIM10:D686'),\n",
    "                        diag = c('b_thrombose_arterielle', 'b_thrombose_cardiaque', 'b_ischemie_mesenterique', 'b_embolie_pulmonaire', 'b_valve_cardiaque', 'b_thrombose_veineuse', 'b_thrombose_veineuse', 'b_thrombose_veineuse', 'b_thrombophilie', 'b_thrombophilie'),\n",
    "                        binaire_biais_anticoag = c(1,1,1,1,1,1,1,1,1,1))\n",
    "\n",
    "diag_biais_anticoag_alter <- tibble(code = c('CIM10:Z952', 'CIM10:D685', 'CIM10:D686'),\n",
    "                        diag = c('b_valve_cardiaque', 'b_thrombophilie', 'b_thrombophilie'),\n",
    "                        binaire_biais_anticoag = c(1,1,1))"
   ]
  },
  {
   "cell_type": "markdown",
   "metadata": {},
   "source": [
    "### Codes hémorragiques "
   ]
  },
  {
   "cell_type": "code",
   "execution_count": 11,
   "metadata": {
    "tags": []
   },
   "outputs": [],
   "source": [
    "#### I61 : Hémorragie intracérébrale\n",
    "#### I62 : Autre hémorragies intracrâniennes\n",
    "#### R04 : Hémorragie des voies respiratoires\n",
    "#### T7952 : \n",
    "#### T810 : Hémorragie compliquant un acte à visée diagnostique ou thérapeutique\n",
    "#### M250 : Hémarthrose\n",
    "#### R58 : Hémorragie, non classée ailleurs\n",
    "#### N328 : Autres affections précisées de la vessie (un peu large, ça ?)\n",
    "#### R31 : Hématurie\n",
    "#### K922 : Hémorragie gastro-intestinale\n",
    "#### K920 : Hématémèse\n",
    "#### K661 : Hémopéritoine\n",
    "#### K250 : Ulcère aigu de l'estomac\n",
    "#### K260 : Ulcère aigu du duodénum\n",
    "#### K270 : Ulcère digestif de siège non précisé avec hémorragie\n",
    "#### K280 : Ulcère gastro-jéjunal aigu avec hémorragie\n",
    "#### K2X4 : Ulcère [de localisation correspondant au X] chronique ou non précisé, avec hémorragie\n",
    "\n",
    "hemorragie <- tibble(code = c('CIM10:I61', 'CIM10:I62', 'CIM10:R04', 'CIM10:T7952', 'CIM10:T810',\n",
    "                      'CIM10:M250', 'CIM10:R58', 'CIM10:N328', 'CIM10:R31', 'CIM10:K922',\n",
    "                      'CIM10:K920', 'CIM10:K661', 'CIM10:K260', 'CIM10:K250', 'CIM10:K280',\n",
    "                      'CIM10:K270', 'CIM10:K264', 'CIM10:K254', 'CIM10:K284', 'CIM10:K274'),\n",
    "                     type = c('cerebrale', 'cerebrale', 'respiratoire', 'autre', 'iatrogene',\n",
    "                              'articulaire', 'autre', 'urinaire', 'urinaire', 'digestif', 'digestif',\n",
    "                              'digestif', 'digestif', 'digestif', 'digestif', 'digestif', 'digestif',\n",
    "                              'digestif', 'digestif', 'digestif'),\n",
    "                     binaire_hemorragie = c(1,1,1,1,1,1,1,1,1,1,1,1,1,1,1,1,1,1,1,1))"
   ]
  },
  {
   "cell_type": "code",
   "execution_count": 12,
   "metadata": {
    "tags": []
   },
   "outputs": [],
   "source": [
    "#### E11/E10 : Diabète\n",
    "#### I10 : Hypertension artérielle\n",
    "#### E66 : Obésité\n",
    "#### J44/J42 : BPCO\n",
    "#### I50 : Insuffisance cardiaque chronique \n",
    "#### N18 : Maladie rénale chronique\n",
    "\n",
    "antecedents <- tibble(code = c('CIM10:E11', 'CIM10:E10', 'CIM10:I10', 'CIM10:E66', 'CIM10:J44','CIM10:J42', 'CIM10:I50', 'CIM10:N18'),\n",
    "                     type = c('diabete', 'diabete', 'hta', 'obesite', 'bpco', 'bpco','ins_cardiaque', 'ins_renale'),\n",
    "                     binaire_atcd = c(1,1,1,1,1,1,1,1))"
   ]
  },
  {
   "cell_type": "markdown",
   "metadata": {},
   "source": [
    "### Codes autres\n",
    "#### Etats de choc"
   ]
  },
  {
   "cell_type": "code",
   "execution_count": 13,
   "metadata": {},
   "outputs": [],
   "source": [
    "etat_choc <- tibble(code=c('CIM10:R572', 'CIM10:R571', 'CIM10:R570', 'CIM10:R578', 'CIM10:R579'),\n",
    "             type_choc=c('septique', 'hypovolemique', 'cardiogenique', 'autre', 'autre'),\n",
    "             binaire_choc=c(1,1,1,1,1))"
   ]
  },
  {
   "cell_type": "markdown",
   "metadata": {},
   "source": [
    "#### Sepsis"
   ]
  },
  {
   "cell_type": "code",
   "execution_count": 14,
   "metadata": {
    "tags": []
   },
   "outputs": [],
   "source": [
    "sepsis <- 'CIM10:R650'"
   ]
  },
  {
   "cell_type": "markdown",
   "metadata": {},
   "source": [
    "#### Neurochirurgie"
   ]
  },
  {
   "cell_type": "code",
   "execution_count": 15,
   "metadata": {},
   "outputs": [],
   "source": [
    "# Code des actes chirurgicaux \n",
    "\n",
    "## Neurochirurgie encéphalique et médullaire\n",
    "\n",
    "nc <- tibble(code = c('CCAM:ACFA', 'CCAM:ABJA', 'CCAM:ABCC', 'CCAM:ABCA', 'CCAM:ABMA', 'CCAM:AAJA', 'CCAM:AAJH',\n",
    "                      'CCAM:ABFA', 'CCAM:ABSA', 'CCAM:AAFA', 'CCAM:ABFC', 'CCAM:ABJC'),\n",
    "             type = c('cerebrale', 'cerebrale', 'cerebrale', 'cerebrale', 'cerebrale', 'cerebrale', 'cerebrale', \n",
    "                      'cerebrale', 'cerebrale', 'cerebrale', 'cerebrale', 'cerebrale'))"
   ]
  },
  {
   "cell_type": "markdown",
   "metadata": {
    "tags": []
   },
   "source": [
    "# Créations des tables"
   ]
  },
  {
   "cell_type": "markdown",
   "metadata": {
    "tags": []
   },
   "source": [
    "## Fibrillation atriale (FA)\n",
    "\n",
    "### FA de novo"
   ]
  },
  {
   "cell_type": "code",
   "execution_count": 16,
   "metadata": {
    "tags": []
   },
   "outputs": [],
   "source": [
    "fa_de_novo <- sc %>% tbl('i2b2_observation_cim10') %>%\n",
    "    select(location_cd, concept_cd, encounter_num, patient_num, start_date) %>%\n",
    "    mutate(concept_cd_abr = str_sub(concept_cd, 1, 9)) %>%\n",
    "    filter(concept_cd_abr == \"CIM10:I48\") %>%\n",
    "    collect() %>%\n",
    "    group_by(patient_num) %>%\n",
    "    slice_min(start_date) %>%\n",
    "    mutate(fadenovo = ifelse(location_cd %in% liste_reas, 1, 0)) %>%\n",
    "    select(-c(concept_cd, concept_cd_abr, start_date)) %>%\n",
    "    filter(location_cd %in% liste_reas) %>%\n",
    "    distinct()"
   ]
  },
  {
   "cell_type": "code",
   "execution_count": 17,
   "metadata": {
    "tags": []
   },
   "outputs": [],
   "source": [
    "fa_de_novo <- copy_to(sc, fa_de_novo, overwrite = TRUE)"
   ]
  },
  {
   "cell_type": "markdown",
   "metadata": {
    "tags": []
   },
   "source": [
    "### Codages de FA"
   ]
  },
  {
   "cell_type": "code",
   "execution_count": 18,
   "metadata": {
    "tags": []
   },
   "outputs": [],
   "source": [
    "codages_fa <- sc %>% tbl('i2b2_observation_cim10') %>%\n",
    "    select(location_cd, concept_cd, encounter_num, patient_num, start_date) %>%\n",
    "    mutate(concept_cd_abr = str_sub(concept_cd, 1, 9)) %>%\n",
    "    filter(concept_cd_abr == \"CIM10:I48\") %>%\n",
    "    select(-c(concept_cd, start_date, concept_cd_abr))"
   ]
  },
  {
   "cell_type": "markdown",
   "metadata": {
    "tags": []
   },
   "source": [
    "### Diagnostics interférant avec la décision d'anticoagulation\n",
    "#### Biais thrombotiques\n",
    "Quels que soient leurs qualification diagnostique (DP ou DAS) car une embolie pulmonaire diagnostiquée au cours du séjour sera une indication formelle. Est-ce vraiment une bonne idée si on considère par exemple la dialyse qui est également une indication d'anticoagulation mais qui n'est pas exclue."
   ]
  },
  {
   "cell_type": "code",
   "execution_count": 19,
   "metadata": {},
   "outputs": [],
   "source": [
    "cim10_biais_thrombose <-  sc %>% tbl('i2b2_observation_cim10') %>%\n",
    "    select(encounter_num, patient_num, concept_cd, start_date, instance_num, tval_char, location_cd) %>%\n",
    "    filter(location_cd %in% liste_reas) %>%\n",
    "    collect() %>%\n",
    "    filter(str_detect(concept_cd, paste(diag_biais_anticoag$code, collapse = \"|\")))"
   ]
  },
  {
   "cell_type": "markdown",
   "metadata": {},
   "source": [
    "#### Biais hémorragiques\n",
    "Où ne sont gardées que les causes d'admission en réanimation (biais ?) car une hémorragie en cours de réanimation n'interrompt pas toute indication d'anticoagulation"
   ]
  },
  {
   "cell_type": "code",
   "execution_count": 20,
   "metadata": {},
   "outputs": [],
   "source": [
    "cim10_biais_hemorragie <- sc %>% tbl(\"i2b2_observation_cim10\") %>% \n",
    "    select(encounter_num, patient_num, concept_cd, start_date, instance_num, tval_char, location_cd) %>%\n",
    "    filter(location_cd %in% liste_reas) %>%\n",
    "    collect() %>%\n",
    "    filter(str_detect(concept_cd, paste(hemorragie$code, collapse = \"|\"))) %>%\n",
    "    filter(tval_char == 'DP')"
   ]
  },
  {
   "cell_type": "markdown",
   "metadata": {},
   "source": [
    "#### Visites avec un acte neurochirurgical"
   ]
  },
  {
   "cell_type": "code",
   "execution_count": 21,
   "metadata": {},
   "outputs": [],
   "source": [
    "visites_avec_nc <- sc %>% tbl('i2b2_observation_ccam') %>%\n",
    "    mutate(concept_cd_abr = str_sub(concept_cd, 1, 9)) %>%\n",
    "    filter(concept_cd_abr %in% !!nc$code) %>%\n",
    "    as_tibble() %>%\n",
    "    group_by(encounter_num) %>%\n",
    "    count()"
   ]
  },
  {
   "cell_type": "markdown",
   "metadata": {
    "tags": []
   },
   "source": [
    "## Séjours\n",
    "\n",
    " - A noter que le semi-join permet d'enlever l'ensemble des séjours qui n'ont pas d'examens de laboratoire"
   ]
  },
  {
   "cell_type": "code",
   "execution_count": 22,
   "metadata": {
    "tags": []
   },
   "outputs": [
    {
     "name": "stderr",
     "output_type": "stream",
     "text": [
      "\u001b[1m\u001b[22mJoining, by = c(\"encounter_num\", \"patient_num\", \"location_cd\")\n"
     ]
    }
   ],
   "source": [
    "## Table de synthèse avec les données des patients, des séjours (une ligne par séjour, donc plusieurs lignes)\n",
    "## possibles par patient unique, de la biologie (valeurs minimales et maximales de : Hb, Urée, TP, TCA,\n",
    "## anti-XA, Plq)\n",
    "\n",
    "## Séjours de réanimation filtrés depuis la table UFR - sejours_rea_48_heures\n",
    "\n",
    "sejours_rea_48_heures <- sc %>% tbl('i2b2_observation_ufr') %>% \n",
    "    filter(location_cd %in% liste_reas) %>%\n",
    "    select(encounter_num, patient_num, location_cd, start_date, end_date, instance_num) %>%\n",
    "\n",
    "### Fusion avec les tables  Patient et Visite pour obtenir l'âge de chaque patient ainsi que son statut vital au moment de chaque séjour, et de chaque hospitalisation\n",
    "\n",
    "    left_join(sc %>% tbl('i2b2_patient') %>% select(patient_num, vital_status_cd, birth_date, death_date, sex_cd), by = \"patient_num\") %>%\n",
    "    left_join(sc %>% tbl('i2b2_visit') %>% select(encounter_num, start_date, end_date), by = \"encounter_num\", suffix = c(\"_stay\", \"_visit\")) %>%\n",
    "    left_join(fa_de_novo) %>% \n",
    "    na.replace(fadenovo = 0) %>%\n",
    "    semi_join(codages_fa, by = c('encounter_num', 'patient_num')) %>%\n",
    "    semi_join(sc %>% tbl('i2b2_observation_lab'), by = c('encounter_num', 'patient_num')) %>%\n",
    "    mutate(death_during_stay = ifelse(vital_status_cd == \"V\", 0, ifelse((death_date == end_date_stay), 1, 0))) %>%\n",
    "    mutate(age_at_stay_entry = round((unix_timestamp(start_date_stay) - unix_timestamp(birth_date))/31536000, 0)) %>%\n",
    "    mutate(death_during_visit = ifelse(vital_status_cd == \"V\", 0, ifelse((death_date == end_date_visit), 1, 0))) %>%\n",
    "    mutate(duree_sejour = ceiling((unix_timestamp(end_date_stay) - unix_timestamp(start_date_stay))/86400)) %>%\n",
    "    mutate(duree_visite = ceiling((unix_timestamp(end_date_visit) - unix_timestamp(start_date_visit))/86400)) %>%\n",
    "    mutate(type_rea = ifelse(location_cd %in% liste_reas_med, 'med', 'chir')) %>%\n",
    "\n",
    "## Plusieurs questionnements autour des séjours :\n",
    "\n",
    "## Le filtre de durée de séjour > 2 jours peut sembler inquiétante vu qu c'est une condition de sélection de la cohorte.\n",
    "## En réalité, il s'agit des séjours très courts associés à des séjours de plus de deux jours : exemple d'un patient initialement inscrit dans l'UF d'USC pour quelques heures \n",
    "## avant d'être passé dans l'UF de réanimation.\n",
    "\n",
    "## Est-ce qu'un séjour de 3 jours en USC, puis, dans les suites d'une complication ou d'une aggravation, de 5 jours en réanimation, doivent compter comme un seul séjour ou \n",
    "## comme deux séjours ? C'est une vraie question à plusieurs égards\n",
    "### Sur le plan de l'unité conceptuelle du séjour : est-ce plus pertinent de diviser ou d'unifier les gravités / mécanismes physiopathologiques / événements des deux séjours ?\n",
    "### Sur le plan du choix fait de ne prendre que le premier séjour de chaque patient (choix discutable bien sur) en ignorant donc potentiellement un séjour d'USC ou de réanimation dans une même visite\n",
    "### Sur le plan du data management, parce que fusionner deux séjours d'USC et de réanimation contigus lors de la même visite est une opération qui me semble difficile à réaliser (à voir si cela vaut \n",
    "### la peine d'investir le temps pour). Pour le moment, j'ai donc décidé d'enlever les UF de soins continus des UF de réanimation qui font partie du même service, pour ne pas avoir à gérer ce problème.\n",
    "### La justification scientifique de cette supression est que nous ne prenons que les malades de réanimation.\n",
    "\n",
    "    filter(duree_sejour >= 2 && duree_sejour < 365) %>%\n",
    "    group_by(patient_num) %>%\n",
    "    filter(start_date_stay == min(start_date_stay)) %>%\n",
    "    ungroup()"
   ]
  },
  {
   "cell_type": "markdown",
   "metadata": {
    "tags": []
   },
   "source": [
    "### Score CHA2DS2-VASc"
   ]
  },
  {
   "cell_type": "code",
   "execution_count": 23,
   "metadata": {
    "tags": []
   },
   "outputs": [
    {
     "name": "stderr",
     "output_type": "stream",
     "text": [
      "\u001b[1m\u001b[22mJoining, by = c(\"encounter_num\", \"location_cd\")\n",
      "Warning message:\n",
      "“Missing values are always removed in SQL.\n",
      "Use `SUM(x, na.rm = TRUE)` to silence this warning\n",
      "This warning is displayed only once per session.”\n",
      "Warning message:\n",
      "“Missing values are always removed in SQL.\n",
      "Use `MIN(x, na.rm = TRUE)` to silence this warning\n",
      "This warning is displayed only once per session.”\n"
     ]
    }
   ],
   "source": [
    "## Score CHADS-VASC-2 par séjour de réanimation\n",
    "## ATCD d'AVC : 2 points\n",
    "## ATCD de pathologie vasculaire (AOMI, SCA) : 1 point\n",
    "## ATCD d'HTA : 1 point\n",
    "## ATCD de diabète : 1 point\n",
    "## ATCD d'insuffisance cardiaque : 1 point\n",
    "## Age compris entre 65 et 74 ans : 1 point\n",
    "## Âge supérieur ou égal à 75 ans : 2 points\n",
    "## Sexe féminin : 1 point\n",
    "\n",
    "sejours_rea_48_heures <- sc %>% tbl('i2b2_observation_cim10') %>%\n",
    "    select(encounter_num, tval_char, location_cd, concept_cd) %>%\n",
    "    filter(location_cd %in% liste_reas) %>%\n",
    "    mutate(concept_cd_abr = str_sub(concept_cd, 1, 9)) %>%\n",
    "    filter(tval_char != \"DP\") %>%\n",
    "    # Création de codes abrégés afin de rassembler sous une même catégorie les différents diagnostics détaillés\n",
    "    filter(concept_cd_abr == \"CIM10:I69\" | concept_cd_abr == \"CIM10:I25\" | concept_cd_abr == \"CIM10:I70\" | concept_cd_abr == \"CIM10:I10\" | concept_cd_abr == \"CIM10:E10\" | concept_cd_abr == \"CIM10:E11\" | concept_cd_abr == \"CIM10:I50\") %>%\n",
    "    # Nouvelle variable item_chads_vasc pour grouper plusieurs codes abrégés sous le même libellé\n",
    "    mutate(item_chads_vasc = case_when (\n",
    "        concept_cd_abr == \"CIM10:I69\" ~ \"avc\",\n",
    "        concept_cd_abr == \"CIM10:I25\" | concept_cd_abr == \"CIM10:I70\" ~ \"vasculaire\",\n",
    "        concept_cd_abr == \"CIM10:I10\" ~ \"hta\",\n",
    "        concept_cd_abr == \"CIM10:E10\" | concept_cd_abr == \"CIM10:E11\" ~ \"diabete\",\n",
    "        concept_cd_abr == \"CIM10:I50\" ~ \"ins_card\"\n",
    "        )) %>%\n",
    "    # Attribution du score de 1 à tous les codes, sauf celui d'antécédent d'AVC (I69) qui vaut 2\n",
    "    mutate(point_chads_vasc = ifelse(item_chads_vasc == \"avc\", 2, 1)) %>%\n",
    "    # Il faut enlever les codages détaillés...\n",
    "    select(-concept_cd,-tval_char) %>%\n",
    "    # pour pouvoir distinguer chaque ligne de codage abrégé...\n",
    "    distinct() %>%\n",
    "    # pour ensuite les grouper par visite hospitalière et par séjour en réanimation...\n",
    "    group_by(encounter_num, location_cd) %>%\n",
    "    # et sommer l'ensemble des points de chaque visite\n",
    "    summarise(chads_vasc = sum(point_chads_vasc)) %>%\n",
    "    right_join(sejours_rea_48_heures) %>%\n",
    "    # Remplace les valeurs non attribuées (du fait du right_join qui crée des NaN à partir des patients n'ayant aucun codage sus-mentionné)\n",
    "    na.replace(chads_vasc = 0) %>%\n",
    "    # Ajoute le sexe et l'âge pour compléter le score\n",
    "    mutate(chads_vasc = case_when(\n",
    "        sex_cd == \"W\" ~ chads_vasc +1,\n",
    "        sex_cd == \"M\" ~ chads_vasc\n",
    "    )) %>%\n",
    "    mutate(chads_vasc = case_when(\n",
    "        age_at_stay_entry > 64 ~ chads_vasc +1,\n",
    "        age_at_stay_entry > 74 ~ chads_vasc +2,\n",
    "        age_at_stay_entry < 65 ~ chads_vasc\n",
    "    ))"
   ]
  },
  {
   "cell_type": "markdown",
   "metadata": {},
   "source": [
    "## Tables des diagnostics CIM10\n",
    "### Tables des complications\n",
    "#### Complications hémorragiques"
   ]
  },
  {
   "cell_type": "code",
   "execution_count": 24,
   "metadata": {},
   "outputs": [],
   "source": [
    "cim10_hemorragie <- sc %>% tbl('i2b2_observation_cim10') %>%\n",
    "    select(encounter_num, patient_num, concept_cd, start_date, instance_num, tval_char, location_cd) %>%\n",
    "    filter(location_cd %in% liste_reas) %>%\n",
    "\n",
    "# Filtre pour retirer les admissions dont le DP est l'événement\n",
    "# Pourrait se discuter de l'enlever mais il est difficile de faire la différence entre une hospitalisation pour un événement hémorragique dont la cause est le traitement anticoagulant ou non\n",
    "    filter(tval_char != \"DP\") %>%\n",
    "    \n",
    "\n",
    "# Collect() est nécessaire pour créer un objet local sans quoi str_detect ne peut être effectuée\n",
    "# Filtre pour ne sélectionner que les codes des événements hémorragiques\n",
    "# Regex_left_join permet de joindre les tables hemorragie et i2b2_observation_cim10 pour ajouter la colonne 'type' de l'hémorragie, en se basant sur une expression régulière (pour que I617 soit reconnu comme un saignement intracrânien)\n",
    "# Création d'une nouvelle variable avec les codes abrégés (une lettre et deux chiffres) pour regrouper les événements en grandes classes\n",
    "\n",
    "    collect() %>%\n",
    "    filter(str_detect(concept_cd, paste(hemorragie$code, collapse = \"|\"))) %>%\n",
    "    regex_left_join(hemorragie, by = c(concept_cd = \"code\")) %>%\n",
    "    mutate(concept_cd_abr = str_sub(concept_cd, 1, 9)) %>%\n",
    "    mutate(type_rea = ifelse(location_cd %in% liste_reas_med, 'med', 'chir'))"
   ]
  },
  {
   "cell_type": "code",
   "execution_count": 25,
   "metadata": {
    "tags": []
   },
   "outputs": [
    {
     "name": "stderr",
     "output_type": "stream",
     "text": [
      "\u001b[1m\u001b[22m`summarise()` has grouped output by 'encounter_num', 'patient_num'. You can\n",
      "override using the `.groups` argument.\n"
     ]
    }
   ],
   "source": [
    "cim10_hemorragie_wider <- cim10_hemorragie %>%\n",
    "    pivot_wider(names_from = type, values_from = binaire_hemorragie, names_prefix = \"hemorragie_\", values_fill = 0) %>%\n",
    "    select(-code, -instance_num, -concept_cd, -concept_cd_abr, -start_date, -tval_char, -type_rea) %>%\n",
    "    group_by(encounter_num, patient_num, location_cd) %>%\n",
    "    summarise(across(everything(), sum)) %>%\n",
    "    mutate(across(starts_with(\"hemorragie\"), .fns = ~ifelse(. > 0, 1, 0)))"
   ]
  },
  {
   "cell_type": "markdown",
   "metadata": {},
   "source": [
    "#### Complications ischémiques"
   ]
  },
  {
   "cell_type": "code",
   "execution_count": 26,
   "metadata": {
    "tags": []
   },
   "outputs": [],
   "source": [
    "cim10_ischemie <- sc %>% tbl('i2b2_observation_cim10') %>%\n",
    "    select(encounter_num, patient_num, concept_cd, start_date, instance_num, tval_char, location_cd) %>%\n",
    "    filter(location_cd %in% liste_reas) %>%\n",
    "\n",
    "# Filtre pour retirer les admissions dont le DP est l'événement ischémique\n",
    "# Pourrait se discuter de l'enlever mais il est difficile de faire la différence entre une hospitalisation pour un événement hémorragique dont la cause est le traitement anticoagulant ou non\n",
    "    filter(tval_char != \"DP\") %>%\n",
    "\n",
    "# Collect() est nécessaire pour créer un objet local sans quoi str_detect ne peut être effectuée\n",
    "# Filtre pour ne sélectionner que les codes des événements ischémiques\n",
    "# Regex_left_join permet de joindre les tables hemorragie et i2b2_observation_cim10 pour ajouter la colonne 'type' de l'hémorragie, en se basant sur une expression régulière (pour que I631 soit reconnues comme une ischémie cérébrale)\n",
    "# Création d'une nouvelle variable avec les codes abrégés (une lettre et deux chiffres) pour regrouper les événements en grandes classes\n",
    "    \n",
    "    collect() %>%\n",
    "    filter(str_detect(concept_cd, paste(ischemie$code, collapse = \"|\"))) %>%\n",
    "    regex_left_join(ischemie, by = c(concept_cd = \"code\")) %>%\n",
    "    mutate(concept_cd_abr = str_sub(concept_cd, 1, 9)) %>%\n",
    "    mutate(type_rea = ifelse(location_cd %in% liste_reas_med, 'med', 'chir'))"
   ]
  },
  {
   "cell_type": "code",
   "execution_count": 27,
   "metadata": {
    "tags": []
   },
   "outputs": [
    {
     "name": "stderr",
     "output_type": "stream",
     "text": [
      "\u001b[1m\u001b[22m`summarise()` has grouped output by 'encounter_num', 'patient_num'. You can\n",
      "override using the `.groups` argument.\n"
     ]
    }
   ],
   "source": [
    "cim10_ischemie_wider <- cim10_ischemie %>%\n",
    "    pivot_wider(names_from = type, values_from = binaire_ischemie, names_prefix = \"ischemie_\", values_fill = 0) %>%\n",
    "    select(-code, -instance_num, -concept_cd, -concept_cd_abr, -start_date, -tval_char, -type_rea) %>%\n",
    "    group_by(encounter_num, patient_num, location_cd) %>%\n",
    "    summarise(across(everything(), sum)) %>%\n",
    "    mutate(across(starts_with(\"ischemie\"), .fns = ~ifelse(. > 0, 1, 0)))"
   ]
  },
  {
   "cell_type": "markdown",
   "metadata": {},
   "source": [
    "### Etats de choc"
   ]
  },
  {
   "cell_type": "code",
   "execution_count": 28,
   "metadata": {},
   "outputs": [
    {
     "name": "stderr",
     "output_type": "stream",
     "text": [
      "\u001b[1m\u001b[22m`summarise()` has grouped output by 'encounter_num', 'patient_num'. You can\n",
      "override using the `.groups` argument.\n"
     ]
    }
   ],
   "source": [
    "cim10_choc <- sc %>% tbl('i2b2_observation_cim10') %>%\n",
    "    select(encounter_num, patient_num, concept_cd, start_date, instance_num, location_cd) %>%\n",
    "    filter(location_cd %in% liste_reas) %>%\n",
    "    filter(concept_cd %in% !!etat_choc$code) %>%\n",
    "    inner_join(sejours_rea_48_heures %>% select(encounter_num, patient_num, location_cd), by = c(\"encounter_num\", \"patient_num\", \"location_cd\")) %>%\n",
    "    collect() %>%\n",
    "    regex_left_join(etat_choc, by = c(concept_cd = \"code\")) %>%\n",
    "    select(-concept_cd, -start_date) %>%\n",
    "    pivot_wider(names_from = type_choc, values_from = binaire_choc, names_prefix = \"choc_\", values_fill = 0) %>%\n",
    "    select(-code, -instance_num) %>%\n",
    "    group_by(encounter_num, patient_num, location_cd) %>%\n",
    "    summarise(across(everything(), sum)) %>%\n",
    "    mutate(across(starts_with(\"choc\"), .fns = ~ifelse(. > 0, 1, 0)))"
   ]
  },
  {
   "cell_type": "markdown",
   "metadata": {},
   "source": [
    "### Antécédents"
   ]
  },
  {
   "cell_type": "code",
   "execution_count": 29,
   "metadata": {},
   "outputs": [
    {
     "name": "stderr",
     "output_type": "stream",
     "text": [
      "\u001b[1m\u001b[22m`summarise()` has grouped output by 'encounter_num', 'patient_num'. You can\n",
      "override using the `.groups` argument.\n"
     ]
    }
   ],
   "source": [
    "cim10_antecedents <- sc %>% tbl('i2b2_observation_cim10') %>%\n",
    "    select(encounter_num, patient_num, concept_cd, start_date, instance_num, location_cd) %>%\n",
    "    filter(location_cd %in% liste_reas) %>%\n",
    "    collect() %>%\n",
    "    filter(str_detect(concept_cd, paste(antecedents$code, collapse = \"|\"))) %>%\n",
    "    inner_join(collect(sejours_rea_48_heures) %>% select(encounter_num, patient_num, location_cd), by = c(\"encounter_num\", \"patient_num\", \"location_cd\")) %>%\n",
    "    regex_left_join(antecedents, by = c(concept_cd = \"code\")) %>%\n",
    "    select(-concept_cd, -start_date) %>%\n",
    "    pivot_wider(names_from = type, values_from = binaire_atcd, names_prefix = \"atcd_\", values_fill = 0) %>%\n",
    "    select(-code, -instance_num) %>%\n",
    "    group_by(encounter_num, patient_num, location_cd) %>%\n",
    "    summarise(across(everything(), sum)) %>%\n",
    "    mutate(across(starts_with(\"atcd\"), .fns = ~ifelse(. > 0, 1, 0)))"
   ]
  },
  {
   "cell_type": "markdown",
   "metadata": {
    "tags": []
   },
   "source": [
    "### Cause d'admission"
   ]
  },
  {
   "cell_type": "code",
   "execution_count": 30,
   "metadata": {
    "tags": []
   },
   "outputs": [],
   "source": [
    "cim10_cat_admission <- sc %>% tbl(\"i2b2_observation_cim10\") %>%\n",
    "    filter(tval_char == \"DP\" && location_cd %in% liste_reas) %>%\n",
    "    group_by(encounter_num) %>%\n",
    "    filter(start_date == min(start_date)) %>%\n",
    "    group_by(encounter_num) %>%\n",
    "    filter(instance_num == min(instance_num)) %>%\n",
    "    collect() %>%\n",
    "    mutate(\n",
    "        cat_admission_abr = str_sub(concept_cd, 7, 9),  # extraction des 3 premières lettres\n",
    "        diag_cat = case_when(\n",
    "           # 1. Pathologies neurochirurgicales / neurologiques aiguës\n",
    "           cat_admission_abr %in% c(\"I60\", \"I61\", \"I62\", \"I63\", \"I64\", \"G40\", \"G93\", \"S06\", \"C71\") ~ \"Neuro\",\n",
    "\n",
    "           # 2. Pathologies traumatiques extra-crâniennes\n",
    "           str_starts(cat_admission_abr, \"S\") & !cat_admission_abr %in% c(\"S06\") ~ \"Trauma_non_cranien\",\n",
    "\n",
    "           # 3. Pathologies cardio-vasculaires aiguës\n",
    "           cat_admission_abr %in% c(\"Z95\", \"I21\", \"I22\", \"I24\", \"I50\", \"I48\", \"I01\", \"I31\", \"I51\", \"I46\", \"I71\") | concept_cd == \"CIM10:R570\" ~ \"Cardio\",\n",
    "\n",
    "           # 4. Pathologies thromboemboliques\n",
    "           cat_admission_abr %in% c(\"I26\", \"I80\", \"I74\") ~ \"Thrombo_emb\",\n",
    "\n",
    "           # 5. Pathologies infectieuses sévères\n",
    "           cat_admission_abr %in% c(\"A41\", \"J15\", \"J18\", \"N10\", \"G00\", \"G06\", \"I33\") | concept_cd == \"CIM10:R572\" ~ \"Sepsis\",\n",
    "\n",
    "           # 6. Pathologies hépatiques sévères\n",
    "           cat_admission_abr %in% c(\"K70\", \"K72\", \"K74\", \"I85\") ~ \"Hepatique\",\n",
    "\n",
    "           # 7. Pathologies hématologiques / coagulopathies\n",
    "           cat_admission_abr %in% c(\"D65\", \"D69\", \"C92\", \"C91\", \"D46\", \"D62\", \"K92\") | concept_cd == \"CIM10:R571\" ~ \"Hemato\",\n",
    "\n",
    "           # 8. Pathologies chirurgicales digestives\n",
    "           cat_admission_abr %in% c(\"K65\", \"K85\", \"K83\", \"K63\", \"K35\", \"K38\", \"Z48\", \"K55\") ~ \"Post_op\",\n",
    "\n",
    "           # 9. Pathologies respiratoires isolées\n",
    "           cat_admission_abr %in% c(\"J44\", \"J45\", \"J46\", \"J96\", \"J20\", \"J69\", \"J80\", \"U07\", \"J13\") ~ \"Respi\",\n",
    "\n",
    "           # 10. Intoxications / métaboliques / divers\n",
    "           cat_admission_abr %in% c(\"T36\", \"T50\", \"E87\", \"E86\", \"E10\", \"E11\", \"F19\", \"N17\") ~ \"Metabo\",\n",
    "\n",
    "           TRUE ~ \"Autre\"\n",
    "         )) %>%\n",
    "    select(c(encounter_num, patient_num, cat_admission_abr, diag_cat))"
   ]
  },
  {
   "cell_type": "markdown",
   "metadata": {},
   "source": [
    "## Tests d'anticoagulation\n",
    "### Table initiale \n",
    "\n",
    "Tests d'anticoagulation par type d'anticoagulant et séjours de réanimation"
   ]
  },
  {
   "cell_type": "code",
   "execution_count": 31,
   "metadata": {},
   "outputs": [],
   "source": [
    "anticoag_patients_sejours_rea <- sc %>% tbl('i2b2_observation_lab') %>%\n",
    "    select(encounter_num, patient_num, concept_cd, instance_num, nval_num, quantity_num, start_date) %>%\n",
    "    rename(instance_num_lab = instance_num) %>%\n",
    "    rename(start_date_lab = start_date) %>%\n",
    "\n",
    "### Décommenter pour modifier le type de tests à filtrer\n",
    "    filter(concept_cd %in% lab_tous_tests_sans_tca) %>%\n",
    "\n",
    "###    filter(concept_cd %in% lab_tous_tests) %>%\n",
    "\n",
    "### Semi-join pour ne retenir que les visites avec au moins un séjour de réanimation\n",
    "    semi_join(sejours_rea_48_heures, by = \"encounter_num\") %>%\n",
    "\n",
    "### Inner Join pour grouper la table de labos et la table de séjours.\n",
    "### La jointure se fait sur le numéro de patient et de visite, on ne peut donc pas avoir les examens de laboratoire qui \n",
    "### sont réalisés pendant les séjours de réanimations sur cette étape.\n",
    "\n",
    "    inner_join(sejours_rea_48_heures, by = c(\"encounter_num\", \"patient_num\")) %>%\n",
    "\n",
    "### Filtres de dates : date de réalisation de l'examen > date d'admission en réanimation et < date de sortie de réanimation, \n",
    "### pour pouvoir n'obtenir que les examens réalisés pendant les séjours de réanimation.\n",
    "    filter(unix_timestamp(start_date_lab) >= unix_timestamp(start_date_stay)) %>%\n",
    "    filter(unix_timestamp(start_date_lab) <= unix_timestamp(end_date_stay)) %>%\n",
    "\n",
    "### Création d'une variable catégorielle du type d'anticoagulation\n",
    "\n",
    "    mutate(type_anticoag = case_when(\n",
    "         concept_cd %in% lab_antiXa_hnf ~ 'hnf',\n",
    "         concept_cd %in% lab_antiXa_hbpm ~ 'hbpm',\n",
    "         concept_cd %in% lab_aod ~ 'aod',\n",
    "         concept_cd %in% lab_tca_ratio ~ 'tca')\n",
    "           )\n",
    "### Affichage de la requête SQL si besoin   %>% show_query()"
   ]
  },
  {
   "cell_type": "markdown",
   "metadata": {},
   "source": [
    "### Table statistique\n",
    "\n",
    "Valeurs descriptives par séjour et par type d'anticoagulant"
   ]
  },
  {
   "cell_type": "code",
   "execution_count": 32,
   "metadata": {},
   "outputs": [],
   "source": [
    "summary_anticoag_sejours_rea <- anticoag_patients_sejours_rea %>%\n",
    "    group_by(instance_num, type_anticoag) %>%\n",
    "    summarise (nb_tests = n(), \n",
    "               moyenne = round(mean(nval_num),2),\n",
    "               mediane = round(percentile(nval_num,0.5),2),\n",
    "               min = min(nval_num), \n",
    "               max = max(nval_num), \n",
    "               sd = round(sd(nval_num),2), \n",
    "               q25=round(percentile(nval_num,0.25),2), \n",
    "               q75=round(percentile(nval_num,0.75),2))"
   ]
  },
  {
   "cell_type": "markdown",
   "metadata": {},
   "source": [
    "### Table aggrégée\n",
    "\n",
    "Reprise des valeurs statistiques par séjour et type d'anticoagulant\n",
    "\n",
    "Ajout des valeurs suivantes : \n",
    " - Nombre total de tests par séjour\n",
    " - Ratio nombre de tests / durée de séjour"
   ]
  },
  {
   "cell_type": "code",
   "execution_count": 33,
   "metadata": {},
   "outputs": [
    {
     "name": "stderr",
     "output_type": "stream",
     "text": [
      "\u001b[1m\u001b[22mJoining, by = \"instance_num\"\n",
      "\u001b[1m\u001b[22mJoining, by = c(\"instance_num\", \"type_anticoag\")\n"
     ]
    }
   ],
   "source": [
    "donnees_aggregees_anticoag <- anticoag_patients_sejours_rea %>% \n",
    "    group_by(instance_num) %>%\n",
    "\n",
    "    ## Compte du nombre total de tests par sejours\n",
    "    summarise(nb_total_tests_par_sejour = n()) %>%\n",
    "\n",
    "    ## Right_join pour reprendre les données de la table anticoag_patients_sejours_rea\n",
    "    right_join(anticoag_patients_sejours_rea) %>%\n",
    "\n",
    "    ## pour pouvoir calculer le ratio entre nombre total de tests et DMS\n",
    "    mutate(ratio_tests_duree_sejour = round((nb_total_tests_par_sejour / duree_sejour),2)) %>%\n",
    "\n",
    "    ## Group et Distinct retirent les répétitions de chaque ligne issues de la fusion entre summarise et right_join\n",
    "    group_by(instance_num) %>%\n",
    "    ## Sélection des variables d'intérêt\n",
    "    select(instance_num, encounter_num, nb_total_tests_par_sejour, duree_sejour, ratio_tests_duree_sejour, type_anticoag) %>%\n",
    "    distinct() %>%\n",
    "\n",
    "    ## Left_join avec la table qui récapitule les valeurs statistiques principales par séjour et par type de test d'anticoagulation\n",
    "    left_join(summary_anticoag_sejours_rea) %>%\n",
    "\n",
    "    ## Retire instance_num en double issu du left_join\n",
    "    select(-instance_num.x)"
   ]
  },
  {
   "cell_type": "markdown",
   "metadata": {},
   "source": [
    "### Table filtrée\n",
    "\n",
    "Choix du filtre pour déterminer trois niveaux d'anticoagulation : \n",
    "\n",
    " - Efficace\n",
    " - Imparfait\n",
    " - Inefficace"
   ]
  },
  {
   "cell_type": "code",
   "execution_count": 34,
   "metadata": {},
   "outputs": [],
   "source": [
    "donnees_aggregees_filtrees_anticoag <- donnees_aggregees_anticoag %>%\n",
    "\n",
    "# Conditions de filtrage des séjours de rénanimation où on considère que on a voulu anticoaguler le patient.\n",
    "# La question épineuse est de savoir quels critères ou quelle combinaison de critères prendre.\n",
    "\n",
    "# Ci dessous : le négatif (!) d'un nombre de tests inférieurs à trois ET d'une valeur maximale <= à 0.20\n",
    "\n",
    "#  mutate(volonte_anticoag = if_else((type_anticoag=='hnf' | type_anticoag=='hbpm') && (!(nb_tests < 3 && max <= 0.20)), 1, 0)) %>%\n",
    "\n",
    "## 3604 séjours au 15/03\n",
    "\n",
    "# Ci dessous : le négatif (!) d'un nombre de tests inférieurs à trois ET d'une valeur maximale <= à 0.10\n",
    "\n",
    "#  mutate(volonte_anticoag = if_else((type_anticoag=='hnf' | type_anticoag=='hbpm') && (!(nb_tests < 3 && max <= 0.10)), 1, 0)) %>%\n",
    "\n",
    "## 3929 séjours au 15/03\n",
    "\n",
    "## Autre proposition de filtre, à voir lequel est le meilleur\n",
    "\n",
    "   mutate(volonte_anticoag = if_else((type_anticoag=='hnf' | type_anticoag=='hbpm') && (!(ratio_tests_duree_sejour < 0.30 | (max <= 0.10 && nb_tests < 3))), 1, 0)) %>%\n",
    "\n",
    "## 3344 séjours au 15/03\n",
    "\n",
    "## Code à décommenter pour recalculer le nombre de séjours de chaque filtre :\n",
    "## donnees_aggregees_filtrees_anticoag %>%\n",
    "##    filter(volonte_anticoag == 1) %>%\n",
    "##    count() %>%\n",
    "##    count()\n",
    "\n",
    "## Création d'une variable catégorielle dichotomisant l'échec d'anticoagulation (q75 < 0,10 pour HNF, < 0,3 pour HBPM), la réussite d'anticoagulation (q25 > 0,3 pour HNF, > 0,5 pour HBPM)\n",
    "### et une anticoagulation imparfaite (tout le reste). Une question est : faut-il faire plus de catégories ?\n",
    "\n",
    "    mutate(efficacite_anticoag = case_when(\n",
    "        volonte_anticoag == 1 && type_anticoag == \"hnf\" && q25 > 0.3 ~ \"efficace\",\n",
    "        volonte_anticoag == 1 && type_anticoag == \"hnf\" && q75 < 0.11  ~ \"inefficace\",\n",
    "        volonte_anticoag == 1 && type_anticoag == \"hbpm\" && q25 > 0.5 ~ \"efficace\",\n",
    "        volonte_anticoag == 1 && type_anticoag== \"hbpm\" && q75 < 0.31  ~ \"inefficace\",\n",
    "        volonte_anticoag == 0 ~ NA,\n",
    "        TRUE ~ \"imparfait\")) %>%\n",
    "\n",
    "## Création d'une variable binaire de surdosage (initialement je pensais mettre surdosage dans un type d'anticoagulation, mais il semble logique de considérer des cas\n",
    "## d'anticoagulation inefficace ou imparfaite avec un surdosage, surtout si on veut potentiellement examiner l'association d'un surdosage avec un événement hémorragique)\n",
    "           \n",
    "    mutate(surdosage = ifelse(type_anticoag == \"hnf\" && max > 0.7 | type_anticoag== \"hbpm\" && max > 1.2, 1,0))"
   ]
  },
  {
   "cell_type": "code",
   "execution_count": 35,
   "metadata": {},
   "outputs": [
    {
     "name": "stderr",
     "output_type": "stream",
     "text": [
      "Warning message:\n",
      "“Missing values are always removed in SQL.\n",
      "Use `mean(x, na.rm = TRUE)` to silence this warning\n",
      "This warning is displayed only once per session.”\n",
      "Warning message:\n",
      "“Missing values are always removed in SQL.\n",
      "Use `MIN(x, na.rm = TRUE)` to silence this warning\n",
      "This warning is displayed only once per session.”\n",
      "Warning message:\n",
      "“Missing values are always removed in SQL.\n",
      "Use `MAX(x, na.rm = TRUE)` to silence this warning\n",
      "This warning is displayed only once per session.”\n"
     ]
    }
   ],
   "source": [
    "donnees_aggregees_filtrees_anticoag_wider <- donnees_aggregees_filtrees_anticoag %>%\n",
    "    select(-c(encounter_num,duree_sejour)) %>%\n",
    "    collect() %>%\n",
    "    pivot_wider(names_from = type_anticoag, values_from = c(nb_tests:surdosage), names_glue = \"{type_anticoag}_{.value}\") %>%\n",
    "    mutate(volonte_anticoag = case_when (\n",
    "        hbpm_volonte_anticoag == 1 | hnf_volonte_anticoag == 1 ~ 1,\n",
    "        TRUE ~ 0))"
   ]
  },
  {
   "cell_type": "markdown",
   "metadata": {
    "tags": []
   },
   "source": [
    "## Autres tests de laboratoire\n",
    "\n",
    "### Table initiale"
   ]
  },
  {
   "cell_type": "code",
   "execution_count": 36,
   "metadata": {
    "tags": []
   },
   "outputs": [],
   "source": [
    "# Table des examens de laboratoire pertinents, en dehors des examens de laboratoire d'hémostase\n",
    "# Pour l'instant : hémoglobine, urée, fibrinogène, plaquettes, DDimères\n",
    "\n",
    "labos_patients_sejours_rea <- sc %>% tbl('i2b2_observation_lab') %>%\n",
    "    rename(instance_num_lab = instance_num) %>%\n",
    "    rename(start_date_lab = start_date) %>%\n",
    "    filter(concept_cd %in% lab_tous_autres |\n",
    "           \n",
    "## Problème, un certain nombre de séjours n'ont pas d'Hb NFS, et il y a un certain nombre de codes \n",
    "## dits LAB:INCONNU qui sont des Hb.\n",
    "           \n",
    "           concept_cd == \"LAB:INCONNU\" && (units_cd == \"g/dl\" | units_cd == \"g/dL\") && \n",
    "           (confidence_num == \"17\" | confidence_num == \"17.5\" | confidence_num == \"16\")) %>%\n",
    "    select(start_date_lab, instance_num_lab, nval_num, encounter_num, patient_num, quantity_num, units_cd, confidence_num) %>%\n",
    "\n",
    "### Création de catégories d'examens de laboratoire en groupant les différents examens de laboratoire dosant les même paramètres\n",
    "\n",
    "    mutate(concept_cd_cat = case_when (\n",
    "        concept_cd == \"LAB:INCONNU\" && (units_cd == \"g/dl\" | units_cd == \"g/dL\") && (confidence_num == \"17\" | confidence_num == \"17,5\" | confidence_num == \"16\") ~ \"hemoglobine\",\n",
    "        concept_cd %in% lab_hb ~ \"hemoglobine\",\n",
    "        concept_cd %in% lab_uree ~ \"uree\",\n",
    "        concept_cd %in% lab_fib ~ \"fibrinogene\",\n",
    "        concept_cd %in% lab_plq ~ \"plaquettes\",\n",
    "        concept_cd %in% lab_ddim ~ \"ddimeres\",\n",
    "        concept_cd %in% lab_creat ~ \"creat\"\n",
    "    )) %>%\n",
    "\n",
    "    semi_join(sejours_rea_48_heures, by = c(\"encounter_num\")) %>%\n",
    "\n",
    "### Inner Join pour grouper la table de labos et la table de séjours.\n",
    "### La jointure se fait sur le numéro de patient et de visite, on ne peut donc pas avoir les examens de laboratoire qui \n",
    "### sont réalisés pendant les séjours de réanimation sur cette étape (la variable instance_num ne désigne pas le même objet dans les deux tables, malheureusement)\n",
    "\n",
    "    inner_join(sejours_rea_48_heures, by = c(\"encounter_num\", \"patient_num\")) %>%\n",
    "\n",
    "### Filtres de dates : date de réalisation de l'examen > date d'admission en réanimation et < date de sortie de réanimation, \n",
    "### pour pouvoir n'obtenir que les examens réalisés pendant les séjours de réanimation.\n",
    "\n",
    "    filter(unix_timestamp(start_date_lab) >= unix_timestamp(start_date_stay)) %>%\n",
    "    filter(unix_timestamp(start_date_lab) <= unix_timestamp(end_date_stay)) %>%\n",
    "    select(-instance_num_lab)"
   ]
  },
  {
   "cell_type": "markdown",
   "metadata": {},
   "source": [
    "### Table statistique aggrégée"
   ]
  },
  {
   "cell_type": "code",
   "execution_count": 37,
   "metadata": {},
   "outputs": [],
   "source": [
    "# Création d'une table de labo groupée par type d'examen et par séjour pour en obtenir les valeurs statistiques suivantes : \n",
    "# moyenne, mediane, minimum, maximum, écart-type, interquartiles\n",
    "\n",
    "donnees_aggregees_labos <- labos_patients_sejours_rea %>%\n",
    "    group_by(instance_num, concept_cd_cat) %>%\n",
    "    summarise(nb_tests = n(),\n",
    "               moyenne = round(mean(nval_num),2),\n",
    "               mediane = round(percentile(nval_num,0.5),2),\n",
    "               min = min(nval_num), \n",
    "               max = max(nval_num),\n",
    "               sd = round(sd(nval_num),2), \n",
    "               q25=round(percentile(nval_num,0.25),2), \n",
    "               q75=round(percentile(nval_num,0.75),2))"
   ]
  },
  {
   "cell_type": "code",
   "execution_count": 38,
   "metadata": {},
   "outputs": [],
   "source": [
    "donnees_aggregees_labos_wider <- donnees_aggregees_labos %>%\n",
    "    collect() %>%\n",
    "    pivot_wider(names_from = concept_cd_cat, values_from = c(nb_tests:q75), names_glue = \"{concept_cd_cat}_{.value}\") %>%\n",
    "    distinct(instance_num, .keep_all = TRUE)"
   ]
  },
  {
   "cell_type": "markdown",
   "metadata": {
    "tags": []
   },
   "source": [
    "## Actes CCAM\n",
    "### Table initiale"
   ]
  },
  {
   "cell_type": "code",
   "execution_count": 39,
   "metadata": {
    "tags": []
   },
   "outputs": [],
   "source": [
    "actes_ccam <- sc %>% tbl('i2b2_observation_ccam') %>%\n",
    "## Filtre des UFR de réanimation\n",
    "    filter(location_cd %in% liste_reas) %>%\n",
    "## Sélection des variables d'interêt\n",
    "    select(patient_num, encounter_num, start_date, location_cd, concept_cd, start_date) %>%\n",
    "## Renommage de la date de codage de l'acte (vérifier avec l'EDS pourquoi 22 et 23h uniquement ?) pour ne pas doublonner\n",
    "    rename(start_date_ccam = start_date) %>%\n",
    "\n",
    "## Jointure avec la table des séjours en sélectionnant les variables d'intérêt\n",
    "    inner_join(sejours_rea_48_heures %>% select(encounter_num, instance_num, location_cd, start_date_stay, end_date_stay), by=c('encounter_num', 'location_cd')) %>%\n",
    "\n",
    "## Filtrage en fonction des dates (certains codages d'une UFR donnée sont parfois entrés avant le début du séjour, à vérifier avec l'EDS)\n",
    "\n",
    "    filter(unix_timestamp(start_date_ccam) >= unix_timestamp(start_date_stay)) %>%\n",
    "    filter(unix_timestamp(start_date_ccam) <= unix_timestamp(end_date_stay)) %>%\n",
    "    distinct() %>%\n",
    "    collect()"
   ]
  },
  {
   "cell_type": "markdown",
   "metadata": {
    "tags": []
   },
   "source": [
    "### Ventilation mécanique"
   ]
  },
  {
   "cell_type": "code",
   "execution_count": 40,
   "metadata": {},
   "outputs": [
    {
     "name": "stderr",
     "output_type": "stream",
     "text": [
      "\u001b[1m\u001b[22m`summarise()` has grouped output by 'instance_num', 'start_date_ccam'. You can\n",
      "override using the `.groups` argument.\n"
     ]
    }
   ],
   "source": [
    "jours_vm <- actes_ccam %>%\n",
    "    filter(concept_cd %in% ccam_vm) %>%\n",
    "    group_by(instance_num, start_date_ccam, concept_cd) %>%\n",
    "    summarise(n = n()) %>%\n",
    "    group_by(instance_num) %>%\n",
    "    summarise(n = n()) %>%\n",
    "    rename(jours_vm = n)"
   ]
  },
  {
   "cell_type": "markdown",
   "metadata": {},
   "source": [
    "### Vasopresseurs"
   ]
  },
  {
   "cell_type": "code",
   "execution_count": 41,
   "metadata": {},
   "outputs": [
    {
     "name": "stderr",
     "output_type": "stream",
     "text": [
      "\u001b[1m\u001b[22m`summarise()` has grouped output by 'instance_num', 'start_date_ccam'. You can\n",
      "override using the `.groups` argument.\n"
     ]
    }
   ],
   "source": [
    "jours_vasopresseurs <- actes_ccam %>%\n",
    "    filter(concept_cd %in% ccam_vasopresseur) %>%\n",
    "    group_by(instance_num, start_date_ccam, concept_cd) %>%\n",
    "    summarise(n = n()) %>%\n",
    "    group_by(instance_num) %>%\n",
    "    summarise(n = n()) %>%\n",
    "    rename(jours_vasopresseurs = n)"
   ]
  },
  {
   "cell_type": "markdown",
   "metadata": {},
   "source": [
    "### Dialyse"
   ]
  },
  {
   "cell_type": "code",
   "execution_count": 42,
   "metadata": {},
   "outputs": [
    {
     "name": "stderr",
     "output_type": "stream",
     "text": [
      "\u001b[1m\u001b[22m`summarise()` has grouped output by 'instance_num', 'start_date_ccam'. You can\n",
      "override using the `.groups` argument.\n"
     ]
    }
   ],
   "source": [
    "jours_eer <- actes_ccam %>%\n",
    "    filter(concept_cd %in% ccam_eer) %>%\n",
    "    group_by(instance_num, start_date_ccam, concept_cd) %>%\n",
    "    summarise(n = n()) %>%\n",
    "    group_by(instance_num) %>%\n",
    "    summarise(n = n()) %>%\n",
    "    rename(jours_eer = n)"
   ]
  },
  {
   "cell_type": "markdown",
   "metadata": {},
   "source": [
    "### Coagulopathie"
   ]
  },
  {
   "cell_type": "code",
   "execution_count": 43,
   "metadata": {},
   "outputs": [
    {
     "name": "stderr",
     "output_type": "stream",
     "text": [
      "\u001b[1m\u001b[22m`summarise()` has grouped output by 'instance_num', 'start_date_ccam'. You can\n",
      "override using the `.groups` argument.\n"
     ]
    }
   ],
   "source": [
    "jours_coagulopathie <- actes_ccam %>%\n",
    "    filter(concept_cd %in% ccam_coagulopathie) %>%\n",
    "    group_by(instance_num, start_date_ccam, concept_cd) %>%\n",
    "    summarise(n = n()) %>%\n",
    "    group_by(instance_num) %>%\n",
    "    summarise(n = n()) %>%\n",
    "    rename(jours_coagulopathie = n)"
   ]
  },
  {
   "cell_type": "markdown",
   "metadata": {},
   "source": [
    "### Transfusion"
   ]
  },
  {
   "cell_type": "code",
   "execution_count": 44,
   "metadata": {},
   "outputs": [
    {
     "name": "stderr",
     "output_type": "stream",
     "text": [
      "\u001b[1m\u001b[22m`summarise()` has grouped output by 'instance_num', 'start_date_ccam'. You can\n",
      "override using the `.groups` argument.\n"
     ]
    }
   ],
   "source": [
    "jours_transfusion <- actes_ccam %>%\n",
    "    filter(concept_cd %in% ccam_transfusion) %>%\n",
    "    group_by(instance_num, start_date_ccam, concept_cd) %>%\n",
    "    summarise(n = n()) %>%\n",
    "    group_by(instance_num) %>%\n",
    "    summarise(n = n()) %>%\n",
    "    rename(jours_transfusion = n)"
   ]
  },
  {
   "cell_type": "markdown",
   "metadata": {},
   "source": [
    "## Séjours\n",
    "  - intégration des variables des autres tables\n",
    "  - élimination des diagnostics et des actes interférant avec l'exposition à l'anticoagulation"
   ]
  },
  {
   "cell_type": "code",
   "execution_count": 45,
   "metadata": {},
   "outputs": [
    {
     "name": "stderr",
     "output_type": "stream",
     "text": [
      "\u001b[1m\u001b[22mJoining with `by = join_by(instance_num)`\n",
      "\u001b[1m\u001b[22mJoining with `by = join_by(instance_num)`\n",
      "\u001b[1m\u001b[22mJoining with `by = join_by(instance_num)`\n",
      "\u001b[1m\u001b[22mJoining with `by = join_by(instance_num)`\n",
      "\u001b[1m\u001b[22mJoining with `by = join_by(instance_num)`\n",
      "\u001b[1m\u001b[22mJoining with `by = join_by(encounter_num, location_cd, patient_num)`\n",
      "\u001b[1m\u001b[22mJoining with `by = join_by(encounter_num, location_cd, patient_num)`\n",
      "\u001b[1m\u001b[22mJoining with `by = join_by(encounter_num, location_cd, patient_num)`\n",
      "\u001b[1m\u001b[22mJoining with `by = join_by(encounter_num, location_cd, patient_num)`\n",
      "\u001b[1m\u001b[22mJoining with `by = join_by(encounter_num, patient_num)`\n"
     ]
    }
   ],
   "source": [
    "sejours_rea_48_heures <- sejours_rea_48_heures %>%\n",
    "    collect() %>%\n",
    "    left_join(jours_vm) %>%\n",
    "    left_join(jours_vasopresseurs) %>%\n",
    "    left_join(jours_eer) %>%\n",
    "    left_join(jours_transfusion) %>%\n",
    "    left_join(jours_coagulopathie) %>%\n",
    "    mutate(vm = ifelse(is.na(jours_vm), 0, 1)) %>%\n",
    "    mutate(vasopresseurs = ifelse(is.na(jours_vasopresseurs), 0, 1)) %>%\n",
    "    mutate(eer = ifelse(is.na(jours_eer), 0, 1)) %>%\n",
    "    mutate(transfusion = ifelse(is.na(jours_transfusion), 0, 1)) %>%\n",
    "    mutate(coagulopathie = ifelse(is.na(jours_coagulopathie), 0, 1)) %>%\n",
    "    left_join(donnees_aggregees_filtrees_anticoag_wider, by=\"instance_num\") %>%\n",
    "    replace_na(list(volonte_anticoag = 0)) %>%\n",
    "    left_join(donnees_aggregees_labos_wider, by=\"instance_num\") %>%\n",
    "    left_join(cim10_choc) %>%\n",
    "    left_join(cim10_ischemie_wider) %>%\n",
    "    left_join(cim10_hemorragie_wider) %>%\n",
    "    left_join(cim10_antecedents) %>%\n",
    "    left_join(cim10_cat_admission) %>%\n",
    "    mutate(across(starts_with(c(\"choc\",\"ischemie\",\"hemorragie\",\"b_\", \"atcd\")), .fns = ~ifelse(is.na(.), 0, .))) %>%\n",
    "    anti_join(cim10_biais_hemorragie, by=c(\"encounter_num\", \"patient_num\")) %>%\n",
    "    anti_join(cim10_biais_thrombose, by=c(\"encounter_num\", \"patient_num\")) %>%\n",
    "    anti_join(actes_ccam %>% filter(concept_cd %in% ccam_ecmo), by=c(\"encounter_num\", \"patient_num\")) "
   ]
  },
  {
   "cell_type": "markdown",
   "metadata": {
    "tags": []
   },
   "source": [
    "# Ecriture des tables"
   ]
  },
  {
   "cell_type": "code",
   "execution_count": 46,
   "metadata": {},
   "outputs": [],
   "source": [
    "actes_ccam <- copy_to(sc, actes_ccam, overwrite = TRUE)"
   ]
  },
  {
   "cell_type": "code",
   "execution_count": 47,
   "metadata": {
    "tags": []
   },
   "outputs": [],
   "source": [
    "spark_write_parquet(actes_ccam, \"actes_ccam\", mode=\"overwrite\")"
   ]
  },
  {
   "cell_type": "code",
   "execution_count": 48,
   "metadata": {},
   "outputs": [],
   "source": [
    "sejours_rea_48_heures <- copy_to(sc, sejours_rea_48_heures, overwrite = TRUE)"
   ]
  },
  {
   "cell_type": "code",
   "execution_count": 49,
   "metadata": {
    "tags": []
   },
   "outputs": [],
   "source": [
    "spark_write_parquet(sejours_rea_48_heures, 'sejours_rea_48_heures', mode='overwrite')"
   ]
  },
  {
   "cell_type": "code",
   "execution_count": 50,
   "metadata": {
    "tags": []
   },
   "outputs": [],
   "source": [
    "spark_write_parquet(anticoag_patients_sejours_rea, \"anticoag_patients_sejours_rea\", mode=\"overwrite\")"
   ]
  },
  {
   "cell_type": "code",
   "execution_count": 51,
   "metadata": {
    "tags": []
   },
   "outputs": [],
   "source": [
    "spark_write_parquet(donnees_aggregees_anticoag, \"donnees_aggregees_anticoag\", mode=\"overwrite\")"
   ]
  },
  {
   "cell_type": "code",
   "execution_count": 52,
   "metadata": {
    "tags": []
   },
   "outputs": [],
   "source": [
    "spark_write_parquet(donnees_aggregees_filtrees_anticoag, \"donnees_aggregees_filtrees_anticoag\", mode=\"overwrite\")"
   ]
  },
  {
   "cell_type": "code",
   "execution_count": 53,
   "metadata": {
    "tags": []
   },
   "outputs": [],
   "source": [
    "spark_write_parquet(donnees_aggregees_labos, \"donnees_aggregees_labos\", mode=\"overwrite\")"
   ]
  },
  {
   "cell_type": "code",
   "execution_count": 54,
   "metadata": {
    "tags": []
   },
   "outputs": [],
   "source": [
    "spark_write_parquet(labos_patients_sejours_rea, \"labos_patients_sejours_rea\", mode=\"overwrite\")"
   ]
  },
  {
   "cell_type": "markdown",
   "metadata": {
    "tags": []
   },
   "source": [
    "# Garbage collector"
   ]
  },
  {
   "cell_type": "code",
   "execution_count": 55,
   "metadata": {},
   "outputs": [
    {
     "data": {
      "text/html": [
       "<table>\n",
       "<caption>A matrix: 2 × 6 of type dbl</caption>\n",
       "<thead>\n",
       "\t<tr><th></th><th scope=col>used</th><th scope=col>(Mb)</th><th scope=col>gc trigger</th><th scope=col>(Mb)</th><th scope=col>max used</th><th scope=col>(Mb)</th></tr>\n",
       "</thead>\n",
       "<tbody>\n",
       "\t<tr><th scope=row>Ncells</th><td>2809638</td><td>150.1</td><td> 5022080</td><td>268.3</td><td> 5022080</td><td>268.3</td></tr>\n",
       "\t<tr><th scope=row>Vcells</th><td>5593946</td><td> 42.7</td><td>21618226</td><td>165.0</td><td>22594801</td><td>172.4</td></tr>\n",
       "</tbody>\n",
       "</table>\n"
      ],
      "text/latex": [
       "A matrix: 2 × 6 of type dbl\n",
       "\\begin{tabular}{r|llllll}\n",
       "  & used & (Mb) & gc trigger & (Mb) & max used & (Mb)\\\\\n",
       "\\hline\n",
       "\tNcells & 2809638 & 150.1 &  5022080 & 268.3 &  5022080 & 268.3\\\\\n",
       "\tVcells & 5593946 &  42.7 & 21618226 & 165.0 & 22594801 & 172.4\\\\\n",
       "\\end{tabular}\n"
      ],
      "text/markdown": [
       "\n",
       "A matrix: 2 × 6 of type dbl\n",
       "\n",
       "| <!--/--> | used | (Mb) | gc trigger | (Mb) | max used | (Mb) |\n",
       "|---|---|---|---|---|---|---|\n",
       "| Ncells | 2809638 | 150.1 |  5022080 | 268.3 |  5022080 | 268.3 |\n",
       "| Vcells | 5593946 |  42.7 | 21618226 | 165.0 | 22594801 | 172.4 |\n",
       "\n"
      ],
      "text/plain": [
       "       used    (Mb)  gc trigger (Mb)  max used (Mb) \n",
       "Ncells 2809638 150.1  5022080   268.3  5022080 268.3\n",
       "Vcells 5593946  42.7 21618226   165.0 22594801 172.4"
      ]
     },
     "metadata": {},
     "output_type": "display_data"
    }
   ],
   "source": [
    "gc()"
   ]
  },
  {
   "cell_type": "code",
   "execution_count": null,
   "metadata": {},
   "outputs": [],
   "source": []
  }
 ],
 "metadata": {
  "jupytext": {
   "formats": "ipynb,Rmd"
  },
  "kernelspec": {
   "display_name": "[2.4.3] K8s R local",
   "language": "R",
   "name": "k8s-sparkr-local-2.4.3"
  },
  "language_info": {
   "codemirror_mode": "r",
   "file_extension": ".r",
   "mimetype": "text/x-r-source",
   "name": "R",
   "pygments_lexer": "r",
   "version": "4.0.0"
  },
  "toc-autonumbering": true,
  "toc-showmarkdowntxt": false
 },
 "nbformat": 4,
 "nbformat_minor": 4
}
